{
  "nbformat": 4,
  "nbformat_minor": 0,
  "metadata": {
    "colab": {
      "name": "Keyword_Suggessions testing.ipynb",
      "provenance": [],
      "collapsed_sections": [],
      "include_colab_link": true
    },
    "kernelspec": {
      "name": "python3",
      "display_name": "Python 3"
    }
  },
  "cells": [
    {
      "cell_type": "markdown",
      "metadata": {
        "id": "view-in-github",
        "colab_type": "text"
      },
      "source": [
        "<a href=\"https://colab.research.google.com/github/somideepthi/games-data/blob/master/Keyword_Suggessions_testing.ipynb\" target=\"_parent\"><img src=\"https://colab.research.google.com/assets/colab-badge.svg\" alt=\"Open In Colab\"/></a>"
      ]
    },
    {
      "cell_type": "markdown",
      "metadata": {
        "id": "_Wi83WFclUlY",
        "colab_type": "text"
      },
      "source": [
        "**GAME DESCRIPTION ANALYSIS AND KEYWORD SUGGESTIONS**\n",
        "\n",
        "The Game data scrapped from the playstore is imported into the notebook. \n",
        "The required libraries are imported like pandas to work with the datasets, matplotlib to do the visualizations and draft the graphs.\n"
      ]
    },
    {
      "cell_type": "code",
      "metadata": {
        "id": "sGxoQFpbkw3z",
        "colab_type": "code",
        "colab": {
          "base_uri": "https://localhost:8080/",
          "height": 71
        },
        "outputId": "ea680b60-de35-49b4-9b5a-b7d722d97315"
      },
      "source": [
        "# libraries for basic operations and plots\n",
        "import numpy as np\n",
        "import pandas as pd\n",
        "import matplotlib.pyplot as plt\n",
        "import matplotlib as mpl\n",
        "import matplotlib.cm as cm\n",
        "%matplotlib inline\n",
        "import seaborn as sb"
      ],
      "execution_count": 1,
      "outputs": [
        {
          "output_type": "stream",
          "text": [
            "/usr/local/lib/python3.6/dist-packages/statsmodels/tools/_testing.py:19: FutureWarning: pandas.util.testing is deprecated. Use the functions in the public API at pandas.testing instead.\n",
            "  import pandas.util.testing as tm\n"
          ],
          "name": "stderr"
        }
      ]
    },
    {
      "cell_type": "markdown",
      "metadata": {
        "id": "Xityw--HnFcR",
        "colab_type": "text"
      },
      "source": [
        "Below we have other libraries imported that work with K-Means clustering model."
      ]
    },
    {
      "cell_type": "code",
      "metadata": {
        "id": "otdZwkwKnB_n",
        "colab_type": "code",
        "colab": {}
      },
      "source": [
        "#libraries used for modelling\n",
        "from sklearn.cluster import MiniBatchKMeans\n",
        "from sklearn.cluster import KMeans\n",
        "\n",
        "from sklearn.decomposition import PCA\n",
        "from sklearn.manifold import TSNE"
      ],
      "execution_count": 0,
      "outputs": []
    },
    {
      "cell_type": "markdown",
      "metadata": {
        "id": "bs9b4s1fojgN",
        "colab_type": "text"
      },
      "source": [
        "The text analysis is done using the vectorizers that tend to operate on the description given to extract importand words from it."
      ]
    },
    {
      "cell_type": "code",
      "metadata": {
        "id": "1eEbbFEUo2t5",
        "colab_type": "code",
        "colab": {}
      },
      "source": [
        "from sklearn.feature_extraction.text import CountVectorizer\n",
        "from sklearn.feature_extraction.text import TfidfVectorizer\n",
        "from sklearn.feature_extraction.text import TfidfTransformer"
      ],
      "execution_count": 0,
      "outputs": []
    },
    {
      "cell_type": "markdown",
      "metadata": {
        "id": "wdT8LgPGo8lF",
        "colab_type": "text"
      },
      "source": [
        "Some of the other libraries supported by the python to work on text are impoted here that uses NLP (Natural language procesing) and NLTK (Natural language tool kit) "
      ]
    },
    {
      "cell_type": "code",
      "metadata": {
        "id": "6-0jwY9fpcuS",
        "colab_type": "code",
        "outputId": "15c365aa-f223-465e-9982-1c53306aa0ef",
        "colab": {
          "base_uri": "https://localhost:8080/",
          "height": 119
        }
      },
      "source": [
        "#libraries for NLP operations\n",
        "import re\n",
        "from bs4 import BeautifulSoup\n",
        "\n",
        "import string\n",
        "string.punctuation\n",
        "\n",
        "import nltk\n",
        "from nltk.tokenize import word_tokenize\n",
        "nltk.download('punkt')\n",
        "nltk.download('stopwords')\n",
        "nltk.download('words')\n",
        "stopword=nltk.corpus.stopwords.words('english')\n",
        "all_words = set(nltk.corpus.words.words())"
      ],
      "execution_count": 4,
      "outputs": [
        {
          "output_type": "stream",
          "text": [
            "[nltk_data] Downloading package punkt to /root/nltk_data...\n",
            "[nltk_data]   Unzipping tokenizers/punkt.zip.\n",
            "[nltk_data] Downloading package stopwords to /root/nltk_data...\n",
            "[nltk_data]   Unzipping corpora/stopwords.zip.\n",
            "[nltk_data] Downloading package words to /root/nltk_data...\n",
            "[nltk_data]   Unzipping corpora/words.zip.\n"
          ],
          "name": "stdout"
        }
      ]
    },
    {
      "cell_type": "code",
      "metadata": {
        "id": "ujg5nAVzpsKv",
        "colab_type": "code",
        "colab": {}
      },
      "source": [
        "from collections import Counter\n",
        "from nltk.stem.porter import PorterStemmer\n",
        "\n",
        "porter = PorterStemmer()"
      ],
      "execution_count": 0,
      "outputs": []
    },
    {
      "cell_type": "markdown",
      "metadata": {
        "id": "9fcpAzXjp5cA",
        "colab_type": "text"
      },
      "source": [
        "The Google drive is connected tp the notebook and the files available in the drive were mounted using the below code."
      ]
    },
    {
      "cell_type": "code",
      "metadata": {
        "id": "s5brfrbaqJAO",
        "colab_type": "code",
        "outputId": "cc46711f-bc74-4d26-d7dd-f2461ed5ec93",
        "colab": {
          "base_uri": "https://localhost:8080/",
          "height": 122
        }
      },
      "source": [
        "from google.colab import drive\n",
        "drive.mount('/content/gdrive/')"
      ],
      "execution_count": 6,
      "outputs": [
        {
          "output_type": "stream",
          "text": [
            "Go to this URL in a browser: https://accounts.google.com/o/oauth2/auth?client_id=947318989803-6bn6qk8qdgf4n4g3pfee6491hc0brc4i.apps.googleusercontent.com&redirect_uri=urn%3aietf%3awg%3aoauth%3a2.0%3aoob&response_type=code&scope=email%20https%3a%2f%2fwww.googleapis.com%2fauth%2fdocs.test%20https%3a%2f%2fwww.googleapis.com%2fauth%2fdrive%20https%3a%2f%2fwww.googleapis.com%2fauth%2fdrive.photos.readonly%20https%3a%2f%2fwww.googleapis.com%2fauth%2fpeopleapi.readonly\n",
            "\n",
            "Enter your authorization code:\n",
            "··········\n",
            "Mounted at /content/gdrive/\n"
          ],
          "name": "stdout"
        }
      ]
    },
    {
      "cell_type": "code",
      "metadata": {
        "id": "5PIwZnpFrYoQ",
        "colab_type": "code",
        "outputId": "7776e09d-361c-4445-a17e-7ace93879bc2",
        "colab": {
          "base_uri": "https://localhost:8080/",
          "height": 34
        }
      },
      "source": [
        "cd /content/gdrive"
      ],
      "execution_count": 7,
      "outputs": [
        {
          "output_type": "stream",
          "text": [
            "/content/gdrive\n"
          ],
          "name": "stdout"
        }
      ]
    },
    {
      "cell_type": "code",
      "metadata": {
        "id": "USj8X3Y8rby1",
        "colab_type": "code",
        "outputId": "35bfa1b6-70fa-4a0c-e70d-fbc430b9c1c3",
        "colab": {
          "base_uri": "https://localhost:8080/",
          "height": 34
        }
      },
      "source": [
        "ls"
      ],
      "execution_count": 8,
      "outputs": [
        {
          "output_type": "stream",
          "text": [
            "\u001b[0m\u001b[01;34m'My Drive'\u001b[0m/\n"
          ],
          "name": "stdout"
        }
      ]
    },
    {
      "cell_type": "markdown",
      "metadata": {
        "id": "1kdAV2W9rz80",
        "colab_type": "text"
      },
      "source": [
        "The batch file containing gaming data is imported at first from the drive."
      ]
    },
    {
      "cell_type": "code",
      "metadata": {
        "id": "4mhpZhO8rebc",
        "colab_type": "code",
        "outputId": "eac26580-5f0b-4416-fe5f-75dee66ba760",
        "colab": {
          "base_uri": "https://localhost:8080/",
          "height": 751
        }
      },
      "source": [
        "# /content/gdrive/My Drive/Batchfile1.csv\n",
        "df1=pd.read_csv('My Drive/Batchfile1.csv')\n",
        "df1.head()"
      ],
      "execution_count": 9,
      "outputs": [
        {
          "output_type": "execute_result",
          "data": {
            "text/html": [
              "<div>\n",
              "<style scoped>\n",
              "    .dataframe tbody tr th:only-of-type {\n",
              "        vertical-align: middle;\n",
              "    }\n",
              "\n",
              "    .dataframe tbody tr th {\n",
              "        vertical-align: top;\n",
              "    }\n",
              "\n",
              "    .dataframe thead th {\n",
              "        text-align: right;\n",
              "    }\n",
              "</style>\n",
              "<table border=\"1\" class=\"dataframe\">\n",
              "  <thead>\n",
              "    <tr style=\"text-align: right;\">\n",
              "      <th></th>\n",
              "      <th>0</th>\n",
              "      <th>1</th>\n",
              "      <th>2</th>\n",
              "      <th>3</th>\n",
              "      <th>4</th>\n",
              "      <th>5</th>\n",
              "      <th>6</th>\n",
              "      <th>7</th>\n",
              "      <th>8</th>\n",
              "      <th>9</th>\n",
              "      <th>10</th>\n",
              "      <th>11</th>\n",
              "      <th>12</th>\n",
              "      <th>13</th>\n",
              "      <th>14</th>\n",
              "      <th>15</th>\n",
              "      <th>16</th>\n",
              "      <th>17</th>\n",
              "      <th>18</th>\n",
              "      <th>19</th>\n",
              "      <th>20</th>\n",
              "      <th>21</th>\n",
              "      <th>22</th>\n",
              "      <th>23</th>\n",
              "      <th>24</th>\n",
              "      <th>25</th>\n",
              "      <th>26</th>\n",
              "      <th>27</th>\n",
              "      <th>28</th>\n",
              "      <th>29</th>\n",
              "      <th>30</th>\n",
              "      <th>31</th>\n",
              "      <th>32</th>\n",
              "      <th>33</th>\n",
              "      <th>34</th>\n",
              "    </tr>\n",
              "  </thead>\n",
              "  <tbody>\n",
              "    <tr>\n",
              "      <th>0</th>\n",
              "      <td>New Sniper Shooter: Free offline 3D shooting g...</td>\n",
              "      <td>com.lf.sniper.gun.shooter.free.apps</td>\n",
              "      <td>https://play.google.com/store/apps/details?id=...</td>\n",
              "      <td>Welcome to the world of sniper assassin. Hold ...</td>\n",
              "      <td>Play gun fighter games with best shooting game...</td>\n",
              "      <td>10,000,000+</td>\n",
              "      <td>10000000.0</td>\n",
              "      <td>4.219719</td>\n",
              "      <td>89288.0</td>\n",
              "      <td>38561.0</td>\n",
              "      <td>0.0</td>\n",
              "      <td>TRUE</td>\n",
              "      <td>USD</td>\n",
              "      <td>TRUE</td>\n",
              "      <td>64M</td>\n",
              "      <td>4.1</td>\n",
              "      <td>The Knights Pvt Ltd</td>\n",
              "      <td>6.43946E+18</td>\n",
              "      <td>snipershooting.techhelp@gmail.com</td>\n",
              "      <td>http://www.theknights.com.pk</td>\n",
              "      <td>http://www.theknightzpvt.com/home/privacypolicy</td>\n",
              "      <td>6.439460e+18</td>\n",
              "      <td>Action</td>\n",
              "      <td>GAME_ACTION</td>\n",
              "      <td>https://lh3.googleusercontent.com/ICDWRz7acbnC...</td>\n",
              "      <td>https://lh3.googleusercontent.com/oq6XPZDMmztX...</td>\n",
              "      <td>Mature 17+</td>\n",
              "      <td>Violence, Blood</td>\n",
              "      <td>TRUE</td>\n",
              "      <td>TRUE</td>\n",
              "      <td>Sep 21, 2017</td>\n",
              "      <td>1582700879</td>\n",
              "      <td>1.63</td>\n",
              "      <td>NaN</td>\n",
              "      <td>[\"Love your game, controlling the scope is so ...</td>\n",
              "    </tr>\n",
              "    <tr>\n",
              "      <th>1</th>\n",
              "      <td>Cover Fire: Offline Shooting Games</td>\n",
              "      <td>com.generagames.resistance</td>\n",
              "      <td>https://play.google.com/store/apps/details?id=...</td>\n",
              "      <td>Your duty is to lead the battle and become the...</td>\n",
              "      <td>Best Offline Shooter and Sniper Game on mobile...</td>\n",
              "      <td>50,000,000+</td>\n",
              "      <td>50000000.0</td>\n",
              "      <td>4.518721</td>\n",
              "      <td>1531839.0</td>\n",
              "      <td>585315.0</td>\n",
              "      <td>0.0</td>\n",
              "      <td>TRUE</td>\n",
              "      <td>USD</td>\n",
              "      <td>TRUE</td>\n",
              "      <td>46M</td>\n",
              "      <td>4.1</td>\n",
              "      <td>Genera Games</td>\n",
              "      <td>7.30921E+18</td>\n",
              "      <td>indiesupport@generagames.com</td>\n",
              "      <td>http://www.generagames.com/</td>\n",
              "      <td>http://generagames.com/product-privacy/</td>\n",
              "      <td>7.309210e+18</td>\n",
              "      <td>Action</td>\n",
              "      <td>GAME_ACTION</td>\n",
              "      <td>https://lh3.googleusercontent.com/HAqwf-Cu9Nl2...</td>\n",
              "      <td>https://lh3.googleusercontent.com/DJ-Q23WLgP97...</td>\n",
              "      <td>Teen</td>\n",
              "      <td>Violence, Blood</td>\n",
              "      <td>TRUE</td>\n",
              "      <td>TRUE</td>\n",
              "      <td>Mar 30, 2017</td>\n",
              "      <td>1581761404</td>\n",
              "      <td>1.18.1</td>\n",
              "      <td>+ Perk Grenades now explodes when hit with the...</td>\n",
              "      <td>[\"It's addicting the graphics are great even i...</td>\n",
              "    </tr>\n",
              "    <tr>\n",
              "      <th>2</th>\n",
              "      <td>Shooting World - Gun Fire</td>\n",
              "      <td>com.bello.shootingworld</td>\n",
              "      <td>https://play.google.com/store/apps/details?id=...</td>\n",
              "      <td>Welcome to Shooting World, an incredible 3D FP...</td>\n",
              "      <td>3D shooting games, Variety of powerful guns ar...</td>\n",
              "      <td>10,000,000+</td>\n",
              "      <td>10000000.0</td>\n",
              "      <td>4.696745</td>\n",
              "      <td>724837.0</td>\n",
              "      <td>297932.0</td>\n",
              "      <td>0.0</td>\n",
              "      <td>TRUE</td>\n",
              "      <td>USD</td>\n",
              "      <td>TRUE</td>\n",
              "      <td>63M</td>\n",
              "      <td>4.1</td>\n",
              "      <td>Gun Fire Studio</td>\n",
              "      <td>Gun+Fire+Studio</td>\n",
              "      <td>oiproduce986733@gmail.com</td>\n",
              "      <td>https://touchingfuture.com</td>\n",
              "      <td>https://sites.google.com/view/privacy-policy-b...</td>\n",
              "      <td>8.587500e+18</td>\n",
              "      <td>Sports</td>\n",
              "      <td>GAME_SPORTS</td>\n",
              "      <td>https://lh3.googleusercontent.com/2c5rympOps_9...</td>\n",
              "      <td>https://lh3.googleusercontent.com/qXrsUiayVpPt...</td>\n",
              "      <td>Teen</td>\n",
              "      <td>Suggestive Themes</td>\n",
              "      <td>TRUE</td>\n",
              "      <td>TRUE</td>\n",
              "      <td>Nov 11, 2018</td>\n",
              "      <td>1582369037</td>\n",
              "      <td>1.2.2</td>\n",
              "      <td>We fixed the bug in this release, optimized th...</td>\n",
              "      <td>[\"Great graphics! As I advanced the variety of...</td>\n",
              "    </tr>\n",
              "    <tr>\n",
              "      <th>3</th>\n",
              "      <td>Modern Sniper</td>\n",
              "      <td>com.xs.armysniper</td>\n",
              "      <td>https://play.google.com/store/apps/details?id=...</td>\n",
              "      <td>Aim and Shoot! Modern Sniper is #1 first perso...</td>\n",
              "      <td>Modern Sniper is #1 first person shooter game ...</td>\n",
              "      <td>50,000,000+</td>\n",
              "      <td>50000000.0</td>\n",
              "      <td>4.292898</td>\n",
              "      <td>1128271.0</td>\n",
              "      <td>295097.0</td>\n",
              "      <td>0.0</td>\n",
              "      <td>TRUE</td>\n",
              "      <td>USD</td>\n",
              "      <td>TRUE</td>\n",
              "      <td>10M</td>\n",
              "      <td>4</td>\n",
              "      <td>Candy Mobile</td>\n",
              "      <td>Candy+Mobile</td>\n",
              "      <td>contact@candy-mobile.com</td>\n",
              "      <td>http://www.candy-mobile.com</td>\n",
              "      <td>http://www.candy-mobile.com/policy.htm</td>\n",
              "      <td>4.963790e+18</td>\n",
              "      <td>Action</td>\n",
              "      <td>GAME_ACTION</td>\n",
              "      <td>https://lh3.googleusercontent.com/A68VT_zLg4Ws...</td>\n",
              "      <td>https://lh3.googleusercontent.com/qm2KxS5Cmn-V...</td>\n",
              "      <td>Teen</td>\n",
              "      <td>Violence, Blood</td>\n",
              "      <td>TRUE</td>\n",
              "      <td>TRUE</td>\n",
              "      <td>Dec 3, 2014</td>\n",
              "      <td>1559202575</td>\n",
              "      <td>2.2</td>\n",
              "      <td>Fixed some crash bugs of the game. Thanks.</td>\n",
              "      <td>['Very good game graphics are very good contro...</td>\n",
              "    </tr>\n",
              "    <tr>\n",
              "      <th>4</th>\n",
              "      <td>Wild Hunt:Sport Hunting Games. Hunter &amp; Shoote...</td>\n",
              "      <td>com.tensquaregames.huntmobile</td>\n",
              "      <td>https://play.google.com/store/apps/details?id=...</td>\n",
              "      <td>Time to collect your hunting gear, load a gun,...</td>\n",
              "      <td>Enjoy one of the best deer hunting simulator g...</td>\n",
              "      <td>10,000,000+</td>\n",
              "      <td>10000000.0</td>\n",
              "      <td>4.626748</td>\n",
              "      <td>299482.0</td>\n",
              "      <td>99422.0</td>\n",
              "      <td>0.0</td>\n",
              "      <td>TRUE</td>\n",
              "      <td>USD</td>\n",
              "      <td>TRUE</td>\n",
              "      <td>59M</td>\n",
              "      <td>4.4</td>\n",
              "      <td>Ten Square Games: Sport Hunting and Fishing Games</td>\n",
              "      <td>6.83734E+18</td>\n",
              "      <td>support.wildhunt@tensquaregames.com</td>\n",
              "      <td>https://tensquaregames.com</td>\n",
              "      <td>https://tensquaregames.com/wp-content/uploads/...</td>\n",
              "      <td>6.837340e+18</td>\n",
              "      <td>Simulation</td>\n",
              "      <td>GAME_SIMULATION</td>\n",
              "      <td>https://lh3.googleusercontent.com/3N7LlZYktkOl...</td>\n",
              "      <td>https://lh3.googleusercontent.com/tJxqfYmuLRzh...</td>\n",
              "      <td>Teen</td>\n",
              "      <td>Violence, Blood</td>\n",
              "      <td>NaN</td>\n",
              "      <td>NaN</td>\n",
              "      <td>Jul 19, 2017</td>\n",
              "      <td>1580717997</td>\n",
              "      <td>1.373</td>\n",
              "      <td>Oh Shoot! New fixes! Charge right into the gam...</td>\n",
              "      <td>['Its a fun game. Fun to play. Controlling cou...</td>\n",
              "    </tr>\n",
              "  </tbody>\n",
              "</table>\n",
              "</div>"
            ],
            "text/plain": [
              "                                                   0  ...                                                 34\n",
              "0  New Sniper Shooter: Free offline 3D shooting g...  ...  [\"Love your game, controlling the scope is so ...\n",
              "1                 Cover Fire: Offline Shooting Games  ...  [\"It's addicting the graphics are great even i...\n",
              "2                          Shooting World - Gun Fire  ...  [\"Great graphics! As I advanced the variety of...\n",
              "3                                      Modern Sniper  ...  ['Very good game graphics are very good contro...\n",
              "4  Wild Hunt:Sport Hunting Games. Hunter & Shoote...  ...  ['Its a fun game. Fun to play. Controlling cou...\n",
              "\n",
              "[5 rows x 35 columns]"
            ]
          },
          "metadata": {
            "tags": []
          },
          "execution_count": 9
        }
      ]
    },
    {
      "cell_type": "markdown",
      "metadata": {
        "id": "tKBZGu2MrobM",
        "colab_type": "text"
      },
      "source": [
        "The gaming dataset is imported from google drive and the column names were extracted."
      ]
    },
    {
      "cell_type": "code",
      "metadata": {
        "id": "t3uaRCsJrgke",
        "colab_type": "code",
        "outputId": "455374e3-b986-40d4-8ed2-80d70b60d92c",
        "colab": {
          "base_uri": "https://localhost:8080/",
          "height": 170
        }
      },
      "source": [
        "df2=pd.read_csv('My Drive/Gaming.csv')\n",
        "del df2['keywords']\n",
        "fea=df2.columns\n",
        "fea"
      ],
      "execution_count": 10,
      "outputs": [
        {
          "output_type": "execute_result",
          "data": {
            "text/plain": [
              "Index(['Titlle', 'AppID', 'URL', 'Description', 'Summary', 'Installs',\n",
              "       'MinInstalls', 'Score', 'Rating', 'Reviews', 'Price', 'Free',\n",
              "       'Currency', 'OffersIAP', 'Size', 'Android Version', 'Developer',\n",
              "       'Developer ID', 'Developer Email', 'Developer Website',\n",
              "       'Privacy policy', 'DeveloperInternal ID', 'Genre', 'Genre ID', 'Icon',\n",
              "       'Header Image', 'Content Rating', 'Content Rating description',\n",
              "       'adSupported', 'ContainsAds', 'released date', 'Updated', 'Version',\n",
              "       'Recent Changes', 'Comments'],\n",
              "      dtype='object')"
            ]
          },
          "metadata": {
            "tags": []
          },
          "execution_count": 10
        }
      ]
    },
    {
      "cell_type": "markdown",
      "metadata": {
        "id": "AN4xPmH_sCBX",
        "colab_type": "text"
      },
      "source": [
        "As the first dataframe, df1 doesnt posses column names, the feature names of the gamin dataset, df2 were assigned to df1."
      ]
    },
    {
      "cell_type": "code",
      "metadata": {
        "id": "m3Gv4GBqrnud",
        "colab_type": "code",
        "colab": {}
      },
      "source": [
        "df1.columns=fea"
      ],
      "execution_count": 0,
      "outputs": []
    },
    {
      "cell_type": "code",
      "metadata": {
        "id": "GpgmWB-PsS8B",
        "colab_type": "code",
        "outputId": "ddb42337-f1d4-4487-cecd-89dd2b27a2d8",
        "colab": {
          "base_uri": "https://localhost:8080/",
          "height": 734
        }
      },
      "source": [
        "df2.head()\n",
        "# print(len(df1))\n",
        "# len(df2)"
      ],
      "execution_count": 12,
      "outputs": [
        {
          "output_type": "execute_result",
          "data": {
            "text/html": [
              "<div>\n",
              "<style scoped>\n",
              "    .dataframe tbody tr th:only-of-type {\n",
              "        vertical-align: middle;\n",
              "    }\n",
              "\n",
              "    .dataframe tbody tr th {\n",
              "        vertical-align: top;\n",
              "    }\n",
              "\n",
              "    .dataframe thead th {\n",
              "        text-align: right;\n",
              "    }\n",
              "</style>\n",
              "<table border=\"1\" class=\"dataframe\">\n",
              "  <thead>\n",
              "    <tr style=\"text-align: right;\">\n",
              "      <th></th>\n",
              "      <th>Titlle</th>\n",
              "      <th>AppID</th>\n",
              "      <th>URL</th>\n",
              "      <th>Description</th>\n",
              "      <th>Summary</th>\n",
              "      <th>Installs</th>\n",
              "      <th>MinInstalls</th>\n",
              "      <th>Score</th>\n",
              "      <th>Rating</th>\n",
              "      <th>Reviews</th>\n",
              "      <th>Price</th>\n",
              "      <th>Free</th>\n",
              "      <th>Currency</th>\n",
              "      <th>OffersIAP</th>\n",
              "      <th>Size</th>\n",
              "      <th>Android Version</th>\n",
              "      <th>Developer</th>\n",
              "      <th>Developer ID</th>\n",
              "      <th>Developer Email</th>\n",
              "      <th>Developer Website</th>\n",
              "      <th>Privacy policy</th>\n",
              "      <th>DeveloperInternal ID</th>\n",
              "      <th>Genre</th>\n",
              "      <th>Genre ID</th>\n",
              "      <th>Icon</th>\n",
              "      <th>Header Image</th>\n",
              "      <th>Content Rating</th>\n",
              "      <th>Content Rating description</th>\n",
              "      <th>adSupported</th>\n",
              "      <th>ContainsAds</th>\n",
              "      <th>released date</th>\n",
              "      <th>Updated</th>\n",
              "      <th>Version</th>\n",
              "      <th>Recent Changes</th>\n",
              "      <th>Comments</th>\n",
              "    </tr>\n",
              "  </thead>\n",
              "  <tbody>\n",
              "    <tr>\n",
              "      <th>0</th>\n",
              "      <td>Sniper 3D: Fun Offline Gun Shooting Games Free</td>\n",
              "      <td>com.fungames.sniper3d</td>\n",
              "      <td>https://play.google.com/store/apps/details?id=...</td>\n",
              "      <td>Call the best shooter, the guns are ready to a...</td>\n",
              "      <td>Fun cool free action shooting! The best online...</td>\n",
              "      <td>10,00,00,000</td>\n",
              "      <td>100000000</td>\n",
              "      <td>4.485727</td>\n",
              "      <td>12104202.0</td>\n",
              "      <td>4189270.0</td>\n",
              "      <td>0.0</td>\n",
              "      <td>True</td>\n",
              "      <td>USD</td>\n",
              "      <td>True</td>\n",
              "      <td>Varies with device</td>\n",
              "      <td>Varies</td>\n",
              "      <td>Fun Games For Free</td>\n",
              "      <td>Fun+Games+For+Free</td>\n",
              "      <td>support+sniper3d@fungames-forfree.com</td>\n",
              "      <td>https://wildlifestudios.com/</td>\n",
              "      <td>https://www.fungames-forfree.com/games/sniper3...</td>\n",
              "      <td>5.780000e+18</td>\n",
              "      <td>Action</td>\n",
              "      <td>GAME_ACTION</td>\n",
              "      <td>https://lh3.googleusercontent.com/mVlPRwyYHxpe...</td>\n",
              "      <td>https://lh3.googleusercontent.com/LDDEaywnb01V...</td>\n",
              "      <td>Mature 17+</td>\n",
              "      <td>Drug Reference, Violence, Blood</td>\n",
              "      <td>True</td>\n",
              "      <td>True</td>\n",
              "      <td>Nov 13, 2014</td>\n",
              "      <td>1580912194</td>\n",
              "      <td>Varies with device</td>\n",
              "      <td>#ERROR!</td>\n",
              "      <td>['The game is alright but the greedy developer...</td>\n",
              "    </tr>\n",
              "    <tr>\n",
              "      <th>1</th>\n",
              "      <td>Soul Knight</td>\n",
              "      <td>com.ChillyRoom.DungeonShooter</td>\n",
              "      <td>https://play.google.com/store/apps/details?id=...</td>\n",
              "      <td>“In a time of gun and sword, the magical stone...</td>\n",
              "      <td>Explore the dungeon, collect crazy weapons, do...</td>\n",
              "      <td>1,00,00,000</td>\n",
              "      <td>10000000</td>\n",
              "      <td>4.471023</td>\n",
              "      <td>874292.0</td>\n",
              "      <td>404858.0</td>\n",
              "      <td>0.0</td>\n",
              "      <td>True</td>\n",
              "      <td>USD</td>\n",
              "      <td>True</td>\n",
              "      <td>101M</td>\n",
              "      <td>4.1</td>\n",
              "      <td>ChillyRoom</td>\n",
              "      <td>ChillyRoom</td>\n",
              "      <td>info@chillyroom.com</td>\n",
              "      <td>NaN</td>\n",
              "      <td>https://gist.github.com/zeyangl/443bff08db2dca...</td>\n",
              "      <td>7.230000e+18</td>\n",
              "      <td>Action</td>\n",
              "      <td>GAME_ACTION</td>\n",
              "      <td>https://lh3.googleusercontent.com/2vOY0LhrtGD6...</td>\n",
              "      <td>https://lh3.googleusercontent.com/TNmeFAK9COoU...</td>\n",
              "      <td>Everyone</td>\n",
              "      <td>NaN</td>\n",
              "      <td>True</td>\n",
              "      <td>True</td>\n",
              "      <td>Feb 16, 2017</td>\n",
              "      <td>1578911499</td>\n",
              "      <td>2.5.1</td>\n",
              "      <td>* Happy Spring Festival! The camp has been ren...</td>\n",
              "      <td>['This game is fun itself but, it is more fun ...</td>\n",
              "    </tr>\n",
              "    <tr>\n",
              "      <th>2</th>\n",
              "      <td>Last Day on Earth: Survival</td>\n",
              "      <td>zombie.survival.craft.z</td>\n",
              "      <td>https://play.google.com/store/apps/details?id=...</td>\n",
              "      <td>The survival shooter Last Day on Earth is set ...</td>\n",
              "      <td>Survive in the zombie world</td>\n",
              "      <td>5,00,00,000</td>\n",
              "      <td>50000000</td>\n",
              "      <td>4.308150</td>\n",
              "      <td>3579297.0</td>\n",
              "      <td>1818068.0</td>\n",
              "      <td>0.0</td>\n",
              "      <td>True</td>\n",
              "      <td>USD</td>\n",
              "      <td>True</td>\n",
              "      <td>Varies with device</td>\n",
              "      <td>4.1</td>\n",
              "      <td>Kefir!</td>\n",
              "      <td>8.78E+18</td>\n",
              "      <td>support@kefirgames.com</td>\n",
              "      <td>http://kefirgames.ru/en</td>\n",
              "      <td>http://www.kefirgames.ru/privacy_policy.html</td>\n",
              "      <td>8.780000e+18</td>\n",
              "      <td>Action</td>\n",
              "      <td>GAME_ACTION</td>\n",
              "      <td>https://lh3.googleusercontent.com/wlCrIqUz6XqW...</td>\n",
              "      <td>https://lh3.googleusercontent.com/RnrqQXdgtpJY...</td>\n",
              "      <td>Teen</td>\n",
              "      <td>Violence, Blood</td>\n",
              "      <td>NaN</td>\n",
              "      <td>NaN</td>\n",
              "      <td>May 24, 2017</td>\n",
              "      <td>1582202218</td>\n",
              "      <td>1.16.3</td>\n",
              "      <td>– City in the crater discovered!\\n  – Distribu...</td>\n",
              "      <td>['I really love this game! It is the first gam...</td>\n",
              "    </tr>\n",
              "    <tr>\n",
              "      <th>3</th>\n",
              "      <td>Mobile Legends: Bang Bang</td>\n",
              "      <td>com.mobile.legends</td>\n",
              "      <td>https://play.google.com/store/apps/details?id=...</td>\n",
              "      <td>Join your friends in a brand new 5v5 MOBA show...</td>\n",
              "      <td>A thrilling 5v5 MOBA, now featuring a 99-playe...</td>\n",
              "      <td>10,00,00,000</td>\n",
              "      <td>100000000</td>\n",
              "      <td>4.385017</td>\n",
              "      <td>16983255.0</td>\n",
              "      <td>8428438.0</td>\n",
              "      <td>0.0</td>\n",
              "      <td>True</td>\n",
              "      <td>USD</td>\n",
              "      <td>True</td>\n",
              "      <td>99M</td>\n",
              "      <td>4.1</td>\n",
              "      <td>Moonton</td>\n",
              "      <td>8.53E+18</td>\n",
              "      <td>MobileLegendsGame@gmail.com</td>\n",
              "      <td>https://m.mobilelegends.com/</td>\n",
              "      <td>https://m.mobilelegends.com/en/newsdetail/475</td>\n",
              "      <td>8.530000e+18</td>\n",
              "      <td>Action</td>\n",
              "      <td>GAME_ACTION</td>\n",
              "      <td>https://lh3.googleusercontent.com/sMLmOgkuK67q...</td>\n",
              "      <td>https://lh3.googleusercontent.com/Cj1tfFMn8QiN...</td>\n",
              "      <td>Teen</td>\n",
              "      <td>Fantasy Violence, Suggestive Themes</td>\n",
              "      <td>True</td>\n",
              "      <td>True</td>\n",
              "      <td>42674</td>\n",
              "      <td>1582079434</td>\n",
              "      <td>Varies with device</td>\n",
              "      <td>1. New Hero: The Embrace of Night, Cecilion wi...</td>\n",
              "      <td>[\"This is a genuine review. This is a great ga...</td>\n",
              "    </tr>\n",
              "    <tr>\n",
              "      <th>4</th>\n",
              "      <td>DEAD TARGET: Zombie Shooting</td>\n",
              "      <td>com.vng.g6.a.zombie</td>\n",
              "      <td>https://play.google.com/store/apps/details?id=...</td>\n",
              "      <td>Keep your defense up and shoot zombies in one ...</td>\n",
              "      <td>━╤デ╦︻(▀̿̿Ĺ̯̿̿▀̿ ̿)The plague of the zombie apo...</td>\n",
              "      <td>5,00,00,000</td>\n",
              "      <td>50000000</td>\n",
              "      <td>4.526970</td>\n",
              "      <td>1735661.0</td>\n",
              "      <td>640169.0</td>\n",
              "      <td>0.0</td>\n",
              "      <td>True</td>\n",
              "      <td>USD</td>\n",
              "      <td>True</td>\n",
              "      <td>Varies with device</td>\n",
              "      <td>4.1</td>\n",
              "      <td>VNG GAME STUDIOS</td>\n",
              "      <td>5.58E+18</td>\n",
              "      <td>support.global@vng.com.vn</td>\n",
              "      <td>https://www.facebook.com/deadtarget</td>\n",
              "      <td>https://deadtarget.com/</td>\n",
              "      <td>5.580000e+18</td>\n",
              "      <td>Action</td>\n",
              "      <td>GAME_ACTION</td>\n",
              "      <td>https://lh3.googleusercontent.com/NqDH18wBNfrN...</td>\n",
              "      <td>https://lh3.googleusercontent.com/BNoXi6S60hJe...</td>\n",
              "      <td>Mature 17+</td>\n",
              "      <td>Intense Violence, Blood</td>\n",
              "      <td>True</td>\n",
              "      <td>True</td>\n",
              "      <td>41806</td>\n",
              "      <td>1582513613</td>\n",
              "      <td>Varies with device</td>\n",
              "      <td>Dear Survivals,\\n  We give to you new experime...</td>\n",
              "      <td>[\"Really good game to a point. Twice this game...</td>\n",
              "    </tr>\n",
              "  </tbody>\n",
              "</table>\n",
              "</div>"
            ],
            "text/plain": [
              "                                           Titlle  ...                                           Comments\n",
              "0  Sniper 3D: Fun Offline Gun Shooting Games Free  ...  ['The game is alright but the greedy developer...\n",
              "1                                     Soul Knight  ...  ['This game is fun itself but, it is more fun ...\n",
              "2                     Last Day on Earth: Survival  ...  ['I really love this game! It is the first gam...\n",
              "3                       Mobile Legends: Bang Bang  ...  [\"This is a genuine review. This is a great ga...\n",
              "4                    DEAD TARGET: Zombie Shooting  ...  [\"Really good game to a point. Twice this game...\n",
              "\n",
              "[5 rows x 35 columns]"
            ]
          },
          "metadata": {
            "tags": []
          },
          "execution_count": 12
        }
      ]
    },
    {
      "cell_type": "markdown",
      "metadata": {
        "id": "ol9AF1SZsl-_",
        "colab_type": "text"
      },
      "source": [
        "The two dataframes each consisting of two batch files of datasets are merged together into a dataframe-rawset."
      ]
    },
    {
      "cell_type": "code",
      "metadata": {
        "id": "0Pe8D1LqsaZU",
        "colab_type": "code",
        "colab": {}
      },
      "source": [
        "rawset= pd.concat([df1,df2],ignore_index=True,sort=False)"
      ],
      "execution_count": 0,
      "outputs": []
    },
    {
      "cell_type": "markdown",
      "metadata": {
        "id": "cBhvDaa3tSUi",
        "colab_type": "text"
      },
      "source": [
        "The merged data frame is filtered out of duplicate data with respect to Tittle, AppId and Game url using the drop.duplicates"
      ]
    },
    {
      "cell_type": "code",
      "metadata": {
        "id": "5xU1Xz0DtQOj",
        "colab_type": "code",
        "outputId": "6f47a800-db5b-4ba6-dd19-1d9c41725f70",
        "colab": {
          "base_uri": "https://localhost:8080/",
          "height": 34
        }
      },
      "source": [
        "rawset=rawset.drop_duplicates(subset=['Titlle','AppID','URL'],keep='first',inplace=False)\n",
        "rawset=rawset.reset_index(inplace=False, drop=True)\n",
        "len(rawset)"
      ],
      "execution_count": 14,
      "outputs": [
        {
          "output_type": "execute_result",
          "data": {
            "text/plain": [
              "15150"
            ]
          },
          "metadata": {
            "tags": []
          },
          "execution_count": 14
        }
      ]
    },
    {
      "cell_type": "markdown",
      "metadata": {
        "id": "NeKDwniwu5Xl",
        "colab_type": "text"
      },
      "source": [
        "All the features that doesnt quite go along in suggesting the keywords were ignored leaving only the features extracted below."
      ]
    },
    {
      "cell_type": "code",
      "metadata": {
        "id": "OsiHqUJ6yFOK",
        "colab_type": "code",
        "colab": {}
      },
      "source": [
        "data=rawset[['Titlle','AppID','Description','Genre','Score','MinInstalls','Reviews','Free','Currency','Size','Android Version','Genre ID','Version']]"
      ],
      "execution_count": 0,
      "outputs": []
    },
    {
      "cell_type": "markdown",
      "metadata": {
        "id": "R6oN7YImyNFO",
        "colab_type": "text"
      },
      "source": [
        "Again the filtering is done by removing the duplicates based on AppID."
      ]
    },
    {
      "cell_type": "code",
      "metadata": {
        "id": "KFOzcCBLyXlw",
        "colab_type": "code",
        "outputId": "ed4fd195-63b0-4513-afb6-8a6916a71cfe",
        "colab": {
          "base_uri": "https://localhost:8080/",
          "height": 102
        }
      },
      "source": [
        "data.drop_duplicates(subset='AppID',keep=\"first\",inplace=True)"
      ],
      "execution_count": 16,
      "outputs": [
        {
          "output_type": "stream",
          "text": [
            "/usr/local/lib/python3.6/dist-packages/ipykernel_launcher.py:1: SettingWithCopyWarning: \n",
            "A value is trying to be set on a copy of a slice from a DataFrame\n",
            "\n",
            "See the caveats in the documentation: https://pandas.pydata.org/pandas-docs/stable/user_guide/indexing.html#returning-a-view-versus-a-copy\n",
            "  \"\"\"Entry point for launching an IPython kernel.\n"
          ],
          "name": "stderr"
        }
      ]
    },
    {
      "cell_type": "code",
      "metadata": {
        "id": "KCCVJACbybhP",
        "colab_type": "code",
        "outputId": "7daf73ed-73ed-443d-ff9f-de776dc4c260",
        "colab": {
          "base_uri": "https://localhost:8080/",
          "height": 255
        }
      },
      "source": [
        "data.dtypes"
      ],
      "execution_count": 17,
      "outputs": [
        {
          "output_type": "execute_result",
          "data": {
            "text/plain": [
              "Titlle              object\n",
              "AppID               object\n",
              "Description         object\n",
              "Genre               object\n",
              "Score              float64\n",
              "MinInstalls        float64\n",
              "Reviews            float64\n",
              "Free                object\n",
              "Currency            object\n",
              "Size                object\n",
              "Android Version     object\n",
              "Genre ID            object\n",
              "Version             object\n",
              "dtype: object"
            ]
          },
          "metadata": {
            "tags": []
          },
          "execution_count": 17
        }
      ]
    },
    {
      "cell_type": "markdown",
      "metadata": {
        "id": "hah-TX_AyfcT",
        "colab_type": "text"
      },
      "source": [
        "**DATA VISUALIZATION**\n",
        "\n",
        "Now that we have gathered all the relevant features necesary for the problem statement, we will further clean the data by analyzing and visualizing the data using plots and get a keen look at the features to decide further and identifying the relationship between the features.\n",
        "\n"
      ]
    },
    {
      "cell_type": "code",
      "metadata": {
        "id": "DicER73cycmP",
        "colab_type": "code",
        "outputId": "8272a3eb-bd60-445d-d759-b56abfddc955",
        "colab": {
          "base_uri": "https://localhost:8080/",
          "height": 296
        }
      },
      "source": [
        "#checking the anamolies in Score column \n",
        "\n",
        "sb.boxplot(x=data['Score'])"
      ],
      "execution_count": 18,
      "outputs": [
        {
          "output_type": "execute_result",
          "data": {
            "text/plain": [
              "<matplotlib.axes._subplots.AxesSubplot at 0x7f044b9174a8>"
            ]
          },
          "metadata": {
            "tags": []
          },
          "execution_count": 18
        },
        {
          "output_type": "display_data",
          "data": {
            "image/png": "[encoded data removed]",
            "text/plain": [
              "<Figure size 432x288 with 1 Axes>"
            ]
          },
          "metadata": {
            "tags": [],
            "needs_background": "light"
          }
        }
      ]
    },
    {
      "cell_type": "code",
      "metadata": {
        "id": "hSS4bxH_zCVw",
        "colab_type": "code",
        "outputId": "7cbf1dd4-b3b9-4d3e-c590-f499a3d7f388",
        "colab": {
          "base_uri": "https://localhost:8080/",
          "height": 134
        }
      },
      "source": [
        "#deleting the anomalies in the score feature\n",
        "rawset.loc[np.where(rawset['Score']>5)]"
      ],
      "execution_count": 19,
      "outputs": [
        {
          "output_type": "execute_result",
          "data": {
            "text/html": [
              "<div>\n",
              "<style scoped>\n",
              "    .dataframe tbody tr th:only-of-type {\n",
              "        vertical-align: middle;\n",
              "    }\n",
              "\n",
              "    .dataframe tbody tr th {\n",
              "        vertical-align: top;\n",
              "    }\n",
              "\n",
              "    .dataframe thead th {\n",
              "        text-align: right;\n",
              "    }\n",
              "</style>\n",
              "<table border=\"1\" class=\"dataframe\">\n",
              "  <thead>\n",
              "    <tr style=\"text-align: right;\">\n",
              "      <th></th>\n",
              "      <th>Titlle</th>\n",
              "      <th>AppID</th>\n",
              "      <th>URL</th>\n",
              "      <th>Description</th>\n",
              "      <th>Summary</th>\n",
              "      <th>Installs</th>\n",
              "      <th>MinInstalls</th>\n",
              "      <th>Score</th>\n",
              "      <th>Rating</th>\n",
              "      <th>Reviews</th>\n",
              "      <th>Price</th>\n",
              "      <th>Free</th>\n",
              "      <th>Currency</th>\n",
              "      <th>OffersIAP</th>\n",
              "      <th>Size</th>\n",
              "      <th>Android Version</th>\n",
              "      <th>Developer</th>\n",
              "      <th>Developer ID</th>\n",
              "      <th>Developer Email</th>\n",
              "      <th>Developer Website</th>\n",
              "      <th>Privacy policy</th>\n",
              "      <th>DeveloperInternal ID</th>\n",
              "      <th>Genre</th>\n",
              "      <th>Genre ID</th>\n",
              "      <th>Icon</th>\n",
              "      <th>Header Image</th>\n",
              "      <th>Content Rating</th>\n",
              "      <th>Content Rating description</th>\n",
              "      <th>adSupported</th>\n",
              "      <th>ContainsAds</th>\n",
              "      <th>released date</th>\n",
              "      <th>Updated</th>\n",
              "      <th>Version</th>\n",
              "      <th>Recent Changes</th>\n",
              "      <th>Comments</th>\n",
              "    </tr>\n",
              "  </thead>\n",
              "  <tbody>\n",
              "    <tr>\n",
              "      <th>11299</th>\n",
              "      <td>0</td>\n",
              "      <td>1</td>\n",
              "      <td>2</td>\n",
              "      <td>3</td>\n",
              "      <td>4</td>\n",
              "      <td>5</td>\n",
              "      <td>6.0</td>\n",
              "      <td>7.0</td>\n",
              "      <td>8.0</td>\n",
              "      <td>9.0</td>\n",
              "      <td>10.0</td>\n",
              "      <td>11</td>\n",
              "      <td>12</td>\n",
              "      <td>13</td>\n",
              "      <td>14</td>\n",
              "      <td>15</td>\n",
              "      <td>16</td>\n",
              "      <td>17</td>\n",
              "      <td>18</td>\n",
              "      <td>19</td>\n",
              "      <td>20</td>\n",
              "      <td>21.0</td>\n",
              "      <td>22</td>\n",
              "      <td>23</td>\n",
              "      <td>24</td>\n",
              "      <td>25</td>\n",
              "      <td>26</td>\n",
              "      <td>27</td>\n",
              "      <td>28</td>\n",
              "      <td>29</td>\n",
              "      <td>30</td>\n",
              "      <td>31</td>\n",
              "      <td>32</td>\n",
              "      <td>33</td>\n",
              "      <td>34</td>\n",
              "    </tr>\n",
              "  </tbody>\n",
              "</table>\n",
              "</div>"
            ],
            "text/plain": [
              "      Titlle AppID URL Description  ... Updated Version  Recent Changes  Comments\n",
              "11299      0     1   2           3  ...      31      32              33        34\n",
              "\n",
              "[1 rows x 35 columns]"
            ]
          },
          "metadata": {
            "tags": []
          },
          "execution_count": 19
        }
      ]
    },
    {
      "cell_type": "markdown",
      "metadata": {
        "id": "-7iQD3W3zKTx",
        "colab_type": "text"
      },
      "source": [
        "Dropping the datapoint that has rating score greater than 5."
      ]
    },
    {
      "cell_type": "code",
      "metadata": {
        "id": "2LA8MV09zGht",
        "colab_type": "code",
        "colab": {}
      },
      "source": [
        "data=data.drop(11299)"
      ],
      "execution_count": 0,
      "outputs": []
    },
    {
      "cell_type": "markdown",
      "metadata": {
        "id": "PZJPuNm_0BQ0",
        "colab_type": "text"
      },
      "source": [
        "A histogram is plotted to identify the games rating score and its distribution over the games. "
      ]
    },
    {
      "cell_type": "code",
      "metadata": {
        "id": "ieifqmAGzJPD",
        "colab_type": "code",
        "outputId": "d4cd07f3-d22c-4045-aef3-1fd5347d6a06",
        "colab": {
          "base_uri": "https://localhost:8080/",
          "height": 424
        }
      },
      "source": [
        "data.hist(column=\"Score\",figsize=(9,6),bins=20)"
      ],
      "execution_count": 21,
      "outputs": [
        {
          "output_type": "execute_result",
          "data": {
            "text/plain": [
              "array([[<matplotlib.axes._subplots.AxesSubplot object at 0x7f044b36e6d8>]],\n",
              "      dtype=object)"
            ]
          },
          "metadata": {
            "tags": []
          },
          "execution_count": 21
        },
        {
          "output_type": "display_data",
          "data": {
            "image/png": "[encoded data removed]",
            "text/plain": [
              "<Figure size 648x432 with 1 Axes>"
            ]
          },
          "metadata": {
            "tags": [],
            "needs_background": "light"
          }
        }
      ]
    },
    {
      "cell_type": "markdown",
      "metadata": {
        "id": "3g0GaJQY1hj9",
        "colab_type": "text"
      },
      "source": [
        "Providing an index called ID forthe dataframe."
      ]
    },
    {
      "cell_type": "code",
      "metadata": {
        "id": "FzPCIWSX1d1o",
        "colab_type": "code",
        "outputId": "341f3467-ded3-40b9-bd7b-24cf9816058f",
        "colab": {
          "base_uri": "https://localhost:8080/",
          "height": 1000
        }
      },
      "source": [
        "#changing the index and adding an ID column to this dataframe\n",
        "\n",
        "data=data.reset_index(inplace=False, drop=True)\n",
        "data.insert(0, 'ID', range(1, 1 + len(data)))\n",
        "data"
      ],
      "execution_count": 22,
      "outputs": [
        {
          "output_type": "execute_result",
          "data": {
            "text/html": [
              "<div>\n",
              "<style scoped>\n",
              "    .dataframe tbody tr th:only-of-type {\n",
              "        vertical-align: middle;\n",
              "    }\n",
              "\n",
              "    .dataframe tbody tr th {\n",
              "        vertical-align: top;\n",
              "    }\n",
              "\n",
              "    .dataframe thead th {\n",
              "        text-align: right;\n",
              "    }\n",
              "</style>\n",
              "<table border=\"1\" class=\"dataframe\">\n",
              "  <thead>\n",
              "    <tr style=\"text-align: right;\">\n",
              "      <th></th>\n",
              "      <th>ID</th>\n",
              "      <th>Titlle</th>\n",
              "      <th>AppID</th>\n",
              "      <th>Description</th>\n",
              "      <th>Genre</th>\n",
              "      <th>Score</th>\n",
              "      <th>MinInstalls</th>\n",
              "      <th>Reviews</th>\n",
              "      <th>Free</th>\n",
              "      <th>Currency</th>\n",
              "      <th>Size</th>\n",
              "      <th>Android Version</th>\n",
              "      <th>Genre ID</th>\n",
              "      <th>Version</th>\n",
              "    </tr>\n",
              "  </thead>\n",
              "  <tbody>\n",
              "    <tr>\n",
              "      <th>0</th>\n",
              "      <td>1</td>\n",
              "      <td>New Sniper Shooter: Free offline 3D shooting g...</td>\n",
              "      <td>com.lf.sniper.gun.shooter.free.apps</td>\n",
              "      <td>Welcome to the world of sniper assassin. Hold ...</td>\n",
              "      <td>Action</td>\n",
              "      <td>4.219719</td>\n",
              "      <td>10000000.0</td>\n",
              "      <td>38561.0</td>\n",
              "      <td>TRUE</td>\n",
              "      <td>USD</td>\n",
              "      <td>64M</td>\n",
              "      <td>4.1</td>\n",
              "      <td>GAME_ACTION</td>\n",
              "      <td>1.63</td>\n",
              "    </tr>\n",
              "    <tr>\n",
              "      <th>1</th>\n",
              "      <td>2</td>\n",
              "      <td>Cover Fire: Offline Shooting Games</td>\n",
              "      <td>com.generagames.resistance</td>\n",
              "      <td>Your duty is to lead the battle and become the...</td>\n",
              "      <td>Action</td>\n",
              "      <td>4.518721</td>\n",
              "      <td>50000000.0</td>\n",
              "      <td>585315.0</td>\n",
              "      <td>TRUE</td>\n",
              "      <td>USD</td>\n",
              "      <td>46M</td>\n",
              "      <td>4.1</td>\n",
              "      <td>GAME_ACTION</td>\n",
              "      <td>1.18.1</td>\n",
              "    </tr>\n",
              "    <tr>\n",
              "      <th>2</th>\n",
              "      <td>3</td>\n",
              "      <td>Shooting World - Gun Fire</td>\n",
              "      <td>com.bello.shootingworld</td>\n",
              "      <td>Welcome to Shooting World, an incredible 3D FP...</td>\n",
              "      <td>Sports</td>\n",
              "      <td>4.696745</td>\n",
              "      <td>10000000.0</td>\n",
              "      <td>297932.0</td>\n",
              "      <td>TRUE</td>\n",
              "      <td>USD</td>\n",
              "      <td>63M</td>\n",
              "      <td>4.1</td>\n",
              "      <td>GAME_SPORTS</td>\n",
              "      <td>1.2.2</td>\n",
              "    </tr>\n",
              "    <tr>\n",
              "      <th>3</th>\n",
              "      <td>4</td>\n",
              "      <td>Modern Sniper</td>\n",
              "      <td>com.xs.armysniper</td>\n",
              "      <td>Aim and Shoot! Modern Sniper is #1 first perso...</td>\n",
              "      <td>Action</td>\n",
              "      <td>4.292898</td>\n",
              "      <td>50000000.0</td>\n",
              "      <td>295097.0</td>\n",
              "      <td>TRUE</td>\n",
              "      <td>USD</td>\n",
              "      <td>10M</td>\n",
              "      <td>4</td>\n",
              "      <td>GAME_ACTION</td>\n",
              "      <td>2.2</td>\n",
              "    </tr>\n",
              "    <tr>\n",
              "      <th>4</th>\n",
              "      <td>5</td>\n",
              "      <td>Wild Hunt:Sport Hunting Games. Hunter &amp; Shoote...</td>\n",
              "      <td>com.tensquaregames.huntmobile</td>\n",
              "      <td>Time to collect your hunting gear, load a gun,...</td>\n",
              "      <td>Simulation</td>\n",
              "      <td>4.626748</td>\n",
              "      <td>10000000.0</td>\n",
              "      <td>99422.0</td>\n",
              "      <td>TRUE</td>\n",
              "      <td>USD</td>\n",
              "      <td>59M</td>\n",
              "      <td>4.4</td>\n",
              "      <td>GAME_SIMULATION</td>\n",
              "      <td>1.373</td>\n",
              "    </tr>\n",
              "    <tr>\n",
              "      <th>...</th>\n",
              "      <td>...</td>\n",
              "      <td>...</td>\n",
              "      <td>...</td>\n",
              "      <td>...</td>\n",
              "      <td>...</td>\n",
              "      <td>...</td>\n",
              "      <td>...</td>\n",
              "      <td>...</td>\n",
              "      <td>...</td>\n",
              "      <td>...</td>\n",
              "      <td>...</td>\n",
              "      <td>...</td>\n",
              "      <td>...</td>\n",
              "      <td>...</td>\n",
              "    </tr>\n",
              "    <tr>\n",
              "      <th>15128</th>\n",
              "      <td>15129</td>\n",
              "      <td>Guess The Song - Music Quiz</td>\n",
              "      <td>quess.song.music.pop.quiz</td>\n",
              "      <td>A music game with a few thousand of songs! Sim...</td>\n",
              "      <td>Trivia</td>\n",
              "      <td>4.243911</td>\n",
              "      <td>10000000.0</td>\n",
              "      <td>105971.0</td>\n",
              "      <td>True</td>\n",
              "      <td>USD</td>\n",
              "      <td>Varies with device</td>\n",
              "      <td>Varies</td>\n",
              "      <td>GAME_TRIVIA</td>\n",
              "      <td>Varies with device</td>\n",
              "    </tr>\n",
              "    <tr>\n",
              "      <th>15129</th>\n",
              "      <td>15130</td>\n",
              "      <td>Think</td>\n",
              "      <td>com.june.think</td>\n",
              "      <td>A minimalistic, beautifully designed visual pu...</td>\n",
              "      <td>Trivia</td>\n",
              "      <td>4.406068</td>\n",
              "      <td>5000000.0</td>\n",
              "      <td>64265.0</td>\n",
              "      <td>True</td>\n",
              "      <td>USD</td>\n",
              "      <td>21M</td>\n",
              "      <td>2.2</td>\n",
              "      <td>GAME_TRIVIA</td>\n",
              "      <td>1.63</td>\n",
              "    </tr>\n",
              "    <tr>\n",
              "      <th>15130</th>\n",
              "      <td>15131</td>\n",
              "      <td>Guess the GIF</td>\n",
              "      <td>com.randomlogicgames.guessthesketch</td>\n",
              "      <td>Guess The GIF really is a one of a kind game. ...</td>\n",
              "      <td>Trivia</td>\n",
              "      <td>4.388293</td>\n",
              "      <td>100000.0</td>\n",
              "      <td>2575.0</td>\n",
              "      <td>True</td>\n",
              "      <td>USD</td>\n",
              "      <td>41M</td>\n",
              "      <td>4.2</td>\n",
              "      <td>GAME_TRIVIA</td>\n",
              "      <td>5.0.3g</td>\n",
              "    </tr>\n",
              "    <tr>\n",
              "      <th>15131</th>\n",
              "      <td>15132</td>\n",
              "      <td>Guess The Movie &amp; Character</td>\n",
              "      <td>guess.the.movie.and.character.guessing.games.i...</td>\n",
              "      <td>If you've seen lots of great movies, you will ...</td>\n",
              "      <td>Trivia</td>\n",
              "      <td>4.181354</td>\n",
              "      <td>1000000.0</td>\n",
              "      <td>5760.0</td>\n",
              "      <td>True</td>\n",
              "      <td>USD</td>\n",
              "      <td>7.5M</td>\n",
              "      <td>2.3</td>\n",
              "      <td>GAME_TRIVIA</td>\n",
              "      <td>2.08.13 (33)</td>\n",
              "    </tr>\n",
              "    <tr>\n",
              "      <th>15132</th>\n",
              "      <td>15133</td>\n",
              "      <td>Close Up Horror: Pic Word Quiz</td>\n",
              "      <td>air.com.goda.games.closeuphorror</td>\n",
              "      <td>Can you guess the horror character from his zo...</td>\n",
              "      <td>Trivia</td>\n",
              "      <td>4.288508</td>\n",
              "      <td>100000.0</td>\n",
              "      <td>1143.0</td>\n",
              "      <td>True</td>\n",
              "      <td>USD</td>\n",
              "      <td>37M</td>\n",
              "      <td>2.3</td>\n",
              "      <td>GAME_TRIVIA</td>\n",
              "      <td>1.0.45</td>\n",
              "    </tr>\n",
              "  </tbody>\n",
              "</table>\n",
              "<p>15133 rows × 14 columns</p>\n",
              "</div>"
            ],
            "text/plain": [
              "          ID  ...             Version\n",
              "0          1  ...                1.63\n",
              "1          2  ...              1.18.1\n",
              "2          3  ...               1.2.2\n",
              "3          4  ...                 2.2\n",
              "4          5  ...               1.373\n",
              "...      ...  ...                 ...\n",
              "15128  15129  ...  Varies with device\n",
              "15129  15130  ...                1.63\n",
              "15130  15131  ...              5.0.3g\n",
              "15131  15132  ...        2.08.13 (33)\n",
              "15132  15133  ...              1.0.45\n",
              "\n",
              "[15133 rows x 14 columns]"
            ]
          },
          "metadata": {
            "tags": []
          },
          "execution_count": 22
        }
      ]
    },
    {
      "cell_type": "code",
      "metadata": {
        "id": "2_h8b0Z_Bn8R",
        "colab_type": "code",
        "outputId": "07c11a4c-a9c4-4997-97fd-5c602fbfbde2",
        "colab": {
          "base_uri": "https://localhost:8080/",
          "height": 204
        }
      },
      "source": [
        "#identifying the genres and grouping them\n",
        "genre = data[['Genre ID']].groupby(['Genre ID']).sum()\n",
        "\n",
        "genre.reset_index(inplace = True)\n",
        "genre.head()"
      ],
      "execution_count": 23,
      "outputs": [
        {
          "output_type": "execute_result",
          "data": {
            "text/html": [
              "<div>\n",
              "<style scoped>\n",
              "    .dataframe tbody tr th:only-of-type {\n",
              "        vertical-align: middle;\n",
              "    }\n",
              "\n",
              "    .dataframe tbody tr th {\n",
              "        vertical-align: top;\n",
              "    }\n",
              "\n",
              "    .dataframe thead th {\n",
              "        text-align: right;\n",
              "    }\n",
              "</style>\n",
              "<table border=\"1\" class=\"dataframe\">\n",
              "  <thead>\n",
              "    <tr style=\"text-align: right;\">\n",
              "      <th></th>\n",
              "      <th>Genre ID</th>\n",
              "    </tr>\n",
              "  </thead>\n",
              "  <tbody>\n",
              "    <tr>\n",
              "      <th>0</th>\n",
              "      <td>ART_AND_DESIGN</td>\n",
              "    </tr>\n",
              "    <tr>\n",
              "      <th>1</th>\n",
              "      <td>AUTO_AND_VEHICLES</td>\n",
              "    </tr>\n",
              "    <tr>\n",
              "      <th>2</th>\n",
              "      <td>BEAUTY</td>\n",
              "    </tr>\n",
              "    <tr>\n",
              "      <th>3</th>\n",
              "      <td>BOOKS_AND_REFERENCE</td>\n",
              "    </tr>\n",
              "    <tr>\n",
              "      <th>4</th>\n",
              "      <td>BUSINESS</td>\n",
              "    </tr>\n",
              "  </tbody>\n",
              "</table>\n",
              "</div>"
            ],
            "text/plain": [
              "              Genre ID\n",
              "0       ART_AND_DESIGN\n",
              "1    AUTO_AND_VEHICLES\n",
              "2               BEAUTY\n",
              "3  BOOKS_AND_REFERENCE\n",
              "4             BUSINESS"
            ]
          },
          "metadata": {
            "tags": []
          },
          "execution_count": 23
        }
      ]
    },
    {
      "cell_type": "markdown",
      "metadata": {
        "id": "L4bE3hQXCSFC",
        "colab_type": "text"
      },
      "source": [
        "Grouping games by genre and plotting to see the detailed veiw of it."
      ]
    },
    {
      "cell_type": "code",
      "metadata": {
        "id": "U2CO8NdmCPoq",
        "colab_type": "code",
        "outputId": "b4138b73-4b67-487e-96bc-2d6820bfdb65",
        "colab": {
          "base_uri": "https://localhost:8080/",
          "height": 54
        }
      },
      "source": [
        "games_count = {}\n",
        "\n",
        "# get the list of all genre type counts into a list variable\n",
        "for i in range(len(data)):\n",
        "    if data[\"Genre ID\"][i] in games_count.keys():\n",
        "        games_count[data[\"Genre ID\"][i]] += 1\n",
        "    else:\n",
        "        games_count.setdefault(data[\"Genre ID\"][i], 1)\n",
        "\n",
        "print(games_count)"
      ],
      "execution_count": 24,
      "outputs": [
        {
          "output_type": "stream",
          "text": [
            "{'GAME_ACTION': 866, 'GAME_SPORTS': 506, 'GAME_SIMULATION': 668, 'GAME_ROLE_PLAYING': 1122, 'GAME_RACING': 352, 'GAME_ADVENTURE': 783, 'GAME_ARCADE': 874, 'GAME_STRATEGY': 964, 'GAME_PUZZLE': 1732, 'GAME_CASUAL': 931, 'GAME_MUSIC': 153, 'ENTERTAINMENT': 331, 'GAME_CARD': 647, 'MUSIC_AND_AUDIO': 346, 'EDUCATION': 731, 'GAME_BOARD': 515, 'TOOLS': 211, 'HOUSE_AND_HOME': 10, 'PRODUCTIVITY': 98, 'COMICS': 12, 'SOCIAL': 84, 'LIFESTYLE': 145, 'SPORTS': 395, 'GAME_EDUCATIONAL': 434, 'HEALTH_AND_FITNESS': 146, 'FINANCE': 185, 'BUSINESS': 90, 'TRAVEL_AND_LOCAL': 227, 'BOOKS_AND_REFERENCE': 172, 'MAPS_AND_NAVIGATION': 61, 'NEWS_AND_MAGAZINES': 62, 'VIDEO_PLAYERS': 25, 'COMMUNICATION': 46, 'SHOPPING': 103, 'FOOD_AND_DRINK': 39, 'PERSONALIZATION': 61, 'GAME_TRIVIA': 195, 'GAME_WORD': 479, 'PARENTING': 20, 'MEDICAL': 42, 'WEATHER': 78, 'EVENTS': 8, 'ART_AND_DESIGN': 24, 'PHOTOGRAPHY': 78, 'AUTO_AND_VEHICLES': 18, 'LIBRARIES_AND_DEMO': 2, 'BEAUTY': 7, nan: 4, 'GAME_CASINO': 51}\n"
          ],
          "name": "stdout"
        }
      ]
    },
    {
      "cell_type": "code",
      "metadata": {
        "id": "pO5Nw4sFEoxu",
        "colab_type": "code",
        "colab": {}
      },
      "source": [
        "# seperating the genre names and respective counts into 2 lists \n",
        "genre_list = list(games_count.items())\n",
        "a = []\n",
        "b = []\n",
        "\n",
        "for i in range(len(genre_list)):\n",
        "    a.append(genre_list[i][0])\n",
        "    b.append(genre_list[i][1])"
      ],
      "execution_count": 0,
      "outputs": []
    },
    {
      "cell_type": "code",
      "metadata": {
        "id": "-mXGRlSqEsLC",
        "colab_type": "code",
        "outputId": "9692deb5-1572-4bd0-c8d9-16f3558e80f8",
        "colab": {
          "base_uri": "https://localhost:8080/",
          "height": 755
        }
      },
      "source": [
        "plt.figure(figsize=(12, 10))\n",
        "plt.title(\"The relationship between the genre of games and the number of games per genre\")\n",
        "plt.xlabel(\"Genre\")\n",
        "plt.ylabel(\"Number of games per genre\")\n",
        "plt.xticks(rotation=90)\n",
        "sb.barplot(a, b)\n",
        "#plt.savefig(\"genre_list.png\")"
      ],
      "execution_count": 26,
      "outputs": [
        {
          "output_type": "execute_result",
          "data": {
            "text/plain": [
              "<matplotlib.axes._subplots.AxesSubplot at 0x7f044b312908>"
            ]
          },
          "metadata": {
            "tags": []
          },
          "execution_count": 26
        },
        {
          "output_type": "display_data",
          "data": {
            "image/png": "[encoded data removed]",
            "text/plain": [
              "<Figure size 864x720 with 1 Axes>"
            ]
          },
          "metadata": {
            "tags": [],
            "needs_background": "light"
          }
        }
      ]
    },
    {
      "cell_type": "markdown",
      "metadata": {
        "id": "rI99TeDNFzDb",
        "colab_type": "text"
      },
      "source": [
        "Now to check whether the games are free or not, it is necessary to convert some lower classed words into Upper class words."
      ]
    },
    {
      "cell_type": "code",
      "metadata": {
        "id": "yUYz8DmkGIkb",
        "colab_type": "code",
        "colab": {}
      },
      "source": [
        "data['Free'] = data['Free'].str.upper()"
      ],
      "execution_count": 0,
      "outputs": []
    },
    {
      "cell_type": "code",
      "metadata": {
        "id": "Cgtvi2S4GKvi",
        "colab_type": "code",
        "outputId": "61232a84-0428-461e-be03-0de143638ec4",
        "colab": {
          "base_uri": "https://localhost:8080/",
          "height": 173
        }
      },
      "source": [
        "is_paid=pd.Categorical(data['Free'])\n",
        "is_paid.describe()"
      ],
      "execution_count": 28,
      "outputs": [
        {
          "output_type": "execute_result",
          "data": {
            "text/html": [
              "<div>\n",
              "<style scoped>\n",
              "    .dataframe tbody tr th:only-of-type {\n",
              "        vertical-align: middle;\n",
              "    }\n",
              "\n",
              "    .dataframe tbody tr th {\n",
              "        vertical-align: top;\n",
              "    }\n",
              "\n",
              "    .dataframe thead th {\n",
              "        text-align: right;\n",
              "    }\n",
              "</style>\n",
              "<table border=\"1\" class=\"dataframe\">\n",
              "  <thead>\n",
              "    <tr style=\"text-align: right;\">\n",
              "      <th></th>\n",
              "      <th>counts</th>\n",
              "      <th>freqs</th>\n",
              "    </tr>\n",
              "    <tr>\n",
              "      <th>categories</th>\n",
              "      <th></th>\n",
              "      <th></th>\n",
              "    </tr>\n",
              "  </thead>\n",
              "  <tbody>\n",
              "    <tr>\n",
              "      <th>FALSE</th>\n",
              "      <td>1736</td>\n",
              "      <td>0.114716</td>\n",
              "    </tr>\n",
              "    <tr>\n",
              "      <th>TRUE</th>\n",
              "      <td>13048</td>\n",
              "      <td>0.862222</td>\n",
              "    </tr>\n",
              "    <tr>\n",
              "      <th>NaN</th>\n",
              "      <td>349</td>\n",
              "      <td>0.023062</td>\n",
              "    </tr>\n",
              "  </tbody>\n",
              "</table>\n",
              "</div>"
            ],
            "text/plain": [
              "            counts     freqs\n",
              "categories                  \n",
              "FALSE         1736  0.114716\n",
              "TRUE         13048  0.862222\n",
              "NaN            349  0.023062"
            ]
          },
          "metadata": {
            "tags": []
          },
          "execution_count": 28
        }
      ]
    },
    {
      "cell_type": "markdown",
      "metadata": {
        "id": "pwPvSdoEGWpX",
        "colab_type": "text"
      },
      "source": [
        "Obtaining the minimum, maximum and mean values of the rating score of games and plotted in accordance with the genres."
      ]
    },
    {
      "cell_type": "code",
      "metadata": {
        "id": "y9Y5yf0UGn9D",
        "colab_type": "code",
        "outputId": "351de7d0-1bc3-49b7-85fd-fbf9cc71c6a1",
        "colab": {
          "base_uri": "https://localhost:8080/",
          "height": 221
        }
      },
      "source": [
        "game_genre = data[['Genre ID','Score']].groupby(['Genre ID']).agg([\"max\", \"min\",\"mean\"])\n",
        "\n",
        "game_genre.reset_index(inplace = True)\n",
        "print(game_genre.info())"
      ],
      "execution_count": 29,
      "outputs": [
        {
          "output_type": "stream",
          "text": [
            "<class 'pandas.core.frame.DataFrame'>\n",
            "RangeIndex: 48 entries, 0 to 47\n",
            "Data columns (total 4 columns):\n",
            " #   Column         Non-Null Count  Dtype  \n",
            "---  ------         --------------  -----  \n",
            " 0   (Genre ID, )   48 non-null     object \n",
            " 1   (Score, max)   48 non-null     float64\n",
            " 2   (Score, min)   48 non-null     float64\n",
            " 3   (Score, mean)  48 non-null     float64\n",
            "dtypes: float64(3), object(1)\n",
            "memory usage: 1.6+ KB\n",
            "None\n"
          ],
          "name": "stdout"
        }
      ]
    },
    {
      "cell_type": "code",
      "metadata": {
        "id": "GHqCd9tPGsMv",
        "colab_type": "code",
        "outputId": "f4473388-d580-4363-b9c7-ff711c4b8109",
        "colab": {
          "base_uri": "https://localhost:8080/",
          "height": 153
        }
      },
      "source": [
        "np.array(game_genre['Score']['max'])"
      ],
      "execution_count": 30,
      "outputs": [
        {
          "output_type": "execute_result",
          "data": {
            "text/plain": [
              "array([4.72     , 4.8333335, 4.791579 , 4.9      , 5.       , 4.9692307,\n",
              "       4.86     , 5.       , 5.       , 4.6666665, 5.       , 4.89     ,\n",
              "       5.       , 5.       , 4.93     , 4.9619045, 5.       , 4.8337417,\n",
              "       4.96     , 5.       , 5.       , 5.       , 4.952381 , 5.       ,\n",
              "       4.969697 , 4.8046875, 4.8867927, 4.93     , 5.       , 4.9      ,\n",
              "       5.       , 4.74     , 5.       , 4.9166665, 4.8867593, 5.       ,\n",
              "       4.9473686, 4.85     , 5.       , 4.8581758, 5.       , 5.       ,\n",
              "       5.       , 5.       , 5.       , 5.       , 4.6859236, 4.868421 ])"
            ]
          },
          "metadata": {
            "tags": []
          },
          "execution_count": 30
        }
      ]
    },
    {
      "cell_type": "markdown",
      "metadata": {
        "id": "IPzA2dGFHTxd",
        "colab_type": "text"
      },
      "source": [
        "Plotting the ratings score with respect to genres."
      ]
    },
    {
      "cell_type": "code",
      "metadata": {
        "id": "5fU-Lt34GxJW",
        "colab_type": "code",
        "outputId": "ffa02cf4-6c48-4d77-eed3-1c06b78b4e8e",
        "colab": {
          "base_uri": "https://localhost:8080/",
          "height": 464
        }
      },
      "source": [
        "# Setting the positions and width for the bars\n",
        "pos = list(range(len(game_genre['Score']['max']))) \n",
        "width = 0.25 \n",
        "    \n",
        "# Plotting the bars\n",
        "fig, ax = plt.subplots(figsize=(20,5))\n",
        "\n",
        "# Create a bar with pre_score data,\n",
        "# in position pos,\n",
        "plt.bar(pos, game_genre['Score']['max'], width, alpha=0.5, color='#EE3224',label=game_genre['Genre ID'][0]) \n",
        "plt.bar([p + width for p in pos],  game_genre['Score']['mean'], width, alpha=0.5, color='#F78F1E', label=game_genre['Genre ID'][1]) \n",
        "plt.bar([p + width*2 for p in pos], game_genre['Score']['min'], width, alpha=0.5, color='#FFC222', label=game_genre['Genre ID'][2]) \n",
        "\n",
        "# Set the y axis label\n",
        "ax.set_ylabel('Score')\n",
        "ax.set_title('Genres and respective Scores')\n",
        "\n",
        "# Set the position of the x ticks\n",
        "ax.set_xticks([p + 1.5 * width for p in pos])\n",
        "ax.set_xticklabels(game_genre['Genre ID'], fontweight='bold',rotation='vertical')\n",
        "\n",
        "plt.xlim(min(pos)-width, max(pos)+width*4)\n",
        "plt.ylim([0, 2+max(game_genre['Score']['max'])] )\n",
        "\n",
        "# Adding the legend and showing the plot\n",
        "plt.legend(['Max', 'Mean', 'Min'], loc='upper left')\n",
        "plt.grid()\n",
        "plt.show()"
      ],
      "execution_count": 31,
      "outputs": [
        {
          "output_type": "display_data",
          "data": {
            "image/png": "[encoded data removed]",
            "text/plain": [
              "<Figure size 1440x360 with 1 Axes>"
            ]
          },
          "metadata": {
            "tags": [],
            "needs_background": "light"
          }
        }
      ]
    },
    {
      "cell_type": "markdown",
      "metadata": {
        "id": "wszXEdkGHf9p",
        "colab_type": "text"
      },
      "source": [
        "By looking at the above plot, it is considered to plot the mean of game ratings score with respect to genres, to check the average mean of the score of games."
      ]
    },
    {
      "cell_type": "code",
      "metadata": {
        "id": "DAE-3Qc7HggU",
        "colab_type": "code",
        "outputId": "50abbe35-0e57-4670-960c-da68960b2643",
        "colab": {
          "base_uri": "https://localhost:8080/",
          "height": 738
        }
      },
      "source": [
        "# plt.rcParams.update({'font.size': 8})\n",
        "plt.figure(figsize= (12,10))\n",
        "sb.barplot(x =game_genre['Genre ID'], y = game_genre['Score']['mean'],palette=\"viridis\")\n",
        "plt.title('Mean of Ratings given to games based on genre') \n",
        "plt.xticks(rotation=90)   \n",
        "plt.show()"
      ],
      "execution_count": 32,
      "outputs": [
        {
          "output_type": "display_data",
          "data": {
            "image/png": "[encoded data removed]",
            "text/plain": [
              "<Figure size 864x720 with 1 Axes>"
            ]
          },
          "metadata": {
            "tags": [],
            "needs_background": "light"
          }
        }
      ]
    },
    {
      "cell_type": "markdown",
      "metadata": {
        "id": "aMdgWB6fKEtW",
        "colab_type": "text"
      },
      "source": [
        "Moving on, the games were estimated with respect to genres and minimum installs of those games. Group by function is used to group the minimum installs by genre id."
      ]
    },
    {
      "cell_type": "code",
      "metadata": {
        "id": "MUf3dfffMsa2",
        "colab_type": "code",
        "colab": {}
      },
      "source": [
        "game_genre_installs = data[['Genre ID','MinInstalls']].groupby(['Genre ID']).mean()\n",
        "\n",
        "game_genre_installs.reset_index(inplace = True)\n",
        "game_genre_installs['Genre ID']\n",
        "game_genre_installs=game_genre_installs.sort_values('MinInstalls',ascending=False)"
      ],
      "execution_count": 0,
      "outputs": []
    },
    {
      "cell_type": "code",
      "metadata": {
        "id": "EoM6V51IoQF-",
        "colab_type": "code",
        "colab": {}
      },
      "source": [
        "labels = np.array(game_genre_installs['Genre ID'])\n",
        "sizes = np.array(game_genre_installs['MinInstalls'])"
      ],
      "execution_count": 0,
      "outputs": []
    },
    {
      "cell_type": "code",
      "metadata": {
        "id": "lYOSgRENMuOR",
        "colab_type": "code",
        "outputId": "1a565139-9bc4-4539-f027-9025f9819189",
        "colab": {
          "base_uri": "https://localhost:8080/",
          "height": 297
        }
      },
      "source": [
        "fig1, ax1 = plt.subplots()\n",
        "ax1.pie(sizes, labels=labels, autopct='%1.1f%%', startangle=90)\n",
        "#draw circle\n",
        "centre_circle = plt.Circle((0,0),0.70,fc='white')\n",
        "fig = plt.gcf()\n",
        "fig.gca().add_artist(centre_circle)\n",
        "# Equal aspect ratio ensures that pie is drawn as a circle\n",
        "ax1.axis('equal')  \n",
        "plt.title('Mean of minimum installs based on genre')\n",
        "plt.tight_layout()\n",
        "plt.show()"
      ],
      "execution_count": 35,
      "outputs": [
        {
          "output_type": "display_data",
          "data": {
            "image/png": "[encoded data removed]",
            "text/plain": [
              "<Figure size 432x288 with 1 Axes>"
            ]
          },
          "metadata": {
            "tags": []
          }
        }
      ]
    },
    {
      "cell_type": "markdown",
      "metadata": {
        "id": "hlYBSEqQM7A2",
        "colab_type": "text"
      },
      "source": [
        "Different currency options listed for the games in the dataset were listed."
      ]
    },
    {
      "cell_type": "code",
      "metadata": {
        "id": "WIwnGen0NIs7",
        "colab_type": "code",
        "outputId": "4c81482c-d7d1-47b9-c09c-043f45aa024c",
        "colab": {
          "base_uri": "https://localhost:8080/",
          "height": 173
        }
      },
      "source": [
        "is_curr=pd.Categorical(data['Currency'])\n",
        "is_curr.describe()"
      ],
      "execution_count": 36,
      "outputs": [
        {
          "output_type": "execute_result",
          "data": {
            "text/html": [
              "<div>\n",
              "<style scoped>\n",
              "    .dataframe tbody tr th:only-of-type {\n",
              "        vertical-align: middle;\n",
              "    }\n",
              "\n",
              "    .dataframe tbody tr th {\n",
              "        vertical-align: top;\n",
              "    }\n",
              "\n",
              "    .dataframe thead th {\n",
              "        text-align: right;\n",
              "    }\n",
              "</style>\n",
              "<table border=\"1\" class=\"dataframe\">\n",
              "  <thead>\n",
              "    <tr style=\"text-align: right;\">\n",
              "      <th></th>\n",
              "      <th>counts</th>\n",
              "      <th>freqs</th>\n",
              "    </tr>\n",
              "    <tr>\n",
              "      <th>categories</th>\n",
              "      <th></th>\n",
              "      <th></th>\n",
              "    </tr>\n",
              "  </thead>\n",
              "  <tbody>\n",
              "    <tr>\n",
              "      <th>EUR</th>\n",
              "      <td>2</td>\n",
              "      <td>0.000132</td>\n",
              "    </tr>\n",
              "    <tr>\n",
              "      <th>USD</th>\n",
              "      <td>15111</td>\n",
              "      <td>0.998546</td>\n",
              "    </tr>\n",
              "    <tr>\n",
              "      <th>NaN</th>\n",
              "      <td>20</td>\n",
              "      <td>0.001322</td>\n",
              "    </tr>\n",
              "  </tbody>\n",
              "</table>\n",
              "</div>"
            ],
            "text/plain": [
              "            counts     freqs\n",
              "categories                  \n",
              "EUR              2  0.000132\n",
              "USD          15111  0.998546\n",
              "NaN             20  0.001322"
            ]
          },
          "metadata": {
            "tags": []
          },
          "execution_count": 36
        }
      ]
    },
    {
      "cell_type": "markdown",
      "metadata": {
        "id": "Z9pQuv7ANbFo",
        "colab_type": "text"
      },
      "source": [
        "Grouping games by genre and their availability as free or non free versions."
      ]
    },
    {
      "cell_type": "code",
      "metadata": {
        "id": "Xh9v2wTjNbjx",
        "colab_type": "code",
        "outputId": "b3818f56-9200-4537-e3ba-eace15e566b9",
        "colab": {
          "base_uri": "https://localhost:8080/",
          "height": 1000
        }
      },
      "source": [
        "game_ava = data[['Genre ID','Score','Free']].groupby(['Genre ID','Free']).mean().unstack()\n",
        "# game_ava.reset_index(inplace = True)\n",
        "game_ava"
      ],
      "execution_count": 37,
      "outputs": [
        {
          "output_type": "execute_result",
          "data": {
            "text/html": [
              "<div>\n",
              "<style scoped>\n",
              "    .dataframe tbody tr th:only-of-type {\n",
              "        vertical-align: middle;\n",
              "    }\n",
              "\n",
              "    .dataframe tbody tr th {\n",
              "        vertical-align: top;\n",
              "    }\n",
              "\n",
              "    .dataframe thead tr th {\n",
              "        text-align: left;\n",
              "    }\n",
              "\n",
              "    .dataframe thead tr:last-of-type th {\n",
              "        text-align: right;\n",
              "    }\n",
              "</style>\n",
              "<table border=\"1\" class=\"dataframe\">\n",
              "  <thead>\n",
              "    <tr>\n",
              "      <th></th>\n",
              "      <th colspan=\"2\" halign=\"left\">Score</th>\n",
              "    </tr>\n",
              "    <tr>\n",
              "      <th>Free</th>\n",
              "      <th>FALSE</th>\n",
              "      <th>TRUE</th>\n",
              "    </tr>\n",
              "    <tr>\n",
              "      <th>Genre ID</th>\n",
              "      <th></th>\n",
              "      <th></th>\n",
              "    </tr>\n",
              "  </thead>\n",
              "  <tbody>\n",
              "    <tr>\n",
              "      <th>ART_AND_DESIGN</th>\n",
              "      <td>4.463333</td>\n",
              "      <td>4.356684</td>\n",
              "    </tr>\n",
              "    <tr>\n",
              "      <th>AUTO_AND_VEHICLES</th>\n",
              "      <td>4.500000</td>\n",
              "      <td>4.275223</td>\n",
              "    </tr>\n",
              "    <tr>\n",
              "      <th>BEAUTY</th>\n",
              "      <td>NaN</td>\n",
              "      <td>4.257069</td>\n",
              "    </tr>\n",
              "    <tr>\n",
              "      <th>BOOKS_AND_REFERENCE</th>\n",
              "      <td>4.382685</td>\n",
              "      <td>4.413895</td>\n",
              "    </tr>\n",
              "    <tr>\n",
              "      <th>BUSINESS</th>\n",
              "      <td>0.000000</td>\n",
              "      <td>3.971405</td>\n",
              "    </tr>\n",
              "    <tr>\n",
              "      <th>COMICS</th>\n",
              "      <td>NaN</td>\n",
              "      <td>4.401221</td>\n",
              "    </tr>\n",
              "    <tr>\n",
              "      <th>COMMUNICATION</th>\n",
              "      <td>4.301591</td>\n",
              "      <td>4.176565</td>\n",
              "    </tr>\n",
              "    <tr>\n",
              "      <th>EDUCATION</th>\n",
              "      <td>3.939076</td>\n",
              "      <td>4.245918</td>\n",
              "    </tr>\n",
              "    <tr>\n",
              "      <th>ENTERTAINMENT</th>\n",
              "      <td>4.013810</td>\n",
              "      <td>4.110919</td>\n",
              "    </tr>\n",
              "    <tr>\n",
              "      <th>EVENTS</th>\n",
              "      <td>NaN</td>\n",
              "      <td>3.495506</td>\n",
              "    </tr>\n",
              "    <tr>\n",
              "      <th>FINANCE</th>\n",
              "      <td>4.239711</td>\n",
              "      <td>4.173980</td>\n",
              "    </tr>\n",
              "    <tr>\n",
              "      <th>FOOD_AND_DRINK</th>\n",
              "      <td>NaN</td>\n",
              "      <td>4.327703</td>\n",
              "    </tr>\n",
              "    <tr>\n",
              "      <th>GAME_ACTION</th>\n",
              "      <td>4.185552</td>\n",
              "      <td>4.197132</td>\n",
              "    </tr>\n",
              "    <tr>\n",
              "      <th>GAME_ADVENTURE</th>\n",
              "      <td>4.332293</td>\n",
              "      <td>4.251306</td>\n",
              "    </tr>\n",
              "    <tr>\n",
              "      <th>GAME_ARCADE</th>\n",
              "      <td>4.279478</td>\n",
              "      <td>4.273138</td>\n",
              "    </tr>\n",
              "    <tr>\n",
              "      <th>GAME_BOARD</th>\n",
              "      <td>4.254370</td>\n",
              "      <td>4.359668</td>\n",
              "    </tr>\n",
              "    <tr>\n",
              "      <th>GAME_CARD</th>\n",
              "      <td>4.501289</td>\n",
              "      <td>4.390327</td>\n",
              "    </tr>\n",
              "    <tr>\n",
              "      <th>GAME_CASUAL</th>\n",
              "      <td>4.258538</td>\n",
              "      <td>4.295699</td>\n",
              "    </tr>\n",
              "    <tr>\n",
              "      <th>GAME_EDUCATIONAL</th>\n",
              "      <td>3.762167</td>\n",
              "      <td>4.125411</td>\n",
              "    </tr>\n",
              "    <tr>\n",
              "      <th>GAME_MUSIC</th>\n",
              "      <td>4.480218</td>\n",
              "      <td>4.111265</td>\n",
              "    </tr>\n",
              "    <tr>\n",
              "      <th>GAME_PUZZLE</th>\n",
              "      <td>4.437629</td>\n",
              "      <td>4.379633</td>\n",
              "    </tr>\n",
              "    <tr>\n",
              "      <th>GAME_RACING</th>\n",
              "      <td>4.197313</td>\n",
              "      <td>4.229033</td>\n",
              "    </tr>\n",
              "    <tr>\n",
              "      <th>GAME_ROLE_PLAYING</th>\n",
              "      <td>4.348953</td>\n",
              "      <td>4.208830</td>\n",
              "    </tr>\n",
              "    <tr>\n",
              "      <th>GAME_SIMULATION</th>\n",
              "      <td>4.098445</td>\n",
              "      <td>4.226300</td>\n",
              "    </tr>\n",
              "    <tr>\n",
              "      <th>GAME_SPORTS</th>\n",
              "      <td>4.076024</td>\n",
              "      <td>4.183514</td>\n",
              "    </tr>\n",
              "    <tr>\n",
              "      <th>GAME_STRATEGY</th>\n",
              "      <td>4.303569</td>\n",
              "      <td>4.167188</td>\n",
              "    </tr>\n",
              "    <tr>\n",
              "      <th>GAME_TRIVIA</th>\n",
              "      <td>4.239413</td>\n",
              "      <td>4.277531</td>\n",
              "    </tr>\n",
              "    <tr>\n",
              "      <th>GAME_WORD</th>\n",
              "      <td>4.384972</td>\n",
              "      <td>4.440350</td>\n",
              "    </tr>\n",
              "    <tr>\n",
              "      <th>HEALTH_AND_FITNESS</th>\n",
              "      <td>4.417004</td>\n",
              "      <td>4.205383</td>\n",
              "    </tr>\n",
              "    <tr>\n",
              "      <th>HOUSE_AND_HOME</th>\n",
              "      <td>4.050000</td>\n",
              "      <td>4.185625</td>\n",
              "    </tr>\n",
              "    <tr>\n",
              "      <th>LIBRARIES_AND_DEMO</th>\n",
              "      <td>NaN</td>\n",
              "      <td>4.605000</td>\n",
              "    </tr>\n",
              "    <tr>\n",
              "      <th>LIFESTYLE</th>\n",
              "      <td>4.166816</td>\n",
              "      <td>4.261732</td>\n",
              "    </tr>\n",
              "    <tr>\n",
              "      <th>MAPS_AND_NAVIGATION</th>\n",
              "      <td>3.836525</td>\n",
              "      <td>4.123207</td>\n",
              "    </tr>\n",
              "    <tr>\n",
              "      <th>MEDICAL</th>\n",
              "      <td>4.344760</td>\n",
              "      <td>4.239564</td>\n",
              "    </tr>\n",
              "    <tr>\n",
              "      <th>MUSIC_AND_AUDIO</th>\n",
              "      <td>4.141291</td>\n",
              "      <td>4.292032</td>\n",
              "    </tr>\n",
              "    <tr>\n",
              "      <th>NEWS_AND_MAGAZINES</th>\n",
              "      <td>4.230000</td>\n",
              "      <td>4.042131</td>\n",
              "    </tr>\n",
              "    <tr>\n",
              "      <th>PARENTING</th>\n",
              "      <td>NaN</td>\n",
              "      <td>4.438906</td>\n",
              "    </tr>\n",
              "    <tr>\n",
              "      <th>PERSONALIZATION</th>\n",
              "      <td>4.574706</td>\n",
              "      <td>4.443394</td>\n",
              "    </tr>\n",
              "    <tr>\n",
              "      <th>PHOTOGRAPHY</th>\n",
              "      <td>4.200679</td>\n",
              "      <td>4.351509</td>\n",
              "    </tr>\n",
              "    <tr>\n",
              "      <th>PRODUCTIVITY</th>\n",
              "      <td>4.219662</td>\n",
              "      <td>4.140316</td>\n",
              "    </tr>\n",
              "    <tr>\n",
              "      <th>SHOPPING</th>\n",
              "      <td>2.890000</td>\n",
              "      <td>4.267152</td>\n",
              "    </tr>\n",
              "    <tr>\n",
              "      <th>SOCIAL</th>\n",
              "      <td>3.804993</td>\n",
              "      <td>4.419850</td>\n",
              "    </tr>\n",
              "    <tr>\n",
              "      <th>SPORTS</th>\n",
              "      <td>4.278847</td>\n",
              "      <td>4.255679</td>\n",
              "    </tr>\n",
              "    <tr>\n",
              "      <th>TOOLS</th>\n",
              "      <td>4.468044</td>\n",
              "      <td>4.292768</td>\n",
              "    </tr>\n",
              "    <tr>\n",
              "      <th>TRAVEL_AND_LOCAL</th>\n",
              "      <td>3.662219</td>\n",
              "      <td>4.093873</td>\n",
              "    </tr>\n",
              "    <tr>\n",
              "      <th>VIDEO_PLAYERS</th>\n",
              "      <td>3.780000</td>\n",
              "      <td>4.034914</td>\n",
              "    </tr>\n",
              "    <tr>\n",
              "      <th>WEATHER</th>\n",
              "      <td>4.418053</td>\n",
              "      <td>4.314795</td>\n",
              "    </tr>\n",
              "  </tbody>\n",
              "</table>\n",
              "</div>"
            ],
            "text/plain": [
              "                        Score          \n",
              "Free                    FALSE      TRUE\n",
              "Genre ID                               \n",
              "ART_AND_DESIGN       4.463333  4.356684\n",
              "AUTO_AND_VEHICLES    4.500000  4.275223\n",
              "BEAUTY                    NaN  4.257069\n",
              "BOOKS_AND_REFERENCE  4.382685  4.413895\n",
              "BUSINESS             0.000000  3.971405\n",
              "COMICS                    NaN  4.401221\n",
              "COMMUNICATION        4.301591  4.176565\n",
              "EDUCATION            3.939076  4.245918\n",
              "ENTERTAINMENT        4.013810  4.110919\n",
              "EVENTS                    NaN  3.495506\n",
              "FINANCE              4.239711  4.173980\n",
              "FOOD_AND_DRINK            NaN  4.327703\n",
              "GAME_ACTION          4.185552  4.197132\n",
              "GAME_ADVENTURE       4.332293  4.251306\n",
              "GAME_ARCADE          4.279478  4.273138\n",
              "GAME_BOARD           4.254370  4.359668\n",
              "GAME_CARD            4.501289  4.390327\n",
              "GAME_CASUAL          4.258538  4.295699\n",
              "GAME_EDUCATIONAL     3.762167  4.125411\n",
              "GAME_MUSIC           4.480218  4.111265\n",
              "GAME_PUZZLE          4.437629  4.379633\n",
              "GAME_RACING          4.197313  4.229033\n",
              "GAME_ROLE_PLAYING    4.348953  4.208830\n",
              "GAME_SIMULATION      4.098445  4.226300\n",
              "GAME_SPORTS          4.076024  4.183514\n",
              "GAME_STRATEGY        4.303569  4.167188\n",
              "GAME_TRIVIA          4.239413  4.277531\n",
              "GAME_WORD            4.384972  4.440350\n",
              "HEALTH_AND_FITNESS   4.417004  4.205383\n",
              "HOUSE_AND_HOME       4.050000  4.185625\n",
              "LIBRARIES_AND_DEMO        NaN  4.605000\n",
              "LIFESTYLE            4.166816  4.261732\n",
              "MAPS_AND_NAVIGATION  3.836525  4.123207\n",
              "MEDICAL              4.344760  4.239564\n",
              "MUSIC_AND_AUDIO      4.141291  4.292032\n",
              "NEWS_AND_MAGAZINES   4.230000  4.042131\n",
              "PARENTING                 NaN  4.438906\n",
              "PERSONALIZATION      4.574706  4.443394\n",
              "PHOTOGRAPHY          4.200679  4.351509\n",
              "PRODUCTIVITY         4.219662  4.140316\n",
              "SHOPPING             2.890000  4.267152\n",
              "SOCIAL               3.804993  4.419850\n",
              "SPORTS               4.278847  4.255679\n",
              "TOOLS                4.468044  4.292768\n",
              "TRAVEL_AND_LOCAL     3.662219  4.093873\n",
              "VIDEO_PLAYERS        3.780000  4.034914\n",
              "WEATHER              4.418053  4.314795"
            ]
          },
          "metadata": {
            "tags": []
          },
          "execution_count": 37
        }
      ]
    },
    {
      "cell_type": "code",
      "metadata": {
        "id": "s49xkPBtPTK0",
        "colab_type": "code",
        "outputId": "a2438a1f-e69a-4fc0-965c-b74afe78fbde",
        "colab": {
          "base_uri": "https://localhost:8080/",
          "height": 624
        }
      },
      "source": [
        "game_ava.plot(kind='barh', stacked=True, title='Analyzing game genres distribution w.r.t Free version/paid version ', figsize=[8,10], colormap='winter')"
      ],
      "execution_count": 38,
      "outputs": [
        {
          "output_type": "execute_result",
          "data": {
            "text/plain": [
              "<matplotlib.axes._subplots.AxesSubplot at 0x7f0448096898>"
            ]
          },
          "metadata": {
            "tags": []
          },
          "execution_count": 38
        },
        {
          "output_type": "display_data",
          "data": {
            "image/png": "[encoded data removed]",
            "text/plain": [
              "<Figure size 576x720 with 1 Axes>"
            ]
          },
          "metadata": {
            "tags": [],
            "needs_background": "light"
          }
        }
      ]
    },
    {
      "cell_type": "markdown",
      "metadata": {
        "id": "lLqaSkKkQEZd",
        "colab_type": "text"
      },
      "source": [
        "Once all the basic visualizations are done, we can see that there exist certain patterns between the features of the dataset. But our main concern is about game description. So further analysis is done on the game description."
      ]
    },
    {
      "cell_type": "markdown",
      "metadata": {
        "id": "M_s7HOzHPWqi",
        "colab_type": "text"
      },
      "source": [
        "**FURTHER TEXT ANALYSIS AND TEXT CLASSIFICATIONS**\n",
        "\n",
        "To work on the game description and clean it as much as possible certain text analysis techniques specified below were applied to the description feature."
      ]
    },
    {
      "cell_type": "code",
      "metadata": {
        "id": "jtSMz74FPU7X",
        "colab_type": "code",
        "colab": {}
      },
      "source": [
        "data['Description']  = data['Description'].str.lower()"
      ],
      "execution_count": 0,
      "outputs": []
    },
    {
      "cell_type": "code",
      "metadata": {
        "id": "3mzSaBGXQyz7",
        "colab_type": "code",
        "colab": {}
      },
      "source": [
        "sam=data['Description'].str.extract(r'(^\\w{2})')"
      ],
      "execution_count": 0,
      "outputs": []
    },
    {
      "cell_type": "code",
      "metadata": {
        "id": "_jBZQyaeQ04S",
        "colab_type": "code",
        "outputId": "0cea9175-f79c-44d1-fa3a-9ce6edbdf317",
        "colab": {
          "base_uri": "https://localhost:8080/",
          "height": 34
        }
      },
      "source": [
        "print(len(sam))"
      ],
      "execution_count": 41,
      "outputs": [
        {
          "output_type": "stream",
          "text": [
            "15133\n"
          ],
          "name": "stdout"
        }
      ]
    },
    {
      "cell_type": "markdown",
      "metadata": {
        "id": "onXsDr64Q72a",
        "colab_type": "text"
      },
      "source": [
        "Once converting the description of each game into lower case, the most frquent words used in each game description were extracted to check their frequency in the descriptions."
      ]
    },
    {
      "cell_type": "code",
      "metadata": {
        "id": "XsH-SXWlR331",
        "colab_type": "code",
        "colab": {}
      },
      "source": [
        "# Checking the first 10 most frequent words\n",
        "\n",
        "cnt = Counter()\n",
        "for text in data[\"Description\"].values:\n",
        "    for word in text.split():\n",
        "        cnt[word] += 1\n",
        "        \n",
        "#cnt.most_common(100)"
      ],
      "execution_count": 0,
      "outputs": []
    },
    {
      "cell_type": "code",
      "metadata": {
        "id": "C6kZ1rqNSx-3",
        "colab_type": "code",
        "outputId": "173a12d7-62f6-4c9e-f021-12e69ad01094",
        "colab": {
          "base_uri": "https://localhost:8080/",
          "height": 119
        }
      },
      "source": [
        "# Removing the frequent words\n",
        "freq = set([w for (w, wc) in cnt.most_common(10)])\n",
        "# function to remove the frequent words\n",
        "def freqwords(text):\n",
        "    return \" \".join([word for word in str(text).split() if word not in freq])\n",
        "\n",
        "# Passing the function freqwords\n",
        "data[\"Description\"] = data[\"Description\"].apply(freqwords)\n",
        "data[\"Description\"].head()\n"
      ],
      "execution_count": 43,
      "outputs": [
        {
          "output_type": "execute_result",
          "data": {
            "text/plain": [
              "0    welcome world sniper assassin. hold back achie...\n",
              "1    duty is lead battle become best shooter sniper...\n",
              "2    welcome shooting world, an incredible 3d fps m...\n",
              "3    aim shoot! modern sniper is #1 first person sh...\n",
              "4    time collect hunting gear, load gun, sharpen s...\n",
              "Name: Description, dtype: object"
            ]
          },
          "metadata": {
            "tags": []
          },
          "execution_count": 43
        }
      ]
    },
    {
      "cell_type": "markdown",
      "metadata": {
        "id": "BmHJnlFrS1Li",
        "colab_type": "text"
      },
      "source": [
        "Next, we will be removing the urls, web addresses, and emoji's if any exsisting in the game descriptions using the following methods."
      ]
    },
    {
      "cell_type": "code",
      "metadata": {
        "id": "TjOEFP7JVq2M",
        "colab_type": "code",
        "colab": {}
      },
      "source": [
        "def remove_urls(text):\n",
        "    url_pattern = re.compile(r'https?://\\S+|www\\.\\S+')\n",
        "    return url_pattern.sub(r'', text)"
      ],
      "execution_count": 0,
      "outputs": []
    },
    {
      "cell_type": "code",
      "metadata": {
        "id": "rgGucDlNVtmh",
        "colab_type": "code",
        "colab": {}
      },
      "source": [
        "data['Description']=data['Description'].apply(lambda x:remove_urls(x))"
      ],
      "execution_count": 0,
      "outputs": []
    },
    {
      "cell_type": "markdown",
      "metadata": {
        "id": "rZYBkGdYVyAs",
        "colab_type": "text"
      },
      "source": [
        "The beautiful soup library imported is used below to remove the html addresses."
      ]
    },
    {
      "cell_type": "code",
      "metadata": {
        "id": "cRT9rsnAVvql",
        "colab_type": "code",
        "colab": {}
      },
      "source": [
        "def remove_html(text):\n",
        "    return BeautifulSoup(text, \"lxml\").text"
      ],
      "execution_count": 0,
      "outputs": []
    },
    {
      "cell_type": "code",
      "metadata": {
        "id": "i5JbDeChV-PU",
        "colab_type": "code",
        "colab": {}
      },
      "source": [
        "data['Description']=data['Description'].apply(lambda x:remove_html(x))"
      ],
      "execution_count": 0,
      "outputs": []
    },
    {
      "cell_type": "code",
      "metadata": {
        "id": "Vmyx9eaeWAYk",
        "colab_type": "code",
        "outputId": "c8792824-fc45-4822-a1d7-06b66259d575",
        "colab": {
          "base_uri": "https://localhost:8080/",
          "height": 374
        }
      },
      "source": [
        "# 20 rare words in the game description were extracted and deleted \n",
        "freq = pd.Series(' '.join(data['Description']).split()).value_counts()[-20:] # 10 rare words\n",
        "freq = list(freq.index)\n",
        "data['Description'] = data['Description'].apply(lambda x: \" \".join(x for x in x.split() if x not in freq))\n",
        "data['Description'].head(20)"
      ],
      "execution_count": 48,
      "outputs": [
        {
          "output_type": "execute_result",
          "data": {
            "text/plain": [
              "0     welcome world sniper assassin. hold back achie...\n",
              "1     duty is lead battle become best shooter sniper...\n",
              "2     welcome shooting world, an incredible 3d fps m...\n",
              "3     aim shoot! modern sniper is #1 first person sh...\n",
              "4     time collect hunting gear, load gun, sharpen s...\n",
              "5     fight for honor! pick up cool sniper guns at h...\n",
              "6     feel action survive this apocalypse horror one...\n",
              "7     get ready for an epic multiplayer sniper 3d fr...\n",
              "8     welcome \"death shooter \". as special force, wi...\n",
              "9     modern strike online can't get enough fps acti...\n",
              "10    keep defense up shoot zombies one best first-p...\n",
              "11    get ready for one best fps sniper shooting gam...\n",
              "12    join most exciting multiplayer archery game ev...\n",
              "13    join best online multiplayer shooting range ex...\n",
              "14    like killing games? if so sniper 3d shooter is...\n",
              "15    death race ® killer car shooting games, offici...\n",
              "16    😏 ready roll dice on life crime? then city veg...\n",
              "17    become #1 most lethal sniper world play downlo...\n",
              "18    bike racing 3d is no.1 xtreme bmx game insane ...\n",
              "19    it's about time take on role fearless modern s...\n",
              "Name: Description, dtype: object"
            ]
          },
          "metadata": {
            "tags": []
          },
          "execution_count": 48
        }
      ]
    },
    {
      "cell_type": "code",
      "metadata": {
        "id": "m2wI0tfSWEn2",
        "colab_type": "code",
        "colab": {}
      },
      "source": [
        "# Function to remove emoji.\n",
        "def emoji(string):\n",
        "    emoji_pattern = re.compile(\"[\"\n",
        "                           u\"\\U0001F600-\\U0001F64F\"  # emoticons\n",
        "                           u\"\\U0001F300-\\U0001F5FF\"  \n",
        "                           u\"\\U0001F680-\\U0001F6FF\"  \n",
        "                           u\"\\U0001F1E0-\\U0001F1FF\"  \n",
        "                           u\"\\U00002702-\\U000027B0\"\n",
        "                           u\"\\U000024C2-\\U0001F251\"\n",
        "                           \"]+\", flags=re.UNICODE)\n",
        "    return emoji_pattern.sub(r'', string)"
      ],
      "execution_count": 0,
      "outputs": []
    },
    {
      "cell_type": "markdown",
      "metadata": {
        "id": "jIA9PHHHWRdR",
        "colab_type": "text"
      },
      "source": [
        "The clean description function is defined that contations the methods to remove punctuations, segregating the words into tokens and calling the stopwords to remove essential amount of stopwords. The function is called and applied on the cleaned description."
      ]
    },
    {
      "cell_type": "code",
      "metadata": {
        "id": "uXP63ia6WPgN",
        "colab_type": "code",
        "colab": {}
      },
      "source": [
        "def clean_description(text):\n",
        "  text_nopunctuation= \"\".join([char for char in text if char not in string.punctuation])\n",
        "  text_nopunctuation=emoji(text_nopunctuation)\n",
        "\n",
        "  tokens=word_tokenize(text_nopunctuation)\n",
        "  # re.split('\\W+',text_nopunctuation)\n",
        "  words = [word for word in tokens if word in all_words or not word.isalpha()]\n",
        "  text= [word for word in words if word not in stopword]\n",
        " \n",
        "  return text"
      ],
      "execution_count": 0,
      "outputs": []
    },
    {
      "cell_type": "code",
      "metadata": {
        "id": "XU8WNGbkXqcm",
        "colab_type": "code",
        "colab": {}
      },
      "source": [
        "data['Cleaned_Text']=data['Description'].apply(lambda x:clean_description(x))"
      ],
      "execution_count": 0,
      "outputs": []
    },
    {
      "cell_type": "code",
      "metadata": {
        "id": "soqyXYnFXtBG",
        "colab_type": "code",
        "outputId": "cdbc6e92-66dc-4a1c-de5f-b81fa6809841",
        "colab": {
          "base_uri": "https://localhost:8080/",
          "height": 204
        }
      },
      "source": [
        "data['Cleaned_Text'][:10]"
      ],
      "execution_count": 52,
      "outputs": [
        {
          "output_type": "execute_result",
          "data": {
            "text/plain": [
              "0    [welcome, world, sniper, assassin, hold, back,...\n",
              "1    [duty, lead, battle, become, best, shooter, sn...\n",
              "2    [welcome, shooting, world, incredible, 3d, mob...\n",
              "3    [aim, shoot, modern, sniper, 1, first, person,...\n",
              "4    [time, collect, hunting, gear, load, gun, shar...\n",
              "5    [fight, honor, pick, cool, sniper, hand, exper...\n",
              "6    [feel, action, survive, apocalypse, horror, on...\n",
              "7    [get, ready, epic, sniper, 3d, free, shooting,...\n",
              "8    [welcome, death, shooter, special, force, rece...\n",
              "9    [modern, strike, cant, get, enough, action, lo...\n",
              "Name: Cleaned_Text, dtype: object"
            ]
          },
          "metadata": {
            "tags": []
          },
          "execution_count": 52
        }
      ]
    },
    {
      "cell_type": "markdown",
      "metadata": {
        "id": "f9agWfpNX2pt",
        "colab_type": "text"
      },
      "source": [
        "As the basic tokenizing and cleaning of the text data is done, lemmatizing the text need to be done to obtain a root word for all similar meaning words. Words need to be lemmatized to group words which possess same meaning, context so that the data available after lemmatizing can be fitted to the model.\n",
        "\n",
        "The NLTK uses wordnet lemmatizer library and imports the function on to the environment."
      ]
    },
    {
      "cell_type": "code",
      "metadata": {
        "id": "4SmomkArX3PN",
        "colab_type": "code",
        "outputId": "7a1f59c8-f796-4a24-b4c7-29c822917d77",
        "colab": {
          "base_uri": "https://localhost:8080/",
          "height": 68
        }
      },
      "source": [
        "wn=nltk.WordNetLemmatizer()\n",
        "nltk.download('wordnet')"
      ],
      "execution_count": 53,
      "outputs": [
        {
          "output_type": "stream",
          "text": [
            "[nltk_data] Downloading package wordnet to /root/nltk_data...\n",
            "[nltk_data]   Unzipping corpora/wordnet.zip.\n"
          ],
          "name": "stdout"
        },
        {
          "output_type": "execute_result",
          "data": {
            "text/plain": [
              "True"
            ]
          },
          "metadata": {
            "tags": []
          },
          "execution_count": 53
        }
      ]
    },
    {
      "cell_type": "code",
      "metadata": {
        "id": "dIaC2oQTY-3H",
        "colab_type": "code",
        "colab": {}
      },
      "source": [
        "def lemmatizing(tokenized_text):\n",
        "  text=[wn.lemmatize(word) for word in tokenized_text]\n",
        "  return text"
      ],
      "execution_count": 0,
      "outputs": []
    },
    {
      "cell_type": "code",
      "metadata": {
        "id": "j3qZam2xZA8U",
        "colab_type": "code",
        "colab": {}
      },
      "source": [
        "data['lemmetized_desc']=data['Cleaned_Text'].apply(lambda x: lemmatizing(x))"
      ],
      "execution_count": 0,
      "outputs": []
    },
    {
      "cell_type": "markdown",
      "metadata": {
        "id": "vwyeR7iMZRlR",
        "colab_type": "text"
      },
      "source": [
        "The tokens of words available after all the analysis is done are gruped into sentence or string of values, for further analysis."
      ]
    },
    {
      "cell_type": "code",
      "metadata": {
        "id": "ZP9fzBBEZFGG",
        "colab_type": "code",
        "colab": {}
      },
      "source": [
        "rowitems=[]\n",
        "\n",
        "for row in data['lemmetized_desc']:\n",
        "  # row = ' '.join([row])\n",
        "  rowitems.append(' '.join(row))\n",
        "\n",
        "data['Cleaned']=rowitems"
      ],
      "execution_count": 0,
      "outputs": []
    },
    {
      "cell_type": "code",
      "metadata": {
        "id": "2fDnX4OgZhxa",
        "colab_type": "code",
        "colab": {}
      },
      "source": [
        "data['Description_Length']=data['Description'].apply(lambda x: len(x))"
      ],
      "execution_count": 0,
      "outputs": []
    },
    {
      "cell_type": "code",
      "metadata": {
        "id": "bzbtFyzgZj2F",
        "colab_type": "code",
        "colab": {}
      },
      "source": [
        "data['CleanedDesc_Length']=data['Cleaned'].apply(lambda x: len(x))"
      ],
      "execution_count": 0,
      "outputs": []
    },
    {
      "cell_type": "markdown",
      "metadata": {
        "id": "ud8AW0L5Zn_n",
        "colab_type": "text"
      },
      "source": [
        "The original game description and the cleaned text length is documented to check the difference of the length of words. This can help us view that most of the common data in the description were filtered out. Leaving the important stuff."
      ]
    },
    {
      "cell_type": "code",
      "metadata": {
        "id": "bBH_V5XAaBmH",
        "colab_type": "code",
        "colab": {}
      },
      "source": [
        "def sort_function(matrix):\n",
        "    tuples = zip(matrix.col, matrix.data)\n",
        "    return sorted(tuples, key=lambda x: (x[1], x[0]), reverse=True)"
      ],
      "execution_count": 0,
      "outputs": []
    },
    {
      "cell_type": "markdown",
      "metadata": {
        "id": "pMyaBmjcQ3ui",
        "colab_type": "text"
      },
      "source": [
        "TF_IDF vectorizer is applied on the clean description to obtain the feature names."
      ]
    },
    {
      "cell_type": "code",
      "metadata": {
        "id": "AhWUFkx6QsRY",
        "colab_type": "code",
        "outputId": "63b1de84-cba8-4484-f379-b47d90d08f73",
        "colab": {
          "base_uri": "https://localhost:8080/",
          "height": 71
        }
      },
      "source": [
        "#METHOD 1\n",
        "\n",
        "# analyzer=clean_description\n",
        "tfidf_vect=TfidfVectorizer()\n",
        "tf_counts=tfidf_vect.fit_transform(data['Cleaned'])\n",
        "print(tf_counts.shape)\n",
        "print(tfidf_vect.vocabulary_.keys())"
      ],
      "execution_count": 60,
      "outputs": [
        {
          "output_type": "stream",
          "text": [
            "(15133, 26348)\n",
            "dict_keys(['welcome', 'world', 'sniper', 'assassin', 'hold', 'back', 'achieve', 'perfect', 'shot', 'target', 'play', 'amazing', 'gun', 'shooting', 'game', 'action', 'going', 'unlimited', 'love', 'fighter', 'category', 'offer', 'need', 'find', 'favorite', 'bet', 'provide', 'best', 'gaming', 'experience', 'unique', 'first', 'impression', 'taking', 'care', 'usage', 'shooter', 'complete', 'without', 'connection', 'among', 'top', '10', 'graphic', 'new', 'zombie', 'mode', 'undead', 'added', 'kill', 'unkilled', 'dead', 'praise', 'honor', 'made', 'huge', 'far', 'release', 'stood', '2018', 'consistently', 'continue', 'improving', 'basis', 'user', 'feedback', 'right', 'claim', 'stand', '2020', 'collection', 'variety', 'store', 'upgrade', 'maximum', 'level', 'see', 'got', 'buy', 'arsenal', 'make', 'people', 'forget', 'waste', 'time', 'try', 'install', 'free', 'different', 'interesting', 'become', 'get', 'player', 'look', 'exciting', 'eliminate', 'bad', 'guy', 'holding', 'start', 'depletion', 'health', 'firing', 'let', 'bos', 'escape', 'helicopter', 'around', 'dangerous', 'prison', 'leave', 'town', 'flying', 'air', 'assist', 'enemy', 'criminal', 'act', 'shoot', 'spot', 'sitting', 'may', 'according', 'finding', 'awesome', 'task', 'perform', 'read', 'written', 'mention', 'negative', 'robbing', 'hacking', 'secret', 'data', 'bike', 'wheeling', 'pointing', 'hostage', 'crime', 'eradicate', 'city', 'enjoy', 'kind', '2019', 'killer', 'camera', 'thrilling', 'range', 'like', 'easy', 'smooth', 'excellent', 'full', 'thrill', 'totally', 'anywhere', 'require', 'subway', 'real', 'plane', 'car', 'road', 'bed', 'maybe', 'even', 'note', 'fictitious', 'environment', 'never', 'harm', 'person', 'duty', 'lead', 'battle', 'one', 'black', 'received', 'call', 'defeat', 'racing', 'survive', 'event', 'hit', 'dont', 'alive', 'survival', 'hero', 'take', 'battlefield', 'combat', 'special', '3d', 'cover', 'fire', 'recommend', 'story', 'join', 'resistance', 'command', 'pro', 'weapon', 'strike', 'army', 'hail', 'bullet', 'massive', 'fury', 'war', 'modern', 'control', 'bring', 'fun', 'saving', 'destructible', 'everything', 'veteran', 'soldier', 'put', 'adventure', 'non', 'stop', 'mobile', 'supply', 'seen', 'realistic', 'snipers', 'feel', 'commando', 'face', 'alternate', 'ultimate', 'combination', 'win', 'killing', 'set', 'squad', 'hacker', 'assault', 'man', 'unlock', 'ever', 'inflatable', 'dinosaur', 'taken', 'biggest', 'aim', 'hazard', 'military', 'build', 'strategy', 'side', 'limitless', 'fight', 'mercenary', 'riot', 'every', 'mission', 'engaging', 'visit', 'incredible', 'logic', 'simple', 'use', 'higher', 'completely', 'come', 'challenge', 'witness', 'birth', 'legendary', 'handling', 'hand', 'easily', 'kar98k', 'm24', 'pas', 'many', 'weather', 'truck', 'wide', 'designed', 'constantly', 'improve', 'support', 'blown', 'away', 'sense', 'whirlwind', 'tour', 'underworld', 'ready', 'part', 'silent', 'mob', 'street', 'single', 'access', 'inventory', 'rely', 'marksman', 'finish', 'work', '50', 'ultra', 'stunning', 'choose', 'collect', 'hunting', 'gear', 'load', 'sharpen', 'track', 'wild', 'answer', 'visiting', 'trying', 'hunt', 'competition', 'sport', 'interested', '1v1', 'eager', 'learn', 'shotgun', 'crossbow', 'bow', 'rifle', 'duck', 'wolf', 'grizzly', 'deer', 'bear', 'go', 'savanna', 'aware', 'wind', 'rain', 'ammo', 'available', 'hone', 'compete', 'animal', 'create', 'club', 'meet', 'fellow', 'brand', 'feature', 'already', 'invite', 'together', 'group', 'climb', 'renowned', 'expert', 'plenty', 'participate', 'perfection', 'prove', 'master', 'travel', 'across', 'naturally', 'inhibit', 'fox', 'park', 'pursue', 'rhinoceros', 'entrap', 'walrus', 'arctic', 'ocean', 'russia', 'dingo', 'outback', 'much', 'exotic', 'device', 'went', 'global', 'pick', 'equipment', 'anew', 'show', 'archery', 'fix', 'regularly', 'whether', 'classic', 'fan', 'firearm', 'fanatic', 'fit', 'glove', 'apex', 'predator', 'ground', 'apart', 'enticing', 'spy', 'closely', 'scope', 'carefully', 'pull', 'trigger', 'watch', 'slow', 'motion', 'talented', 'fish', 'fishing', 'social', 'captivating', 'based', 'step', 'great', 'outdoors', 'advanced', 'whole', 'finally', 'something', 'follow', 'cool', 'career', 'professional', 'elite', 'sharpshooter', 'highest', 'leader', 'blink', 'eye', 'market', 'must', 'justice', 'calling', 'protect', 'resident', 'confirm', 'wait', 'patiently', 'lock', 'earn', 'strengthen', 'design', 'sound', 'invincible', 'pistol', 'kit', 'fully', 'prop', 'help', 'easier', 'cost', 'instantly', 'alert', 'prevent', 'multiple', 'diverse', 'rescue', 'opponent', 'crazy', 'cow', 'china', 'polar', 'region', 'west', 'experienced', 'want', 'gold', 'better', 'piggy', 'bank', 'update', 'holiday', 'year', 'gang', 'evil', 'savage', 'eternal', 'sleep', 'sit', 'armored', 'break', 'vehicle', 'cut', 'superb', 'protecting', 'police', 'assassination', 'instructed', 'please', 'observe', 'final', 'cant', 'miss', 'several', 'expand', 'enhance', 'greater', 'power', 'way', 'gem', 'worry', 'enough', 'switched', 'critical', 'complex', 'lame', 'bound', 'method', 'solve', 'problem', 'ahead', 'thank', 'official', 'apocalypse', 'horror', 'walk', 'pandemic', 'infection', 'begun', 'scientific', 'vial', 'virus', 'laboratory', 'despite', 'outbreak', 'outside', 'living', 'rising', 'feed', 'trained', 'chaos', 'could', 'last', 'day', 'earth', 'shelter', 'turning', 'hope', 'open', 'defend', 'helpless', 'transform', 'stock', 'armory', 'machine', 'weak', 'crawling', 'strong', 'super', 'test', 'observation', 'dexterity', 'marksmanship', 'search', 'hidden', 'late', 'loot', '1st', 'mixed', 'boost', 'adrenaline', 'reload', 'practice', 'zero', '180', 'urban', 'caravan', 'theme', 'amusement', 'coast', 'port', 'snow', 'true', 'safe', 'underground', 'bunker', 'begin', 'epic', 'dozen', 'reach', 'fighting', 'arena', 'tried', 'suitable', 'powerful', 'also', 'grenade', 'tactic', 'king', 'always', 'topnotch', 'familiar', 'soon', 'possible', 'entering', 'combine', 'harmonious', 'faraway', 'moving', 'although', 'behind', 'advantage', 'piercing', 'ability', 'farther', 'enjoying', 'premier', 'rest', 'give', 'really', 'definitely', 'unlike', 'type', 'showing', 'shown', 'actually', 'sure', 'twitter', 'discord', 'death', 'force', 'receive', 'sneak', 'base', 'zoom', 'lens', 'deep', 'breathing', '20', '200', 'jungle', 'contract', 'save', 'life', 'looking', 'well', 'luck', 'covered', 'sink', 'dynamic', 'heavily', 'armed', 'phone', 'youve', 'thing', 'happen', 'style', '14', 'surroundings', 'original', 'optimization', 'beautiful', 'detailed', 'intuitive', 'daily', 'good', 'strategic', 'thinking', 'teamwork', 'main', 'team', 'two', 'goal', 'destroy', 'dominate', 'skilled', 'bomb', 'terrorist', 'counterstrike', 'duel', '1on1', 'alone', 'operation', 'per', 'round', 'winning', 'whoever', 'least', 'standing', 'end', 'crank', 'heat', 'sweat', 'damage', '2x', 'there', 'room', 'custom', 'select', 'however', 'lobby', 'money', 'arent', 'ranked', 'used', 'reminder', 'clan', 'bigger', 'place', 'armor', 'unforgettable', 'thanks', 'optimal', 'balance', 'explosion', 'effect', 'crisp', 'inspired', 'community', 'subscribe', 'keep', 'defense', 'figure', 'key', 'million', '2040', 'struck', 'country', 'infected', 'plague', 'bite', 'hired', 'head', 'warfare', 'spread', 'disease', 'mankind', 'walking', 'toward', 'wonderful', 'upcoming', 'slay', 'nerve', 'worst', 'storm', 'invasion', 'truly', 'various', 'extremely', 'rank', 'strength', 'discover', 'terminator', 'legend', 'weird', 'precise', 'lighting', 'present', 'represent', 'compare', 'know', 'share', 'done', 'specially', 'enter', 'wasteland', 'vicious', 'deadly', 'roam', 'throughout', 'stay', 'driven', 'lot', 'rocket', 'genre', 'nonstop', 'immersive', '150', 'rich', 'family', 'large', 'impact', 'straight', 'pavement', 'skill', 'valuable', '25', 'launcher', 'shock', 'poison', 'missile', 'shield', 'name', 'doorstep', 'towards', 'close', 'hesitate', 'studio', 'add', 'content', 'news', 'progress', 'raise', 'conquer', 'tournament', 'champion', 'via', 'bragging', '80', 'console', 'quality', 'authentic', 'everyone', 'difficult', 'iron', 'sight', '4x', 'telescopic', 'short', 'medium', 'long', '30', '100', '15', 'endless', 'training', 'accumulate', 'given', 'arm', 'everywhere', 'remember', 'prepare', 'careful', 'race', 'movie', 'demolition', 'frenetic', 'twisted', 'ride', 'burnout', 'asphalt', 'revenge', 'skid', 'traffic', 'destruction', 'crash', 'burn', 'freedom', 'dodge', 'metal', 'garage', 'modify', 'muscles', 'equip', 'firepower', 'beat', 'increase', 'driver', 'faster', 'drive', 'roll', 'dice', 'waiting', 'gangster', 'season', 'rock', 'star', 'famous', 'run', 'theft', 'vice', 'auto', 'absolutely', 'sin', 'explore', 'inch', 'grand', 'price', 'collectible', 'commit', 'chance', 'casino', 'choice', 'san', 'orleans', 'marvelous', 'saga', 'cartel', 'wage', 'blasting', 'six', 'night', 'boxing', 'driving', 'roaming', 'insane', 'heart', 'prize', 'send', 'la', 'next', 'alien', 'course', 'beyond', 'option', 'trade', 'bang', 'future', 'anything', 'else', 'wheel', 'muscle', 'since', 'little', 'deploy', 'counter', 'healing', 'indulge', 'high', 'roller', 'kingpin', 'champ', 'entertainment', 'nobody', 'limit', 'id', 'strip', 'red', 'light', 'district', 'thats', 'explain', 'site', 'check', 'privacy', 'policy', 'license', 'agreement', 'lethal', 'intense', 'covert', 'scout', 'locate', 'tactical', 'stealth', 'weekly', 'score', 'plan', 'no1', 'stunt', 'bury', 'treacherous', 'physic', 'hard', 'zone', 'jump', 'mad', 'frontier', 'speed', 'competitive', '60', 'technical', 'role', 'fearless', 'overflowing', 'bloodthirsty', 'location', 'grab', 'filled', 'controversial', 'program', 'history', 'experiment', 'human', 'reunion', 'research', 'scale', 'eating', 'evolve', 'beginning', 'doom', 'hey', 'came', 'demanding', 'focus', 'await', 'accuracy', 'premium', 'terrain', 'visually', 'arcade', 'record', 'specific', 'mutant', 'localize', 'weakness', 'count', 'job', 'think', 'individual', 'lung', 'prey', 'bridge', 'furious', 'precision', 'thermal', 'vision', 'pinpoint', 'body', 'launch', 'attack', 'gunner', 'seat', 'strategically', 'devastating', 'guide', 'demolish', 'amount', 'ruthless', '40', 'visual', 'western', 'old', 'cowboy', 'tackle', 'horse', 'drink', 'land', 'beauty', 'clothes', 'journey', 'exclusively', 'drop', '100player', '4v4', 'golden', 'award', 'remarkable', 'pocket', 'coming', 'powered', 'unreal', 'engine', 'voice', 'chat', 'ballistics', 'behavior', 'enormous', 'size', 'frozen', 'tundra', 'dense', 'approach', 'depth', 'exhilarating', 'solo', 'duo', '4player', 'lone', 'cruise', 'circle', 'growing', 'monthly', 'expanding', 'serious', 'ensure', 'fair', 'balanced', 'stable', 'system', 'android', '511', 'memory', 'lite', 'contact', 'customer', 'service', 'tank', 'center', 'berlin', 'plant', 'japan', 'operate', '57', 'deal', 'winner', 'whichever', 'friend', 'dive', 'dream', 'decreasing', 'kickback', 'stuff', 'latest', 'inside', 'territory', 'bravo', 'sharp', '2400', 'navigate', 'globe', 'hostile', 'peaceful', 'guerrilla', 'mountain', 'recon', 'mediterranean', 'terror', 'commandeer', 'turn', 'tide', 'quarter', 'narrow', 'jeep', 'hazardous', 'breach', 'clear', 'threat', 'move', 'vantage', 'regular', 'adapt', 'unleash', 'heavy', 'live', 'meter', 'felt', 'bounty', 'wont', 'exclusive', 'alliance', 'spotting', 'function', 'allow', 'boot', 'fresh', 'moment', 'victory', 'opposing', 'additional', 'hothead', 'registered', 'reserved', 'simulation', 'generally', 'distance', 'breath', 'arrow', 'archer', 'bowman', 'picturesque', 'pine', 'forest', 'field', 'desert', 'polished', 'animation', 'elaborate', 'normal', '17', 'moral', 'minute', 'hear', 'echo', 'gunfire', 'handle', 'mysterious', 'assembly', 'organization', 'realize', 'atmosphere', 'glue', 'bare', 'drawn', 'recoil', 'trophy', 'publisher', 'hot', 'tree', 'ak47', 'm4a4', 'teeth', 'depending', 'character', 'class', 'color', 'suit', 'taste', 'certain', 'might', 'clock', 'accurately', 'worrying', 'purchase', 'grateful', 'project', 'facebookcomcombatassault1762305577180348', 'tsunami', 'wave', 'vaccine', 'immediately', 'faced', 'danger', 'guard', 'hunger', 'unexpected', 'pay', 'attention', 'appear', 'reasonable', 'quickly', 'durability', 'effective', 'attractive', 'found', '50m', 'simulate', 'championship', 'smart', 'tap', 'tricky', 'helmet', 'motorcycle', 'mind', 'vital', 'parameter', 'decide', 'motor', 'tutorial', 'contest', 'overview', 'carry', 'racer', 'water', 'simulator', 'avoid', 'hurdle', 'professionally', 'apply', 'assure', 'maximize', 'three', 'qualify', 'conditional', 'able', 'number', 'fast', 'quick', 'grip', 'acceleration', 'flexibility', 'spend', 'cheap', 'rate', 'mania', 'passion', 'press', 'button', 'accelerate', 'left', 'leaning', 'provided', 'extra', 'tilt', 'verity', 'rider', 'home', 'temple', 'mosque', 'penny', 'age', 'rating', 'disclaimer', 'contain', 'violence', 'mature', 'straightforward', 'terrorism', 'intelligent', 'ai', 'limited', 'automatic', 'clash', 'inner', 'maverick', 'pilot', 'sky', 'supersonic', 'aircraft', 'young', 'rough', 'scenario', 'map', 'flight', 'periodic', 'decided', 'yet', 'dumb', 'repetitive', 'middle', 'safely', 'tiny', 'airstrip', 'carrier', 'warship', 'traveling', 'toilet', 'consume', 'compatibility', 'working', 'continuously', 'smoothly', 'report', 'rush', 'rule', 'mix', 'match', 'cockpit', 'soar', 'brimming', 'visceral', 'fly', 'fleet', 'acrobatic', 'establish', 'superiority', 'supreme', 'lord', '48', 'consider', 'switching', 'numerous', 'giant', 'bonus', 'blow', 'bazooka', 'exhilaration', 'network', 'bottle', 'catapult', 'slingshot', 'knock', 'colorful', 'order', 'breaking', 'breaker', 'testing', 'angry', 'ball', 'front', '36', 'another', 'succeed', 'becomes', 'giving', 'dessert', 'today', 'built', 'five', 'yard', 'lighthouse', 'click', 'progression', 'older', 'screen', 'hardware', 'small', 'footprint', 'energy', 'month', 'engaged', 'globally', 'gripping', 'still', 'smaller', 'low', 'battery', 'consumption', 'preview', 'video', '5vs5', 'yeah', 'response', 'june', '2015', 'mindless', 'repulsive', 'crave', 'sweet', 'brain', 'blood', 'gore', 'glory', 'would', 'expect', 'harder', 'bloody', 'path', 'especially', 'motivation', 'warrior', 'orange', 'juice', 'someone', 'broke', 'house', 'stole', 'sequel', 'karate', 'kung', 'fu', 'unarmed', 'block', 'underestimate', 'though', 'punching', 'kicking', 'catching', 'throwing', 'punch', 'kick', 'smash', 'rage', 'stick', 'mayhem', 'superhero', 'prisoner', 'surround', 'eat', 'gain', 'varied', 'technique', 'martial', 'wisely', 'injustice', 'royale', 'beloved', 'tasty', 'corner', 'spotted', 'subscription', 'membership', '3days', 'trial', 'period', '799', 'following', 'removing', '5000', 'permanent', 'earning', 'unless', '24', 'account', 'renewal', 'payment', 'confirmation', 'within', '24hours', 'prior', 'current', 'identify', 'turned', 'unused', 'portion', 'publication', 'applicable', 'information', 'link', 'united', 'vary', 'actual', 'converted', 'local', 'currency', 'cancel', 'regarding', 'ruby', 'turkey', 'swat', 'international', 'happening', 'sawt', 'ladder', 'intensive', 'hide', 'distract', 'offensive', 'defensive', 'counterattack', 'knife', 'now', 'dare', 'touch', 'circular', 'dummy', 'feeling', 'fill', 'interest', 'traditional', 'airplane', 'ace', 'dogfight', 'blazing', 'jet', 'domination', 'aeronautics', 'crush', '360degree', 'cityscape', 'cinematic', 'warplane', 'known', 'pursuit', 'generation', 'leading', 'saucer', 'parachute', 'casual', 'direction', 'characteristic', '16', 'board', 'tablet', 'ordinary', 'measure', 'versus', 'useful', 'achievement', 'compatible', 'nowadays', 'doesnt', 'freely', 'solution', 'yes', 'believe', 'runner', 'wondering', 'explaining', 'running', 'along', 'accomplish', 'classical', 'swipe', 'pool', 'nature', 'line', 'compilation', 'paced', 'mechanic', 'doubting', 'big', 'rope', 'frog', 'strange', 'third', 'view', 'chief', 'anti', 'criminality', 'stealing', 'rise', 'pile', 'f90', 'laser', 'beam', 'building', 'mess', 'similar', 'york', 'aggressive', 'standard', 'knight', 'shop', 'steal', 'robbery', 'taxi', 'garbage', 'collector', 'fireman', 'minimum', '2048', 'ram', 'stage', 'fruit', 'folder', 'oil', 'toy', 'baseball', 'bowling', 'bowl', 'volleyball', 'soccer', 'billiard', 'le', 'talk', '2017', 'escort', 'raised', 'individually', '65', 'latency', 'notice', 'book', 'login', 'change', 'log', 'hack', 'patcher', 'blocked', 'permanently', 'league', 'description', 'permission', 'request', 'photo', 'file', 'mark', 'seamless', 'external', 'storage', 'advertising', 'wall', 'shake', 'me', 'spike', 'underfoot', 'slime', 'creature', 'brought', 'again', 'is', 'helping', 'hurt', 'random', 'increasingly', 'trap', 'unlockable', 'music', 'composer', 'leap', 'rust', 'bucket', 'friendly', 'important', 'party', 'removed', 'collected', 'bought', 'childhood', 'art', 'immerse', 'cute', 'nostalgic', 'flashy', '1000', '8bit', 'vast', 'ruin', 'match3', 'puzzle', 'infinite', 'inheritance', 'obtain', 'awaken', 'latent', 'utilize', 'ancient', 'inlaying', 'overcome', 'acquire', 'grant', 'past', 'frequent', 'interior', 'designing', 'catch', 'chef', 'satisfy', 'cooking', 'mean', 'meal', 'lay', 'siege', 'upon', 'quest', 'page', 'ask', 'necessary', 'image', 'attach', 'platformer', 'tight', 'fluid', 'movement', 'falling', 'apple', 'reclaim', 'kingdom', 'making', 'optional', 'melee', 'ranged', 'embark', 'layout', 'skin', 'passive', 'emerge', 'victorious', 'restore', 'peace', 'controller', 'keyboard', 'male', 'female', 'playable', 'tough', 'cloud', 'automatically', 'continuous', 'development', 'week', 'dan', '2016', 'major', 'brawler', 'swear', 'often', 'inappropriate', 'cracking', 'funny', 'heroic', 'envious', 'fest', 'campaign', 'series', 'as', 'date', 'unlocking', 'longer', 'clothing', 'mettle', 'smack', 'girl', 'josie', 'barry', 'palm', 'web', 'disable', 'menu', 'availability', 'kept', 'serve', 'asleep', 'state', 'active', 'push', 'authorization', 'write', 'properly', 'application', 'tabby', 'galaxy', 'explosive', 'sling', 'onto', 'timing', 'chain', 'brilliantly', 'onslaught', 'tower', 'outwit', 'overwhelm', 'badland', 'universe', 'clone', 'construct', 'brawl', 'clever', 'tribe', 'private', 'watching', 'parent', '13', 'bounce', 'delete', 'ad', 'cache', 'dungeon', 'card', 'situation', 'nine', 'neighboring', 'monster', 'decrease', 'heal', 'formula', 'crawler', 'fantasy', 'setting', 'selectable', 'ten', 'descend', 'magical', '315', 'session', 'portal', 'entrance', 'fascinating', 'priceless', 'princess', 'trouble', 'unstoppable', 'maul', 'axe', 'dash', 'evade', 'sword', 'hefty', 'ax', 'increasing', 'brutal', 'prince', 'crusader', 'viking', 'dragon', 'cat', 'dog', 'unicorn', 'panda', 'raccoon', 'chicken', 'hog', 'rare', 'finger', 'dark', 'forward', 'creative', 'sacrificing', 'throw', 'freeze', 'ice', 'mage', 'pin', 'ranger', 'total', '43', 'extended', 'edition', 'brave', 'merciless', 'vile', 'agility', 'fend', 'anyone', 'willing', 'mile', '75', 'combined', 'peppy', 'explorer', 'review', 'idea', 'hearing', 'rather', 'tapping', 'fine', 'blade', 'activate', 'whats', 'ranker', '111s', 'swordsman', 'ripe', 'magic', 'countless', 'uncover', 'wilderness', 'remote', 'popular', 'saved', 'lonely', 'rebuilt', 'surviving', 'gather', 'harvest', 'craft', 'lan', 'list', 'hatch', 'exploration', 'meant', 'chest', 'silver', 'item', 'rarity', 'equal', 'combining', 'recipe', 'product', 'nothing', 'say', 'unknown', 'success', 'scroll', '35', 'quit', 'independent', 'developer', 'berserk', 'introduction', '2d', 'leveling', 'choosing', 'potion', 'probability', 'dagger', 'pretty', 'lower', 'mace', 'either', 'wear', '1hand', 'somewhat', '2hands', 'address', 'purpose', 'blocking', 'abusive', 'temporarily', 'ex', 'credit', 'presence', 'rolling', 'scream', 'counting', '55', '44', 'slide', '9210', '910', '455', '2013', 'authority', 'standout', 'simply', 'absolute', 'treat', 'hallmark', 'excellence', 'outstanding', 'satellite', '2014', 'sensation', 'atmospheric', 'gorgeous', 'fairy', 'tale', 'terribly', 'wrong', 'astonishing', 'imaginative', 'innovative', 'audio', 'highly', 'four', 'spinning', '23', 'editor', 'featured', 'portable', 'version', 'fortune', 'delve', 'cavernous', 'seek', '2gb', '1gb', 'reduced', 'performance', 'server', 'interface', 'polish', 'capability', 'previously', 'smallmediumlarge', '300', 'plunder', 'celestial', 'moon', 'encounter', 'lush', 'barren', 'terrifying', 'corruption', 'seasoned', 'promise', 'providing', '800', '3500', 'architecture', '505games', 'trailer', 'stylish', 'respond', 'rhythm', 'rhyme', 'trapped', 'forced', 'endlessly', 'roost', 'subconsciously', 'inspire', 'imagination', 'exit', 'steer', 'rapidly', 'icebreaker', 'voyage', 'expanded', 'nightmare', 'boy', 'nostalgia', 'message', 'include', 'direct', 'intended', 'audience', 'potential', 'browse', 'cross', 'promotion', 'cast', 'elemental', 'spell', 'dual', 'responsive', 'favor', 'grass', 'mighty', 'survivor', 'lovely', 'catchy', 'innovation', 'finalist', 'sea', 'delivery', 'enjoyable', 'spent', 'instead', 'spending', 'adorn', 'glamorous', 'brilliant', 'trusty', 'intelligence', 'vitality', 'allocate', 'matter', 'expedition', 'lighthearted', 'quirky', 'fantastic', 'draggy', 'equally', 'destiny', 'lasting', 'relationship', 'effort', 'form', 'dropping', 'but', 'tick', 'sent', 'return', 'wonder', 'gone', 'ease', 'ideal', 'unsatisfying', 'ailment', 'spaceship', 'wake', 'unconscious', 'crew', 'ship', 'truth', 'talking', 'dramatic', 'surrounding', 'easter', 'localization', 'min', 'song', 'recording', 'puzzling', 'beta', 'hell', 'drained', 'mine', 'clicker', 'discovered', 'witty', 'twist', 'word', 'infinity', 'satisfied', 'loving', 'spirit', '3v3', '12', 'beside', 'blend', '4minute', 'signature', 'stun', 'solid', 'plus', 'generous', 'reward', 'accessible', 'frequently', 'modes', 'decent', 'guild', 'because', 'pant', 'insurmountable', 'odds', 'reckless', 'inexplicable', 'inability', 'sidewalk', 'laugh', 'cry', 'weve', 'chortle', 'hilarious', 'shathatron', 'sending', '999', 'wandering', 'jack', 'hair', 'magician', 'rose', 'train', '999th', 'floor', 'cause', 'rebellion', 'forever', 'eventually', 'ending', 'storytelling', 'likely', '90', 'casting', 'advance', 'additionally', 'proper', 'ambiguity', 'expectancy', 'caution', 'massively', 'ally', 'registration', 'mana', 'icon', 'innocent', 'cursed', 'reduce', 'duration', 'curse', 'hacked', 'obliterate', 'flaming', 'core', '160', 'infinitely', 'druid', 'tame', 'fearsome', 'snew', 'fixed', 'monochrome', 'spout', 'outer', 'space', 'afraid', 'and', 'brag', 'devil', 'mystery', 'pet', 'fancy', 'agree', 'happy', 'help111percentnet', 'idle', 'farming', 'growth', 'proficiency', 'basic', 'maniac', 'capture', 'bright', 'excessive', 'parry', 'skillful', 'reap', 'duke', 'sneaky', 'wary', 'flash', 'toxic', 'mist', 'specialize', 'stamen', 'east', 'illegal', 'unauthorized', 'result', 'removal', 'compensation', 'inquiry', 'incur', 'refund', 'circumstance', 'termination', 'listed', 'footage', 'revoke', 'manually', 'exactly', 'stamp', 'calendar', 'ton', 'portrait', 'orientation', 'labour', 'spear', 'shoulder', 'devious', 'title', 'chosen', 'forsaken', 'dancer', 'paladin', 'priest', 'barbarian', 'rogue', 'shaman', 'warlock', 'necromancer', 'seeker', 'warden', 'charmer', 'personal', 'decorative', 'top1000', 'loyal', '2х2', '3x3', '5x5', 'fought', '1500', 'unite', 'communicate', 'exchange', 'chapter', 'glorious', 'artifact', 'graveyard', 'member', 'pirate', 'albatross', 'thunderbird', 'intellectual', 'underwater', 'hanging', 'codex', 'identity', 'courageous', '41', 'edge3g4g', 'forum', 'saying', 'marathon', 'reminiscence', 'emotional', 'mood', 'touching', 'coupon', 'code', 'channel', 'appearance', 'addition', 'bottom', 'hobby', 'happiness', 'miserable', 'example', 'painted', 'child', 'artistic', 'musical', 'instrument', 'singer', 'baby', 'prime', 'elder', 'tip', 'adequately', 'alarmed', 'sold', 'steam', 'slash', 'annihilate', 'grow', 'talent', 'grind', 'enhanced', 'plot', 'brimstone', 'talisman', 'waking', 'satan', 'extinction', 'randomly', '170', 'usable', 'possibility', 'spawn', 'inferno', 'common', 'angelic', 'tape', 'bacon', 'mmm', 'oddly', 'satisfying', 'vertical', 'background', 'parental', 'surprise', 'rewarding', 'hybrid', 'phantom', 'homage', '16bit', 'chemist', 'white', 'later', 'joy', 'bouncing', 'platform', 'chasm', 'clean', 'whimsical', 'perfectly', 'tuned', 'endearing', 'ranging', 'menacing', 'vampire', 'swap', 'object', 'chair', 'box', 'cup', 'lavatory', 'pan', 'hockey', 'gratuitous', 'fail', 'phenomenon', 'inanimate', 'investigate', 'mishap', 'laced', 'mystical', 'pastime', 'adorable', 'swordman', 'introduce', 'costume', 'masterpiece', 'nominee', 'outlandish', 'flux', 'galactic', 'trucker', 'whose', 'shipment', 'menace', 'leaving', 'planet', 'hustle', 'retrieve', 'nefarious', 'sentient', 'thrive', 'expansive', '500', 'dig', 'bag', 'venture', 'augment', 'prowess', 'sprawling', 'egg', 'incubate', 'hideous', 'bundle', 'empower', 'bid', 'deliver', 'headlong', 'effortless', 'accidentally', 'bottomless', 'die', 'tired', 'rubbing', 'sweaty', 'rub', '960x540px', 'resolution', 'due', 'outdated', 'protocol', 'drifting', 'submerged', 'insomnia', 'college', 'tapa', 'communication', 'tomorrow', 'soft', 'post', 'horrible', 'burst', 'sudden', 'anyway', 'thirsty', 'coldness', 'cruel', 'society', 'wood', 'stone', 'harassment', 'rob', 'material', 'kennel', 'warmer', 'point', 'cook', 'thick', 'cloth', 'cold', 'comfortable', 'possibly', 'radio', 'workbench', 'island', 'causing', 'precious', 'unluckily', 'revive', 'frightening', 'desperate', 'enjoyment', 'lose', 'strive', 'timely', 'assistance', 'law', 'standoff', 'ranch', 'logging', 'mining', 'treasure', 'westland', 'sell', 'men', 'fistful', 'carriage', 'fabled', 'discovery', 'wagon', 'convoy', 'ran', 'bandit', 'ambush', 'certainly', 'grim', 'anger', 'hangman', 'ore', 'trading', 'perhaps', 'teach', 'steak', 'lived', 'conflagration', 'fanatical', 'radiation', 'withering', 'frost', 'natural', 'born', 'survivalist', 'food', 'sate', 'quench', 'thirst', 'recover', 'bicycle', 'volumetric', 'fog', 'aberration', 'gloomy', 'anomalous', 'elementally', 'bleed', 'reputation', 'ak', 'm16', 'repair', 'radioactive', 'coop', 'drone', 'besiege', 'humanity', 'falls', 'strider', 'the', 'stalker', 'mysteriously', 'beast', 'tinned', 'meat', 'worn', 'somewhere', 'investigation', 'regain', 'dawn', 'telegram', 'tech', 'apocalyptic', '2033', 'saw', 'almost', 'population', 'handful', 'influence', 'labyrinth', 'empty', 'fortify', 'resist', 'directly', 'related', 'confrontation', 'greedy', 'opening', 'abandoned', 'exploring', 'plunge', 'national', 'edge', 'oppose', 'epidemic', 'nearly', 'struggle', 'entire', 'overrun', 'nuclear', 'lost', 'fled', 'landscape', 'wipe', 'starved', 'flesh', 'sophisticated', 'creation', 'beating', 'crazed', 'company', 'tell', '1980s', 'transport', 'unhurried', '2700', 'seriously', 'injure', 'ammunition', 'helpful', 'chemistry', 'joint', 'learned', 'incredibly', 'difficulty', 'sandbox', '1985', 'reign', 'dealing', 'hardship', 'assign', 'impregnable', 'sir', 'refuge', 'construction', 'management', 'dress', 'spiced', 'unimpressed', 'glad', 'biological', 'thin', 'knowledge', 'spare', 'outrun', 'surrounded', 'pierce', 'deader', 'harsh', 'unpickable', 'comfy', 'scavenge', 'ferocity', 'getting', 'unlucky', 'importantly', 'meanwhile', 'fuel', 'polygon', 'karma', 'protective', 'tragic', 'happily', 'immune', 'symbol', 'origin', 'cure', 'billion', 'tenth', 'recruit', 'incoming', '46', '22', 'shambling', 'rack', '38s', 'pink', 'jelly', 'recruitment', 'excitement', 'bold', 'camp', 'ended', 'anarchy', 'enigmatic', 'seem', 'exterminate', 'satchel', 'van', 'rival', 'amass', 'layer', 'plight', 'infestation', 'seasonal', 'unbreachable', 'replenish', 'virtual', 'redirect', 'pain', 'personality', 'touched', 'study', 'doomsday', 'defence', 'lifelike', 'particular', 'evocative', 'consequential', 'dialogue', 'array', 'experimentation', 'workshop', 'myriad', 'sync', 'rendering', '201x', 'anticancer', 'institute', 'breakthrough', 'faith', 'area', 'severely', 'affected', 'conspiracy', 'password', 'door', '1new', 'brother', '2new', 'hamburger', 'energetic', '3new', 'feeding', '4new', 'lumberyard', 'potato', 'medical', 'wheat', '5new', 'worked', 'previous', '6new', 'pack', 'understanding', 'significant', '7new', 'develop', 'lucky', 'streamer', 'sooner', 'hesitation', 'kindness', 'replenishment', 'placement', 'savior', 'alongside', 'essential', 'gasoline', 'aid', 'petrol', 'barrel', 'thus', 'encirclement', 'dilapidated', 'distributed', 'grasp', 'opportunity', 'effectiveness', 'decision', 'coolness', 'scene', 'comprehensive', 'diversified', 'refreshing', 'cube', 'widely', 'civilization', 'bulwark', 'inhospitable', 'outspread', 'devour', 'inhabited', 'unusual', 'cubic', 'unassailable', 'fortress', 'necessity', 'prowling', 'piece', 'uncontaminated', 'acquired', 'assemble', 'worth', 'section', 'guarding', 'outcome', 'uncertain', 'whatever', 'salvation', 'permitted', 'pinnacle', 'evolution', 'aside', 'murderous', 'capable', 'nobleman', '1896', 'militia', 'saber', 'cavalry', 'cannon', 'lumbering', 'salvo', 'cutting', 'frigate', 'airship', 'supporting', 'reality', 'blast', 'loom', 'overhead', 'clad', 'beach', 'enable', 'unfold', 'stress', 'employ', '400', 'mali760', '860', '880', 'k1', 'suffer', '19', 'soul', 'imperial', 'province', 'fear', 'darkness', 'empire', 'afflicted', 'grey', 'decay', 'medieval', 'castle', 'invulnerable', 'stronghold', 'foundation', 'citadel', 'uninvited', 'morning', 'halberd', 'entirely', 'saddle', 'gallop', 'boat', 'cart', 'solitary', 'poor', 'nasty', 'brutish', 'steel', 'sinister', 'befriend', 'raven', 'cage', 'exile', 'bitter', 'damned', 'guest', 'forgotten', 'unfolding', 'catastrophe', 'constant', 'throne', 'determine', 'band', 'ingenious', 'cunning', 'spectacular', 'ghastly', 'bay', 'frightful', 'laying', 'iconic', 'handmade', 'apparently', 'threw', 'tropic', 'fraught', 'victim', 'royal', 'distinct', 'temperament', 'ark', 'starve', 'raft', 'trip', 'sail', 'cycle', 'primitive', 'moan', 'aggressively', 'economy', 'closed', 'primal', 'farm', 'wish', 'horde', 'handed', 'weaponry', 'nowhere', 'eerie', 'industrial', 'neighborhood', 'display', 'zed', 'sorcery', 'distinguished', 'eastern', 'desolate', 'snowy', 'starvation', 'corrupted', 'redemption', 'carve', 'vigilant', 'arcane', 'wield', 'seductive', 'goddess', 'faction', 'courage', 'malicious', 'curling', 'smoke', 'curious', 'simplified', 'german', '130', 'picked', 'shadow', 'repel', 'efficiency', 'mounted', 'airfield', 'withstand', 'discus', 'vibrant', 'agreeing', 'explicit', 'consent', 'government', 'scarce', 'salvage', 'carcass', 'destructive', 'rebuild', 'absence', 'settlement', 'understand', 'socialize', 'forge', 'pulverize', 'stake', 'rip', 'rewrite', 'humankind', 'shark', 'terrible', 'took', 'except', 'sun', 'hungry', 'hopeless', 'boundless', 'horizon', 'otherwise', 'extract', 'hook', 'debris', 'algae', 'surely', 'appeal', 'disassemble', 'carnival', 'matching', 'slashing', 'cemetery', 'spooky', 'crossing', 'pumpkin', 'abundant', 'besides', 'attend', 'scary', 'warning', 'wife', 'daughter', 'perplexed', 'slaughter', 'feast', 'soaring', 'splashing', 'beverage', 'viable', 'commander', 'pit', 'in', 'app', 'disaster', 'fall', 'priority', 'reveal', 'heaven', 'isle', 'vacation', 'rampant', 'tear', 'double', 'instant', 'splendid', 'artist', 'infect', 'variant', 'specie', 'plotter', 'facing', 'dying', 'carrying', 'loose', 'warm', 'eaten', 'impenetrable', 'fence', 'height', 'chasing', 'village', 'general', 'winter', 'fallen', 'luckily', 'severe', 'walker', 'corp', 'blizzard', 'capacity', 'painful', 'lesson', 'considering', 'responsible', 'reviving', 'shrouded', 'technology', 'reinforce', 'temperature', 'existence', 'instinct', 'speeding', 'resource', 'output', 'legion', 'remains', 'revival', 'wisdom', 'sharper', 'butcher', 'lamb', 'fort', 'emphasize', 'enlarge', 'revolutionary', 'fund', 'summon', 'posse', 'supercharge', 'officer', 'unit', 'firsthand', 'neutral', 'looter', 'gathering', 'resurrect', 'protection', 'buried', 'text', 'dreadful', 'till', 'battleground', 'trail', 'southern', 'isolated', 'rid', 'approaching', 'connect', 'clue', 'hurting', 'expression', 'unforgotten', 'headphone', 'obsession', 'pop', 'business', 'school', 'desperately', 'tribute', 'entertaining', 'afterlife', 'kraken', 'nomad', 'hence', 'prolong', 'here', 'dire', 'flame', 'lit', 'scattered', 'prosper', 'fame', 'greatness', 'sake', 'president', 'backing', 'advice', 'plundering', 'appropriate', 'signal', 'scenery', 'picture', 'exquisite', 'despair', 'loneliness', 'process', 'unlocked', 'synopsis', 'peter', 'midst', 'hire', 'teammate', 'maintain', 'barricade', 'nuke', 'restart', 'identical', 'terminate', 'raid', 'dungeonlike', 'staff', 'stopping', 'sorceress', 'realm', 'compelling', 'joining', 'hardly', 'flourishing', 'torn', 'unleashed', 'massacre', 'thrown', 'mixture', 'brutality', 'everyday', 'superbly', 'strict', 'preformed', 'blank', 'diversity', 'engage', 'enrich', 'snowbound', 'chasmal', 'tempting', 'humble', 'sacred', 'barbaric', 'neither', 'fate', 'lineage', 'demonic', 'fulfill', 'prophecy', 'seal', 'unravel', 'intrigue', 'betrayal', 'lore', 'demon', 'dame', 'linking', 'finishing', 'purge', 'distant', 'swarm', 'acid', 'storming', 'unbeatable', 'aerial', 'bombardment', 'antidote', 'temporary', 'paint', 'heap', 'locked', 'lightning', 'physical', 'chemical', 'medic', 'financially', 'included', 'specifically', 'sensitive', 'starter', 'selection', 'relax', 'blacksmith', 'survived', 'gruesome', 'second', 'ongoing', 'conversation', 'century', 'seidel', 'autumn', 'suddenly', 'ridiculous', 'tropical', 'paradise', 'lifetime', 'forage', 'kindle', 'romance', 'lurk', 'bush', 'stack', 'tinker', 'deserted', 'unfamiliar', 'tourist', 'forager', 'wayward', 'scum', 'unidentifiable', 'slowly', 'monument', 'valley', 'retry', 'hour', 'wit', 'humor', 'narrative', 'correct', 'colony', 'rim', 'adjust', 'parallel', 'gigantic', 'swim', 'prevail', 'enraged', 'contra', 'raper', 'eagle', 'kalashnikov', 'camouflage', 'gym', 'undefeatable', 'flag', 'overall', 'blitz', 'uncovered', 'bizarre', 'delicious', 'shocking', 'lookout', 'g5', 'adventures', 'sign', 'roundup', 'supplemental', 'lag', '5v5', 'beautifully', 'guardian', 'generator', 'matchmaking', 'queue', 'emphasis', 'preset', 'collaborate', 'strategize', 'needing', 'pause', 'streaming', 'gorgeously', '247', 'suggestion', 'guarantee', '100mb', 'frame', 'crystal', '1vs1', '3vs3', '510', 'upper', 'optimize', 'spec', 'rift', 'immortal', 'exceptionally', 'roster', 'overpower', 'lure', 'spectator', 'wherever', 'commentary', 'analysis', 'identifier', 'march', '99', 'landing', 'spring', 'improvise', 'fierce', 'prefer', 'beaky', 'persistent', 'discussion', 'vainglory', 'mechanical', 'parity', '5minute', 'proprietary', 'offering', 'superior', 'unrivaled', 'deserve', 'native', 'mechanism', 'mastery', 'macro', 'outplay', 'mechanically', 'playmaker', 'accurate', 'stutter', 'overdrive', 'selected', 'competitively', '120', 'intricate', 'legit', 'ign', 'gen', 'mac', 'soak', 'captain', 'passionate', 'learning', 'twitch', 'valor', 'draw', 'perfected', 'traverse', 'brush', 'racking', 'triple', '10minute', 'interact', 'tourney', 'riveting', 'vie', 'awakening', 'extraordinary', 'wacky', '3lane', 'differ', 'touchdown', 'bomber', 'football', 'tangible', 'vagary', 'bingo', 'granny', 'cake', 'self', 'boom', 'warmhearted', 'math', 'professor', 'grumpy', 'invention', 'soda', 'ring', 'breast', 'tactically', 'decoy', 'glider', 'invisible', 'hole', 'friendship', 'destroyer', 'porcelain', 'organic', 'chess', 'keeping', 'battler', 'turbo', '2v2', 'formation', 'outsmart', '8x8', '2player', 'newly', 'gameplay', 'youll', 'farewell', 'steady', 'loa', 'therefore', 'suffering', 'imagine', 'difference', 'healer', 'probably', 'licensed', 'carefree', 'elaborately', 'reworked', 'term', 'controllable', 'aspect', 'unpredictable', 'excited', 'boring', 'bravely', 'deck', 'commanding', 'mutual', 'donate', 'clip', 'operating', 'snapdragon', '430', '15gb', 'patch', '440mb', 'shellfire', 'rune', 'badge', 'emblem', 'status', 'alike', 'witch', 'assortment', 'juggernaut', 'summons', 'successful', 'familiarity', 'conduct', 'interaction', 'legal', 'department', 'broadcast', 'recognition', 'interactive', 'unprecedented', 'regardless', 'comment', 'critique', 'fostering', 'positive', 'culture', 'entertain', 'belief', 'showcase', 'engagement', 'overseas', 'conquest', 'relentlessly', 'charge', 'dreamy', 'floating', 'troop', 'elf', 'hall', 'noble', 'kindly', 'chaotic', 'foe', 'glacial', 'cohesion', 'occupy', 'forgetting', 'manage', 'builder', 'creator', 'dear', 'dinner', 'synchronized', 'computer', 'loyally', 'arrange', '8player', 'slim', 'distinctive', 'wold', 'displayed', 'p2w', 'fairness', 'mail', 'nation', 'neutralize', 'diffuse', 'delta', 'chase', 'coping', 'bunch', 'allied', 'surgical', 'peak', 'militant', 'beware', 'risk', 'border', 'extreme', 'assigned', 'none', 'swing', 'em', 'infantry', 'sub', 'technically', 'proof', 'contending', 'leisure', 'jockey', 'position', 'extent', 'adaptable', '121', 'fatal', 'simpler', 'randomness', '1vs100', 'perilous', 'execution', 'bit', 'constitute', 'maneuverability', 'ingame', 'exact', 'marking', 'tacit', 'rookie', 'connected', 'wan', 'na', 'screaming', 'schedule', 'ambition', 'greed', 'shatter', 'split', 'rightful', 'risen', 'wreak', 'havoc', 't5', 'luminous', 'secure', 'emperor', 'legacy', 'conqueror', 'switch', 'economic', 'liberate', 'crumble', 'dust', 'showdown', '1942', 'naval', 'ww1', 'ww2', 'navy', 'god', 'thunder', 'artillery', 'south', 'battleship', 'corresponding', 'exquisitely', 'gyroscope', 'sunset', '7x7', 'format', '350', 'historically', 'experimental', 'alternative', 'universes', 'dramatically', 'tier', 'monstrous', 'tune', 'manual', 'juicy', '250', 'multiverse', 'ascension', 'bull', 'drake', 'stream', 'gamely', 'cod', 'gift', 'southeast', 'reduction', 'fusion', 'crowded', 'dubbing', 'turntable', 'welfare', 'yuan', 'hi', 'net', 'silence', 'dusty', 'package', 'timed', 'stretch', 'mobilization', 'cash', 'gambling', 'unfathomable', 'nice', 'group285306911', 'الشي', 'قة', '45', 'ادع', 'طماطم', 'language', 'outdoor', '3х3', 'auxiliary', 'crowd', 'buffalo', 'stealthy', 'couple', 'robot', 'chameleon', 'belong', 'separate', 'radar', 'resurrector', 'approximately', 'hurry', 'blackguard', 'brawn', 'archipelago', 'conflict', 'preregister', 'dnyyy543', 'codednyyy543', 'mount', '11', '34', 'obscurity', 'author', 'virtuous', 'sagacity', 'pioneer', 'dedicate', 'buddy', 'attacker', 'transition', 'eleven', 'historical', 'dispatch', 'tribal', 'unrestricted', 'feint', 'lumber', 'nearby', 'simultaneously', 'translation', 'trustworthy', 'arc', 'scouting', 'espionage', 'more', 'rebirth', 'redefine', 'puppeteer', 'waltz', 'elegant', 'aesthetic', 'faithfully', 'recreate', 'era', 'amulet', '3v3v3', 'novel', 'replicate', 'stellar', 'variable', 'moreover', 'distribution', 'charm', 'divided', 'shall', 'mustachioed', 'devastate', 'crushing', 'seeking', 'multitude', 'goblin', 'station', 'verge', 'devastation', 'lambency', '22completely', 'ie', 'romantic', 'factory', 'besieged', 'lab', 'fed', 'sweep', 'suspense', 'preference', 'merge', 'rally', 'wearing', 'letter', 'loss', 'lie', 'invitation', 'ravage', 'orb', 'irresistible', 'fairly', 'pub', '4x4', 'exceptional', 'burning', 'steering', 'reproduce', 'mainly', 'fact', 'maneuver', 'historic', 'strengthening', 'grandeur', 'symphony', 'flowing', 'lane', 'minion', 'barbecue', 'aurora', 'dimension', 'assume', 'magnitude', 'reverberate', 'unity', 'mythical', 'announcer', 'draft', 'quote', 'notification', 'default', 'alarm', 'confused', 'greatly', 'benefit', 'noted', 'respective', 'endorsed', 'summoner', '457446291', 'drag', 'blue', 'green', 'pressure', 'preferred', 'frenzy', 'pair', 'starring', 'crown', 'officially', 'furry', 'earthen', '26', 'square', 'transfer', 'limitation', 'cap', 'homeland', 'grew', 'seize', 'lion', 'crucial', '4wd', 'personalize', 'specialty', 'miniature', 'model', '148', 'currently', 'predominantly', '132', 'scaled', 'aa', 'plastic', '4wheel', 'opposed', 'awd', 'horizontal', 'unbanked', 'mostly', 'hong', 'minilegend4wd', '110', 'cataclysmic', 'sheriff', 'dodger', 'skirmish', 'saiga12k', 'dressed', 'ridiculously', 'vegetation', 'lovingly', 'accept', 'encampment', 'chopper', 'fiery', 'explode', 'gas', '2072', 'mps16', 'theyre', 'destination', 'badly', 'museum', 'revealed', 'strongly', 'gam', 'perspective', 'emotion', 'texture', 'snatch', 'near', 'zombi', 'preregistration', 'spreading', 'starting', 'mutate', 'spree', 'urge', 'leftover', 'reside', 'dominance', 'slaying', 'loading', 'cartoon', 'shut', 'sorry', 'betrayer', 'corporation', 'nest', 'flee', 'agent', 'twice', 'prepared', 'route', 'trust', 'disposal', 'thrillingly', 'forgive', 'batt', 'fat', 'mercy', 'stupid', 'geometry', 'flare', 'homemade', 'led', 'reflect', 'depot', 'insidious', 'unexpectedly', 'ownership', 'consist', 'vivid', '18', 'indicate', 'restoration', 'railroad', 'levin', 'suburb', 'cohabitation', 'manor', 'roommate', 'revolver', 'knew', 'foreign', 'famine', 'calm', 'amid', 'freezing', 'tend', 'wound', 'scavenging', 'amiable', 'sanctuary', 'brick', 'campfire', 'vanguard', 'defuse', 'buildup', 'restrain', 'cultivate', 'retreat', 'failure', 'transformation', 'brotherhood', 'wander', 'supremacy', 'skull', 'concept', 'ectoplasm', 'nova', '20player', 'optic', 'virtually', 'hud', 'montage', 'frenzied', 'sergeant', 'wright', 'aftermath', 'mortar', '3rdperson', 'impressive', 'electric', 'indoor', 'gradually', 'wrist', 'companion', '360', 'smr382', 'scoop', 'reject', 'lamp', 'silently', 'complicated', 'arching', 'thread', 'thumb', 'forth', 'loglike', 'terminal', 'flighting', 'proficient', 'elusive', 'aptly', 'coffee', 'uniquely', 'ferocious', 'defender', 'dance', 'translate', 'matrix', 'meaning', 'arch', 'exercise', 'correctly', 'tube', 'bat', 'gauge', 'angle', 'additive', 'practical', 'an', 'primeval', 'ago', 'boomerang', 'rhythmical', 'violent', 'reaction', 'attempt', 'ingenuity', 'dominion', 'attainment', 'everlasting', 'hellborn', 'slake', 'immortalize', 'playground', 'stadium', 'windy', 'rainy', '10points', 'spin', 'luxury', 'roulette', 'terrific', 'emailtubeio0110gmailcom', 'shower', 'crisis', 'aboard', 'jeff', 'swarming', 'ya', 'invade', 'bombastic', 'revolution', 'obsolete', 'humorous', 'charismatic', 'installation', 'hammer', 'crawl', 'smoother', 'loaded', 'nonlinear', 'setup', 'stasis', 'maze', 'multishot', 'turret', 'whenever', 'marvel', 'brute', 'turf', 'bind', 'wicked', 'snake', 'digital', 'collaboration', 'raising', 'bug', 'upside', 'smashing', 'execute', 'detail', 'rodeo', 'lasso', 'gallon', 'hat', 'ostrich', 'atop', 'bucking', 'stampede', 'zoo', 'gaze', 'admire', 'affect', 'stated', 'riding', 'usual', 'lifeless', 'seven', 'balancing', 'exceed', 'falcon', 'phoenix', 'immense', '143', 'striking', 'bowler', 'drunk', 'domino', 'shuffle100', 'addicted', 'grade', 'alley', '66', 'platinum', '3day', 'established', 'residence', 'unsubscribed', 'anybody', 'peril', 'meteor', 'inflict', 'mistake', 'intern', 'wizard', 'burned', 'half', 'error', 'returned', 'amethyst', 'ancestral', 'father', 'copy', 'engineering', 'thought', 'accident', 'confident', 'muggles', 'breeze', 'resurrection', 'earnings', 'costing', '549', '1449', 'booster', 'nonoptional', 'cancellation', 'feisty', 'holy', 'worship', 'recent', 'reinstall', 'divine', 'fingertip', 'filthy', 'surpass', 'mold', 'features', 'vanquish', 'bastion', 'grinding', 'demand', 'budget', 'expensive', 'supportive', 'continent', 'dwarf', 'orc', 'plain', 'swamp', 'specialized', 'barrack', 'golem', 'easiest', 'tactician', 'formidable', 'encyclopedia', 'wise', 'tycoon', 'invest', 'income', 'assorted', 'broken', 'clearing', '28', 'commemoration', 'blesscode500a', 'hammering', 'fuse', 'ego', 'transcend', 'buff', 'reincarnate', 'reincarnation', 'lying', 'smithing', 'production', 'dot', 'withdrawal', 'withdraw', 'adobe', '820216667198', 'republic', 'ancestor', 'theater', 'colossal', 'infiltrate', 'overthrow', 'shrine', 'shine', 'substantial', 'harmony', 'leadership', 'trave', 'harmful', 'proven', 'intensely', 'unmerciful', 'daring', 'adventurer', 'forged', 'aint', 'unaccomplished', 'quite', 'deeply', 'flawed', 'emotionally', 'slightly', 'guarded', 'wally', 'silly', 'volunteer', 'stockpile', 'becoming', 'repeat', 'grid', 'negotiate', 'merchant', 'excess', 'powers', 'thief', 'alchemist', 'inn', 'keeper', 'spells', 'sweeper', 'unlikely', 'confidential', 'kent', 'formed', 'destress', 'tapper', 'nut', 'film', 'buckle', 'boston', 'rake', 'behalf', 'recreational', 'anthropomorphic', 'source', 'momo', 'ghost', 'essence', 'diamond', 'respect', 'element', '32', 'pure', 'carnage', 'camper', 'caught', 'envy', 'shaking', 'wishing', 'stayed', '32person', 'flaunt', 'shrinking', 'shape', 'appreciate', 'rumble', 'crack', 'regional', 'span', 'beneficial', 'werewolf', 'midseason', 'premiere', '6week', 'memorable', 'slayer', 'delay', 'thinning', 'climbing', 'glued', 'remain', 'moderate', 'gob', 'cosmetic', 'flexible', 'spark', 'clutch', 'average', 'host', 'coverage', 'north', '200000', '500000', 'wealth', 'glide', 'episode', 'plucky', 'blaze', 'issue', 'craziness', 'mischief', 'sabotage', 'eight', 'elimination', 'podium', 'fashionable', 'swag', 'slam', 'opposition', 'arrive', 'breed', 'magnificent', 'breeding', '600', 'library', 'manner', 'dastardly', 'pig', 'jellyfish', '140', 'slinger', 'grandma', 'goat', 'promote', 'division', 'trainer', 'triumph', 'robber', 'dashing', 'finished', 'chili', 'hank', 'certified', 'harbor', 'compliance', 'outfit7', 'animated', 'integration', 'supportoutfit7com', 'adjustable', 'define', '70', 'pepperoni', 'trebuchet', 'hourly', 'io', 'gif', 'festive', '1200', 'metamorphosis', 'deceptively', 'insanely', 'poker', 'intriguing', 'introductory', 'convenient', 'dictator', 'routine', 'ignorance', 'fencer', 'archon', 'genius', 'dean', 'met', 'searching', 'electricity', 'mate', 'helper', 'profile', 'analytics', 'consult', 'notify', 'feline', 'turmoil', 'sly', 'kitty', '4catarmy', 'scratch', 'scratching', 'tail', 'cracker', 'advancing', 'brim', 'enchanting', 'stab', 'whilst', 'ugly', 'gave', 'avid', 'duplicate', 'respectively', 'attraction', 'menagerie', 'opportune', 'attain', 'stolen', 'honestly', 'subconscious', '270', 'initial', 'snowball', 'bump', 'flick', 'snipe', 'lift', 'centered', 'queen', 'exploit', 'offset', 'lazy', 'boasting', 'illusive', 'peeled', 'cement', 'toss', '2minute', 'ketchup', 'infamous', 'sausage', 'tad', 'kitchen', 'garden', 'smithereens', 'doh', 'shame', 'assert', 'despot', 'humiliate', 'absurdly', 'extravagant', 'container', 'early', 'strategical', 'fou', '3on3', '64', 'functionality', 'convince', 'thriving', 'deception', 'imprint', 'hangar', 'puppet', 'footballer', 'offense', 'ascend', 'manager', 'marionette', 'gum', 'sock', 'gypsum', 'brazil', 'foul', 'statistic', 'winger', 'overtime', 'pupetsocer2014', 'yummy', 'puppy', 'pier', 'combative', 'supervision', 'extensive', 'chopping', 'operative', 'genetically', 'bred', 'seventh', 'sanctum', 'drama', 'natively', 'suite', 'plethora', 'unwitting', 'silenced', 'horribly', 'xenowerk', 'science', 'abyss', 'flashlight', 'guidance', 'objective', 'cleanse', 'slain', '800x540', 'trooper', 'itchy', 'mosin', 'nagant', 'm24s', 'magazine', 'neo', 'environmental', 'cataclysm', 'exploded', 'covering', 'smog', 'livable', 'passing', 'delaying', 'inevitable', 'emulsion', 'committee', 'stepped', 'departed', 'unexplored', 'usually', 'woke', 'dull', 'openly', 'depressing', 'embrace', 'losing', 'chose', 'proceed', 'stroll', 'sometimes', 'farmer', 'livestock', 'vault', 'civil', 'buggy', 'produce', 'canned', 'plasma', 'thematic', 'dynasty', 'disabled', 'specialist', 'burton', 'flank', 'flanked', 'proximity', 'fray', 'covertly', 'singlehanded', 'stylistic', 'pitch', 'hub', 'brink', 'gritty', 'prosperity', 'forming', 'seizing', 'capital', 'innovate', 'sexy', 'scientist', 'honorable', 'topography', 'housing', 'phase', 'converging', 'diplomacy', 'deceit', 'elect', 'transaction', '099', '9999', 'subject', 'galore', 'madder', 'complement', 'fraction', 'thoughtfully', 'painstakingly', 'meticulously', 'reason', 'c4', 'notorious', 'landau', 'emitter', 'reliable', 'banish', 'daylight', 'electronics', '5star', 'awesomeness', 'inserted', 'backup', 'sought', 'unspeakable', 'geared', 'seamlessly', 'kiwi', 'tuning', 'eviscerate', 'perk', 'browning', 'sentry', 'relentless', 'technological', 'interplanetary', 'saboteur', 'armament', 'gravity', 'universal', 'effectively', 'struggling', 'curve', 'doubled', 'necessarily', '1944', 'landed', 'failing', '1945', 'compound', 'erase', 'commandant', 'facility', 'mechanization', 'northern', 'legitimate', 'involve', 'machinery', 'attrition', 'spearhead', 'traitor', 'utility', 'repeatable', 'crimson', 'breakable', 'upbeat', 'coupled', 'opinion', 'usher', 'ha', 'feared', 'simplicity', 'unbelievably', 'bloodline', 'fourteen', 'acrobatics', '1000000', '53', 'expansion', 'cave', 'enchant', 'reform', 'haze', 'renown', 'mineral', 'disappearance', 'former', 'fragile', 'hinder', 'question', 'concern', '54276264qqcom', 'value', 'ruler', 'arose', 'forbidden', 'blob', '27', 'pad', 'mass', 'eject', 'recombine', 'shrink', '3g', 'cellular', 'nearest', 'muncher', 'osmosis', 'principle', 'agar', 'eater', 'nebulous', 'mitosis', 'desired', 'cursor', 'hexagon', 'buffer', 'decline', 'wrap', 'smartly', 'enclose', 'string', 'minimalism', 'paper2io', 'drawing', 'bacteria', 'dish', 'cell', 'mope', 'patient', 'ts2v2', 'nose', 'rear', 'worm', 'tusk', 'ticket', 'overcrowded', 'insanity', 'slither', 'refined', 'divide', 'mouth', 'beard', 'enroll', 'impress', 'undefeated', 'gaining', 'attract', 'accelerometer', 'voodoo', 'cautious', 'quiz', 'bool', '100person', 'rotation', '50v50', 'superpower', 'pace', '95000', 'dynamical', 'differential', 'slope', 'assumed', 'navigation', 'drawer', 'sample', 'logistic', '1d', 'spiral', 'orbit', 'linear', '2nd', 'width', 'pinch', 'trigonometric', 'sine', 'co', 'cosine', 'slithering', 'magnet', 'fireball', 'unable', 'remove', 'bumper', 'cream', 'rotate', 'sweating', 'poisonous', 'mindful', 'fungus', 'involved', 'length', 'sensible', 'pump', 'pizza', 'creepy', 'orbital', 'swerve', 'staged', 'clockwise', 'column', 'reaching', 'swiftness', 'entry', 'token', 'staging', 'alternatively', 'rolled', 'owner', 'multiplying', 'collide', 'pursuer', 'tool', 'bird', 'absorb', 'likewise', 'expel', '50mb', 'gladiator', 'configuration', '54', 'surrender', 'studied', '2077', 'extraterrestrial', '3rd', 'mothership', '6v6', 'invisibility', 'rent', 'speak', 'pacific', 'jaeger', 'marshal', '21', 'banded', 'dimensional', 'mental', 'synergy', 'outfit', 'impossible', 'armada', 'interstellar', 'cruiser', 'graduate', 'bronze', 'cosmic', 'repaint', 'catcher', 'amongst', 'slick', 'futuristic', 'wi', 'fi', 'easiness', 'intuitively', 'electrocute', 'fry', 'logbook', 'x137', '2156', 'stuffed', 'tankman', 'expectation', 'respite', 'profit', 'buzz', 'disclose', '29', 'everybody', 'liking', 'weight', 'supplement', 'thousand', 'wasting', 'annihilation', 'wheeled', 'geographical', 'participation', 't64', 'challenger', 't90', 'atom', 'noisy', 'knockout', 'towering', 'tall', 'weighing', '2000', '58', 'twin', 'enthralling', 'meaner', 'express', 'exhibit', 'barely', 'hulking', 'relive', 'inspiring', 'blockbuster', 'restrict', 'kinetics', 'skate', 'basketball', 'downhill', 'jumper', '2203', 'exist', '3minute', 'organize', 'wholly', 'leviathan', 'immensely', 'blurry', '72', 'improvement', 'engineer', 'thrower', 'shocker', 'debating', 'marked', '22nd', '1941', 'august', '25th', 'tiger', 'm3', 'm8', 'greyhound', 'm10', 'wolverine', 'm4', 'firefly', 'm29', 't34', 'm7', 'zis3', 'ba64', 'bt7', 't3476', 'kv1', 'su76', 'bm13', 't3485', 'su100', 'kv2', 'isu152', 'sdkfz222', 'sdkfz251', 'sdkfz234', 'puma', 'stug', 'panther', 'sequence', 'bo', '31', '1943', 'de', 'colmar', 'worse', 'attachment', '40k', 'marine', '40000', 'vengeance', 'patrol', 'graphical', 'imperium', 'avenger', 'optionally', 'copyright', 'associated', 'logo', 'likeness', 'thereof', 'variably', 'funded', 'property', 'slogan', 'bumblebee', 'devastator', 'combiner', 'til', 'demonstrate', 'headquarters', 'ape', 'decal', 'chatting', '2vs2', 'conquering', 'case', 'reactor', 'dome', 'roaring', 'augmented', 'chew', 'hurl', 'rejoice', 'devoid', 'tissue', 'false', 'toast', 'insatiable', 'lesser', 'unmatched', 'mobility', 'roar', 'intellect', 'charging', 'razor', 'reborn', 'acclaim', 'compact', 'colonial', 'administration', 'cam', 'vein', 'bearing', 'pineapple', 'coconut', 'mangosteen', 'strawberry', 'banana', 'knowing', 'assistant', 'meaningful', 'yoke', 'squadron', 'spitfire', 'p51', 'hurricane', 'il2', 'la5fn', 'ju87', 'condor', 'b17', 'risky', 'safety', 'antiaircraft', 'barrage', 'efficiently', 'weaken', 'sunny', 'soviet', 'piloting', 'chatter', '000', 'gauntlet', 'searchable', 'relevant', 'brief', 'sheet', 'register', 'valid', 'security', 'worried', 'bar', 'shaded', 'pleasure', 'shuffle', 'reliance', 'madness', 'sniping', 'derby', 'roof', 'wreck', 'drift', 'tweak', 'melt', 'summer', 'efficient', 'defy', 'hasbro', 'brawlasaurs', 'scan', 'afterward', '6th', 'aerobatics', 'raptor', 'mig', 'blackbird', 'nighthawk', 'secondary', 'atomic', 'pearl', 'chuck', 'oh', 'transformer', 'tag', 'borrow', 'telepods', 'flock', 'bill', 'payer', 'beforehand', 'yellow', 'outnumber', 'prestige', 'treasury', 'adventurous', 'playful', 'commence', 'acting', '50000000', '5th', 'anniversary', 'kra', 'devise', 'skillfully', 'scorching', 'atlas', 'relic', 'factor', 'contribute', 'invader', 'armchair', 'submarine', 'vol3', 'popularity', 'significantly', 'repeatedly', 'recall', 'braver', 'pattern', 'canada', 'top1', 'fifty', 'actively', 'arrival', 'electromagnetic', 'pulse', 'unstable', 'ignite', 'physically', 'tremendous', 'headgear', 'fused', 'generate', 'handgun', 'aiming', 'perfecting', 'endure', 'river', 'wildling', 'alvar', 'playability', 'outmaneuver', 'print', 'office', 'behaviour', 'wanderer', 'evolutionary', 'conservatism', 'radicalism', 'quantum', 'optical', 'detector', 'gliding', 'flat', 'occasional', 'apologize', 'reassure', 'enthusiasm', 'continued', 'gratitude', 'verisimilar', 'shaping', 'hundred', 'formulate', '100meterhigh', 'swampy', 'incremental', 'sliding', 'adult', 'convert', 'bulge', 'axis', 'counterplay', 'shift', 'closer', 'rewards', 'immersion', 'disastrous', 'irrelevant', 'episodic', 'realistically', 'headquarter', 'fortification', 'doctrine', 'blitzkrieg', 'debate', 'you', 'expendable', 'are', 'rifleman', 'thumper', 'guns', '185', 'mib', 'colt', 'mp5', 'progressive', 'gunman', '148appscom', 'cactus', 'subalpine', 'purple', 'disguise', 'pray', 'statue', 'miraculous', 'enhancement', 'regeneration', 'displacement', 'discordgg6scwnr5', 'hijack', 'fake', '25players', 'wars', 'jedi', 'luke', 'rebel', 'complementary', 'cantina', 'han', 'trick', 'starship', 'millennium', 'admiral', 'rancor', 'sith', 'triumvirate', 'progressively', 'ea', 'retire', 'posted', 'seller', 'neighbor', 'all', 'sort', 'missing', 'rod', 'villain', 'listen', 'deceive', 'horrific', 'bus', 'corrupt', 'ward', 'bloodshed', 'contrast', 'shade', 'belonging', 'rebellious', 'subterfuge', 'monte', 'trump', 'diplomatic', 'worthy', 'supportworldatwarww2com', 'mad8', 'wrapped', 'depend', 'table', 'loyalty', 'landmark', 'creías', 'lo', 'te', 'el', 'dinero', 'se', 'en', 'un', 'si', 'con', 'doll', 'hay', 'tu', 'secreta', 'loco', 'buena', 'principal', 'miglio', 'compositor', 'banda', 'overwatch', 'dynamically', 'utmost', 'raging', 'hectic', 'ashore', 'aging', 'clumsy', '1024', 'crowned', 'securely', 'wirelessly', 'effortlessly', 'locking', 'deny', 'architectural', 'interchangeable', 'shell', 'settle', 'replace', 'recharge', 'dismount', 'lithium', 'equivalent', '8xaa', 'substantially', 'indication', 'charger', 'cardinal', 'blaming', 'infernal', 'rat', 'zeppelin', 'oblivion', 'estate', 'gog', 'battlefront', 'notified', 'nitty', 'consumer', 'acceptance', 'woman', 'comic', 'inspiration', 'desire', 'dueling', 'asymmetric', 'hideously', 'streamline', 'mere', 'unparalleled', 'mole', 'robust', 'serial', 'caliber', 'intercept', 'orchestrate', 'drastic', 'intricately', 'woven', 'impeccable', 'engrossing', 'remorse', 'informed', 'paying', 'input', 'restricted', 'authentication', 'immediate', 'gory', 'unmissable', 'scar', '416', 'mortal', '124', 'artificial', 'encouraging', 'rated', 'proudly', '01', '02', '03', '04', '05', 'snipping', 'permute', 'basically', 'suggest', 'mutation', 'threatening', '33', 'urgent', 'gunsmith', 'smuggler', 'offender', 'indispensable', 'cluster', 'bitten', 'shabby', 'transportation', 'suicide', 'zigzag', 'destroyable', 'orientate', '148apps', 'lunatic', 'sapper', 'x1morph', 'unified', 'quiet', 'fortunately', 'baptize', 'torrent', 'forgot', 'handy', 'zeal', 'anxious', 'realism', 'prestigious', 'highway', 'sad', 'burt', 'thug', 'pimp', 'clown', 'bulletproof', 'foggy', 'resolutely', 'assimilation', 'surge', 'collocation', 'repository', 'flexibly', 'swift', 'foot', 'safari', 'elephant', 'leopard', 'jaw', 'outrageous', 'insolence', 'deportation', 'murder', 'notoriety', 'gorge', 'obey', 'liberty', 'sand', 'adventitious', 'coliseum', 'mentor', 'zealous', 'syndicate', 'blistering', 'comfort', 'elevate', 'mambo', 'marriage', 'sylvester', 'yacht', '2027', 'hundreds', 'thousands', 'misery', '1911', 'scorpion', 'striker', 'stuck', 'mill', 'amputator', 'concerned', '47', 'idol', 'nipping', 'sheer', 'booby', 'addicting', 'adaptation', 'critically', 'solitaire', 'central', 'appease', 'sacrifice', 'flip', 'limiting', 'manipulate', 'fleshed', 'digitally', 'asynchronous', 'armv7', 'neon', 'monkey', 'brood', 'tornado', 'haircut', 'jewelry', 'comparison', 'sheep', 'breeder', 'revolutionize', 'headache', 'migraine', 'completeness', 'scrapie', 'sex', 'expectant', 'herd', 'tied', 'medicine', 'mating', '4g', 'lover', 'ogre', 'raider', 'hedgehog', 'racoon', 'gorilla', 'tomb', 'mask', 'completion', 'p228', 'eagle50', 'ae', '96g', 'berettasmac10tmpmp5', 'p90', 'm4a1sg552', 'augm249saw', 'g3sg1sg550', 'honorably', 'craze', 'games', 'lounge', 'bros', 'splatoon', 'salmon', 'separately', 'pesky', 'disappear', 'vertically', 'horizontally', 'meddlesome', 'panic', 'unruly', 'dr', 'peach', 'buzzy', 'beetle', 'intensity', 'doctor', 'toad', 'remix', 'colored', 'daisy', 'cheered', 'coin', 'cheering', 'differently', 'cheer', 'lively', 'rainbow', 'connectivity', 'your', 'soothing', 'bob', 'mushroom', 'flower', 'demo', 'amino', 'trivia', 'controls', 'monitor', 'playtime', 'suspend', 'summary', 'recently', 'activity', 'casually', 'planned', 'spectrum', 'inaccessible', 'youth', 'hws7701w', 'n05e', 'yd201', 'resolved', 'dignot302kc', 'reception', 'momentarily', 'resume', 'pressing', 'parking', 'frantic', 'scare', 'trove', 'hugely', 'offspring', 'religion', '94', 'guise', 'seated', 'cabinet', 'superman', '1978', '1987', 'director', '2001', 'originally', '1999', 'ported', '2002', 'am3', 'for', 'furniture', 'festival', 'cabin', 'kudos', 'uncharted', 'refine', 'occasionally', 'harness', '410', 'magikarp', 'majestic', 'pathetically', 'unreliable', 'useless', 'moves', 'flop', 'splash', 'snagged', 'pidgeotto', 'surprising', 'pathetic', 'itll', 'calico', 'polka', 'spruce', 'pond', 'communicating', 'avalanche', 'boar', 'toucan', 'boiling', 'lava', 'ted', 'spider', 'bee', 'mike', 'sensationally', 'remake', 'harass', 'verify', 'jabber', 'volcano', 'relaxed', 'functional', 'pie', 'checker', 'alpha', 'furthermore', 'disconnect', 'advertisement', 'ash', 'indigo', 'streamlined', 'evaluate', 'permit', 'analytical', 'marketing', 'browser', 'ingres', 'chrome', 'unfortunately', 'branch', 'chassis', 'tyre', 'resolve', 'camber', 'axle', 'hardness', 'explanation', 'adjustment', 'understandable', 'sprint', 'senior', 'cadet', 'junior', 'novice', 'metric', 'intrepid', 'ok1', 'tony', 'fa', 'fr125', 'carburation', 'x30', 'shifter', 'k9', 'k9b', 'k9c', 'kz10', 'kz10b', 'honda', 'cr125', 'modena', 'kk1', 'kk1r', 'screamer', 'kt100', 'density', 'jotting', 'vortex', 'visualization', 'sonic', 'amy', 'rouge', 'omega', 'vector', 'para', 'vota', 'bunny', 'daffy', 'toon', 'looney', 'tunes', 'wile', 'coyote', 'porky', 'slapstick', 'acme', 'anvil', 'maestro', 'sam', 'valentine', 'multistage', 'scoring', 'fashion', 'greener', 'emulator', 'painlessly', '83', 'anime', 'pumped', 'bandai', 'holder', 'spoon', 'heir', '151', 'fiction', 'tint', 'diary', 'isometric', 'rotating', 'ralph', 'pang', 'pouring', 'impending', 'bust', 'antarctica', 'bora', 'shurikens', 'didnt', 'sightseeing', 'so', 'busy', 'hooked', 'soundboard', 'intent', 'infringe', 'rediscover', 'wrestler', 'breakout', 'ben', 'tussle', 'munition', 'knuckle', 'requiem', 'smoking', 'cigar', 'souther', 'genesis', '1992', 'shout', 'programmer', 'ads', 'redd', 'turnip', 'wardrobe', 'public', 'wallpaper', 'flooring', 'stationery', 'poke', 'planner', 'unofficial', 'cracked', 'seed', 'tracked', 'uncheck', 'compendium', 'protagonist', 'slumber', 'calamity', 'departure', 'initially', 'minor', 'criticism', 'directed', 'maintenance', 'laughing', 'bender', 'twentieth', 'slap', 'reunite', 'abundantly', 'celebrate', 'chariot', 'pigeon', 'tennis', 'slice', 'lob', 'concentration', 'clay', 'exhibition', 'itching', 'dose', 'peerless', 'surprisingly', '2012', 'dependable', '810', 'brown', 'joe', 'endurance', 'cheese', 'crocodile', 'adder', 'phantasy', 'wren', 'gena', 'rogan', 'welkin', 'largo', 'potter', 'werebear', 'nominated', 'munch', 'pellet', '256', 'sue', 'funky', 'spunky', 'waka', '3sprockets', 'supportpacman256bandainamcoenteu', 'reference', 'enthusiast', '2600', '32x', '3do', '5200', '7800', 'jaguar', 'lynx', 'n64', 'geo', 'aes', 'ps1', 'ps2', 'ps3', 'tg16', 'vita', 'tracker', 'insight', 'sale', 'condition', 'reproduction', 'exclude', 'unwanted', 'graph', 'filter', 'analyse', 'fell', 'swoop', 'spellbinding', 'turtle', 'chop', 'recapture', '92', 'raze', '1991', 'triumphant', '91', 'scantily', '86', 'primary', 'leg', 'cliff', '1989', 'designer', 'slugger', 'batter', 'son', 'producer', 'serviceman', 'orient', 'outfield', 'sustain', 'breathe', 'timeless', 'hover', '320', 'woody', 'claw', 'etch', 'sketch', 'delightful', 'commute', 'household', 'statement', 'obvious', '2011', 'g4tv', 'grocery', 'bagging', 'fuss', 'sturdy', 'shopping', 'rampage', 'booty', 'bagger', 'personally', 'internal', 'detect', 'fingers', 'replay', 'railway', 'rail', 'branching', 'haul', 'breakneck', 'snappy', 'bell', 'toot', 'horn', 'overcast', 'diesel', 'vocabulary', 'guess', 'gallows', 'hint', 'da', 'usability', 'elderly', 'publish', 'dwelled', 'mischievous', 'penchant', 'thieve', 'compulsively', 'goofy', 'naive', 'youd', 'mistaken', 'yarn', 'hoof', 'pointed', 'pony', 'doodle', 'playback', 'tools10doodle', 'variation', 'pleasant', '10differents', 'gallery', 'mandala', 'kaleidoscope', 'childlike', 'innocence', 'lich', 'franchise', 'outlast', 'hunker', 'minimal', 'tested', 'knocking', 'paper', 'moonflower', 'dressing', 'lunar', 'fantastical', 'to', 'deluxe', 'wearable', '4460', 's5', 's6', 'tab', '101', '345', 'nexus', '8910', 'm9', 'g4', '6p', 'coloring', 'therapist', 'therapy', '2500', 'nicely', 'education', 'chocolate', 'educational', 'scanning', 'spelling', 'karaoke', 'sing', 'creativity', 'canvas', 'stroke', 'geometric', 'kidsafe', 'jam', 'decorate', 'den', 'adopt', 'dashboard', 'recurring', 'prominent', 'imagery', 'moderation', 'mouse', 'sleepy', 'wreath', 'fireplace', 'piano', 'xylophone', 'saxophone', 'guitar', 'flute', 'accordion', 'violin', 'clarinet', 'sounding', 'lullaby', 'musician', 'diploma', 'teacher', 'octopus', 'wash', 'inconvenience', 'illustrator', 'blurred', 'degree', 'pose', 'paste', 'panel', 'facial', 'smiling', 'winking', 'album', 'shutter', 'skiddy', 'tar', 'cane', 'wrestling', 'dynamite', 'comprised', 'bass', 'slows', 'jumpy', 'viral', 'mannequin', 'dashy', 'splashy', 'stranger', 'akin', 'awe', 'revolt', 'teen', 'badlands', 'golf', '15th', 'revenue', 'donated', 'polska', 'firmly', 'dreamlike', 'intrusive', '1010', 'bafta', 'preschool', 'involuntary', 'pickup', 'baking', 'bake', 'flavored', 'milk', 'theyll', 'indefinite', 'quadrillion', 'baker', 'pat', 'sina', 'jake', 'crossover', 'marceline', 'cassie', 'sai', 'cobra', 'lumpy', 'sincerely', 'vote', 'locomotive', 'template', 'sticker', 'pique', 'curiosity', 'pichi', 'moose', 'enterprise', 'mindfulness', 'meditate', 'confidence', 'petit', 'humour', 'blending', 'meditation', 'glamour', 'extend', 'vogue', 'meditating', 'beginner', 'meditator', 'psychology', 'calmness', 'serenity', 'lucidity', 'collective', 'catalogue', 'authenticity', 'anxiety', 'deficit', 'hyperactivity', 'addiction', 'relaxation', 'confidentiality', '4199', 'conversion', 'applied', 'banking', 'undesired', 'expiry', 'reimbursement', 'commitment', 'respecting', '2008', 'fortuitous', 'meeting', 'upset', 'produced', 'di', 'parma', 'linked', 'undo', 'tile', 'scored', 'jimmy', 'tic', 'modest', 'cargo', 'passenger', 'booming', 'nothingness', 'void', 'somehow', 'emptiness', 'condemn', 'obliteration', 'tactile', 'tilting', 'sensor', 'composed', 'assured', 'advised', 'henry', 'toby', 'victor', 'mountainous', 'quarry', 'quaint', 'highlight', 'disappearing', 'sticky', 'goo', 'logged', 'hate', 'blader', 'scoreboard', 'requirement', 's4', 'hocus', 'illusion', 'bending', 'miracle', 'buster', 'commotion', 'mash', 'tangle', 'rox', 'geography', 'telling', 'mall', 'snozzle', 'dewy', 'submit', 'candy', '4th', 'ec2a', '4dn', 'fm', 'groove', 'electro', 'hop', 'trance', 'medal', 'electronic', 'locator', 'scanner', 'decade', 'litany', 'invert', 'criterion', 'calibrate', 'discount', '2005', 'primarily', 'sofa', 'healthy', 'nurture', 'po', 'snap', 'decorated', 'playroom', 'custard', 'pretend', 'ar', 'integrate', 'certification', 'slang', 'personalities', 's2', 's3', 'xt926', 'telegraph', 'reboot', 'ante', 'microphone', 'volume', 'cleanliness', 'pantry', 'freshen', '50plus', 'furbish', 'hatching', 'dancing', 'speaking', 'milestone', 'bathe', 'wow', 'webkinz', 'lovable', 'aged', 'onetime', 'verification', 'tedious', 'instruction', 'shipping', 'manufacture', 'spectacle', 'beak', 'plier', 'punishment', 'incorrect', 'cerebral', 'keen', 'workout', 'sublime', 'redraw', 'twenty', 'tailor', 'tense', 'thriller', 'faraday', 'incompatible', 'declared', 'tongue', 'grapnel', 'grappling', 'fro', 'rarely', 'improbable', 'drool', 'ping', 'primate', 'grail', 'lofty', 'berry', 'warmth', 'delicate', 'hysterical', 'pictionary', 'pen', 'edit', 'mirror', 'timer', 'strap', 'yap', 'molten', 'shiny', 'glass', 'trickster', 'float', 'gifted', 'cleverly', 'relief', 'bash', 'relatively', 'chill', 'duelist', 'soaked', 'jewel', 'howling', '4d', 'oasis', 'smolder', 'franklin', 'roundhouse', 'shelly', 'doubler', 'excluding', 'thankfully', 'optimum', 'leaf', 'fur', 'reflecting', 'vamp', 'said', 'immunity', 'discriminate', 'devoted', 'teaching', 'intervention', 'infiltration', '699', 'trace', 'crushed', 'ko', 'bend', 'tattoo', 'satisfaction', 'needle', 'ink', 'outline', 'stencil', 'haptics', 'practically', 'ingredient', 'ah', 'amazement', 'cocktail', 'vegetable', 'totalitarian', 'sole', 'astoundingly', 'promising', 'such', 'plumber', 'flex', 'sliced', 'chopped', 'spicy', 'hysteric', 'x2', 'awesomely', 'teeny', 'glow', 'dud', 'climber', 'dunk', 'reverse', 'gymnastics', 'advancement', '9000', 'fist', 'punk', 'diving', 'rickety', 'diver', 'bodybuilder', 'businessman', 'penguin', 'top100', 'successfully', 'unwind', 'fz9', 'accompany', 'serum', 'hibernation', 'm4a1', 'competitiveness', 'fired', 'summarize', 'fz9timeshift', 'fruition', 'over', 'flooding', 'that', '2p', 'butt', '5m', 'masked', 'toe', 'allocation', 'batman', 'cupcake', 'with', 'definition', 'needs', 'octagon', 'sports', 'ufc', 'cain', 'takedown', 'athlete', 'skyrocket', 'payoff', 'submission', 'grueling', '30day', 'sessional', 'overwhelming', 'wouldnt', '4vs4', '700', 'react', '220', 'dedication', '2010', 'guillotine', 'ecstatic', 'butterfly', 'runway', 'glance', 'precedent', 'confront', 'rocker', 'washed', 'tracing', 'culprit', 'secretive', 'adversely', '2different', '3there', 'recovery', 'soup', 'flow', 'abandon', 'relieved', 'accomplishment', 'pondering', 'definitive', 'cult', 'redux', 'facet', 'forcefully', 'unseen', 'wang', 'wanton', 'raw', 'swordplay', 'joker', 'bane', 'lantern', 'asylum', 'watchtower', 'automotive', 'anarchic', 'comedy', 'sprinkled', 'generously', 'pedestrian', 'perish', 'pork', 'dangerously', 'deranged', 'wildly', 'satisfyingly', '1997', 'reader', '19971998', 'vehicular', '88', 'played', '95', 'controversy', 'an94', 'pp2000', '9a91', 'qbz95чёрная', 'm4a1платина', 'mp5x', 'blissful', 'tragically', 'brunt', 'aura', 'incident', 'vintage', 'hill', 'magnum', 'ca', 'outlook', 'offbeat', 'wolfwere', 'mech', 'pve', 'bio', 'domestic', 'utopia', '2050', 'superclass', 'majority', 'resulting', 'restrained', 'unfair', 'rappers', 'widow', 'unforgiving', 'customize', 'baron', 'regent', 'lodge', 'dollhouse', 'incarnation', 'grizzled', 'stunningly', 'lee', 'blinding', 'numbing', 'm134', 'ambience', 'slug', 'reminiscent', 'confession', 'bygone', '3dgraphics', 'gon', 'meridian', '42519', 'exordium', 'taser', 'student', 'scheme', 'documentary', 'industry', 'halo', 'topical', 'surveillance', 'stability', 'stopped', 'quad', '15ghz', 'pushing', 'whip', 'ruined', 'turner', 'streetwise', '167', '1995', 'nick', 'patent', '6010405', '1996', 'kirkman', 'foreshadow', 'deputy', 'rick', 'mali400', 'sgx540', '1ghz', 'malit600', 'sgx544', 'brash', 'masher', 'boxer', 'rocky', 'sculpture', 'lottery', 'cybernetic', 'augmentation', 'compromising', 'stash', 'undisputed', 'detonate', 'violation', 'samurai', 'ultimately', 'redundant', 'purify', '44s', '2mini', 'stubborn', 'coexist', 'sister', 'bosses', '500k', 'genuine', 'bleach', 'truthful', 'reaper', 'reappear', 'reappearance', 'clinic', 'court', 'pride', 'desperation', 'altercation', 'realtime', 'online', 'outlet', 'gate', 'astonishingly', 'delightfully', '2on2', 'snk', 'converter', 'recurrent', 'consistent', '168', 'afghani', 'lek', 'dram', 'guilder', 'argentine', 'peso', 'dollar', 'florin', 'bam', 'convertible', 'lev', 'dinar', 'franc', 'boliviano', 'ruble', 'cad', 'swiss', 'cop', 'costa', 'cape', 'escudo', 'koruna', 'krone', 'dop', 'kroon', 'pound', 'birr', 'sterling', 'gel', 'lari', 'guernsey', 'gip', 'quetzal', 'lempira', 'gourde', 'forint', 'rupiah', 'imp', 'rupee', 'rial', 'jersey', 'yen', 'shilling', 'cayman', 'lak', 'kip', 'sri', 'litas', 'leu', 'kyat', 'tugrik', 'mop', 'pataca', 'balboa', 'sol', 'kina', 'zloty', 'guarani', 'sar', 'riyal', 'krona', 'saint', 'sierra', 'dobra', 'baht', 'lira', 'fuerte', 'dong', 'tala', 'troy', 'ounce', 'yer', 'zar', 'rand', 'pre2013', 'get4x', 'changer', 'convenience', 'bureau', 'indicative', 'calculated', 'algorithm', 'booking', 'ordered', 'confirmed', 'refer', 'bali', 'penang', 'manila', 'bangkok', '4xlabs', 'financial', 'send4x', 'biz4x', 'feedbackget4xcom', 'markup', 'calculator', 'tax', 'locale', 'dependent', 'partially', '51015', '21126', '196', '1531296', '19655721', '20104', '197', '2113548', '205', '231365', '1884', '23613', 'finland', '23139', '25126', '2212', '2159', '2358', '25185', '2085', '155', '2495', '207', 'iceland', '245147', '2412148', '762436', '188', '178', '1810', '751', '12541', '105', '5810', '51213141545', '1612', 'panama', '1614', '2210', '21105', 'chile', '1818', 'jordan', '18725', 'simplify', 'locational', 'similarly', 'skip', 'cable', 'postpaid', 'wallet', 'debit', 'flyer', 'mileage', 'welcoming', '711', 'mart', 'neatly', 'locally', 'shekel', 'colon', 'pe', 'bolivar', 'cordoba', 'tonga', 'mozambique', 'digit', 'decimal', 'calculate', 'calculation', 'truncate', 'percent', 'root', 'factorial', 'exponentiation', 'intentionally', 'theoretically', 'disturbing', 'translator', 'abroad', 'productivity', '1day', '5days', '3months', '50000', 'confidently', '123', 'derived', 'withheld', 'terrorize', 'damn', 'decked', 'unto', 'sick', 'unresponsive', 'infectious', 'crap', '2037', 'misty', '1your', 'smawd83mm', 'gloves', 'unimaginable', 'continuum', 'secluded', 'channeled', 'inventive', 'hearted', 'afar', 'scape', 'mow', 'terminus', 'swish', 'harpoon', 'bud', 'handsome', 'squeeze', 'lucrative', 'plutonium', 'notch', 'charming', 'curb', 'whirlpool', 'premise', 'pity', 'inevitably', 'monsters', 'they', 'prayer', 'resolute', 'regard', 'devote', 'superhuman', 'embodiment', 'swallow', 'eats', 'closet', 'ghoulish', 'stray', 'noise', 'unnatural', 'expanse', 'buck', 'outlaw', 'rugged', 'barrier', 'vanish', 'stressful', 'someday', 'told', 'citizen', 'pivotal', 'asset', 'machete', 'murderer', 'wrench', 'cleaver', '375', 'sunshine', 'twilight', 'dictionary', 'pronunciation', 'context', 'checked', 'fluffy', 'handbag', 'wand', 'hamster', 'odd', 'reading', 'googlp2evrq', 'poisoning', 'bleeding', 'preventable', 'activeness', 'confined', 'indifferent', 'blocky', 'thoroughly', '54321', 'megalopolis', 'export', 'gingerbread', 'hawk', 'blockman', 'transferred', 'realest', 'hound', 'pounding', 'opt', '1the', '2upgrade', '3it', 'amusing', 'multiply', 'thorn', 'extinguish', 'outpost', 'streak', 'supercool', 'comical', 'limb', 'obstacle', 'spiked', 'dockyard', 'respectful', 'unrealistic', 'decoration', 'gender', 'digging', 'hopper', 'miner', 'assassinate', 'godfather', 'scarface', 'downtown', 'cripple', 'gamble', 'feud', 'mobster', 'commissioner', 'align', 'kremlin', 'snag', 'painting', 'swindle', 'cheat', 'blackmail', '19th', 'rapid', 'pendragon', '112000word', 'bastard', 'heroically', 'dally', 'elsewhere', 'merciful', 'henchman', 'bail', 'silo', 'snitch', 'wed', 'corporate', 'biomechanical', '2173', 'political', 'twelve', 'godhood', '160000', 'textbased', 'effects', 'muse', 'oppressed', 'wireless', 'celebrity', 'betray', 'senator', 'sparkle', 'opposite', 'midday', 'saloon', 'founder', 'wealthy', 'cattle', 'sphere', 'aimlessly', 'doubt', 'affiliate', 'county', 'billy', 'exam', 'prep', 'spacing', 'shorter', 'productive', 'retain', 'retrieval', '06', '07', '08', 'webbing', '09', 'structural', 'extrication', 'forcible', 'ventilation', 'hose', 'emergency', 'identification', '725', 'detective', 'examine', 'evidence', 'leverage', 'messenger', 'forensic', 'swimming', 'rainfall', 'fantastically', 'reversing', 'verdict', 'strategist', 'anomaly', 'pitting', 'shattering', 'unsupported', 'humidor', '13000', 'manufacturer', 'wrapper', 'tobacco', 'retail', 'unbiased', 'journal', 'clearly', 'categorize', 'gateway', 'humidity', 'smoked', 'refill', 'lighter', '150000', 'chaser', '137', 'tease', 'painfully', 'superpowered', 'enlist', 'mercilessly', 'strafe', 'roast', 'bean', 'agency', 'supper', 'static', 'creed', 'renaissance', 'berserker', 'quietly', 'patron', 'survivability', 'assignment', 'stare', 'velocity', 'spotter', 'animus', 'templar', 'mo', 'brigade', 'literally', 'messy', 'versatile', 'demolisher', 'taunt', 'crusher', 'heck', 'frighteningly', 'barcelona', '20000', 'specialization', 'mc4', '512', 'consequence', 'rewind', 'photography', 'investigating', 'amber', 'preferable', 's7', 'v20', 'g6', '3t', 'p10', 'examiner', '8510', 'climax', 'has', 'outdo', 'telltale', 'quantic', 'gladiatorial', 'spoiled', 'rearm', 'spoil', 'dismember', 'voiced', 'impale', '2035', 'rural', 'weed', 'sour', 'daddy', 'dispensary', 'strain', 'renovate', 'ta', 'elevated', 'entrepreneur', 'wiz', 'khalifa', 'herb', 'hydroponics', 'brawling', 'antitank', 'serving', 'honest', 'coalition', 'determined', 'detonation', 'purely', 'plentiful', 'fascination', 'chip', 'orgy', 'rings', 'canon', 'crab', 'prone', 'stem', 'sporting', 'cal', 'hut', 'flamer', 'lean', 'decimate', 'breacher', 'radioman', 'ms2', 'celebration', '25ghz', '2g', '20th', 'shy', 'wildlife', 'observer', 'scent', 'tranquilizer', 'zimbabwe', '099usd', '199usd', '499usd', '1299usd', '1999usd', 'renew', 'fee', 'supposed', 'lieutenant', 'wreckage', 'incorporated', 'stomp', 'foil', 'sniffing', 'precisely', 'tightly', 'herbivorous', 'carnivorous', 'prehistoric', 'crossbreed', 'crossed', 'pa', 'halt', '4force', '1games', 'obstruction', 'posting', 's8', 'subdue', 'tremble', 'bleak', 'grassland', 'lightening', 'uniqueness', 'literature', 'paleontological', 'shining', 'paleontology', 'blueprint', 'fasten', 'caza', 'gratis', 'noiselessly', 'sum', 'tamer', 'mammoth', 'pix', '10th', 'mini', 'tinylegends', 'crasher', 'descendant', 'collectable', 'ambitiously', 'angler', 'tension', 'aquarium', '403', 'sabertooth', 'woolly', 'climate', '37games', 'relocate', 'drinking', 'evacuation', 'importance', 'visitor', 'enthusiastic', 'selling', 'reply', 'retina', 'rearrange', 'untouched', 'extinct', 'dreamt', 'asteroid', 'fossil', 'season1', 'season2', 'season3', 'season4', 'season5', 'docile', 'rex', 'overgrown', 'listening', 'imply', 'governor', 'sponsor', 'circuit', 'rivalry', 'bluff', 'intuition', 'flush', '100000', 'multimillion', 'bracelet', 'royalty', 'anonymously', '250000', 'slot', 'steamy', 'cheating', 'ban', 'coach', 'howdy', 'amarillo', 'gin', 'rummy', 'regal', 'skeet', 'rib', '5cd', 'privately', 'cribbage', 'euchre', 'contribution', 'structure', 'jab', 'uppercut', 'bone', 'backgammon', 'tabula', 'tabla', 'shutting', 'deadwood', 'undercut', 'concrete', 'recreation', '3000', 'adopted', 'travelled', 'largely', 'doubling', 'subsequent', 'puff', 'notebook', '81612g12v12semiauto410', '22330833850', 'ballistic', 'elk', 'calf', 'hare', 'rabbit', 'goose', 'woodcock', 'partridge', 'pheasant', 'grouse', 'capercaillie', 'binocular', 'conner', 'wished', 'blackjack', '1000x', 'trend', 'crop', 'prostyle', 'fold', 'billionaire', '30000', 'baccarat', 'betting', 'millionaire', 'cheerio', 'sarcastic', 'parody', 'blended', 'disgusting', 'cucumber', 'couch', 'inflamed', 'vegetarian', 'freezer', 'harry', 'harmless', 'zac', 'squish', 'brainless', 'frosty', 'stimulate', 'cleanup', 'banner', 'kitten', 'unraveling', 'tolerance', 'godly', 'appealing', 'z1988n1', 'flu', 'ration', 'curfew', 'dusk', 'substance', 'experimentally', 'injured', 'regenerate', 'empathy', 'mentally', 'uninfected', 'brass', 'sealed', 'governmental', 'infrastructure', 'sunlight', '900', 'supernatural', '6eyes', '2100', '2101', '2102', 'soil', '49', 'cherry', 'continual', 'almanac', 'snail', '600000', 'unrelenting', 'collision', 'ons', 'nucleus', 'manipulation', 'partial', '126', 'clearance', 'ambitious', 'plagued', 'unending', 'behave', 'sprouting', 'hurried', 'plough', 'cartman', 'kyle', 'randy', 'tsantsa', 'wast', 'prowl', 'morbid', 'gladly', 'learnt', 'nurse', 'exception', 'configure', 'recycle', 'elevator', 'overseer', '10tons', 'compassion', 'decisively', 'stinking', 'intact', 'classy', 'sledge', 'harvester', 'buffed', 'nitro', 'presentation', '710', 'fascinated', 'where', 'dragons', 'what', 'disorder', 'rover', 'beta4', 'colonize', 'distress', 'lack', 'climatic', 'accelerator', 'surface', 'limbo', 'sparking', 'telephone', 'corpse', 'drastically', 'resort', 'possessed', 'waged', 'blake', 'avenge', 'remind', 'bustling', 'strangely', 'unaffected', 'defenseless', 'morality', 'theatrics', 'reinvent', '2030', 'tunnel', 'hip', 'rabid', 'diseased', 'pathway', 'carpet', 'brewing', 'aviation', 'stereo7gamesgmailcom', '96', 'namely', 'idler', 'shovel', 'decrepit', 'wiggly', 'chart', 'resisting', 'aggression', 'sluggish', 'grown', 'imprisonment', 'terrors', 'robin', 'faithful', 'sunrise', 'bombard', 'resourceful', 'pepper', 'dart', 'pencil', 'altitude', 'newsletter', 'drill', 'cherish', 'proving', 'whirl', 'cloak', 'cleave', 'rend', 'beastly', 'catacomb', 'union', 'overlord', 'supercharged', 'averse', 'indiscriminate', 'passage', 'rigorous', 'inept', 'unplanned', 'wooden', 'complicate', 'barbed', 'wire', 'stall', 'synthetic', 'synthesis', 'synthesize', 'trench', 'snout', 'wiggle', 'initiate', 'skeleton', 'scythe', 'follower', 'considered', 'incalculable', 'compulsory', 'solidly', 'honesty', 'discerning', 'externally', 'linkage', 'gunship', 'ac130', '25mm', '40mm', '105mm', 'howitzer', 'limbic', 'boatload', 'superstrong', 'leak', 'margin', 'decisive', 'oncoming', 'suspension', 'imminent', 'awfully', 'situated', 'gadget', 'sigma', 'concerning', 'nonsense', 'scrounge', 'chow', 'splatter', 'uncompromising', 'writer', 'jay', 'capitalize', 'folklore', '12ghz', 'tab3', 'reserve', 'absorbed', 'platoon', 's9', 'lightweight', 'equalizer', 's9s', 'shaped', 'gesture', 'overlay', 'sorts', 'scour', 'airlift', 'apparel', 'centurion', 'beer', 'scavenger', 'writing', 'spawning', 'grenadier', 'flamethrower', 'ion', 'splitter', 'spawner', '24h', 'sufficient', 'personnel', 'bribe', 'fabricate', 'surplus', 'deployment', 'relaunch', 'ticking', 'lifesaving', 'honoree', 'annual', 'noteworthy', 'geographic', 'instructor', 'wiseman', 'kandahar', 'or', 'invaluable', 'edible', 'medicinal', 'morse', 'compass', 'tackling', 'welding', 'flyable', 'mig17pf', 'mig21f13', 'fishbed', '1964', '1965', 'mud', 'inbuilt', 'alter', 'font', 'inexpensive', 'adjacent', 'secondly', 'encircle', '15turnversion', 'nonpersonal', 'constructive', 'reset', 'tailless', 'b2b', 'dronedr6l', 'dronedr2a', 'кри2012', 'vlad77', 'radiated', 'fallout12', 'unscathed', 'cuttingedge', 'optimised', 'counterpart', 'cock', 'discharge', 'g18', 'mp5a3', 'm80', 'g36k', 'm1911', 'ppsh41', 'm1', 'm1918a2', 'm1897', 'sten', 'm1928a1', 'luger', '9mm', 'p38', 'mp40', 'stg44', 'fg42', 'mg42', 'mp445', 'sr2m', 'pp19', 'saiga12', 'stain', 'microwave', 'bother', 'dude', 'fling', 'skating', 'skater', 'hula', 'hoop', 'wrecking', 'neck', '3200', 'flora', '3700', 'ist', 'sie', 'wird', 'uva', 'seiner', 'galt', 'prof', 'thema', 'er', 'missionary', 'pathfinder', 'prophetic', 'ministry', 'church', 'amor', 'al', 'dar', 'padre', 'ti', 'mano', 'ser', '145', 'ni', 'ley', 'dolor', 'embargo', 'medio', 'bien', 'tristeza', 'flores', 'aire', 'paternal', 'yo', 'mi', 'vista', 'tal', 'lento', 'hasta', 'speaker', 'voiceless', 'greet', 'sniff', 'fetch', 'marry', 'excuse', 'paw', 'collar', 'leash', 'lanyard', 'accents', 'illuminate', 'nighttime', 'nap', '1hr', 'bye', 'spet', 'novelty', 'attached', 'clipped', 'handwrist', 'apostolic', 'vicinity', 'congregation', 'congregational', 'scripture', 'baptism', 'sealing', 'communion', 'contemporary', 'pastoral', 'gospel', 'catholic', '1863', 'bride', 'component', 'accountability', 'inherent', 'politically', 'voluntary', '243', '8051', '2994100', '2994200', 'springing', 'crate', 'trolley', 'altogether', 'payday', 'criminally', 'flamingo', 'dolphin', 'spitting', 'camel', 'pancake', 'spit', 'alma', 'hoy', 'poco', 'smasher', 'timberman', 'precariously', 'spice', 'seemingly', 'exorcist', 'pinball', 'suppress', 'plantlike', 'devourer', 'projectile', 'gutter', 'window', 'patience', 'pyramid', 'interrupted', 'forty', 'solvable', 'cumulative', '32000', 'flood', 'drown', 'hello', '2300', 'flown', 'crossword', 'scramble', 'backwards', 'diagonally', 'salt', 'lake', 'phrase', 'captive', '450', 'pal', 'maximus', 'dozens', 'tons', 'laughter', 'signatory', 'polearm', 'javelin', 'specify', 'spearman', 'gobble', 'conga', 'wired', '2009', 'hornet', 'remarkably', 'wonderfully', 'astounding', 'married', 'afternoon', 'mansion', 'shrewd', 'sleuth', 'decode', '38', 'insect', 'shadowy', 'basement', 'beneath', 'guile', 'silk', 'demise', 'gaping', 'maw', 'lifesaver', 'hung', 'unpleasant', 'vengeful', 'chivalry', 'poly', 'brutally', 'mister', 'antagonist', 'ironman', 'surf', 'lawgiver', 'thirty', 'norm', 'judge', 'singlestick', 'commendation', 'revolting', 'delirious', 'delight', '390', 'outfit7s', 'contextual', 'unbelievable', 'trek', 'crept', 'sworn', 'installment', 'brainy', 'accustomed', 'groovy', 'spoke', 'headed', 'sow', 'hatred', 'speechless', 'unconquerable', 'ballista', 'wildfire', 'geek', 'amazed', 'diehard', 'pleasantly', 'smile', 'violet', 'cooler', 'inflate', 'hinterland', 'otherworldly', 'antihero', 'defiant', 'mummy', 'minded', 'wicker', 'hallowed', 'thy', 'maiden', '768mb', '800x480', 'encourage', 'nodding', 'poignant', 'subtext', 'executed', 'richly', 'unsettling', 'groot', 'venom', 'iso8', 'agenda', 'hulk', 'frank', 'rapture', 'daredevil', 'noir', 'row', 'successor', 'kamala', 'khan', 'demiurge', 'd3', 'convergence', 'metropolis', 'persona', 'dominant', 'rita', 'sizzling', 'backed', 'convinced', '13500', '27000', '7day', 'wasp', '25000', 'merchandise', 'billing', 'walt', 'targeted', 'television', 'myth', 'graphically', 'pantheon', 'ascender', 'enslave', 'undertake', 'skills', 'tenebrous', 'unearthed', 'vessel', 'regime', '1afk', '2idle', '3developing', '4immersive', 'compose', '5crossserver', 'uniting', 'voltage', 'manga', 'unsealed', 'levitation', 'feist', 'persevere', 'beck', 'flurry', 'plug', 'promotional', 'toggle', 'lego', 'clap', '22gb', '11gb', 'advise', 'hogan', 'sting', 'inring', 'webby', 'bliss', 'seth', 'undertaker', 'attitude', 'lynch', 'simultaneous', 'squared', '421', 'bret', 'hart', 'fiend', 'bray', 'cole', 'mat', 'chamber', 'ramp', 'attire', 'freak', 'greeny', 'responsibility', 'tweet', 'authorized', 'v420', '02132020', 'appreciation', '0159', '02172020', 'stride', 'realizing', 'defined', 'alignment', 'redouble', 'e3', '2019s', 'distilled', 'finesse', 'dribble', 'trapping', 'individuality', 'purchasable', 'morph', 'mowing', '9v9', 'ridable', 'shuffling', 'literal', 'ssj2', 'ssj3', 'ssj4', 'redeem', 'monk', 'auction', 'mailbox', 'battles', 'heroes', 'some', 'this', 'wintry', 'gnome', 'brock', 'highflying', 'flair', 'affiliation', 'powerhouse', 'technician', 'showman', 'reversal', 'reversed', 'kang', 'magneto', 'competitor', 'govern', 'owing', '2players', 'fracture', 'trilogy', '144gb', '735mb', 'federation', 'jinni', 'boba', 'undisputable', 'maker', 'indomitable', 'sparring', 'propose', 'resilience', 'glittering', 'combatant', 'bewildering', 'trample', 'mounting', 'aegis', 'untimely', 'immaculate', 'hauntingly', 'mother', 'jackman', 'announce', 'bout', 'academy', 'penalty', 'header', 'implement', 'preparation', 'speedy', 'blind', 'incorporation', 'electrical', 'compensate', 'awakens', 'poe', 'bb8', 'retold', 'untold', 'blaster', 'conference', 'electrify', 'ivy', 'managerial', 'greave', '75253', 'buildable', 'r2d2', 'droids', 'leia', '17101', 'accepted', 'instance', 'threaten', '76112', '60198', '60197', '4wheeldrive', 'whistle', 'announcement', 'handset', 'infrared', 'fellowship', 'fouler', 'merry', 'pippin', 'emmet', 'mistakenly', 'tyrant', 'hopelessly', 'hilariously', 'benny', 'gulch', 'cuckoo', 'grundy', 'incognito', 'populate', 'obsidian', 'glaive', 'ninjago', 'ronin', 'serpentine', 'admit', 'nimble', 'astronaut', '60228', 'knob', 'booklet', 'dismantle', 'redbeard', 'reed', 'um', 'converse', 'tan', 'parker', 'warner', 'consideration', 'hex', 'droid', 'personable', 'induction', 'bluetooth', 'autonomous', 'holographic', 'basilisk', 'granger', 'comedic', 'minecraft', 'comics', 'kai', 'positively', '812', 'revealing', 'identifiable', 'whatsoever', 'squirrel', 'poster', 'arachnid', 'quake', 'younger', 'seeing', 'colorable', 'filling', 'eraser', 'cognitive', 'encouragement', 'duplo', 'of', 'framework', 'developmental', '25yearolds', 'partner', 'kindergarten', 'compliant', 'swinging', 'anchored', 'thwart', 'mandatory', 'retract', 'directive', '3456', 'allegiance', 'roadblock', 'baroness', 'hiss', 'mamba', 'emerald', 'd3publisher', 'speedster', 'ambulance', 'gange', 'arrest', 'bulk', 'transforming', 'hippo', 'frighten', 'attentive', 'aka', 'jail', 'upheaval', 'tyranny', 'unlawful', 'exploitation', 'possessing', 'secretly', 'sincere', '932757793', 'jinyebuzhidao003gmailcom', 'ssj234', 'coherent', 'sensory', '703', 'transformable', 'bot', 'tortoise', 'engrossed', 'pleasing', 'thunderbolt', 'firelock', 'cruelty', 'sobbing', 'summit', 'palace', 'lady', 'kishimoto2007', 'gree', 'normally', 'restless', 'gal', '2year', 'occasion', 'aristocracy', 'strife', 'fabric', 'harrowing', 'gta5', 'imbue', 'blessing', 'wedding', 'immortality', 'embedment', 'kiss', 'cultivation', 'charisma', '3world', 'refuse', 'transmogrify', 'servant', 'alluring', 'deity', 'mound', 'sexual', 'playing', 'appropriately', 'sage', 'fae', 'paired', 'flamboyant', '2mobile8unaliscomtw', 'mobile8unaliscomtw', 'lute', 'domine', 'tornese', '25v25', 'rie', 'coexisted', 'jeopardy', 'striving', 'too', '370688550', 'libra', 'marina', 'ablaze', 'masami', 'teenage', 'shredder', 'awry', 'bebop', '5on', 'shred', 'eu', 'hiccup', 'toothless', '2499', '4799', '8499', 'electrooptical', 'scorer', 'strikers', 'melting', 'pot', 'intention', 'awake', 'bloodsucking', 'mojo', 'manic', 'buttercup', 'blossom', 'snuggle', 'allegro', 'dasher', 's19', 'consecutive', 'cove', 'showboat', 'steed', 'tyrannical', 'supportarea730com', 'zany', 'mythology', 'genetic', 'babirusa', 'peculiar', 'stew', 'ladybug', 'carapace', 'bubbler', 'stormy', 'hatchling', 'hen', 'seance', 'tunable', 'treachery', 'illustrious', 'smite', 'rushing', 'evolvement', 'brothers', 'dentist', 'narration', 'st', 'diversion', '1all', 'leather', 'x20', '2625', 'considerable', 'admission', 'vending', '369', 'embarrassed', 'miscellaneous', 'vibration', 'cheetah', 'ticked', 'brace', 'crouching', 'adorably', 'triad', 'dirty', 'scenic', 'stumble', 'lengthy', 'tiring', 'ill', 'lin', 'reflex', 'utterly', 'drain', 'energize', 'barred', 'tron', 'bogo', 'husband', 'stitch', 'timon', 'merlin', 'sparrow', 'corrupting', 'hood', 'wonderland', 'eve', 'maleficent', 'teaming', 'wrb2', 'diversify', '67', 'mx2', 'assessed', 'sneaker', 'restock', 'wobble', 'harbour', 'playstation', 'dutch', 'ps4', 'refreshingly', 'dualshock', 'dauntless', 'behemoth', 'locker', '2gbram', 'plush', 'tumble', 'epically', 'rag', 'pedal', 'brake', 'heading', 'repeated', 'nether', 'irrational', 'quan', 'bauxite', 'vindicate', 'rhino', 'transmute', 'agitate', 'penetrate', '82', '07079188787', 'readable', 'antenna', 'visible', 'lollipop', 'personalization', 'azimuth', 'magnetic', '6000', '6400', 'latitude', 'longitude', 'rite', 'retribution', 'infuse', 'declination', 'correction', 'relative', 'altimeter', 'elevation', 'computation', 'egm96', 'calibration', 'inaccurate', 'compute', 'lionheart', 'mistral', 'sector', 'bios', 'ama', 'undisputedly', 'cadre', '450sx', '250sx', 'gracefully', 'concentrate', '6000000', 'fifth', 'wingman', 'subjugate', 'coolish', 'feudal', 'mystic', 'bait', 'tavern', 'amateur', 'muddy', 'raving', 'cutthroat', 'crest', 'protector', 'grouping', 'absurd', 'discordgg3hybsbh', 'facebookcomgroups331190410997357', 'unepic', 'classification', 'clover', 'airing', 'behold', 'wrath', 'dejected', 'suspicious', 'guan', 'fei', 'bu', 'icy', 'comeback', '365', 'arbitrary', 'congress', 'krypton', '724', 'enchantment', 'waver', 'joke', 'embody', 'seer', 'authoritative', 'newspaper', 'insider', 'independence', 'constitutional', 'editorial', 'motto', 'journalism', 'regionally', 'xi', 'extradition', 'politics', 'belt', 'spotlight', 'insightful', 'bookmark', 'topic', 'conservation', 'conservationist', '1937', 'cleverness', 'regions', 'each', 'then', 'meta', 'alternating', 'playstyle', 'champions', 'no', 'guessing', 'abundance', 'affinity', 'vanilla', 'inflation', 'inquire', 'approximate', 'swore', 'thereby', 'meddling', 'joust', 'eldritch', 'squire', 'cultist', 'investigator', 'rotten', 'can', 'popcorn', 'am730', 'herald', 'yahoo', 'lowly', 'larva', 'hive', 'elixir', 'warper', 'pillow', '20172018', 'teamer', 'hassle', 'viewable', 'gunpowder', '440000', 'gallant', 'scoundrel', 'bravado', 'penury', 'equestrian', 'dressage', 'organizer', 'viewer', '360º', '1550', 'inseparable', 'kinship', 'backbone', 'friends', 'cheval', 'trio', 'imitation', 'affectionately', 'beset', 'blight', 'indelible', 'cheerful', 'booting', 'goalkeeper', 'mayor', 'deactivate', 'bench', 'valiant', 'deliberate', 'retaining', 'versatility', 'potent', 'organized', 'cleaner', 'weekday', 'cofounder', 'virgin', 'investor', 'neal', 'almighty', 'forging', 'cuddle', 'buildings', 'abound', 'annoy', 'fitted', '2k', 'mynba2k20', '2k20', 'whereas', 'imaginable', 'rep', 'nitrous', 'thrust', 'rubber', 'justify', 'orchestral', 'masterfully', 'kernel', 'hapless', 'grace', 'tickle', 'tie', 'clumsiness', 'euphoria', 'believable', '3x', 'dip', 'weave', 'lend', 'investment', 'remark', 'territorial', 'acquisition', 'intersection', 'unnecessary', 'chuckle', 'mockery', 'warped', 'lina', '10000', 'interstitial', 'refresh', 'withdrawing', 'notation', 'gdm201801051389', 'gdm201712281253', 'gdm20171212944', '60092591', 'gdm20171212939', 'recognize', '317', '1100', 'elementary', 'memorization', 'memorize', 'mnemonic', 'retention', 'alphabetical', 'interfere', 'textbook', 'leaping', 'muffin', 'fertilize', '25d', 'cuddly', 'butter', 'chicky', 'collapse', 'vigilante', 'pablo', 'bolster', 'preserve', 'parse', 'copied', 'etymology', 'etymological', 'unsure', 'collage', 'scrappy', '103', 'estimator', 'expiration', 'quantity', 'supplier', 'approval', 'inbound', 'calculating', 'profitability', 'accessory', 'credential', 'encrypt', 'dod', 'regulated', 'absent', 'generic', 'commercial', '817', '4785070', 'iso', '7816', '6887', 'hspd12', 'omb1111', '1402', '201', 'integral', 'ecosystem', 'dysentery', '1840s', 'beth', '90day', 'module', 'uplifting', '3736', '2347', '279', '135', '112', 'aquatic', '440', 'grasslike', 'fernlike', '192', 'mosslike', 'seaweed', 'lichen', 'drafting', 'complexity', 'ignore', 'compassionate', '2003', 'nonprofit', 'interview', 'sanity', 'fare', 'mythos', '1920s', 'partnership', 'ambient', 'chad', 'fifer', 'graham', 'plowman', 'athletic', 'recruiting', 'describe', 'hemisync', 'systemization', 'standardization', 'visibility', 'nameless', 'typical', 'convey', 'shipwreck', 'careless', 'dwelling', 'deathly', 'procedural', 'invoke', 'irretrievably', 'university', 'provider', 'shrouding', 'heroine', 'flirt', 'guru', 'cathedral', 'seine', 'dating', 'inimitable', 'pont', 'tone', 'verse', 'deepen', 'nat', '4k', 'subscriber', 'memo', 'fabulous', '1tap', '2create', '3tap', 'handwriting', 'insert', 'opacity', 'colour', 'import', '2select', '2register', 'detach', 'privilege', 'glare', 'sleek', 'loud', 'inform', 'peel', 'icing', 'pipe', 'birthday', 'smoothing', 'excel', 'percentage', 'sneakiness', 'caption', 'astrological', 'bond', 'snapping', 'spontaneous', 'curate', 'rap', 'trim', '4g3g2gedge', '911', 'internationally', 'confusion', 'hulu', 'profiles', 'networks', 'hbo', 'showtime', 'cinemax', 'starz', 'shows', '85000', 'emmy', 'handmaid', 'uninterrupted', 'measurement', 'unaffiliated', 'behavioral', 'basket', 'melody', '6090', 'affordable', 'samsonite', 'ray', 'tommy', 'lingerie', 'jean', 'underwear', 'fitness', 'perfume', 'lipstick', 'pharmacy', 'finder', 'registry', 'reorder', 'receipt', 'eligible', 'footer', 'relay', 'browsing', 'tester', '7th', '14th', 'decking', 'niche', 'paternity', 'binge', 'cent', 'just', '1click', 'safeguard', 'pandora', 'continually', '1400', 'my', '499', 'pending', 'eligibility', '499month', '999month', 'misplace', 'visa', 'deposit', 'portfolio', 'brokerage', 'insured', 'routing', 'employer', 'ach', 'communal', 'anna', 'genuinely', 'briefing', 'newsstand', 'restaurant', 'reviewer', 'cacophony', 'civic', 'logical', 'unimagined', 'spoof', 'subvert', 'fever', 'picnic', '110000', 'breakfast', 'lunch', 'conveniently', 'happier', 'alto', 'peninsula', 'cheesecake', 'southwest', 'grill', 'chang', 'papa', 'murphy', 'lobster', 'legally', 'blonde', 'overboard', 'swoon', 'bale', 'cooper', 'reese', 'smith', 'paramount', 'zodiac', 'unsolved', 'ditch', 'nationwide', '230', '001', 'transcription', 'transcript', 'caller', 'forwarding', 'synchronize', 'elastic', 'yearly', 'lotto', 'raffle', 'softball', 'peyton', 'manning', 'durant', 'morgan', 'espn2', 'espn3', 'contractual', 'butler', 'swapping', 'naughty', 'cozy', 'furnishing', 'orangery', 'drum', 'pianist', 'magictiles3supportamanotescom', 'incorporate', 'flavor', 'nab', '3dis', 'minutes', 'airport', '630', 'worldwide', 'download', 'uberpool', 'options', 'accessibility', 'encryption', 'fraud', 'fingerprint', 'activation', 'recipient', 'sender', 'splitting', 'settling', 'napkin', 'concert', 'mastercard', 'pursuant', 'crooked', 'bayou', 'flavour', 'luxurious', 'troll', 'slacking', '164', 'p1', 'gt3', 'reflection', 'rev', 'fault', 'gangs', 'mixer', 'undying', 'secretary', 'uncle', 'morally', 'bankrupt', 'particle', 'desirable', 'weaving', 'psychopathic', 'undercover', 'rideable', 'informative', 'sultan', 'morale', 'psychopath', 'nights', 'detention', 'fright', 'hospital', 'poltergeist', 'terrify', 'bewilder', 'psychotic', 'slasher', 'agony', 'independently', 'racy', '512mb', 'ford', 'canyon', 'chapel', 'abre', 'entrá', 'juego', 'modo', 'fin', 'diseños', 'junto', 'llama', 'mapas', 'millones', 'acción', 'redadas', 'sugerencias', 'muchas', 'feather', 'serval', 'troubling', 'scepter', 'perfidiously', 'appoint', 'transparent', 'comply', 'unity3darpg210', 'q3d3d', 'boarding', 'spoilt', 'untalented', 'aristocrat', 'ba', 'petty', 'tantrum', 'avail', 'rightfully', 'nope', 'gan', 'liang', 'deviousness', 'courageousness', 'midrange', 'reinforcement', 'composition', 'materialize', '3glte', '6ials6ykjb4a', '202031', '2020331', 'refinement', 'vacant', 'pillage', 'interrupt', 'banning', '1g', 'bobby', 'banditry', 'lawlessness', 'looming', 'homunculus', 'sensational', 'com2us', '495', 'amidst', 'stressfree', 'restriction', 'crusade', 'smithy', 'proceeding', 'dominated', 'mythological', 'scrimmage', 'frontal', 'relish', 'admiration', 'unearth', 'revered', 'jealous', 'adoration', 'consuming', 'hexa', 'selective', '573', 'pastor', 'exert', 'sleeping', 'very', 'gr8', '128', 'concise', 'emailjwu898163com', 'recruitable', '35mb', 'hypothetical', 'biosphere', 'anticipation', 'promptly', 'ruthlessly', 'dune', 'favored', 'refinery', 'broad', 'converge', 'v12', 'v13', 'upheld', 'depict', 'warsaw', 'occult', 'commonwealth', 'battalion', 'flanking', 'indirect', '2pdr', 'ivf1', 'ivf2', '15turn', 'handygames', 'emplace', 'atlantic', 'fixable', 'maritime', 'ponder', 'depiction', 'dotted', 'dimmed', 'innumerable', 'initiative', 'inshore', 'hegemony', 'minimize', 'starcraft', 'derelict', 'venerable', 'quadrant', 'cumbersome', 'horrendous', 'knit', 'unison', 'receptive', 'styling', 'vastly', 'blowing', 'refuel', 'vulnerable', 'sanely', 'overheat', 'misfire', 'm4sherman', 'evasive', 'freight', 'vol2', '2223recommended', 'required', '480', 'repose', 'detection', 'antivirus', 'multinational', 'shader', 'ps4xbox', 'illumination', 'tankspanzer4panther', 'warmongering', 'punish', 'sociable', 'flashing', 'occupation', 'superposition', 'accommodate', 'embassy', 'appeasement', 'demonstration', 'fallback', 'kinetic', 'creeping', 'miasma', 'ether', 'sporadically', 'cease', 'cosmos', 'pharmaceutical', 'fringe', 'prosperously', 'insular', 'miasmic', 'splinter', 'intend', 'swelling', 'pollutant', 'macrocosm', '81', 'bluebird', 'gman129', 'solar', 'saxie81', 'wong', 'githubcomjfeinstein10slidingmenu', '20142019', '20122019', 'piranha', 'unfolded', 'crisply', 'neglect', 'commuting', 'stiff', 'torpedo', 'chronicle', '1940', 'spite', '20turn', 'buoyancy', 'shore', 'influential', 'pitted', 'nebula', 'splendor', 'gap', 'jackal', 'ecstasy', '5d', 'seasonality', 'armajet', 'getaway', '37', 'weekend', 'autoscope', 'slender', 'voicing', 'nonetheless', 'pictorial', 'accordance', 'economical', 'sorted', 'grouped', 'booked', 'fortnight', 'arbiter', 'botch', 'b1000', 'huggable', 'chub', 'sensitivity', 'fpsmoba5v5moba', '5v5moba', '3dpk3d', '5fps', 'tempo', 'hweyugame2020gmailcom', 'watchout', 'freetowin', 'т90', 'т14', 'acoustic', 'ue4', 'aw', 'operator', 'inspect', 'analyze', 'inspector', 'wot', '1998', 'stalk', 'generalissimo', 't14', 'x86', 'fbmetanktastic3d', 'vkcomtanktastic3d', 'tanktastic3d', 't44100', '87', 'thet44100', 'statistical', 'kingtigerpanthert72t90leopard', 'iichieftainah64m2', 'bradleyah1uh60', 'nevertheless', 'ungraded', 'wn8', 'wn7', 'wn6', 'nickname', 'resupply', 'motivate', 'fascinatingly', 'napalm', 'deadliness', '8v8', 'timid', 'tradition', 'invent', 'confederation', 'ample', 'aow3geargamescom', 'unjustly', 'unchanged', 'finely', 'quantitative', 'particularly', 'penetration', 'selva', 'inc', 'reposition', 'parallax', 'bint', 'installer', 'bintmodid1', 'modification', 'exchangeable', 'operational', 'typhoon', 'salute', 'o7', 'suppressed', 'tula', 'frontline', '171', '7vs7', 'reconnaissance', 'coaxial', 'viewpoint', 'thorough', 'habitable', 'arisen', 'shin', 'radius', 'speeder', 'planetary', 'trader', 'mirage', 'headset', 'beacon', 'archivist', 'rebels', 'motoz2', 'responsibly', 'bose', 'carbon', '42', 'leer', 'representative', 'anticipate', 'dawning', 'prerelease', 'warranty', 'fx', 'stormtrooper', 'generating', 'associate', 'awareness', 'conn', 'civilized', 'kirk', 'boldly', 'kelvin', 'ob', 'jarrah', 'c3po', 'd0', 'woo', 'babu', '50on50', '2141', 'dispense', 'stubb', 'lawbreaking', 'dredd', 'router', 'r2d2s', 'superimposed', 'projector', 'conventional', 'spoken', 'throwdown', 'dad', 'gene', 'griffin', 'belcher', 'roger', 'onyx', 'propane', 'peggy', 'dale', 'temporal', 'voyager', 'sarcophagus', 'borg', 'collaboratively', 'maquis', '24th', 'disruptor', 'obi', 'likes', '233', 'excavation', 'bedrock', 'oversee', 'flourish', 'worthless', 'junk', 'dweller', 'barbershop', 'matchmaker', 'blasted', 'idyllic', 'multidimensional', 'grandson', 'yelling', 'council', 'pickle', 'distraction', 'futile', 'arbitration', 'replica', 'expressive', 'impressionable', 'villainous', '040421', 'sig', 'deflect', 'sidearm', 'migration', '2409', 'entirety', 'expeditionary', 'inexhaustible', 'radical', 'prewar', 'ff15', 'ruling', 'tapir', 'adaptive', 'sentence', 'backward', 'render', 'identically', 'intertwine', 'painstaking', 'marmots', '22google', 'pk', 'facebook', 'dryad', 'harshly', 'polymorph', '89100', 'carrot', 'fierceness', 'fearful', 'gallium', 'declare', 'somebody', 'mise', 'pour', 'continuer', 'clasher', 'tout', 'remarque', 'ce', 'connexion', 'sur', 'nous', 'generative', 'fearlessly', '863698346', 'moat', 'billboard', 'desk', 'pvp', 'chances', 'flew', 'doublehorned', 'annals', 'cok2clashofdragonshelpgmailcom', 'turbulent', 'yearn', 'cadence', 'seigneur', 'encore', 'ne', 'allemand', 'rouse', 'inviolable', 'jarl', 'flawless', 'diplomat', 'eclipse', 'erect', 'solidify', 'mightiness', 'unify', 'reshape', 'amazingly', 'highland', 'tsar', 'fiercely', 'pave', 'betraying', 'verbally', 'domain', 'accord', 'bolt', 'spellbinder', 'bearded', 'flung', 'disarray', 'triggered', 'whitebeard', 'nobility', 'garrison', 'headless', 'horseman', 'bide', 'emulate', 'empiresⅱ', 'joyful', 'covetous', 'stele', 'governance', 'vassal', 'unbreakable', 'bountiful', 'indecision', 'cowardice', 'osmanlisavaslari1299', 'errand', 'naga', '142', 'aspiring', 'blooming', 'wrestle', 'grog', 'oracle', '826894601', 'ave', 'antiquity', 'diabolical', 'disappoint', 'imprison', 'dukedom', 'prophet', 'unification', 'peasant', 'riots', 'napoleon', 'fledgling', 'mar', 'outgoing', 'outbox', 'indicator', 'consolidation', 'downgrade', 'lest', 'partake', 'hegemonic', 'kingship', 'masterful', 'havent', 'dime', 'uprising', 'economically', 'militarily', 'fulfillment', 'traveled', 'employee', 'inactivity', 'worker', 'mistrust', 'modernization', 'labor', 'discipline', 'fictional', 'favilla', 'arming', 'aide', 'decidedly', 'baton', 'knapsack', 'wellington', 'nelson', 'blucher', '18th', 'militiaman', 'cuirassier', '12lber', 'lancer', 'salary', 'holistic', '11slg', '1212', 'skyward', 'aoe2helpelexcom', 'shinning', 'maetch3', 'engulf', 'unheard', 'nutgame2014gmailcom', 'estimation', 'stonewall', 'ricochet', 'mitigation', 'clustering', 'bip47', 'deterministic', 'discernible', 'bip69', 'node', 'leakage', 'bip44bip49bip84', 'dial', 'bip39', 'client', 'tor', 'socks5', 'proxy', 'gleaming', '1784', 'geopolitical', 'nonaggression', 'voting', 'profitably', '1789', 'declaration', '39', 'adept', 'coe', 'attribute', 'survey', 'kiosk', 'unattended', 'questionnaire', 'surveying', 'poll', 'multilingual', 'comma', 'charting', 'label', 'surgically', 'disclosure', 'succession', 'covet', 'exhaust', 'arise', 'lust', 'undoubtedly', 'prosperous', 'boredom', 'crypt', 'altar', 'pompey', 'germanic', 'senate', 'triumphal', '3dq', 'magnificently', 'subcity', 'tibet', 'luna', 'wounded', 'ripping', 'longbow', 'subatomic', 'gaggle', 'winding', 'driest', 'sparkling', 'lair', 'pint', 'sized', 'surgeon', 'barnyard', 'languishing', 'onward', 'ardent', 'blindly', 'saturated', 'diagram', 'soulless', 'plotting', 'wellness', 'gleefully', 'exhausted', 'absorbing', 'culturally', 'walter', 'accidental', 'fifa19', 'tekken', 'funkiness', 'butch', 'pious', 'bagged', 'afford', 'egghead', 'illegally', 'incinerate', 'th12', 'th5', 'crucible', 'ww2themed', 'slave', 'administrate', 'monarch', 'oda', 'nephew', 'succeeding', 'bully', 'realist', 'yours', 'socket', 'banter', 'widowed', 'solely', 'repay', 'spectacularly', 'indeed', 'tormented', 'incomparable', 'tonight', 'kingliu7727gmailcom', 'valued', 'inheritor', 'discretion', 'sawmill', 'lv6', 'dispute', 'accelerated', 'it', 'vying', 'alchemy', 'dissatisfied', 'conspire', 'constrain', 'repress', 'empowerment', 'determination', 'sawing', 'tradesman', 'distribute', 'oath', 'covenant', 'nonpaid', 'economics', 'numberless', 'loveless', 'unsettled', 'eminent', 'fore', 'imperialist', 'deceiving', 'prune', 'its', 'meditative', 'filler', 'monetization', 'script', 'tranquil', 'poetry', 'articulate', 'powerfully', 'phonics', 'literacy', 'classroom', 'commonly', 'proceeds', 'charity', 'subsidiary', 'sustainable', 'systematic', 'lewis', 'maria', 'essentially', '1121957', 'petrified', 'peck', 'flightless', 'laura', 'dola', 'oboe', 'shearing', 'romero', 'teapot', 'eyeball', 'smarmy', 'cocreator', 'transmitter', 'kindhearted', 'willingly', '144', 'hoe', 'extending', 'specialist4gamer', 'paco', 'illusionary', 'subtly', 'predecessor', 'illusory', 'eclectic', 'melodic', 'steven', '80hour', 'garnet', 'alexandrite', 'betty', 'sugar', 'wasnt', 'rhythmic', 'percussion', 'repetition', 'nancy', 'drew', 'coder', 'spatial', 'algorithmic', 'ana', 'clark', 'chilled', 'percussive', 'puzzler', '98', 'teeming', 'nonorganic', 'slew', 'whopping', 'woodcutter', 'kamikaze', 'lander', 'liquid', 'instructive', 'ear', 'tablature', 'representation', '6strings', 'folk', 'bubble', 'bath', 'gently', 'stargaze', 'planetarium', 'evening', 'daytime', 'brushing', 'lever', 'ringing', 'semiprecious', 'geology', 'caroline', '1946', 'branded', 'ethical', 'damp', 'sparingly', 'crow', 'impossibly', '3gb', 'scholarly', 'bearer', 'conjure', '9th', 'detached', 'shortage', 'tumult', 'prophesy', 'avert', 'lascivious', 'concoct', 'persuade', 'pickable', 'repairable', 'shed', 'ramshackle', 'ragtag', 'winged', 'distinguish', 'benjamin', 'heedless', 'traveller', 'barter', '130k', '1936', 'bitterly', 'ideological', 'patriotic', 'anarchist', 'hellish', 'intolerance', '130000', 'righteous', 'exacting', 'soldiery', 'storied', '10foot', 'heritage', 'ritual', 'cope', 'exodus', 'gaslight', '277000word', 'heather', 'coauthor', 'afoot', 'gaslit', 'advocate', '465', 'illness', 'shrapnel', 'sloping', 'fatigue', 'administer', 'captivate', 'harbinger', 'warp', 'pocketing', 'conclusion', 'muster', '250000word', 'gay', 'runt', 'litter', 'kelly', 'thrall', 'asexual', 'gentle', 'obedience', 'continuity', 'shedding', 'redesign', 'shard', 'favorable', 'conclude', 'grave', 'chapman', '2013s', 'advisable', 'frigid', 'reclamation', 'birthplace', 'subjected', 'precipice', 'dry', '3stage', 'banker', 'snowflake', 'assuming', '1015s', 'abduction', 'hexagonal', 'malevolent', 'crowntakers', 'how', 'cram', 'frankly', 'winnable', 'thoughtful', 'beaten', 'besieging', 'margraviate', 'astral', 'enfeeble', 'steadily', 'twinkling', 'bracing', 'shady', 'troublesome', 'ransack', '260000word', 'bisexual', 'nullify', 'autopilot', '2315', 'faring', 'bargain', 'suppression', 'recommand', 'lecture', 'biology', 'poverty', 'selfish', 'interactivity', 'literary', '1800', 'article', 'circulation', 'snapshot', 'dow', 'dom', 'cord', 'squabbling', 'deft', 'helm', 'hull', 'bossy', 'depraved', 'topped', 'juggling', 'sulk', 'prevention', 'moody', 'establishment', 'newcomer', 's3a', 'listener', 'pregnant', 'psychiatric', 'preferably', 'nausea', 'dizziness', 'discomfort', 'dazed', 'nonbusiness', 'restraint', 'changeable', 'deliberation', 'righteousness', 'inherit', 'heirloom', 'singing', 'knightsofages2020gmailcom', 'diabolic', 'educationally', '11month', 'budge', 'studios', 'ski', 'legislation', 'chilling', 'haunt', 'ghostly', 'cheery', 'looping', 'entwined', 'mesmerize', 'freewheeling', 'permanence', 'executive', 'knack', 'expose', 'lighten', 'shampoo', 'rinse', 'revisit', 'eureka', 'trampoline', 'epoch', 'dissolving', 'vitamin', 'spherical', 'enduring', 'nickelodeon', 'agreed', 'baxter', 'stockman', 'saver', 'canine', 'boots', 'flowery', 'playa', 'will', 'enumeration', 'curriculum', 'tire', 'subtraction', 'curricular', 'cleaning', 'windshield', 'jakes', 'aloud', 'discrimination', 'animate', 'balloon', 'rectangle', 'triangle', 'storybook', 'carol', 'ballet', 'tappable', 'molly', 'giggling', 'ye', 'giggle', 'trollman', 'sprite', 'troublemaking', 'burp', 'phonemic', 'shimmer', 'genie', 'verbal', 'deductive', 'reasoning', 'bazaar', 'symmetry', 'symmetrical', 'vase', '13mission', 'jealousy', 'romancing', 'fey', '660', '820', '855', '980', 'sown', 'eternity', 'imposing', '15000', '8000', 'lawless', 'dealer', 'privileged', 'eighteen', 'sundry', 'onwards', 'uninjured', 'casuality', 'dueler', 'narr', 'awhile', 'remnant', 'sentinel', 'cruelly', 'downfall', 'grinder', 'impaler', 'witchcraft', 'hearthstone', 'necklace', 'rave', 'sash', '09gb', 'disk', 'virtuoso', 'breathless', 'unraveled', 'villager', 'v125', 'twittercomcom2us', 'facebookcomcom2us', '10gb', '14ghz', 'revocation', '1448134167', '97', 'schoolyard', '15yearold', 'hierarchy', 'scholarship', 'dissect', 'conjunction', '10012', '20052016', 'nontransferable', 'coincidental', 'endorse', 'transmission', 'rental', 'circumvention', 'strictly', 'jane', 'marco', 'hustler', 'fugitive', 'framed', 'gunplay', 'nvidia', 'tegra', 'processor', 'antistrophic', 'filtering', 'haptic', 'photon', '89', '133', 'jury', 'pax', '1979', 'washington', 'momentous', 'rami', 'characters', '19781981', 'hinge', 'filmic', 'eighty', 'archival', '21st', 'malit760mp8', 'carl', 'tearing', 'homicide', 'fidelity', 'palette', 'hopoff', 'prefect', 'preservation', 'chevron', 'barmaid', 'lawyer', 'stopover', 'automaton', 'alpine', 'inventor', 'pact', 'filmlike', 'framing', 'rio', 'buzzing', 'redeemer', 'itinerary', 'indignation', 'twister', '4vs1', 'paranormal', 'synchronous', 'etc', 'm32', 'm320', 'm2010', 'at4', 'glock19', 'stationary', 'flocking', 'gods', 'returns', 'uncanny', 'mundane', 'clockwork', 'wrack', 'pilfer', 'blessed', 'scatter', 'phenomenal', '300player', 'oblivious', 'borderless', 'unbridled', 'barbarous', 'yourself', 'obscure', 'infest', 'bravery', 'arid', 'regret', 'bard', '17gb', 'specification', '540', 'mali', 'weary', 'pointless', 'cleavage', 'bladder', 'narrator', 'autosave', 'timesavers', 'attainable', 'persistence', 'satire', 'f310510710', 'pivot', 'throttle', 'spine', 'northernmost', 'settled', 'carven', 'lance', 'debt', 'awful', 'stale', 'influx', 'asta', '12v12', 'stir', 'originality', 'windward', 'schooner', 'galleon', 'chromatic', 'watcher', 'goodwill', 'vermin', 'warlike', 'kindred', 'liberator', 'únete', 'oriental', 'forested', 'agile', 'visualize', 'transcending', 'nutshell', 'itch', 'deserved', 'creatively', 'viciously', 'motley', 'wondrous', 'gossip', 'pledge', 'feat', 'cautiously', 'affecting', 'teaser', 'renovation', 'flipper', 'decorator', 'grasscutter', 'pergola', 'ghoul', 'other', 'overhaul', 'rot', 'compost', 'pong', 'racket', 'spinner', 'paddle', 'puck', 'happiest', 'marmot', 'mascot', 'prankster', 'prank', 'souvenir', '750', 'agricultural', 'authentically', 'corn', 'tedder', 'windrow', 'bidder', 'chaff', 'homework', 'despicable', 'jerry', 'mel', 'surfer', 'movable', 'validate', 'neet', 'prodigy', 'association', 'profitable', 'dramatist', 'brew', 'ethereal', 'contains', 'squishy', 'platypus', 'zebra', 'foster', 'seaport', 'subjective', 'eh', 'wasted', 'top10', 'brett', 'ferociously', 'bamboo', 'chime', 'cradle', 'fifteen', 'lotus', 'theory', 'explicitly', 'enriching', 'yokee', 'fathom', 'enchiridion', 'wether', 'burrito', 'titular', 'washing', 'mingle', 'quintessentially', 'captious', 'institution', 'incomprehensible', 'timetable', 'debut', 'unveil', 'developmentally', 'foundational', 'academic', 'lifelong', 'implementation', 'donation', '7inches', 'sandwich', 'livelihood', 'tea', 'fried', 'salad', 'cola', 'homeless', 'spray', 'insecticide', 'kebab', 'المحدد', 'الزبون', 'فلافل', 'سلطة', 'بطاطا', 'مجانا', 'شكرا', 'jo', 'cretaceous', 'morphology', 'carnivore', 'paleontologist', 'archaeologist', 'scientifically', 'reconstructed', 'anatomy', 'perception', 'toddler', 'bark', '85', 'fourth', 'transportability', 'mathematics', 'multiplication', 'minus', '6x6', 'arithmetic', 'mathematical', 'sassy', 'spanking', 'clergy', 'oppression', 'conscious', 'dankness', 'graceful', 'groupfacebookcomgroups888581178210761', 'cricket', 'wicket', 'inviting', 'cortex', 'choker', 'brilliance', 'pawn', 'f2p', 'chess24com', 'shortly', 'storm2', 'doctoral', 'roadside', 'arcanum', 'regimen', 'cottage', 'heterosexual', 'th', 'gray', 'replan', 'infringement', '20022019', '19952019', 'taster', 'query', 'endorsement', 'sponsorship', 'herein', 'youtube', 'playhouse', 'narrate', 'sparked', 'cultural', 'significance', 'monuments', 'enlightened', 'ceremony', 'synchro', 'c20122013', 'spire', '7days', 'invizimals', 'invizimal', 'cavern', 'townspeople', 'been', 'ghoulled', 'sowing', 'fudge', 'fondue', '610', 'atrocity', '10000000', 'purification', 'appraisal', 'pasted', 'certainty', 'notable', '890', 'leaner', 'descubre', 'castellano', 'ma', 'thegamer6866', 'spigot', 'sponge', '152', '1144', 'reconnect', 'nonpremium', 'disconnected', 'technologically', '2000000', 'stealer', '64x32', '64x64', 'selector', 'gradient', 'dropper', 'redo', 'adhere', '1151', 'overworld', 'listing', 'republish', 'fashioned', 'gearing', 'disturbed', 'wing', 'swimsuit', '247365', 'suck', 'reliably', 'interval', 'unobtrusive', 'sauce', 'schematic', '550', 'moderator', 'fandom', 'administrator', 'resize', 'unblock', 'metallic', 'pipeline', 'accordingly', 'nonclassical', 'enthrallment', 'policeman', 'plumbing', 'flooded', 'bedlam', 'enterprising', 'motivational', 'toolbox', 'pickax', 'clearer', 'symbolical', 'isolate', 'maya', 'continuation', 'conundrum', 'revolving', 'helix', 'descent', 'madman', 'balancer', 'multicolored', 'judgment', 'humane', 'marble', 'sidenote', 'oneself', 'hander', 'removement', '501', 'cryptic', 'riddle', 'riddling', 'angel', 'archive', 'skittle', 'carpentry', 'marker', 'don', 'awkward', 'rusty', 'incognita', 'merely', 'embellish', 'afterwards', 'sandy', 'botanist', 'botanical', 'rotated', 'residential', 'bocce', 'continental', 'foresee', 'musically', '63', 'teeter', '102', 'staring', 'crafty', 'twisty', 'matchstick', 'solver', 'hilly', 'topple', 'frustration', 'watched', '202', 'unblocked', '3star', 'interrogate', 'becker', '1930s', 'hotel', 'occur', 'journalist', 'airy', 'whodunit', 'burglary', 'scouring', 'enforcement', 'detain', 'babe', 'forgery', 'mastermind', 'teasing', 'scandalous', 'opulent', 'miserly', 'coax', 'retirement', 'confound', 'batting', 'slogging', 'hellishly', 'nonsmoking', 'piecing', 'excitingly', 'bridal', 'salon', 'veil', 'groom', 'parlor', 'honeymoon', 'supersize', 'trapmaker', 'swept', '500yearold', 'philosophy', 'interpret', 'moron', 'idiot', 'kissing', 'riverside', 'gurl', 'lining', 'demi', 'treble', 'vocal', 'bra', 's18', 'contour', 'attentiveness', 'flirtatious', 'harem', 'childbirth', 'fortuneteller', 'occurrence', 'baffling', 'silhouette', 'rousing', 'perplexing', 'fountain', 'reinstate', 'cagey', 'famously', 'fixer', 'exteriors', 'rime', '111', 'pronounced', 'teasers', 'smuggle', 'midnight', 'deduction', 'fingerprints', 'sherlock', 'trivial', 'suggesting', 'willy', 'hector', 'spoiler', 'linguistic', 'florence', 'lily', 'smug', 'attorney', 'audacious', 'villainy', 'decadence', 'enigma', 'morocco', 'anagram', 'bulb', 'mosaic', 'discern', 'sorcerer', 'blackwood', 'pent', 'foresighted', 'demigod', 'crude', 'carried', 'snack', 'culinary', 'dough', 'crispy', 'moist', 'zesty', 'boil', 'saute', 'bistro', 'venue', 'dining', 'gourmet', 'supervisor', 'grandpa', 'flint', 'mutiny', 'sunk', 'overnight', 'eyesight', 'swan', 'croft', 'transferring', 'hiro', 'unwilling', 'out', 'fruity', 'bullion', 'coco', 'bobo', 'tiptop', 'leprechaun', 'gull', 'mavis', 'grounded', 'aunt', 'pedro', 'grounding', '4zone', '80level', 'mary', 'synchronization', 'shoe', 'bino', 'colleen', 'cloverleaf', 'supportlepsworld2com', 'ducking', 'nutty', 'acorn', 'manny', 'sled', 'scrat', 'kiddy', 'readjust', 'multiplier', 'freeing', 'simian', 'namesake', 'donkey', 'tee', 'permafrost', 'enemies', 'tragedy', 'brandish', 'octane', 'photograph', 'rattan', 'mono', 'slaved', 'galaxian', 'spaghetti', '10and', 'sealike', 'hoard', 'kidnap', 'bedroom', 'athletics', '2multiples', 'pac', '40th', 'chomp', 'pacman', 'blocks', 'relieve', 'navigator', 'tooth', 'scuffle', 'illuminati', 'snaker', 'amaze', 'nectar', 'snaking', '3p', '4p', 'monophonic', 'yılanثعبانเกมง', 'مارrắn', 'apartment', 'inversion', 'goldfish', 'micro', 'bread', '4players', '1234', '68', '12x15', 'proportion', 'diagonal', '80000', '20x20', 'unmarked', 'measured', 'moy', 'rode', 'bin', 'gosh', 'caterpillar', 'grandfather', 'pasture', 'inhabit', 'unfortunate', 'throat', 'antarctic', 'alligator', 'omnivorous', 'top50', '20000000', 'eyed', 'invasive', 'peckish', 'moray', 'eel', 'whale', 'hopefully', 'dubious', 'fiendishly', 'priced', '199', '229', 'copter', 'carter', 'dimps', '60fps', '9251000', 'armadillo', '23rd', 'scrap', 'stink', 'overflow', 'xlr8', 'gummy', 'tuba', 'rapper', 'starlit', 'guinea', 'teensy', 'diddy', 'disappointment', 'baller', 'bun', 'loop', 'scheming', 'devastatingly', 'educative', 'assimilate', 'alphabet', 'acquainted', 'analogical', 'ordination', 'psychomotor', 'stimulus', 'comprehension', 'transversal', 'implication', 'esteem', 'moonlit', 'moonlight', 'milady', 'nightmarish', 'invincibility', 'rattle', 's6s6', 'edges6', 's7s7', 's8s8', 'a5', 'a8', 's9s9', '2xl', 'r9s', 'r11r11t', 'v30', 'z5', 'slobby', 'affiliates', 'diet', 'kiki', 'pic', '122', '84', '442', 'smart4', 'instill', '275', 'lap', 'unbound', 'contemporaneity', 'apparent', 'accentuate', 'harmonic', 'volcanic', 'compliment', 'gp20', 'razer', 'hypercycle', 'shaker', 'jerker', 'coinage', 'brad', 'understood', 'player2', 'prickly', 'incentive', 'undesirable', 'savvy', 'sneaking', 'custody', 'breakdown', 'fascinate', 'pocoyo', 'skiing', 'sewage', 'supersecret', 'courageously', 'peacemaker', 'educate', 'metronome', 'chirpy', 'fluidly', 'annoying', 'gravitate', 'scourge', 'mona', 'heartbroken', 'adulthood', 'darling', 'unconventional', 'revel', '169', 'interpretation', '1886', 'psychological', 'succubus', 'from', 'intertwining', 'monetary', 'walled', 'expedient', 'insulated', 'isolation', 'woodland', 'unexplained', 'crib', '514f', '20052015', 'eruption', 'relatable', 'stereoscopic', '300000', 'comparable', 'antique', 'scifi', 'cs1nikkigamegmailcom', 'meadow', '12yo', '12year', 'untamed', 'trajectory', 'yin', 'yang', 'shifting', 'panoramic', '60000', 'stardom', 'campus', 'intimacy', 'below', 'emailgirls2carolgamescom', 'ra', 'pierced', 'changeling', '24hour', 'genetics', 'meaningless', 'dragonroot', 'hatchery', 'lucid', 'symbolism', 'lucy', 'watchmaker', 'beaver', 'psychiatrist', 'tara', 'interpreter', 'amuse', 'kite', 'compromise', 'psst', 'contrary', 'sustaining', 'burial', 'speech', 'archaeological', 'eavesdrop', 'blur', 'grandmother', 'sedentary', 'surfaced', 'unveiled', 'mild', 'candlelight', 'sultry', 'prissy', 'snooty', 'knee', 'sigil', 'caramel', 'maki', 'tarot', 'pronoun', 'employed', 'countess', 'rendezvous', 'quarrel', 'accused', 'outsider', 'portia', 'handmaiden', 'inclusive', 'lovably', 'iceberg', 'discoverable', 'coral', 'peacock', 'gram', 'geologic', 'primordial', 'entropy', 'singularity', 'speculative', 'organism', 'richness', 'eagerly', 'testament', 'iris', 'heiress', 'unmask', 'redecorate', 'lavishly', 'constrained', 'lizard', 'tidy', 'forecast', 'zest', 'inspirational', 'horoscope', 'artfully', 'quaff', 'mourning', 'rumor', 'shadows', 'gardening', 'revise', 'embracing', 'definitively', 'hoax', 'dragged', '5474', '836', '56', 'cousin', 'tow', 'tiffany', 'heartfelt', 'puzzled', 'printed', 'coincidence', 'affirm', 'untangle', 'concealed', 'cobweb', 'artistically', 'actress', 'colorfulness', 'evoke', 'designable', 'scarlet', 'handler', 'clockmaker', 'match2', 'countryside', 'bent', 'bestiary', 'indigenous', 'observatory', 'unwrap', 'nudge', 'archaeology', 'adore', '1700', 'when', 'pleasurable', 'grove', 'hamlet', 'bustle', 'laid', 'serene', 'mistry', 'matronly', 'innkeeper', 'dirt', 'twisting', 'suspect', 'toothbrush', 'pole', 'reindeer', 'nutcracker', 'facilitate', 'disguised', 'places', 'be', 'interruption', 'transplant', 'donor', 'stirring', 'g30', 'fade', 'faded', 'fragmented', 'consciousness', 'peacefully', 'sandstorm', 'levers', 'evacuate', 'warrant', 'melted', 'radiate', 'glowing', '240', 'downward', 'rooster', 'koi', 'ascending', 'languid', 'adoption', 'bon', 'trait', 'napping', 'nibble', 'purr', 'prompt', 'feathered', 'mango', 'runaway', 'illustration', '4level', 'strived', 'philosopher', '189', 'flutter', 'moth', 'starlight', 'underlying', 'distressed', 'problematic', 'firstly', '30x30', 'corrected', '10x10', '15x15', 'revamp', '3button', 'thrift', 'starfish', '25x25', 'abstract', '2020226', 'anyplace', 'veiled', 'ominous', 'dripping', 'melancholy', 'accomplished', 'poetic', 'sixth', 'finale', 'obligation', 'realization', 'craving', 'diorama', 'breather', 'soothe', 'pricked', 'shaved', 'avocado', 'eccentric', 'argue', 'merger', 'cyan', 'myst', 'unfettered', 'lazily', 'upward', 'rippling', 'selenitic', 'thunderstorm', 'surrealistic', 'waving', 'habitat', 'comforting', '13th', 'plate', 'packer', 'suitcase', 'passport', '1simple', '2amazing', '3lovely', '4vr', 'cardboard', 'eyes', 'smell', '20something', 'lettuce', 'croquette', 'excavate', 'storehouse', 'excitedly', 'chick', 'pitfall', 'teatime', 'sleepless', 'recital', 'enlarged', 'pupa', 'chrysalis', 'repopulate', 'bumble', 'pollen', 'embroidery', 'skew', 'romp', 'manta', 'powder', '50vs50', '10vs10', '30vs30', 'slack', 'ravenous', 'uproot', 'melon', 'tucker', 'emporium', 'microscopic', 'unaware', 'normality', 'delegate', 'foolhardy', '4star', 'attendance', 'powerfulness', 'originate', 'biome', 'stalwart', 'oceanic', 'smarty', 'spearing', 'owings37gmailcom', 'microcosm', 'ceaselessly', 'alpaca', 'fisherman', 'fisher', 'ware', 'vacuum', 'worldly', 'cutely', 'neat', 'cathartic', 'insufficient', '01043520407', 'maximally', 'humiliating', 'bald', 'accursed', '100th', 'comrade', 'prologue', 'sprout', 'consumptive', 'tern', 'mola', 'google1', 'mesh', 'pummel', 'shellfish', 'lyra', 'shopkeeper', 'diner', 'artisan', 'aesthetically', 'rustic', 'simplistic', 'refreshment', 'plotdriven', 'into', 'rubble', 'furnish', 'rooms', 'stories', 'amelia', 'sunken', 'dormant', 'potentially', 'creek', 'blame', 'decipher', 'orchestra', 'provincial', 'townsfolk', 'lavish', 'parable', 'chieftain', 'guilty', 'derail', 'psychic', 'axiom', 'copycat', 'infant', 'punishable', 'believing', 'exonerate', 'microbiologist', 'ho', 'unknowingly', 'debby', 'plunger', 'suspenseful', 'alarming', 'amends', '17th', '260', 'misstep', 'irreversibly', 'withered', 'proved', 'nightingale', 'glimpse', 'bal', 'slumbering', 'traveler', 'entail', 'hitchhiker', 'cavendish', 'moor', 'anthropologist', 'banshee', 'grain', 'fable', 'magically', 'transported', 'chimera', 'kin', 'locket', 'sinking', 'arachnoid', 'shaken', 'pied', 'piper', 'vindictive', 'silicon', 'vale', 'unoccupied', 'examining', 'unscrambling', 'motive', 'worktable', 'faint', 'baked', 'rubbed', 'ate', 'lightly', 'sailed', '1865', 'hooker', 'lawman', 'westerner', 'wrote', 'mitigate', 'cater', 'hoist', 'jolly', 'inquisitor', 'headfirst', 'piracy', 'grapeshot', 'sailing', 'sank', 'lifeboat', 'weathered', 'ep3', 'residency', 'sot', 'antibody', 'shogun', '2dpoint', 'monastery', 'hollow', 'intentions', 'screamingly', 'devotion', '325', 'lip', 'cuddlesome', 'game2getherde', '91100', '84100', '86100', 'shouldnt', 'savor', 'unashamedly', 'startchapter2', 'startchapter3', 'startchapter4', 'startchapter5', 'correlate', 'placid', 'researcher', 'imploring', 'complacency', 'inference', 'linger', 'boulder', 'cobblestone', 'pebble', 'scissor', 'sharpness', 'empress', 'clipper', 'exploratory', 'woeful', '9510', 'ballad', 'vinyl', 'appetite', 'tender', 'inhumane', 'oppressive', 'workplace', 'illusional', 'traversing', 'artificially', 'severity', 'fragment', 'frail', 'kan', 'overwhelmingly', 'noncombat', 'backstage', 'lingua', 'tib', 'artful', 'resplendent', 'stern', 'weeping', 'marital', 'foreboding', 'levels96', 'irresponsibly', 'tacky', 'physicist', 'newton', 'weirdness', 'tormentum', 'devilish', 'strikingly', 'sorrow', 'trundle', 'rant', 'masquerade', 'replete', 'harmonica', 'foothold', 'eerily', 'chic', 'fundamentally', 'jazz', 'imperative', 'apprehend', 'warned', '1960', 'slip', '61', 'perle', 'sombre', 'droit', 'par', 'demander', 'splat', '109', 'torture', 'sadistic', 'clinging', 'collard', 'statesman', 'inextricably', 'thwarting', 'deservedly', 'latter', 'laziness', 'conscience', 'slob', 'murky', 'affair', 'meaty', 'intoxicated', 'intruding', 'tegra3', '4210', 'scissors', 'watering', 'hardy', 'colin', 'providence', 'spiegel', 'sanitarium', 'masterwork', 'seascape', 'uncommon', 'vigorously', 'inkling', 'baffle', 'divergent', 'tortured', 'consolation', 'reverie', 'blackout', 'enmity', 'automobile', 'entertainer', 'escaperoom2helpboooeacom', '151101', 'respectable', 'participant', 'liar', 'accompaniment', '51', 'imaginary', 'stalking', 'astonishment', 'unhitch', 'hatchway', 'taught', 'yore', 'titanic', 'fool', 'tenacity', 'utilization', 'ahoy', 'landlubber', '125', 'manifest', 'abracadabra', 'accounting', 'constraint', 'accountancy', 'pertaining', 'jurisdiction', 'widespread', 'consistency', 'prevalent', '1973', 'organizational', 'skyscraper', 'concentrated', 'unimportant', 'resting', 'rehabilitate', 'dysphagia', 'cranial', 'treatment', 'treating', 'assessment', 'clinician', 'tactus', 'ass', 'clinical', 'relevance', 'compensatory', 'anatomical', 'pathologist', 'occupational', 'dietician', 'summed', 'evaluation', 'employment', 'coaching', '1117', 'interpretive', 'forthcoming', 'lingual', 'reflective', '1990', 'disposition', 'ethic', 'k12', 'extraordinarily', 'analytic', 'vol', 'praeludium', 'publicly', 'unthinkable', 'retracted', 'resemblance', 'involvement', 'mid20th', 'derive', 'ethnic', 'logically', 'familiarize', 'caretaker', 'expense', 'nutrition', 'drug', '2000amazing', 'free2win', 'educator', 'culmination', 'finance', 'aptitude', 'ostensibly', 'prospective', 'boon', 'goodbooksapp15gmailcom', 'villa', 'warehouse', 'appointment', 'whack', 'observing', 'curiously', 'obviously', 'invigorating', 'sportsman', 'chitchat', 'theatrical', 'torch', 'scrutiny', 'no01', 'no02', 'no03', 'compartment', 'no04', 'tweedledum', 'tweedledee', 'no05', 'wool', 'no06', 'humpty', 'no07', 'no08', 'no09', 'informant', 'adults', 'hobo', '5k', 'giveaway', 'habit', 'pup', 'deb', 'ham', 'sari', 'bor', 'ona', 'sib', 'sh', 'graduated', 'observational', 'kaiser', 'consulting', 'medications', 'locations', 'optimism', 'perseverance', 'assertiveness', 'trusting', 'quotient', 'standardized', 'taker', 'hawking', '190', '180190', '165', 'cardiac', 'coherence', 'fluctuation', 'abdominal', 'frequency', 'inhale', 'expire', 'ideally', 'jackbox', 'circus', 'profession', 'practitioner', 'physiapp', 'physiotherapist', 'chiropractor', 'intervene', 'prescription', 'dine', 'belly', 'redeemable', 'vibrate', 'v2', 'confounding', 'icebound', 'igloo', 'entanglement', 'muscular', 'bridging', 'lain', 'ara', '100stonesgames', 'escaper', 'unworldly', 'pediatrics', 'optometry', 'referral', 'reschedule', 'preventive', 'subarctic', 'uninhabited', '157', 'zander', 'meteorologist', '157th', 'mandarin', 'corona', 'diatonic', '15minute', 'chord', 'plugging', 'tonality', 'wet', 'bellow', 'replacement', 'cajun', 'accent', 'directory', 'orthoepic', 'incorrectly', 'explanatory', 'philosophical', '247052004', '2522982', '635781', '611152', '2848790', '1017782', '1353587', '2473781', 'b15', 'stub', 'ust', 'b11', 'liner', 'trolling', 'silliness', 'moodle', 'familia', 'accede', 'resolver', 'auriculare', 'puedes', 'usar', 'reina', 'martin', '1569', 'rut', 'ester', 'flamy', 'cessation', 'nonsmoker', 'foiling', 'pranking', 'idiotic', 'cranky', 'freshly', 'mp3', 'cutter', 'picker', 'snooze', 'dismiss', 'branched', 'disclosed', 'torturing', 'pregnancy', 'educated', 'contraction', 'marrying', 'purse', 'sunray', 'tho', 'stylistics', 'maniacal', 'adversary', 'spirituality', 'visionary', 'expressed', 'geometrical', 'sunflower', 'heighten', 'resonance', 'guidebook', '1970s', 'imbalance', 'acute', 'impromptu', 'sleight', 'memory100', 'brightly', 'amusingly', 'bathroom', 'nursery', 'poolside', 'tent', 'seaside', 'fruitful', '384', '235', 'playmate', 'entrancing', 'pore', 'fireproof', 'binary', 'volatility', '64000', 'remotely', 'symbolize', 'acupuncture', 'conception', 'superficial', 'organ', '361', 'endeavor', 'incision', 'moxa', 'sedation', 'cleft', 'mu', 'spleen', 'stomach', 'intestine', 'kidney', 'urinary', 'pericardium', 'burner', 'gall', 'liver', '3dzoom', 'friendliness', 'validity', 'fixing', 'welcomely', 'foremost', 'deadman', 'index', 'needling', 'calligraphy', 'sinew', 'revision', 'glossary', 'cutaneous', 'suppose', 'dorado', '1947', 'laryngeal', 'ankle', 'synovial', 'anterior', 'posterior', 'lateral', 'rotational', 'pelvis', '76', 'thumbnail', 'physiology', 'nasal', 'panning', 'acupressure', 'textual', 'reflexology', 'massage', 'nightfall', 'dreary', 'shack', 'barn', 'tread', 'somber', 'undeterred', 'her', 'dexter', 'tuts', 'tut', 'sphinx', 'apse', 'heater', 'governing', 'st6', 'li12', '4499', 'accumulation', 'junction', 'confluent', 'tui', 'bel', 'chin', 'tamara', 'lunn', 'modality', 'pelvic', 'perineal', 'rehabilitation', 'exerciser', 'unitary', 'adequate', 'doorknob', 'slight', 'inertia', 'stepbrother', 'catatonic', 'worthiness', 'unworthy', 'longing', 'respiratory', 'alveolus', 'asthmatic', 'airway', 'recess', '1969', 'accidently', 'crust', 'mermaid', 'parade', 'bask', 'feathery', 'marmalade', 'dumbledore', 'snape', 'students', 'frustrate', 'consummate', 'smurfs', 'foregoing', 'truce', 'emissary', 'livid', 'levels', 'heed', '198', 'painter', 'shaggy', 'manuganu2', 'unequally', 'platforming', 'strand', 'plank', 'nautically', 'buccaneer', 'campground', 'whippy', 'jabbering', 'puddle', 'ludicrous', 'slicing', 'unsheathe', 'pus', 'underbrush', 'suspiciously', 'om', '425', 'applicant', 'fishy', 'jungly', 'spirituous', 'x3m', 'ant', 'grownups', 'sweetheart', 'farthest', 'sore', 'breezy', 'incidental', 'fuzzy', 'sneeze', 'shiver', 'ado', 'lurch', 'busted', 'hippy', '255', 'zip', 'bouncer', '175', 'burglar', 'freaky', 'stretchy', 'indulgent', 'mousse', 'wafer', 'flan', 'spiky', 'layered', 'squashy', 'stomper', 'dollop', '92100', 'unintentional', 'suction', 'ابدا', 'تنتظر', 'catfish', 'dispenser', 'vastness', 'celebrated', 'hurling', 'irritating', 'guitarist', 'cuteness', '870', 'crunch', 'flavorful', 'rectilinear', 'excite', 'cutie', 'nonreturnable', 'millenary', 'addict', 'seldom', 'sketchbook', 'medley', 'caress', '25m', 'doggy', 'joyous', 'slater', 'extendible', 'unsteady', 'acceptable', 'him', 'overtake', 'orphan', 'corporal', 'naturalistic', 'toi', 'instructional', 'dyslexia', 'duet', 'taiga', 'tig', 'tireless', 'tla2', 'chubby', 'discard', 'velvet', 'doughnut', 'brighten', 'offline', 'photographer', 'glade', 'tin', 'frisky', 'sailor', 'instrumental', 'yoga', 'precipitation', 'barometric', 'dew', 'maru', 'jitterbug', 'catnip', 'sucker', '77', '2m', '125m', 'pixie', '8th', 'banatoon2', 'attic', 'ginger', 'koala', 'babies', 'paranoid', 'pussy', 'invalid', 'pug', 'lawn', '173', 'weirdly', 'supportenbc01ponosnet', 'supermarket', 'trolly', 'tractor', 'planting', 'dozer', 'sammy', 'tomcat', 'bison', 'spank', 'cookbook', 'borne', 'ups', 'noggin', '115', 'colorize', 'foxy', 'grapple', 'fiendish', 'disturb', 'tumbling', 'tumbler', 'hilarity', 'zarp', 'toaster', 'animating', 'unfeeling', 'companionship', 'humanoid', 'auditory', 'edification', '285', 'sc04d', 'so04f', 'scv31', 'xt1676', 'spry', 'cub', 'smoky', 'oddman', 'quintessential', 'estimate', 'exponentially', '7000000', 'plunging', 'steep', 'embankment', 'mountainside', 'gotten', 'golfer', 'ssg3', 'furthest', '1600', 'thrash', 'vert', '420', 'mesa', 'crunk', 'lemon', 'twittercombudfarm420', 'instagramcombudfarm420', 'facebookcombudfarm420', 'supportbudfarm420zendeskcom', 'quagmire', 'cleveland', 'quahog', 'fodder', 'outrageously', 'displacer', 'snoopy', 'peppermint', 'patty', 'rink', 'doghouse', 'belle', 'kleptomaniac', 'scurrile', 'bertram', 'davy', 'curator', 'castaway', 'diva', 'wiener', 'vera', 'ambiguous', 'existential', 'monumental', 'assertive', '4000', 'gilbert', '1984', 'nail', 'rein', 'magnate', 'apprentice', '23mins', 'fateful', 'carving', 'ebon', 'distinctively', 'protein', 'tanned', 'dope', 'demographic', 'fester', 'cinema', 'dee', 'launder', 'bicker', 'erotic', 'waitress', 'rum', 'paddy', 'madly', 'plankton', 'bikini', 'degradation', 'capitalist', 'lemonade', 'printing', 'conglomerate', 'speculate', 'duper', 'amplify', 'capitalism', 'indulgence', 'unidentified', 'emblematic', 'trough', 'frabjously', 'g4tvcom', 'subtle', 'apparition', 'visage', 'dread', 'beholder', 'bedeck', 'tapestry', 'scrape', 'gale', 'wanting', 'partook', 'sprung', 'arrogant', 'hoarding', 'unspoken', 'quits', 'cling', 'enchantreformlevel', 'beckoning', 'craven', 'orna', 'unholy', '1920sthemed', 'scholar', 'indoctrinate', 'abomination', 'glean', 'peripheral', 'shook', 'violently', 'necropolis', 'gplv3', 'scribe', 'reimagine', 'dictate', '2the', 'lumberjack', 'hellhound', 'mocha', 'misfit', 'cartridge', '1981', 'jobless', 'kim', '70000', 'sweeping', 'abyssal', 'whence', 'underhand', 'upstart', 'tightrope', 'unfathomably', 'wholesome', 'irrefutably', 'proclaim', 'underneath', 'vowed', 'cobalt', 'redditcomrtaptitans2', '2011s', 'partly', 'misunderstanding', 'nondescript', 'astrophysics', 'starchy', 'banging', 'customary', 'exhibitor', '290', 'insurance', 'dev', 'huntress', 'schneider', 'relearn', 'awaits', 'stingy', 'townfolk', 'congratulate', 'thankless', 'chi', 'giraffe', 'sampling', 'senselessly', 'iaps', '5070', 'fluttering', 'turnover', 'reasonably', '4mystery', 'township', 'scooter', 'ecological', 'storm8', 'manifestation', 'periodically', 'c2015', 'blacksmithing', 'grumble', 'fairyland', 'grieve', 'sibling', 'faun', 'fizzle', 'alchemic', 'backwater', 'beautify', 'drought', 'immigrate', 'easygoing', 'neverland', 'funeral', 'unmarried', '3gbyte', 'cuisine', 'fluent', 'deletion', 'shutdown', 'rowan', 'mane', 'wavy', 'westbound', 'mobilize', 'overturn', 'app2sd', 'propaganda', 'townsman', 'bakery', 'savory', 'tummy', 'potted', 'pastry', 'cobbler', 'facebookcomstorm8studios', 'twittercomstorm8studios', 'majesty', 'v14', 'figured', 'tending', 'mandrake', 'mushrooms', 'albus', 'wizardry', 'kairokun2010', 'heavenly', 'spellcraft', 'enrol', 'broom', 'graduation', 'dreamworld', 'scuttle', 'swashbuckling', 'surmount', 'piratical', 'yield', 'billow', 'cutlas', 'poring', 'unusually', 'jeweler', 'shopper', 's3s4note', '2tab', 'sculpt', 'godlike', 'godus22canscom', 'populous', 'wreathed', 'dispel', 'sheepy', 'dissolve', 'homely', 'anonymous', 'cried', 'aground', 'candle', 'goof', 'moonset', 'billed', 'selectively', 'unwary', 'cleric', 'beneficiary', 'donator', 'bonfire', 'us399', 'beggar', 'wisp', 'greening', 'comet', 'decomposer', 'bloom', '158', 'ga', 'crabbing', 'gentleman', 'braving', 'uncomfortable', 'escapist', 'upclose', 'dere', 'unorthodox', 'knightly', 'cheerfulness', 'wade', 'unquestionably', '95100', 'grin', 'battered', 'axolotl', 'squid', 'starry', 'zenonia', 'erupt', 'aural', 'thrusting', 'carat', '15year', 'totem', 'x10', '49913991999', '136', 'sane', 'unscheduled', 'slimy', 'talkative', 'bipolar', 'thirteen', 'bog', 'perfectionism', 'sweltering', 'smacking', 'pagan', 'eggshell', 'dwell', 'perm', 'stealthily', 'reef', '261', 'glimmering', 'dizzy', 'steely', 'seesaw', 'dodo', 'service82316com', 'h3h3', 'goodness', 'hangout', '2button', 'avoidance', 'pollution', 'furnace', 'distillery', 'manure', 'copper', 'tablecloth', 'vodka', 'architect', 'devout', 'skilling', 'outright', 'smelt', 'greenhouse', 'coal', 'loader', '505', 'terrarium', 'vaguely', 'persecution', 'lately', 'disturbance', 'suburban', 'fundamental', '1950s', 'cockroach', '2476', 'grunt', 'lethally', 'stormbound', 'blip', 'delver', 'crunchy', 'chunky', '086', '07c', '07b', 'shading', 'tou', 'praying', 'superficially', 'skippable', '428', '20092016', 'boggle', 'consecutively', 'illustrate', 'scarecrow', 'curly', 'autism', 'stimulation', 'sensorial', 'firework', 'motoric', 'sen', 'gyro', 'pinning', 'lipa', 'z3', 'g2', 'pip', 'burly', 'halfway', 'ungainly', 'storyteller', 'interplay', 'waggish', 'classically', 'enchanter', 'unsuccessful', 'reducing', 'consolidate', 'blackthorn', 'envelope', 'hurriedly', 'inductive', 'tenderness', 'informer', 'envision', 'poem', 'relativity', 'tutor', 'oclock', 'scaffolding', 'rigorously', 'biographical', 'quiver', 'unmatchable', 'penfold', 'kea', 'weta', 'tuatara', '18000', '100000000', '20mb', '113', 'intermediate', '100²', 'shirt', 'didactic', 'cotton', 'screw', 'flour', 'cocoa', 'decker', 'kittens', 'fiddle', 'gloriously', 'python', 'burble', 'delighted', 'noticeable', 'violate', 'sect', 'magnetism', 'mae', 'warn', 'ballerina', 'psychologist', 'psyche', 'fugue', 'hypnotize', 'peer', 'cowardly', 'ruth', 'rehearsal', 'reimagination', 'overwrite', 'carnivorism', 'satirical', 'stumbling', 'gymnasium', 'fancier', 'illusionist', 'underbelly', 'undercurrent', 'obtainable', 'ninth', 'ambergris', 'full3d', 'designate', 'initialize', 'supplementary', 'trainable', 'blunt', 'resistant', 'bidding', 'urgently', 'nuance', 'intermission', 'regrettably', 'fume', 'distaste', 'refrain', 'reassemble', 'huntsman', 'impersonate', 'firmament', 'ode', 'inconvenient', 'damsel', 'opera', 'curtain', 'siren', 'labyrinthine', 'subterranean', 'windmill', 'toymaker', 'dug', 'fragrant', 'shimmering', 'jazzy', 'befitting', 'saskatoon', 'peek', 'deed', 'crystalline', 'returner', 'fantasticyes3d', 'grunting', 'upright', 'ticklish', 'reporter', 'plexus', 'malfunction', 'elkhorn', 'projection', 'whispering', '720', '1080p', 'firm', 'unwittingly', 'overload', 'influenza', 'paradox', 'biz', 'raincoat', '2h', '3h', 'unbearable', 'weaved', 'rumpus', 'explorator', 'influenced', 'innuendo', 'upstream', 'strudel', 'urn', 'cello', 'bespoke', 'flirting', 'intimate', 'emotive', 'resourcefulness', 'undiscovered', 'q100', 'memories', 'amnesia', 'grisly', 'strewn', 'grandchild', 'emma', 'maple', 'daunting', 'unveiling', 'tram', 'foliage', '1806', 'concluding', 'objectively', 'mantel', 'tiled', 'woodwork', 'gasp', 'sewn', 'scatterbrained', 'villainess', 'prodigious', 'scarf', 'frosted', 'gated', 'hairy', 'situational', 'contraption', 'pedagogic', 'clubhouse', 'slate', 'cosmopolitan', 'clef', 'twinkle', 'hourglass', 'diligent', 'impede', 'placeable', 'watery', 'evaporation', 'staggering', 'extensively', 'neurotic', 'squiggly', 'bathtub', 'choir', 'auditive', '100100', '228', 'toothy', 'lull', 'reflected', 'swaying', 'harp', 'cognition', 'empyreal', '400mb', 'bit192', 'grownup', 'sloth', '1time', 'springboard', 'stacker', 'bungee', 'vine', 'precocious', 'mum', 'bonding', '50episode', 'sesame', 'metaphorical', 'momentum', 'allegorical', 'ooze', 'gator', '099499', 'bedtime', 'catchup', 'moonstone', 'owl', 'bunk', 'gabby', '1download', '2scan', '3reveal', 'ariel', 'doc', 'minnie', '50th', 'eric', 'noncompetitive', 'unpack', 'passionately', 'cocoon', 'conductor', 'sung', 'hickory', 'dock', 'hansel', 'dragging', 'balefire', 'disney', 'pixar', 'bumpy', 'riley', 'disgust', 'sadness', 'kat', 'acknowledge', 'budding', 'grooving', 'authenticate', 'bilingual', 'exposed', 'dick', 'sally', '104', 'hammerhead', 'octopod', 'otoscope', 'stethoscope', 'thermometer', 'cantar', 'casa', 'memoria', '713', 'printable', '16000', 'fluency', 'leapfrog', '299', '4letter', 'vowel', 'whipped', 'silky', 'beaming', 'miffy', 'snuffy', 'scoot', 'tuck', 'tucking', 'nighty', 'we', 'undersea', 'funk', 'trumpet', 'cowbell', 'rocktopus', 'fisherprice', 'interpersonal', 'grief', 'extension', 'voices', 'elmo', 'photographic', 'sésamo', 'escolar', 'crumby', 'perfecto', '1299', 'sitio', 'crane', 'agitator', 'excavator', 'pronounce', 'poppy', 'dozy', 'cob', 'preparedness', 'wedo', 'modeling', 'computational', 'competency', 'reseller', 'fastest', 'rad', 'dresser', 'whacker', 'formerly', 'housewife', 'beckon', 'acquaintance', 'solidus', 'thickety', 'harmonium', 'choking', 'casket', 'librarian', 'unfinished', 'ripper', 'blunder', 'mutinous', 'manifested', 'freeman', 'cartographic', 'montana', 'seismic', 'earthquake', 'maid', 'beg', 'nautical', 'consequences', 'solemn', 'linguist', 'begging', 'tendency', 'incursion', 'adversity', 'coastal', 'talbot', 'shameful', 'entity', 'slog', 'marsh', 'alchemical', 'inspection', 'unclear', 'copartner', 'suicidal', 'cordial', 'reproach', 'predict', 'amiss', 'bewitching', 'clandestine', '6300', '960', 'teller', 'placate', 'quirk', 'gargoyle', 'clutter', 'sandman', 'violinist', 'hodgepodge', 'mishmash', 'fabulously', 'disappointed', 'suspects', 'sauve', 'bartender', 'firebird', 'niece', 'undergo', 'fertile', 'illuminating', 'musty', 'encompass', 'blanketed', 'free2play', 'slider', 'interfering', 'variously', 'hermit', 'liberation', 'uphill', 'mater', 'merfolk', 'ingeniously', 'moorland', 'midsummer', 'fern', 'snatched', 'helplessly', 'notoriously', 'ambrose', 'malefactor', 'uproar', 'shapeshifter', 'ballroom', '1830', 'governess', '52', '1900', 'captor', 'philanthropist', 'befall', 'eventide', 'actor', 'herbarium', 'intersect', 'crossroad', 'moons', '3180', '411', 'esotericism', 'yesterday', 'vandalism', 'broaden', 'afloat', 'scorched', 'entourage', 'bloodcurdling', 'absolutist', 'medallion', 'pupil', 'transmutation', 'disciple', 'traumatic', 'snoop', 'heinous', 'barker', 'shroud', 'benedict', 'barber', 'ly', '1950', 'trancelike', 'assailant', 'ruffled', 'margrave', 'barney', 'induce', 'motel', 'mend', 'agora', 'faceless', 'gravedigger', 'profound', 'lifeline', 'leapt', 'catnapping', 'deceased', 'opus', '265000', 'halfling', 'brownie', 'explorable', 'glasser', 'exhausting', 'professionalism', 'facebookcom1derent', 'twittercom1derent', 'youtubecomuser1derentertainment', '102000', '102000word', 'weighed', '155000', 'succumb', 'binaural', 'disability', 'vividly', 'audition', 'doe', 'sarcasm', 'irony', 'runic', '19thcentury', 'superlative', 'wailer', 'shriek', 'arturek', 'gruff', 'tua', 'orchid', 'hallow', 'preternatural', 'torrential', 'nosy', 'landlady', 'blockhead', 'sol705', 'bore', 'sighting', 'compulsive', 'at', 'solitude', 'plans', 'communicator', 'fiber', 'courtroom', 'implausible', 'grotesque', 'telepathic', 'juggle', '380000', 'outfight', 'outthink', 'divert', 'ashamed', 'commune', '360000word', 'chaste', 'provocative', 'verifiable', '1899', 'choices', 'persuasion', 'evenly', 'crossbones', 'prematch', 'heyday', 'unturned', 'artistry', 'forefront', 'albeit', 'recoup', 'chunk', 'migrate', 'cycling', 'badminton', 'gazi', 'bey', 'penalize', 'dishonest', 'speedometer', 'refueling', 'longboat', 'poised', 'wane', 'horned', 'grub', 'excellency', 'colonist', 'liege', 'cudgel', 'quarterstaff', 'flail', 'carrack', 'barbican', 'drawbridge', 'palisade', 'kunai', 'falchion', 'bludgeon', 'battlement', 'unparallel', 'gymnastic', 'nun', 'anda', 'bendy', 'laundry', 'sprinter', 'untraceable', 'colleague', 'bishop', 'tirelessly', 'fitful', 'clanking', 'convict', 'lawbreaker', 'labber', 'valve', 'players1', '1560', 'mid', 'coaster', 'glam', 'motorboat', 'merit', 'drifty', 'denial', 'holds339gmailcom', 'pedestal', 'undeveloped', 'orchard', 'bismuth', 'frantically', 'mantra', 'bodhisattva', 'bless', 'chanting', 'recitation', 'chien', 'shou', 'yan', 'maha', 'dharani', 'curing', 'dharma', 'mó', 'hé', 'nuó', 'duō', 'dì', 'shuò', 'duǒ', 'yī', 'shì', 'hē', 'bó', 'tuó', 'dòu', 'ná', 'ān', 'xī', 'lì', 'lú', 'jié', 'fá', 'shēn', 'fó', 'yè', 'pú', 'seng', 'āxī', 'là', 'chí', 'pō', 'shèng', 'reckoning', 'briar', 'consultant', 'comatose', 'rife', 'preacher', 'averted', 'sickness', 'inglorious', 'horseback', 'pageant', 'contestant', 'lapsed', 'coma', 'hooded', 'angelica', 'supposedly', 'artefact', 'deviously', 'conceal', 'craftsman', 'eyepiece', 'reread', 'impressively', 'holly', 'retrace', 'brigandage', 'investigative', 'corridor', 'zoned', 'abnormal', 'transitional', 'flounder', 'auntie', 'hedge', 'reconcile', 'jumble', '1960s', 'fitting', 'sometime', 'penitentiary', 'monolith', 'discrepancy', 'thimbleweed', 'vanishing', '1955', 'collaborator', 'sickly', 'romanticist', 'contractor', 'forenotice', 'nagging', 'day7officialinfogmailcom', '821041822221', 'flagship', 'hazy', 'figment', 'icons8', 'devilishly', 'ineffective', '1860s', 'blackboard', 'soundly', 'tiered', 'heartland', 'entangled', 'mistress', 'seaworthy', 'radiant', 'forlorn', 'deepness', 'remedial', 'vendor', 'anima', 'suggestive', 'gambler', 'ridden', 'devouring', 'consumable', 'burnt', 'temper', 'sprightly', 'eclair', 'acrobat', 'ensnare', 'tribulation', 'selfishness', 'slum', 'deva', 'grindable', 'tripple', 'thegamer', 'mmorpgcom', 'gamepress', 'disrupt', 'responsiveness', 'salesman', 'ironbound', 'recast', 'hyper', 'hyperheroes90kmilecom', '27th', '0200', 'empyrean', 'teal', 'unnamed', 'submerge', 'fumble', 'if', 'snowland', '300mb', 'adsl10mbps', 'trillion', 'recommendation', 'wherein', 'gamelike', 'arca', 'chivalric', 'hereafter', 'commemorative', 'ilikech2', 'ch2likeu', 'free150', '1250', 'crimsonheart2', 'turbulence', 'deteriorate', 'lyrical', 'apache', '10x', 'jst20191004', 'revere', 'iphone6', 'ios70', '12th', '513', '06150', '07041578088', 'expedite', '0android', 'c2016', 'affection', 'asobimoinc', 'peremptory', 'readily', 'legionary', 'mmorpg', '10cosplay', 'intelligently', 'shareholder', 'actionable', 'thankful', 'grassy', 'drove', 'despondent', 'moot', 'filing', '71', 'borrowing', 'soc', '439', '835', 'spouse', 'usd799free', 'events', 'heartful', 'irreplaceable', 'c2013', 'loan', 'repayment', 'vigor', 'corsair', 'shadower', 'huma', 'exceeding', 'irene', 'freyja', 'jacob', 'slamong', 'shaowei', 'complication', 'pika', '16th', 'stella', 'tanker', 'supporter', 'materials', 'stove', 'incapacitate', 'manticore', 'unity3d', 'tinkerer', 'daze', 'awesomemounts', 'kings', 'pincer', 'possession', 'v60', 'lv270', 'lv290', 'lv300', 'crossserver', 'synergic', 'orthodox', 'divinity', 'runed', 'alist', 'ami', 'tachibana', 'stalemate', 'scarred', '720p', 'priestess', 'uniform', '19gb', '20142015', 'tranquility', '100hour', '12gb', '15mn', '30mn', 'congestion', 'nexus1', 'sportswear', 'envoy', 'eidolon', 'virtuality', 'heroism', 'pillar', 'sapphire', 'exuberant', 'rice', 'dominus', '100story', 'sliver', 'outflank', 'positioned', 'thickening', 'camaraderie', 'trinity', 'amalgamation', 'improvisation', 'reptilian', 'hondo', 'raja', 'unforeseen', 'hybrids', 'humans', 'superpowers', 'prediction', 'rationally', 'ceaseless', 'capsule', 'overhit', 'collaborative', 'sophia', 'bodyguard', 'heretic', 'firedog', '9fields', 'prototypical', 'titania', 'machi', 'manly', 'unanimously', 'roland', 'mageborn', 'bom', 'endlessquestand163com', 'shelf', 'quickie', 'foretold', 'serpent', 'warmly', 'enjoyably', 'edifice', 'unbind', 'maggot', 'vomiting', 'skeletal', 'aurum', 'utter', 'northwest', 'hegemon', '81th', 'collocate', 'traceable', 'biweekly', 'mailshchisen163com', 'qq463635850', 'redcap', 'playfield', '700mb', 'refining', 'reinterpretation', 'hark', 'sinker', 'yesteryear', 'multiplicity', 'speciality', 'diviner', 'conflicting', 'hoped', 'catalyst', 'coat', 'viper', 'sultanate', 'perishing', '600mb', 'c2017', 'margarita', 'thereafter', 'arrangement', 'sharpshooting', 'ticker', 'collectively', 'spurn', 'chronic', 'depression', 'unemployment', 'doings', 'handiwork', 'hotter', 'lukewarm', 'transporting', '399', 'fernland', 'innate', 'differentiate', 'appraise', 'necrosis', 'fluorite', 'topaz', 'hireling', 'handbow', 'avenue', 'spirited', 'c20112012', 'interrupting', 'buffy', 'blighted', 'wraith', 'reave', 'stallion', 'gnomish', 'tailoring', 'truer', 'archenemy', 'attendant', 'fortifying', 'semester', 'satiate', 'purgatory', '12step', '2753', '149', 'farmable', '650000', 'remade', 'stats', '1hatch', '2build', '3share', '4an', '5even', '6if', '7join', 'outing', 'afield', 'heliport', 'jointly', 'multifarious', 'unprecedentedly', 'toll', 'milton', '1recordaudio', '2readexternalstoragewriteexternalstorage', 'csthegreedycave2avalongamescom', 'greedycave2', 'zenith', 'eighth', 'fortune2014', 'gat', 'punisher', 'corrupter', 'trapper', 'erasure', 'scrambling', 'immaculately', '1up', 'ascent', 'psych', 'pandemonium', 'ruins', 'headwear', '450mb', 'witchspring4', 'retaliate', 'despise', 'eggplant', 'ross', 'goblet', 'watchful', 'underway', 'huh', 'kana', '2034', 'dissolution', 'antiwar', 'sentiment', 'causality', 'forcibly', 'suspended', '1459', 'fleck', 'outlying', 'dominative', '12players', 'abominable', 'sanctity', 'eternalfury2', 'dualist', 'forcing', 'unneeded', 'plume', '1stanniversary', '88800', 'malice', 'thanksgiving', 'supportpanda3snailgamenet', 'geforce', 'gamestream', 'ming', '3dmmoarpg', '10v10', 'domineering', 'pets', 'forsake', 'outfits10v10mobaworld', 'elegance', 'triangular', 'privity', 'structured', 'socialization', '3v3s', 'binding', 'cmsupportmu77com', 'cmmu77com', '800480', 'warcraft', 'dal', 'riata', 'enforced', 'blocker', 'uninstalled', '417', 'annually', 'bypass', 'm3u', 'dislike', 'priesthood', 'stance', 'repentance', 'vanquisher', 'sanguine', 'factional', 'waken', 'disordered', '1easy', 'jade', 'talion', 'sterilize', 'astrolabe', 'automanual', 'enclosure', 'heterozygous', 'premake', 'v61', '25gb', 'azure', 'ageless', 'stigma', 'duality', 'ruinous', 'rhapsody', 'searing', 'honkai3rdglobalmihoyocom', 'venomous', 'inferior', 'reawaken', 'tuna', 'skylanders', '20182019', 'mon', 'beastie', 'pico', 'revitalize', 'juvenile', 'evoker', 'storm8studios', 'storm8studioss', 'facebookcomstorm8', 'twittercomstorm8', 'outgrowing', 'tofu', 'refusing', 'paunchy', 'kama', 'trickery', 'aspire', 'cringe', 'puny', 'reluctantly', 'descending', 'marshman', 'rushed', 'monstrosity', 'irradiated', 'vaunted', 'whisper', 'bereft', 'synonymous', 'visibly', 'jukebox', '4639mb', '240mb', 'luster', 'visions', 'lapis', 'fleeting', 'mog', '32gb', '4gb', 'troupe', 'quina', 'tetra', '1993', 'inactive', 'fifteenth', 'armistice', 'unbeknownst', 'cpu15ghz', 'ram2gb', '5gb', '8gb', 'emocionado', 'doubly', 'morrow', 'signet', 'únanse', 'conoce', 'trama', 'oneiric', 'zee', 'meld', 'lad', 'abilities', 'bruise', 'extravaganza', 'synthesizer', 'orchestration', 'chooser', 'monitors', 'connects', 'provides', 'renewable', '256bit', '1recruit', '2train', '3join', '4beat', '5become', 'convention', 'dibs', 'dungeon20', 'd20', 'imprime', 'crea', 'torment', 'lives', 'philosophic', 'birthright', 'revelation', 'recognizable', 'rosy', 'plummet', 'traversal', 'knitted', 'littlebigplanet', 'steeper', 'incidence', 'joey', 'merch', '3252020', '2252020', 'blinky', 'tantalizingly', 'embarrassment', 'umpteenth', 'femoral', 'pill', 'davidminhnguyen2710gmailcom', 'nuttiness', 'deceptive', 'nonunique', 'clicky', 'f777', 'smily', 'hike', 'مصو', 'رة', 'وشكرا', 'lifting', 'pectoral', 'thigh', 'calorie', 'undoubted', 'influent', 'partners', '78', 'gratifying', 'phonetic', 'transliteration', 'backspace', 'ഞങ', 'ങൾക', 'ആശ', 'സകൾ', 'indic', 'ങള', 'വന', 'മലയ', 'ർഡ', 'glacier', 'plaza', 'idly', 'i2sticker', 'עברית', 'werent', 'manipulative', 'strained', 'jialu19870906gmailcom', 'escalator', 'commuter', 'estado', 'breve', 'reuse', 'undeniable', 'nutritional', 'waist', 'circumference', 'renewed', 'dab', '7inc', 'east718', 'titos2k', 'تتأخر', 'الاول', 'interestingly', 'autosuggestion', 'בר', 'ית', 'ಕನ', 'ನಡ', 'தம', 'j7', 'z4', 'p9', 'a9', 'f3', 'v5', 'hulujoy2017gmailcom', 'reel', 'digger', 'note7', 'j7samsung', 'z4huawei', 'p8', '8htc', '9xiaomi', '5nokia', 'glitter', 'j8', 'tinnitus', 'bungalow', 'chained', 'pinned', 'carton', '22m', 'leaderboardsos22', 'sdos22', 'crunching', 'wanderlust', 'mashing', 'freshness', 'striped', 'greeting', 'sapid', 'conspicuous', 'bedazzling', '60second', 'cascade', 'opal', '20m', 'supernova', 'multifaceted', 'gloat', 'soap', 'nife', 'ife', 'knockdown', 'gleam', 'melodious', 'blackball', 'illustrative', 'twitchy', 'irrigate', 'caged', 'shuttlecock', '4month', 'retailer', 'downy', '380', 'on2', 'rewardable', 'transparency', 'anyways', 'provably', 'cryptography', '2fa', 'payments', 'scannable', 'fiat', 'bookkeeping', 'mint', 'turbotax', 'moneysaving', 'intuit', 'quickbooks', 'selfemployed', 'proconnect', 'relevancy', 'bankruptcy', 'visits', 'typically', 'surgery', 'memorial', 'grieving', 'deserving', '501c3', 'hash', 'delicately', '2factor', 'workschool', 'any', 'hospitality', 'gig', '30hr', 'busser', 'cashier', 'dishwasher', 'reservationist', 'discreetly', 'biometric', 'longevity', 'underwriting', 'regulatory', 'faucet', 'claimer', 'override', 'indefinitely', 'measurable', 'disruptive', 'impulse', 'mortgage', 'ledger', 'permissioned', 'dao', 'erc20', 'hierarchical', 'bip70bip73', 'verifiably', 'proposal', 'cardholder', 'metropolitan', 'unaided', 'fatter', 'uncluttered', 'raking', 'crummy', 'swanky', 'supremely', 'ripple', 'hobbyist', 'folio', 'workday', '7080', 'equitable', 'inequality', '3678500000', '3678', 'ideology', 'newsreader', 'benefactor', 'hygiene', 'dell', 'dove', 'kodak', 'spalding', 'backlog', 'tipping', '60mile', 'decadently', 'overlap', 'lick', 'creamy', 'omelet', 'tray', 'honey', 'difficultly', 'pomegranate', 'shave', 'peeling', 'shaving', 'sewer', 'absorber', 'charmingly', 'puke', 'wobbling', 'picky', 'mustard', 'narwhal', 'stout', 'crematorium', 'alright', 'maxwell', 'pod', 'walkover', 'masha', 'bulldozer', 'civilian', '2x2', 'tangram', 'few', 'prancer', 'vixen', 'undestroyable', 'multicolor', 'uptown', 'turnoff', 'roxy', 'bailey', '9x9', 'sustained', 'habitually', 'shouting', 'mommy', 'جدا', 'especial', 'grape', 'blackberry', 'pear', 'watermelon', 'reaffirm', 'preaching', 'phonetics', 'pedagogy', 'slanting', 'cursive', 'quarantine', 'bullying', 'approve', 'rescuer', 'dispatcher', 'helly', '11th', 'detract', 'squirt', 'likable', 'popper', 'bubbly', 'bubbling', '1750', 'tempest', '2to', '3clear', '4pop', '5bubble', '1press', '2release', '3use', '4in', '3stars', 'vincent', '2999', 'maximal', '520', 'arson', 'inverse', '25mb', 'symbiosis', 'numb', 'hypnotic', 'shiel', 'terry', 'moniker', 'broadcaster', '3rrr', 'floppy', 'oodles', 'warming', 'unbroken', 'flap', 'aperture', 'enrichment', 'constructor', 'propulsion', 'repulsion', 'emancipation', 'deactivation', 'humming', 'hurtle', 'jumbo', 'hug', 'slapping', 'grampa', 'pensioner', 'rocking', 'gill', 'rosemary', 'milky', 'sophistication', 'ancillary', 'spaced', '2099', 'infinitive', 'seclusion', 'unprotected', 'rekindle', 'xnauts', 'psikyo', 'strikers1945', 'commensurate', 'kame', 'unbeaten', 'multiphase', 'radically', '19xx', '10year', 'blot', 'tarmac', 'hearty', 'hopeful', 'abstracted', 'portray', 'integrity', 'airframe', 'classified', '6star', 'attribution', 'furiously', 'korean', 'nave', 'lethality', 'atmospherical', 'matcher', 'f22', 'f117', 'igjam2016', 'swoosh', 'uneven', 'pelt', 'farfetched', 'turbit', 'noxious', 'perch', 'twang', 'unloose', 'redbird', 'snakebird', 'ahem', 'pooch', 'latch', 'dachshund', 'mince', 'sympathetically', 'overly', 'midway', 'pow', '19452', 'cellophane', '3way', 'rebound', 'semiautomatic', 'foolish', 'pale', 'speck', 'unsuspecting', 'cloaking', 'plotted', 'radiology', 'hovering', 'obliterator', 'hokum', 'trot', 'lactobacillus', 'pasteur', 'oven', 'liugrose083gmailcom', 'ps', 'blender', 'fiesta', 'captivity', 'monotonous', 'bf109', 'reminisce', 'temptation', 'conserve', 'effervescent', 'erased', 'deflector', 'thunderous', 'ratio', 'comfortably', 'artistkim87gmailcom', 'bagels', 'pretzels', 'shrimp', 'aromatic', 'croissants', '680', 'whacky', 'succulent', 'broth', 'patisserie', 'dairy', 'beef', 'rounded', 'mustache', 'unsurpassable', 'chefs', 'cultures', 'cooker', 'kitchenware', 'sincerity', 'methodically', 'shuttle', '1300', 'topping', 'sardine', 'seating', 'spoonful', 'cafeteria', 'waiter', 'frosting', 'deliciously', 'verbose', 'challengeable', 'tantalize', 'waffle', 'coke', 'simmer', 'dosa', 'curry', 'pizzeria', '2800', 'lined', 'entrepreneurial', 'onion', 'deliciousness', 'salty', '1050', 'upscale', 'feverish', 'pudding', 'cranberry', 'blueberry', 'tomato', 'grilled', 'tortilla', 'yam', 'prawn', 'burgertron2000', 'delectable', '280', 'sundae', 'impatient', 'pinky', 'dished', 'piping', 'dustbin', 'lime', 'bib', 'cone', 'newscast', 'beefy', 'allergic', 'ferryboat', '231', '2hour', 'notion', 'supernaturally', 'galaxys4', 'top3', 'chillingly', 'unwrapper', '29th', 'saily', 'woodshed', 'henhouse', 'darn', 'awash', 'bola', 'peasy', 'restack', 'snore', 'imitate', 'polyphony', 'cogwheel', '1506', 'languages', '2391', 'caped', 'sway', 'octave', 'crayon', 'pita', 'baboo', 'anchor', 'sack', 'shipmate', 'geisha', 'washer', 'nonlanguage', 'topper', 'impeccably', 'soulful', 'idiosyncratic', 'drowsy', 'sleepwalker', 'democracy', 'day137studiogmailcom', 'r9c', 'r9', 'annex', '055', 'bf1', 'p2000', 'm327trr8', 'knifeman', 'c20112013', 'jackchengood321net', 'kefugood321net', 'nonliving', 'poodle', 'cameo', '100floor', '4person', '18ghz', 'gnu', 'noun', 'outlined', 'dried', 'shrunken', 'unsafe', '108', 'ethos', 'gurk', 'fervent', '20song', 'unabashed', '1986', 'commercially', 'viewpreview', 'tiling', 'finalize', 'hue', 'sepia', '15x', 'raster', 'gimp', '4096', '32bit', 'undoing', 'darken', 'vagrant', 'dealt', 'felicitous', 'skinning', 'pinching', 'sarcastically', 'unspecific', 'chump', 'buzzer', '1x1', '11x11', 'laz0r', 'won', 'relate', 'vigilance', '8ball', 'pocketed', 'abduct', 'delinquent', 'yogi', '80challenging', '141', 'handicap', 'inning', 'sideways', 'stably', 'radiance', '32x32', '128x128', 'extraction', 'creeper', 'gast', 'ocelot', 'furnished', '128x64', '16x16', 'commercialize', 'documentation', 'eatable', 'lama', 'kraft', '1152', 'tipped', 'skinny', '0170', '0160', '015x', '014x', '013x', 'earthlike', 'q42', 'bitwise', 'omit', 'stereo', 'stereogram', 'separation', 'almond', 'loaf', 'substitute', 'spinach', 'deviled', 'cauliflower', 'gluten', 'zucchini', 'broccoli', 'beetroot', 'cheeseburger', 'cheesy', 'casserole', 'chewy', 'chia', 'squash', 'dumpling', 'diabetic', 'raspberry', 'dolly', 'cabbage', 'quinoa', 'wordy', '0716', '0816', '0916', '1016', 'nomination', '1116', '0217', 'typography', 'conscient', 'introspection', 'bedside', 'posture', 'stephane', 'x3', 'quark', 'weigh', 'sheadonet', 'furdiburb', 'specimen', 'thingy', 'deftly', 'scaling', 'mistime', 'connoisseur', 'rug', 'unsurpassed', 'mock', '580', '1bit', 'sampler', 'sequencer', 'recorder', 'traction', '30meter', 'wickedly', 'electrically', 'pc', 'michigan', 'reliability', 'gong', 'transcendental', 'apt', '93', 'chessboard', 'handstand', 'buyer', 'synergize', 'mirrored', 'finite', 'nog', 'bouldering', 'cellar', 'cooling', 'hyperbolic', 'diverge', 'elegantly', 'vow', 'once', 'damage3', 'aplomb', '599', 'dis', 'exposition', 'resettable', '5000000', '11000', '640x400', '256mb', 'brig', 'traega', 'manicure', 'bushy', 'pentagon', 'bloodsucker', 'predicament', 'prosthetics', 'halved', 'c20132014', 'battling', 'nightly', 'equator', 'spade', 'exhaustion', 'nook', 'cranny', 'ville', 'amphibious', 'shielded', 'forums', 'ender', 'gravestone', 'approachable', 'frightened', '9010', 'suspected', 'willingness', 'superdifficult', 'certify', 'molding', 'spa', 'hosting', 'stoke', 'obnoxious', 'ceiling', 'pun', 'thrice', 'scaly', 'hospitable', 'tadpole', 'erecting', 'scrumptious', 'repertoire', 'sap', 'unforgettably', 'excursion', 'tourism', 'cornucopia', 'handsomely', 'tug', 'yonder', 'uncivilized', 'crepe', 'entice', 'stud', 'pedigree', 'waster', 'turbine', 'centauri', 'commerce', 'quarrying', 'publicity', 'brewery', 'lager', 'rct4m', 'concession', 'taller', 'dole', 'inquisitive', 'herbalist', 'nude', 'manuscript', 'burg', 'pep', 'plenitude', 'rout', 'transactor', 'industrious', 'militaristic', '01082016', 'untasted', 'tuber', 'nirvana', 'outreach', 'retriever', 'beagle', 'planes', 'sr71', '225', 'a6m', 'f14', 'ah64', 'rougelike', 'nonfungible', 'henceforth', 'ism', 'ssico8909gmailcom', '821051843834', '16ghz', '20gb', 'withdrawn', 'graduating', 'preorder', '900mb', '200k', 'bars25', 'fainting', 'meticulous', 'racial', 'peekaboo', '15v15', 'indulging', 'hatcher', 'lukeyun112111gmailcom', 'folly', 'destinies', 'spun', 'j2me', 'primrose', 'retainer', 'goliath', 'overdue', '17ghz', 'montowers2', 'lushly', 'expertly', '360000', 'negotiator', 'altruistic', 'haggle', 'oppress', 'late1980s', 'sixteen', 'abuse', 'sovereign', 'retelling', 'lotuseaters', 'rulership', 'monogamous', 'ithaca', 'protean', 'ferryman', 'rendition', 'pleasingly', '4playersde', 'inkle', 'undertaking', 'sadly', '50100mb', '1813', 'composure', 'parley', 'knighthood', 'awoke', 'topo', 'substitution', 'marquis', 'textbased325000', 'aero', 'downtrodden', 'denizen', 'bandage', 'precede', 'symbiont', 'm2', 'liaison', 'androidgameplay4you', '190000word', 'walnut', 'faerie', 'jester', 'poet', 'cheater', 'miller', 'reroll', 'deathtrap', 'firetop', 'shun', '675000word', 'palmer', 'antagonize', '1972', 'spotless', 'median', 'everyman', 'biography', '02042020', 'hornblower', 'rapacious', 'pinnace', 'caravel', '240000', 'fork', 'envelop', 'csy930707gmailcom', 'colonization', 'pon', 'textbased430000', 'raun', 'cities', 'nymph', 'pastel', '2person', '6900', 'mindfully', 'tawhoo', 'tharee', 'unwrapping', 'combinable', 'handbook', 'drank', 'alcohol', 'divining', 'spiritual', 'readiness', 'waxing', 'crescent', 'gibbous', 'waning', 'astrology', 'vanity', 'refinery29', 'fertility', 'ovulation', 'menstruation', 'repost', 'foresight', 'howler', 'hippopotamus', 'fujara', 'bongo', 'sitar', 'guqin', 'cars', 'crystallic', 'converting', 'distort', 'mp4', 'smudge', 'organical', 'jolt', 'nugget', 'stoic', 'olden', 'rufus', 'stoicism', 'id3', 'disc', 'm4a', 'symmetric', 'handily', 'grainy', 'saturation', 'vignette', '1967', 'disposable', 'distortion', 'analogue', 'cherishing', 'stereotypical', 'player1', 'player3', 'deadlock', 'mcwc307', 'zak', 'sortable', 'uncommonness', '16pf', 'pedometer', 'dusky', 'switcher', 'correspond', 'trash', 'verb', 'blimp', 'undisturbed', 'maddeningly', 'fluff', 'polo', 'slavering', 'technocrat', 'box2d', 'toys', 'birdie', 'invulnerability', 'aviator', 'seedling', 'ascertain', 'lousy', 'mortally', 'vizier', 'apothecary', 'successive', 'generational', 'compounding', 'coincide', 'consequently', '13x13', '19x19', '4400', 'examination', 'physiological', 'syllable', 'adjoining', 'wily', 'gamma', 'haywire', 'bethesda', 'fallout', 'skyrim', 'omelette', '80085', 'brow', 'whine', 'zeed', 'stratosphere', 'figuratively', 'upwards', 'flicflac', 'pointy', 'sixty', '59', 'tuition', 'thematically', 'fatty', 'fluently', 'grammar', 'numeral', 'questionable', 'mouthful', 'slippery', 'hippocampus', 'pedagogical', 'recite', 'punctuation', 'hoppy', 'beanstalk', 'duckling', '50languages', 'a1', 'a2', 'mp3player', 'attentively', 'linker', 'document', 'rename', 'swapper', 'scrambler', 'scrabble', 'speller', 'cranium', 'collins', 'slta12gigscom', 'beehive', '445', 'turquoise', 'meringue', 'taper', '210', 'perfectmatch3', 'kingcraft', 'diamonds', 'uplift', 'barometer', '10day', 'tickling', 'yawl', 'retouch', 'subdivision', 'tales', 'mars', 'ii', 'ekkorr', 'tyrannous', 'weedy', 'sparkly', 'parrot', 'dignity', 'bobble', 'puffer', 'puzzles', 'blackheart', 'antisocial', 'affectionate', 'cornfield', 'toto', 'toil', 'fidget', 'burster', '460', 'pete', 'operability', 'grasping', 'gimmick', 'skimmer', 'pillows', 'dreamland', '925000', 'fleshy', 'tasteless', 'smorgasbord', 'vee', 'uproarious', 'unfollowing', 'tally', 'readability', 'subtractive', 'chorus', 'stripe', 'wellbeing', 'glucose', 'x86x64', 'administrative', '1099', '599month', '5999year', '45e', '65e', '65t', '75t', '85h', '5band', 'fb2', 'italic', 'fraudulent', 'reorganize', 'songbook', 'diction', 'fx2', 'pop3enabled', 'unread', 'starred', 'lyric', 'travis', 'tiller', 'grime', 'polyphonic', 'dx7', 'portability', 'detune', 'modulation', 'resonant', 'reverb', 'pulsate', 'granular', 'harmonizer', 'snare', 'modular', 'prototype', 'catalyzer', 'ectoplastic', 'favorites', 'hum', 'livelyrics', 'soundhound', 'phonograph', 'overblown', 'accommodation', 'tenpin', '585mb', 'amplitude', 'fit2', '10k', 'hovr', 'jawbone', 'intake', 'achievable', '777', 'x4', 'x6', 'x8', 'sleeplessness', 'restlessness', 'glaucoma', 'cataract', 'secretion', 'hormone', 'retinal', 'trigeminal', 'relieving', 'deficiency', 'macular', 'degeneration', 'dim', 'musicale', 'alias', '3mb', 'woof', 'más', 'hazle', 'nondestructive', 'loudly', 'promoter', 'perpetually', 'scribbled', 'propeller', 'exploding', 'fernanfloo', 'frisk', 'sans', 'papyrus', 'undertale', 'deltarune', 'shrek', 'slashy', 'git', 'gud', 'dorm', 'mimic', 'scram', 'sparing', 'spewing', 'scalding', 'shanghai', 'remainder', 'x5', 'enthrall', 'grapefruit', 'ting', 'ramus', 'palatable', 'utensil', 'tri', 'enlisted', 'treaty', 'burden', 'licking', 'unscramble', 'dinky', 'adjective', 'disentangle', 'carte', 'pea', '8man', 'seamstress', '1900s', '2000s', '2053', 'handled', '2078', 'meteorite', 'alt', '657', 'tinted', 'stickman', 'aha', 'deaf', 'culminate', 'curvy', 'whereabouts', 'coarse', 'fluorescent', 'futurism', 'appadvice', 'gamezebo', 'ver110', 'bogard', '1990s', 'heady', 'cyclone', 'posthumous', '7z', 'directional', 'slept', '12member', 'sg1000', 'mx1', 'col', 'poked', '400mp', '543mp', 'gc1000', 'illicit', 'surging', 'churning', 'renegade', 'hydro', 'blisteringly', 'unguarded', 'catastrophic', 'battled', 'destroyed', 'deathblow', '1914', '3tiered', 'granddaddy', 'plugged', '119', '8851000', 'chino', 'salamander', 'armlet', '1994', 'mycolorado', 'colorado', 'instate', 'esoteric', 'bogart', 'ken', 'kof98', '70level', 'unfailing', 'pouncing', 'pc88', 'daytona', 'speedway', 'unintentionally', 'munificent', 'uncontrolled', 'reconstruction', '100ball', 'skim', 'drilling', 'gump', 'tien', 'mau', 'binh', 'stet', 'fabrication', 'magma', 'crappie', 'troller', 'sonar', 'costly', 'biting', '7113449', 'analyzer', '2006', 'crazily', 'jenny', 'snoring', 'appreciative', 'guttural', 'rattling', 'groan', 'novelist', 'alderman', 'runkeeper', 'jog', 'shivering', 'roving', 'airdrop', '3499', 's13', 'fumbling', 'marshland', 'benevolent', '9gag', 'proton', 'spectral', 'neutralization', 'inconsistent', '4000something', 'riffle', 'singular', '3dpixel', 'rotl', 'paintable', '308', 'blissfully', 'bettering', '6502', 'redlee90gmailcom', 'posing', 'withe', 'eradication', 'unicorns', 'animals', 'darkroom', 'c41', 'e6', 'ra4', 'agitation', 'dilution', 'safelight', 'ao5', 'ao12', '2x2x2', '3x3x3', '4x4x4', '5x5x5', 'square1', 'f2l', 'mo3', 'oxygen', 'cog', 'accumulator', 'duplicator', 'attractor', '24h7d', 'stuffing', 'polystyrene', 'tinsel', 'penniless', 'theorist', 'innovator', 'theoretical', 'suprematism', 'bosch', 'prismatic', 'scalable', 'desaturate', 'procurement', 'trillionaire', 'loosing', 'archetype', 'deferent', 'physique', 'interference', 'farting', 'smelly', 'outfi7', 'ludo', 'pachisi', 'dada', 'misspell', 'crouch', 'tortuous', 'foam', 'counteract', 'taboo', 'spencer', 'outspoken', 'courtesy', 'irrespective', 'influencer', 'petful', 'tightness', 'optimized', 'lossless', 'rubbish', 'scruff', 'indy', 'inclusion', 'blanket', 'smarts', 'unadulterated', 'tasting', 'wombat', 'okapi', '3dr', 'creep', 'pointer', 'spline', 'discoverability', '121212', 'lightness', '301', '18pt', '451', '701', 'indestructible', 'stature', 'facade', 'turkishenglish', 'sweety', 'predatory', 'firer', 'bullhead', 'sprinkle', 'fanciful', 'scruffy', 'nominal', 'roasting', 'earthly', 'servitude', 'momentary', 'disassembly', 'tasted', 'underdog', 'flatten', 'hillside', 'moronic', 'flatulence', 'nomadic', 'straw', 'sonny', 'definite', 'aliens', 'mellow', 'birdman', 'snot', 'err', 'indigestion', 'constellation', 'gluttony', 'pansy', 'beardy', 'bonanza', 'blinking', 'unpredictably', 'dub', 'decomposed', 'diverging', 'segment', 'ug', 'photosensitive', 'seizure', 'epilepsy', 'undiagnosed', 'epileptic', 'lightheadedness', 'disorientation', 'injury', 'detachment', 'dilated', 'lid', 'puns', 'cornea', 'telekinetic', 'yep', 'literati', 'reversi', 's10e', 's10', 'booth', 'ver3', 'planking', 'looper', 'brightness', 'filer', 'nougat', 'foreground', 'reddish', 'jellylike', 'poetizer', 'funnel', 'emit', 'forehead', 'charade', 'glee', 'stark', 'dashed', 'sketchy', 'bodily', 'embed', 'sticking', '8pm', '2010s', '499week', 'printer', '9730', 'froggy', 'juggler', 'borderline', 'squatting', 'a10', '30mm', '1970', '1916', 'authorize', 'sharky', 'falsely', 'brent', 'commodore', 'shackle', '4ch', 'heuristic', 'incalculably', 'microorganism', 'unintended', 'defile', 'flowering', 'creatures', 'tanks', '185000000', '150000000', 'deathless', 'enlightenment', '200year', 'preparatory', 'manners', 'only', 'travelers', 'contemplation', '560000word', 'abigail', 'wine', 'broadly', 'occident', 'rework', 'provoking', 'widen', 'warmonger', 'pygmy', 'unsung', '4part', 'lines', 'hearts', '1418', '217', 'pickpocket', 'otherworld', 'years', 'accommodating', 'hippogriff', 'windup', 'franco', 'paolo', 'proofreading', 'singh', 'arain', 'bowel', 'skiving', 'rig', 'aroma', 'shredding', 'excessively', 'diabolically', 'tiresome', 'slant', 'cloudy', 'audit', 'transmit', 'subset', 'canto', 'arpeggio', '1x', 'mp3cutterringtonemaker', 'disruption', 'mute', 'wsdf10', 'wsdf20', 'm600', 'marc', 'tambour', 'vapor', 'th247', 'wear24', 'quartz', 'scallop', 'referee', 'performer', 'mp3s', '162432bit', 'compressor', '3band', 'flanger', '1056', '45minutes', 'reconstruct', 'conversational', 'conjugation', 'learner', '90sthemed', 'gim', '2007', 'atrophied', 'ere', 'spiraled', '422', 'standpoint', 'titled', 'omen', 'demoniac', 'pounce', 'backdrop', 'beings', 'elves', 'peaceably', 'suitably', 'begins', 'prehistory', 'millennial', 'unanticipated', 'pendant', 'trunk', 'indentured', 'duchy', 'bade', 'manas', 'fished', 'nonsensical', 'omnipresent', 'smoothness', 'xbox360', 'towered', '18gb', '20132015', 'naught', 'eke', 'meager', 'c2014', '5screw', '50rarest', 'flea', 'glyph', 'shaper', 'tomboy', 'cantankerous', 'conjurer', 'fortunetelling', 'meena', 'who', 'youthful', 'inseparably', 'raya', '3000000', '44w', 'smear', 'fading', 'birdland', 'faculty', 'canteen', 'diaconia', 'southeastern', 'utu', 'usurp', 'erratum', '9100', '19962018', 'ha12', 'calmer', 'conch', 'womb', 'fussy', 'shutoff', 'reactivate', 'commission', 'conditioner', 'heartbeat', 'chopin', 'nocturne', 'sugarplum', 'prelude', 'sonata', 'facile', 'kv331', 'detectable', 'bathing', 'scrub', 'alphabetic', 'tom', 'measuring', 'chute', 'jar', 'patroller', 'nicky', 'dicky', 'adhesion', 'zeta', 'caretaking', 'chugger', 'trainee', 'chug', 'ridge', 'shortcake', 'disputes', 'consenting', 'distracted', 'aspiration', '123s', '799month', 'friction', 'u295a150003', 'federal', 'vet', 'splurge', 'subscriptions', 'madden', '3yo', 'upstairs', 'singalong', 'sweater', 'pajama', 'enlighten', 'scholastic', 'dactyl', 'stine', 'firewood', 'contemplate', 'episodes', 'charter', 'cox', '3999year', 'foghorn', 'leghorn', 'popeye', 'huckleberry', 'droopy', 'juniper', 'animations', 'so03d', 'coup', 'freed', 'bipedal', 'stickleback', 'anthology', '64page', '469', 'stripped', '1988', 'cdrom²', '2way', 'martingale', 'bowie', 'sordid', 'rumbling', 'snowmobile', 'retired', 'cancer', 'gamesir', 'quickness', 'inmate', 'slipping', 'grease', '949', '2049', 'hellhole', 'extermination', 'stunner', 'amazement90', 'advert', 'middleweight', 'heavyweight', 'cada', 'compite', '4xx', 't7xx', 'fickle', 'uninviting', 'downright', 'insertion', '800mb', 'pilgrim', 'evermore', 'arduous', '7stars', 'approximation', 'multicore', 'tying', 'threshold', 'armarmv5te', 'armv7a', 'arm64v8a', 'x8664', 'mips64', 'goalie', 'онлайн', 'анонсы', 'галереи', 'полная', 'текстовые', 'блоги', 'широкие', 'f2f', 'probabilistic', 'rook', 'lowhigh105', 'recuperate', 'steadier', 'thudding', 'contender', 'biscuit', 'equity', 'playbook', 'skipping', 'iteration', 'negotiation', 'usefulness', 'roughly', 'nod', '762', 'calibre', 'contraband', '1000000000', '20192020', 'traditionally', 'big6', 'thumping', 'nervous', 'kappa', 'ow', 'overweight', 'triceps', 'biceps', 'lagging', 'prelaunch', 'hemp', 'marijuana', 'salient', 'legality', 'soluble', 'canopy', 'similarity', 'holden', 'delusional', 'toffee', 'sugary', 'roto', 'boo', 'cornerstone', 'predictable', 'exactness', 'minutia', 'woohoo', 'elude', 'soggy', 'ingrained', 'rebus', 'overlaid', 'corrugated', 'divisive', 'briefly', '30m', 'subtitle', '6color', 'numerical', 'perimeter', 'neuropsychology', '3combo', '5combo', 'ejector', 'skee', 'titanium', 'exclamation', 'bumping', '3450', 'gemmy', '3inarow', 'geomagnetic', '224', '448', '32768', 'zircon', '3match', '336', 'contentment', 'reshuffle', 'viridian', 'limits', '1001', '36000', 'monetize', '675', '640', 'ann', 'floral', 'emailtaolin1806gmailcom', 'subregion', '864', 'draught', 'billiards', 'cue', 'checkmate', 'castling', 'passant', 'counterclockwise', 'unplayed', '1star', '2stars', 'cueball', 'snooker', 'players3', 'players4', '13m', 'loch', 'ness', 'trout', 'sunfish', 'barracuda', 'matador', 'muggins', 'yor', 'dama', 'universally', 'rectangular', 'baize', '9ball', 'rooted', '1920sthe', 'blockage', 'ponce', 'rematch', 'checkered', 'inescapable', 'straightaway', 'scratcher', 'divisible', 'brisk', 'packet', 'rigid', 'regulation', '10ft', '12ft', 'nonregulation', '8ft', 'cushion', '2match', '3swap', '4you', 'peg', 'asymmetrical', '8816', '161632', '323264', '6464128', '8192', '16384', '65536', '131072', 'stimulator', 'sho', '52card', 'ought', 'tableau', 'weakening', 'treebeard', 'humanlike', 'firecracker', 'taj', 'fuji', 'mal', 'gar', 'tun', 'warst', 'dich', 'oft', 'nach', 'sind', 'bi', 'gut', 'b1', 'b2', 'c1', 'c2', 'incomplete', 'perceive', 'unconsciously', 'plural', 'comparative', 'irregular', '107', '1166', '1142', '1919', '2021', '1363', '1959', '284', '353', '163', 'terminology', 'staple', 'expedited', '83000', '84000', 'dialing', 'methodology', 'induced', 'exaggerated', 'insignificant', 'obligatory', 'me2zen', 'works', 'verbforms', 'composite', 'english', 'persist', 'moyenne', 'jours', 'environ', 'mot', 'surtout', 'relation', '9001', 'fb2zip', 'hyphenation', 'big5', 'participle', 'sat', 'grammatical', 'productively', 'tableware', 'oral', '8mb', 'trefoil', 'reword', 'correspondence', 'aswell', 'v3', 'screening', 'quantify', 'stockfish', '1600000', 'preventer', 'unrated', '345678', 'lv100', '258', '1player', '10242048', 'ef6d20950f', 'e4', 'sicilian', 'c5', 'e5', 'korona', 'chess24', 'premove', 'disadvantage', 'morris', 'char', 'connect6', 'halma', 'moulin', 'ninepenny', 'marl', 'tavola', 'tule', 'bead', 'fant', 'tania', 'chessdom', 'nag', 'chess960', '7man', 'daydream', 'intermediary', 'hangul', 'cab', 'sodoku', 'affluent', 'opulence', 'bing', 'indoors', 'gambit', 'shogi', 'mongoose', 'bookstore', 'motif', 'extracted', 'fen', 'p2p', '1069', '1924', 'refutation', 'correctness', '19241926', '1926', '19261927', '1927', '19271929', '1929', '1930', '19301931', '1931', '1932', '19321933', '1933', '1934', '114', '19341935', '1935', '116', '117', '118', '1938', '1939', '19431944', '127', '1948', '129', '1951', '1952', '131', '1953', '1954', '134', '1956', '1957', '1958', '138', '139', '1961', '19611962', '1962', '1963', '1966', '146', '19661967', '147', '1968', 'uncastled', 'castled', 'positional', '62', 'blockade', '69', '73', 'dam', 'adda', '320x240', 'kibitz', 'preface', 'qualitative', '74', 'c3d4', 'semiopened', '79', '811', 'quad9', 'resell', 'retransmit', 'interception', 'resignation', 'unavoidable', 'sud', 'glicko2', 'skewer', 'perpetual', 'boundary', '831', '265', '946', '297', '985', 'socially', 'parcheesi', 'uckers', 'aeroplane', 'forfeit', 'neoclassic', 'aggravation', 'parchisi', 'sketching', 'emote', 'individualize', 'down100', '50k', 'landline', 'yalla', 'loser', 'substituted', 'cipher', 'weekender', 'taptiles', 'untimed', 'tact', 'superbrain', 'mme330121584442972', 'uninvested', 't3', 'sec', 'solicitation', 'diversification', 'liquidity', 'informational', 'warranted', 'broker', 'bnga12gigscom', 'dauber', 'keno', 'daub', 'whist', 'nil', 'unsatisfactory', 'kino', 'palladium', '577453', '07785265', 'liability', 'abu', '1190047', '93894', '12651995', '16481994', 'axc847', '3f', 'ordinance', 'ouch', 'gamedesire', '0300', 'xunancom2019gmailcom', 'powerball', 'millions', 'advisory', 'valuation', '30year', 'screener', 'conservative', 'dividend', 'volatile', 'stocktwits', 'predictor', 'credits', '72hour', 'bally', 'horseshoe', 'hertz', '1800flowerscom', 'furor', 'rejuvenate', 'tombola', 'daubing', 'monopolize', 'tradable', 'sp500', 'boll', 'divergence', 'commodity', 'rebate', '10years', 'reregister', 'unclaimed', 'mailed', '630pm', 'liable', 'diligence', 'analyst', 'selects', '3cap', '11500', '730', 'unsolvable', 'thicket', 'batch', 'cinnamon', 'decadent', 'flickering', 'mug', 'normal80', 'aqueous', '2140', '4160', '6180', 'connectable', 'revert', 'prance', 'lemur', '7x6', '4inarow', '20122017', '44426', '55533', '22226', '33333', 'subsequently', 'yachty', 'rethrow', 'ticktacktoe', '12x12', '1000500010000', 'squelch', 'two2', 'four4', 'li', '1424', 'balut', 'intellectually', 'scores', 'leaderboard', '999999', 'mono4', 'hight', 'sequential', 'most', 'swank', '378', 'homogeneous', 'dimmer', 'occupant', 'cunningly', 'nationality', 'tectonic', '1cell', 'ebb', 'penalization', '10х10', '12х12', '15х15', '17х17', '20х20', 'punctureproof', 'od', 'kolo', 'toho', 'za', 'plum', 'peanut', 'brittle', 'gumdrop', 'hammock', 'puissance', 'vier', 'llega', 'tute', 'pinta', 'do', 'corta', 'torque', 'parenthesis', 'gobang', '2xd', 'cassino', 'cotillion', 'canasta', 'tasteful', 'forgiving', 'deviate', 'chronological', 'hardwood', 'neural', 'gammon', 'cryptographically', 'uncorrelated', 'gul', 'bara', 'bum', 'randomization', 'permissible', 'adherence', 'unnoticed', 'disconnection', 'mindlessly', 'bedazzle', 'redwood', 'inlay', 'reconsider', 'jacoby', 'favorably', 'considerably', 'agreeable', 'exemplary', 'baku', 'bac', 'mulligan', 'pristine', 'fairway', 'quilt', 'stratego', 'head2head', '4999', 'yahtzee', '7500', 'scorekeeping', 'scorekeeper', 'deduct', '6sided', '33322', '66622', '12345', '23456', '123456', '4d120', 'd6', 'd605', '4d6h3', '2d20l', '20sided', 'syntax', 'd0y', '0y', 'buddies', 'resemble', 'penetrating', 'inland', 'patchwork', 'petite', 'tarantella', '1600s', 'clairvoyancy', 'guideline', 'contamination', 'nonclinical', 'nursing', 'ambulatory', 'hospice', 'precaution', 'droplet', 'bacteriology', 'memento', 'abalone', 'hasty', 'confuse', 'haste', 'zombicide', 'abominations', 'katanas', 'encounters', 'rethink', 'successively', 'rodney', 'cohesive', 'fleece', 'spiel', 'lys', 'granada', 'insist', 'legibility', '52cards', 'loft', 'finish52', 'wod', 'diverting', 'mensa', '5inch', 'whisky', 'changeability', 'laurel', 'spieler', 'ich', 'prominence', 'annotate', 'sgf4', '52x52', 'phenomenally', 'triton', '7042', 'foray', 'crackling', 'dappled', 'ninety', 'aggregate', 'otto', 'increment', '289', 'clarify', 'nan', 'uncross', 'cocky', 'wite', 'inhuman', 'asterisk', 'importer', '1gsudoku', '166x', 'naked', 'finned', 'swordfish', 'avoidable', 'bug1', 'bug2', 'bug3', 'bug4', 'exclusion', 'bidirectional', 'contradiction', 'brainer', 'kahuna', 'paradisiac', 'disposed', 'catan', 'deprivation', '8bp', '8pool', '7x12', '8x16', 'accrue', 'metroonlinecouk710', 'robots', 'lots', 'google', 'confederacy', 'oak', 'knoll', 'seminary', 'brandy', 'confederate', 'bayonet', 'canister', 'smoothbore', '1861', 'cava', 'links', 'sheltered', 'holocaust', 'foreseeable', 'feral', 'eft', '5q', '63000', 'funpark', 'intuitional', 'diversely', 'mentality', 'crackle', 'conjugated', 'practiced', 'causative', 'mydeck', 'nonadjacent', 'fain', '2a', '3monsters', '3a', '4choose', '5battle', '6sky', '7collect', 'x025', 'x16', 'groundwork', 'tzolkin', 'insula', 'backdoor', 'undermountain', 'llan', 'boiled', 'catastrophically', 'mossy', '44card', 'cinder', 'depose', 'unjust', 'bock', 'aeon', 'lash', 'nemesis', 'mantle', 'randomize', 'oftentimes', 'negatively', 'unplanted', 'distinction', 'gunter', 'automa', 'repick', 'linearly', 'quell', 'sacrificial', 'omnipotent', '23000', 'moonsugar177gmailcom', 'gardener', 'irrigation', 'fertilizer', 'jota', 'polyhedral', 'sleeper', 'rustle', '2016s', 'manageable', 'minstrel', 'contiguous', 'madcap', 'scolding', 'caldron', 'dandruff', 'whatnot', 'quilting', 'monopoly', 'deceivingly', 'domains', 'footing', 'suitor', 'discredit', 'maintainable', 'activable', 'etna', 'silva', 'yoy', 'reignite', 'algebra', 'teams', 'waiver', 'secessionist', 'seminal', 'secession', 'unionist', 'discreet', 'lied', 'brazen', 'unopened', '6mgame', 'digitize', 'fide', '1m', '3m', '15m', '14001800', '18002400', '16002400', '12002400', '14002000', 'd4', 'nf3', '153', '4200', '4x5', '8x10', '9x12', '10x13', 'polyglot', 'blindfold', 'syzygy', 'vibrator', '0000', 'deviation', 'etiquette', 'theoretic', 'g3', 'b4', 'b3', 'nf6', 'countergambit', 'scotch', '2466', '298', '19751980', '19811985', '19861988', '19891992', '19931996', '19971999', '20002003', '20042012', 'irrefutable', 'desperado', '2200', 'maxim', '211', '212', '213', '214', '215', '216', '218', 'digestible', 'html5', 'css3', 'autorotation', 'feedbackc4haggmailcom', '7dice', 'tagged', 'fainthearted', 'calculative', 'diagnostic', 'fico', 'r3', 'qualification', 'candidate', 'seaman', 'crewman', 'flotilla', 'adaption', 'reinvite', 'descriptive', 'recursive', 'annotation', 'lc0', 'algebraic', 'tonk', 'tunk', 'presearch', 'decentralization', '919', '176', '251', '1018', '7316', '9300', '3player', '625', 'e52680', '2080', '6man', 'checkerboard', 'combinatorial', 'pervade', '340', '16001800', 'intercepting', 'retreating', '219', '221', '222', '223', '226', '1e4', '330', 'nfd7', 'nd2', 'nc6', '3bc4', 'eponymous', 'systematically', 'deflection', 'кс3', 'bb5', 'bc5', 'сg5', '19491959', '19601964', '19651969', '19701974', '19751979', '19801984', '19851992', '14001600', '227', '310', '311', '312', '313', '314', '316', '2232', '19982001', '20022003', '20042005', '20062007', '20092010', '20112012', '20152016', 'threefold', 'levels1620', 'levels110', 'presuming', 'undefended', 'deliberately', 'blindfolded', 'consolidated', '611', '612', '1901', '19021906', '1906', '1909', '1910', '1912', '1913', '19131914', '1915', '1918', '1921', '1922', '1925', '1928', '19291930', 'nc3', 'd5', 'bc4', 'qc7', 'rd8', 'bg4', 'rb1', 'qd1b3', 'bg7', 'be3', 'undermining', 'retarded', '4300', '514', '515', '516', '613', '161', '162', '203', 'fianchetto', '204', '271', '272', '273', '274', '276', '277', '278', '2710', '2711', '2712', '2713', '2714', 'bf4', '321', '322', '323', '324', '326', '1020', 'nd5', 'nс3', 'bg5', 'nxe5', 'bd2', 'c6', 'exd5', 'bf1b5', 'bxc4', 'ngf3', 'dissected', '3384', '940', '19551957', '19581959', '19601961', '19621963', '19641965', '19661968', '19691971', '19721992', 'boast', 'squinch', 'spied', 'unsecured', 'geographically', 'throttling', '6thcentury', 'vpnip150', 'ipip150', '256aeswifiip', 'qq930772035', 'qq4008203678', 'appappbbilibilicctv5qq', '14day', 'suboptimal', 'pegging', 'permutation', 'ide', 'compile', 'compiler', 'scala', 'snippet', 'realms', 'pulsation', '1code', '2auto', '3highlight', '4opensave', '5smart', '6format', '7common', '8support', 'x01', 'v010', 'v013', 'phrasal', 'monolingual', '20138', '20168', 'reportage', 'ding', '35ю', 'othello', 'tm', 'othelloco', 'aristocratic', '9х9', 'sequentially', 'nominative', 'clabber', 'unwillingness', 'mime', 'orthography', 'wort', 'bookworm', '00s', 'pantomime', 'jag', 'bacterial', 'stopper', 'bur', 'imperfect', 'postpone', '5x', 'flicker', 'mathematically', 'equation', 'imperishable', 'spill', 'qualified', 'backtrack', 'intellitap', 'klondike', 'taolin1806gmailcom', 'zhengweiyang154gmailcom', 'quieres', 'entonces', 'eliminator', 'glancing', 'learnable', '4pics', '10it', 'ligne', 'validation', 'chronograph', 'setter', 'integer', '1it', '72hrs', 'tiler', '16million', 'es2', '1rated', 'vermouth', 'bubblego2016gmailcom', '1thclass', 'whisk', '3cards', 'unwinnable', 'letterpress', 'whiz', 'frown', 'contracted', 'overtrick', '100point', 'pinochle', '3995year', '695month', 'binocle', 'dabb', 'not', 'devices', 'tonkin', 'candlepin', '100pins', 'shuffleboard', 'duckpin', 'adaptability', 'cinch', 'volley', '800k', 'penthouse', 'graded', '1800gambler', 'nhl', 'nhltv', '2minutes', '201920', '14499', '36cards', 'frap', 'borax', '10001001', 'thematical', 'sika', 'drunkard', 'erudition', '5050', 'insignia', 'superfluous', 'ephemeris', 'twiddling', '7000', 'толко', 'вый', 'слова', 'рь', 'живо', 'го', 'великору', 'сского', 'языка', 'да', 'ля', 'влади', 'мир', 'ива', 'нович', 'leftmost', 'autistic', 'syndrome', 'preposition', 'thesis', 'idiomatic', 'exhaustive', 'inflected', 'consultation', 'flagging', '4x1', '4x2', '5x2', 'grazing', 'daily7', 'meteorological', 'cloudiness', 'conformity', 'z2', 'aqua', '4a', 'bastion7', 'gust', 'snowfall', 'sledding', '12h24h', 'interstate', '180000', 'detonator', 'sunstone', 'meteogram', 'preliminary', 'fresno', 'corpus', 'anchorage', 'chandler', 'garland', 'surat', 'salaam', 'zmir', 'democratic', 'ivory', 'gambia', 'equatorial', 'sao', 'tome', 'droid27', 'moonrise', 'fir', 'snowdrift', 'note3', '5day', 'yachting', 'iridium', '10m', 'tidal', 'assurance', 'ods5', 'ods6', 'ods7', 'spiderwort', 'subcategory', '2345678910jack', 'probable', 'argument', '1870', '10mb', 'mengjunyou2019gmailcom', 'tapeworm', 'waterfall', 'brook', '1suit', '2suit', '4suit', '14000', 'alan', 'rucker', 'willie', 'bluegrass', 'unsigned', 'us181', '181fm', 'hpr4', 'hpr3', 'jamboree', '181', 'hpr1', 'hpr2', 'lonestar101', 'doze', 'baa', 'gander', 'diddle', 'jingle', 'weasel', 'homer', 'muffet', 'domestically', 'essay', 'viola', 'messing', 'paintbox', '234', '012345678910', 'insecure', 'paragraph', 'behance', 'enrolled', 'lender', '550000', 'custodian', '1800nlsread', 'collection15', '300k', 'gopher', '609146', 'rg030237', 'seashore', 'اپ', 'است', '۱۱', 'a4', 'مهر', 'لوگو', '۰۹۱۰۹۱۲۱۰۱۰', 'll', 'tanzania', 'quadrilateral', 'separating', 'circumcircle', 'proportional', 'isochronous', 'equidistance', 'propagation', 'tangent', 'axial', 'trigonometry', 'welsh', '28000', 'modal', 'gerund', 'plusgooglecomcommunities108779432287948193817', '4hours', 'corgi', 'crusty', 'tripeakssolitaireme2zencom', 'feckless', 'pussycat', 'reclusive', 'sacked', 'jingling', 'ripen', 'subtract', 'halve', 'settable', '5mb', 'cyrus', 'tite', 'pierrot', 'hame', 'sora', 'pager', 'yugioh', '9900', 'seafaring', 'eiichiro', 'dx2', 'dx2s', '360degrees', 'elucidator', 'repulser', 'ordinal', 'atlus', 'sega', 'disenchant', '990', 'cards', 'fireside', 'pina', 'waves', 'porch', 'updates', 'responsivity', 'archeress', '3the', 'tittle', 'uninventive', 'unreachable', 'scarab', 'nonstandard', 'journeying', 'forester', 'husky', 'pest', 'elaine', 'blamed', 'hideaway', 'swashbuckle', 'misfortune', 'leisurely', 'poof', 'sew', 'shove', 'variations1suit2suit4suittraditional', 'yea', '50game', 'askew', 'bouquet', 'crawly', 'doublet', 'provisional', 'spiderling', 'pouch', 'whitehead', 'draw1', 'draw3', 'raglan', 'referent', 'gypsy', 'mod3', 'cashbook', 'layman', '650', '3999', '9am', '5pm', '3192465271', 'precut', '30100', 'sewing', '2d3d', '1476', 'cloudbase', 'adw', 'aviate', 'lisk', 'religious', 'exposure', 'veritable', '174', '1026', 'inscrutable', 'recolor', 'fondly', 'admiringly', 'canations1suit2suits4suits', 'standstill', 'exclaiming', '1949', 'refillable', 'freehand', 'pipette', 'doldrums', 'amphitheater', 'ringmaster', 'madame', 'supervisory', 'number20176', 'remittance', 'receiver', 'cheaply', '5f', '53gil', '241', '0315086625', '0559032690', '3052', '16704565', '800lb', 'peep', 'economist', 'accredited', '20900', 'fractional', '907', '500kb', '09x', 'liberal', '10band', 'supersound', 'audiophile', '24bit', 'ps34', 'scrobble', 'q2', 'matinee', 'philharmonic', 'discography', 'noa', 'abreast', 'curation', 'lark', 'presentations', 'gimlet', 'stitcher', 'folding', 'hearmark', '3bureau', 'bleacher', 'bach', 'baroque', 'choral', 'harpsichord', 'secure¹', 'cash²', 'camera³', 'alerts⁴', '18883402265', 'unhide', 'archway', 'pegboard', 'piedmont', 'scopa', 'dispose', 'scat', '31½', 'nickel', 'nock', 'clinker', 'skat', 'skedaddle', 'snip', 'obe', 'schnitzel', '1support', '3rdparty', 'tamper', 'kayoo956gmailcom', 'multiplatform', 'quadruple', 'х2', 'galley', '5person', 'cyclic', 'displeasure', 'nifty', 'ribbon', 'rummy45', '106', 'closure', '1112', 'unsupervised', '1632', 'winder', 'tribune', 'game400com', 'j2', 'q3', 'k4', 'a11', 'hoyle', 'aces', 'refresher', 'pba', 'declarer', 'eldest', 'rung', 'bahar', '1extreme', '2play', '3play', '4private', '5chat', '7leaderboard', '100200', '50100', 'bags100', 'bags50', '10for200', 'payed', 'mein', 'prominently', 'saycacolprecision2over1', 'tens10', 'nines9', 'eights8', 'sevens7', 'idiom', 'ge', 'cisco', 'ibex', 'amman', 'bund', 'gilt', '003', 'မင', 'မယ', 'တယ', 'ဝင', 'တစ', 'ရင', '၁၉၁၀၂၀၂၀', 'အင', 'ရက', 'သည', 'နက', 'လည', 'ငယ', 'ဆင', 'လမ', 'ဘင', 'ရမ', 'နပ', 'ၾက', 'ၽန', '႕က', 'မဟ', 'ပကၡဒ', 'sabbath', 'ဥပ', 'umbrella', 'm2ts', 'surpassing', 'ac3', 'p2pprotocols', 'typo', 'chum', 'wordament', 'reactivity', 'conjugate', 'envied', 'ambassador', 'apprenticeship', 'unapproved', 'advisor', '401k', 'brochure', 'jargon', 'pusher', '2xp', '6figure', 'holyday', 'lockup', 'seminar', 'acknowledged', 'cms1006041', '201624878z', '6248', '0889', 'ecmsla03522018', '1260561w', '603', '9212', '8536', 'forta12gigscom', 'offshore', 'onshore', 'buoy', 'nola12gigscom', 'support12gigscom', 'hydrographic', 'facebookimraylaurienoriewilsonltd304115312941493', 'swell', 'hota12gigscom', 'f1', 'paddock', 'f1driveroftheday', 'forecasting', '52week', 'roe', 'gulf', 'levant', '2xmonth', 'epica12gigscom', 'astronomy', 'geneva', 'sa', 'encode', 'shrug', 'ℒℴѵℯ', 'hairband', '1980sfm', 'lautfmclub85', 'hotmixradiofrenchy128mp3', 'a1180hits', 'canal', 'saw80er', '1074', 'rada', '6hr', '48hr', 'wetting', 'boating', 'submeter', 'селестины', '1848', '1917', 'eyestrain', 'secrete', 'moisten', 'nearsightedness', 'spasm', '1545', '1499', '11999', 'tolerant', 'candlestick', 'grotto', 'godmother', 'extender', 'nuggety', '0000000000000000000000000', 'misset', 'criss', 'online13', 'capsa', 'enjoin', 'stump', 'yuegame2019', '100250', '15days', 'atwangli2690gmailcom', 'apiece', 'nullo', 'enforce', 'audience21', 'adiscope7gmailcom', '8215663003', '82316276890', '242', '1cv', '3txtwifi', 'irregularly', 'blyy', 'arboss', 'phoenixtaiwan888gmailcom', 'mien', 'nam', 'crossbowetc', 'noodle', 'fishgogogo7gmailcom', '14mb', 'submitter', 'quiz4', 'luckydogteam2019gmailcom', '1030', 'pomodoro', 'institutional', '67000', 'procedure', '0xbb1f24c0c1554b9990222f036b0aad6ee4caec29', '198449321', '287031826', 'footwear', 'luggage', 'orderly', 'voucher', 'chore', 'clipping', 'tst', 'maney', 'frivolous', 'carding', '1036', 'jiangjiawei301gmailcom', 'denomination', 'naming', '10question', 'mobytrader', 'rangers', 'brit', 'overland', 'transit', 'receipts', '70000000', 'goals', '5400', 'evie', 'cobo', '6789', 'vocational', 'horsemanship', 'timekeeper', 'stepping', 'step1', 'step2', 'thai10key', '12key', 'clipboard', 'smartpopup', 'rgb', 'myanmaruni', 'entitlement', 'divination', 'geomancy', 'ching', 'belomancy', 'shamanic', 'spor', 'biti', 'bookie', 'bookmaker', '1x2', 'tao', 'sower', 'rvr60', 'rvr95', 'proficiently', 'headline', 'sagittarius', 'manal', 'zodiacal', 'formal', '1contains', '2containing', '1names', 'genitive', '3rules', '6deck', '38slot', 'pottery', 'lea', 'throwback', '24hrs', 'scrapbook', 'punto', 'banco', 'big2', '450000', 'slots', 'megarama', '462', '8003756886', 'sma', 'parabolic', 'consensus', 'hd2', 'kuat192mp3', 'chclassic128', 'livede128', 'livede2128', 'chant', 'wcpemp3', '128k', '891', '981', '909', '895', 'contingent', '0339826', 'downbeat', 'positivity', 'chinsomnia128mp3', 'soma', '4clubbers', 'concierge', 'depart', 'cirque', 'soleil', 'aria', 'beau', 'rivage', '1678', '1741', 'dorothy', 'slippers', 's16', '1mo', '3mo', '9mo', 'custodial', 'stockback', 'overdraft', 'fees', 'etfs', 'declined', 'bitly2xyzcn1', 'bitly2xazplv', 'trademarks', 'adviser', 'morebitly2xcmdm0', '1035', 'jazz24', '885', '1027', '939', '1079', '971', '979', '937', '929', '100hitz', '947', '975', '955', '1075', '957', '881', '899', '1067', 'tricolor', '941', '1029', 'z100', '997', '995', '1045', '973', '1520', 'pulse87', '1073', '1053', '1055943', '1070', '740', '925', '1061', '935', '1710', '969', '1071', '1033', '885893', '959', '963', '1059', '1190', 't100', '1003', 'x963', 'q101com', '1031', '1023', '1065', '1043', '1270', '967', '915', '3wk', '913', '790', '1019', 'sax4love', '1580', '1021', 'abiding', 'c895', '1063', '770', '987', '931', 'q1043', 'wksuhd3', 'k104', 'lobo', 'globalsupport37gamescom', 'mega12gigscom', 'f15', 'su27', 'flanker', 'j20', 'su57', 'viva', 'election', 'obaa12gigscom', '400000', 'tipster', '1525', 'richa12gigscom', 'towel', 'affirmation', 'virtue', 'kinesiology', 'hopi', 'staircase', 'detour', 'ellipse', 'fizzy', 'plumping', 'teevee', '5card', 'presenter', 'spiritually', 'kay', '350000', 'guilt', 'repressed', 'tat', 'energetics', 'enlightening', 'channeling', 'incase', 'unconditional', 'archangel', 'warren', 'complimentary', 'ornithologist', 'heraldry', 'contagious', 'mutually', 'clientele', 'unqualified', 'banding', 'reinvest', '18773742584', 'lace', '7am', 's3xl', '21979', 'payable', '2637', '13748', 'rebalance', 'ember', '1month', 'philanthropic', 'predictive', '17000', '3500000', '1500000', '82316983448', '12000', 'outbid', 'hallway', 'municipal', '75inch', 'solo3', 'discontinue', '1q', '025', 'charitable', 'texas', 'multitable', 'sitngo', 'multi', 'collusion', 'leaderboards', 'promo', '6max', '025050', '100m', 'mttsng100player', 'multilanguage', 'impetus', '525', '10jqk10', '310210785k10', '310210246q99', '31078a4j', '193x193px', 'themer', 'equidistant', 'retracement', 'samara', 'bi1', 'centrum', 'chorten', 'spar', 'decathlon', 'unequal', 'nationalism', 'unmanned', 'cribble', 'noddy', 'skunk', 'quadratic', 'abridged', 'differentiation', 'parallelogram', 'rhombus', 'trapeze', 'parallelepiped', 'prism', 'cylinder', 'straightly', 'basil', 'metabolic', 'asparagus', 'radish', 'crocker', 'butternut', 'gravy', 'oatmeal', 'crock', 'grit', 'अत', 'यध', 'एक', 'षकल', 'बन', 'उन', 'रय', 'गर', 'एपक', 'हर', 'उनल', 'पछ', 'चल', 'सक', 'भन', 'उद', 'तप', 'इक', 'कर', 'मम', 'सहय', 'यवस', 'रव', 'सम', 'बज', 'अन', 'रहर', 'उपलब', 'इल', 'तथ', 'नर', 'कसर', 'कह', 'इन', 'मक', 'नक', 'सज', 'घरम', 'रम', 'कल', 'दर', 'पर', 'मर', 'पन', 'एनस', 'सह', 'वरण', 'पठ', 'सल', 'सहक', 'उप', 'षक', 'आबद', 'षकहर', 'तर', 'चन', 'agriculture', 'floriculture', 'poultry', 'subsidy', 'antibiotic', 'locality', 'competent', 'nephrotoxic', 'septic', 'sepsis', 'meningitis', 'shunt', 'pneumonia', 'exacerbation', 'tract', 'pyelonephritis', 'peritonitis', 'cholecystitis', 'cholangitis', 'cellulitis', 'arthritis', 'febrile', 'creatinine', 'difficile', 'penicillin', 'allergy', 'anaphylaxis', 'onset', 'empirical', '201011', 'microbiology', 'gastroenterology', 'cystic', 'fibrosis', 'oncology', 'ophthalmology', 'thoracic', 'abdomen', 'girdle', 'intervertebral', 'hernia', '3600', 'square3x3', 'n21mobile', 'ac1032', 'maunder', 'ketogenic', 'keto', 'ketosis', 'nutritionist', 'cacao', 'bagel', 'whole30', 'whole30keto', 'ket', 'popularize', '۹۸', '100درصد', 'دارند', 'هستید', 'نیست', 'رانندگی98', '2print', '35000', 'folded', '18yearsold', 'x1', '12bands', '20082019', 'bienvenido', 'planeta', 'conocé', 'nuevos', 'unselected', 'n1', '2½', 'a1a2b1b2c1c2', '1des', '2des', '3un', 'aider', '4un', '5une', 'amuser', '6affichez', 'modifier', 'apparence', '7système', '8des', 'roue', '9connectezvous', 'payee', 'discretionary', '3g4g', 'big2capsa', 'deck52', 'feeless', 'kalium', '5353535353', '3535', 'investing', 'entrepreneurship', 'acumen', 'sodium', 'infusion', '1week', 'knockoff', 'mediocre', 'instantaneously', 'landlord', 'm400', 'm200', 'wager', '15991111', '15881111', '15883555', '82425202500', 'thesaurus', 'uros', 'elle', 'tenter', 'ensemble', '20175', 'shallow', '31076', '173386', '6355', '169736', 'underline', 'n5', 'n4', 'n3', 'n2', '3107617338663551697362000', 'n5n4n3n2n1', 'polk', 'inception', 'e9pay', '18996943', '09301930', '10001800', '07044555032', '07042242758', '07049239907', '07042240666', '07049239910', '028777201', '07042240644', '07049239909', '07042438452', '07049239908', '07042242760', '07042438451', '07077073076', '07044555033', '1793', '803', 'multiplay1', 'triage', 'xenmobile2citrixcom', 'reverso', 'nonaction', 'festivity', 'unwrapped', 'eres', 'descarga', 'comienza', 'es', 'hora', 'wordplay', 'pictogram', '1770', 'doge', 'aion', 'erc20223', 'bep2', 'trc10', 'dent', 'tether', 'anonymity', 'bureaucracy', 'prying', 'exchanges', 'bech32', 'p2sh', 'bip44', 'multiseed', 'uxto', 'dusting', 'trusted', 'sovereignty', 'collectibles', 'erc721', 'dapp', 'web3', 'crypto', 'vague', 'zebi24gamesgmailcom', '3780', 'encyclopedic', '1mb', '1704', 'initiation', 'colossus', '4mb', 'shorten', 'definitionado', 'jiffy', 'uncontrollable', 'disbursement', 'unfreeze', '1pm', '9610', '853', 'slippage', '5020', '246556', '07907', '246566', '62334455', 'metatrader4based', 'cero', 'mt4', 'trading4pro', 'stochastic', 'projecting', '200m', '2004', 'grading', 'keel', 'wooded', 'swirl', 'noon', 'exponential', 'weighted', 'aroon', 'interbank', '2euro', 'trailing', '4cast', '245', '30250', '10083', '084', '10085', '042', '199667', '434413', '05367727', 'uro', 'mim', 'numismatist', '9799', 'enablement', 'eloquent', 'roi', 'knowledgeable', 'correlation', 'nonfarm', 'payroll', 'generalized', 'resubscribe', 'obverse', 'mintage', 'numismatic', 'executable', 'm5', 'm15', 'm30', 'h1', 'h2', 'h3', 'h4', 'h6', 'h8', 'd1', 'w1', 'deferred', 'sla', '9to5ers', 'reports', 'minutes1', 'days2', 'account3', 'camarilla', 'sympathy', '100x', 'preferential', 'discriminatory', '1015', '58kb', 'monopolist', '10º', 'más2', 'salta', 'gane', '4online', '5online', 'linea', 'aviso', 'tope', 'colder', 'pike', 'weighin', 'panfish', 'flasher', 'rulechallenge7quiz', '1620', 'caddis', 'crayfish', 'steelhead', 'subsurface', 'brant', 'carnal', 'preach', '1615', 'secular', 'ultimatum', '1232', '501c', 'unincorporated', 'autobiography', 'therese', 'troubadour', 'pau', 'metaphysical', 'yamatech', 'yamatechs', 'energetically', 'synchronistic', 'conspiring', 'rosary', 'contemplative', 'pope', 'nourish', 'seduction', 'plumb', 'luxuriantly', 'loosely', 'macabre', 'smartervegas', 'plow', 'ferry', 'advantageous', 'trucking', 'i94', 'i35', 'eld', 'vineyard', 'motorway', 'suitability', 'sifted', 'deadhead', '8002032540', 'kayak', '18004354010', 'enrollee', '19962020', 'counselor', 'housekeeping', 'punta', 'agua', 'breathy', 'alamo', 'thrifty', 'amend', 'faro', 'reservation', 'insiders', '7m', 'minibus', 'rebook', 'mickle', 'invoice', '18006212844', '699000', '741699000', '250k', '45000', 'insurer', 'carsscanner', 'uk44', '2036422248', 'usa1', '3128435785', 'fr33', '157329540', 'de0800', '1818415', 'es34', '912768456', 'it390694800521', 'nl31858886214', 'ja81422002258', 'ko820264339547', 'pl48838881163', 'hu36', '80088058', '9511282', 'fi358', '753252977', 'pt351', '800180157', 'sv46', '844683065', 'dk45', '80820051', 'rhodium', 'discounter', 'nu', '8day', '16day', '35day', '40day', 'checkout', 'aisle', 'sedan', 'lax', '1199', 'unsold', '1866hotwire', '18664689473', 'bookingautos', 'gearbox', 'mabi', '5146530', 'savvymoney', 'popmoney', 'checkbook', 'federally', 'unclassified', 'multirate', '4799year', 'prat', 'spacious', 'up', 'charges', 'obispo', 'kern', 'hayward', 'prairie', 'garibaldi', 'wa', 'napa', 'manatee', 'mason', 'vehicles', 'sedans', 'honk', 'certificate', 'rented', 'vat', 'baggage', 'confirming', 'car2go', 'sporty', 'rental24hcom', '7seater', '9seater', 'scandia', 'porto', 'fra', 'intercontinental', 'hartsfield', 'jackson', 'kef', 'sha', 'soekarno', 'hatta', '900000', 'copa', 'porter', 'fox24', 'us099', 'l100km', 'co2', 'emission', '24x7', 'app10', 'resale', 'taxed', 'dietary', 'layover', 'wholesale', 'hostel', 'overpay', 'depreciation', 'mediator', 'secondhand', 'ticketing', '7136354000', 'vain', 'nast', 'monday', '700000', 'lodging', '530', '191', 'samba', 'hookup', 'luxe', 'midweek', 'trips', 'أجوداagodaagodaอโกด', 'าתי', '17400', 'spain', '90000', 'balcony', 'enquiry', 'scot', 'ramada', 'app15', 'pratique', 'gratuite¹', 'gestion', 'poche', 'moment²', 'semble', 'urgence', '850', 'ca2', 'app19', 'brunch', 'mucho', 'estás', 'acceder', 'prefieres', 'sueles', 'tienes', 'déjanos', 'aún', 'haces', 'buscas', 'siempre', 'viajamos', 'gross', 'lister', 'cosy', 'my6', 'my6appfeedbackmotel6com', 'tesla', 'getaround', 'hyatt', 'miraval', 'alila', 'andaz', 'regency', 'ziva', 'zilara', 'hotels', 'centric', 'vivre', 'ihg', 'kimpton', 'voco', 'hualuxe', 'vacations', 'suites', 'candlewood', 'aggregator', 'relocation', 'painless', 'luxuriant', '470', 'intensify', '620', '55000', 'كاملا', 'تماما', 'تلقائيا', 'spotlessly', '249', 'sauna', 'immunization', 'rounding', '11x', 'account¹', '122319', 'dental', 'deductible', 'coinsurance', 'cholesterol', '50392', '600144092018', 'wic2go', 'experiences', 'recertify', 'dipping', 'yr', '504honcho', 'kindergartener', 'consonant', 'chatterbox', 'c3049', 'bevsp2', 'support77sparxcom', 'extracare', 'prepay', 'minuteclinic', 'nonurgent', '1012019', '18003333991', 'remodel', 'roofing', 'heating', 'electrician', 'mower', 'siding', 'turco', 'otros', 'nuestra', 'urging', 'unreleased', '1038', 'allowance', 'allegiant', 'followmyhealth', 'obesity', 'diabetes', 'coronary', 'indigestible', 'hyperglycemia', 'motherhood', 'bronchitis', 'asthma', 'intestinal', 'lowering', 'digestion', 'cleansing', 'bearable', 'maternity', 'medication', 'shipped', 'cuesta', 'toque', 'delicioso', 'bacalao', 'advertise', 'exempt', 'deposits1', 'balance4', 'alerts2', 'bills5', 'payment3', '18777122265', 'provision', '57000', 'bolivia', '11500cash', '72000cash', '12500', 'sift', 'razz', 'logger', '2223', 'akqj10', 'kicker', '10jqkaa2345', '54joker3', '2090', '2akqj109876543', 'on', 'off', 'cultivated', 'genus', 'reidentification', 'taxonomic', '3riskfree', 'irs2go', 'clarity', '18m', 'contributor', 'craftsmanship', 'malt', 'cabernet', '11m', 'shortening', '625000', 'snapped', '299mo', '1999year', 'w2', '07068', 'engines', 'fe', 'expiring', '183', 'ean', 'howe', '128bit', 'transunion', 'nationally', 'releases', 'acne', '52nd', '137800', '1378000', 'horticulture', 'toxicity', 'nanny', 'fad', 'chaise', 'herbal', 'toothache', 'overuse', 'glycerin', 'macerate', 'collateral', 'sciatica', 'gloss', 'remedy', 'swollen', 'aloe', 'turmeric', 'diagnosis', 'travelzoo', 'combing', 'unsolicited', 'keepsake', 'workmanship', 'visualizer', 'prenatal', 'flatter', 'midwife', 'pharmacist', 'divvy', 'categorization', 'microsoft', 'powerpoint', 'evernote', 'onedrive', 'overlays', 'logos', 'complexion', 'cutout', 'presto', 'leaves', 'superimpose', 'duotone', 'radial', 'luminance', 'feathering', 'vibrance', 'roundness', 'fringing', 'splice', 'arbitrarily', 'fisheye', 'elongate', 'monochromatic', 'lightroom', 'replicated', 'enlight', '8mm', '35mm', 'fp300b0b', 'fp4', '664', '667', '500px', 'straighten', 'filters', 'resonate', 'temp', 'stylize', '30amazing', 'grad', 'redeye', 'smoothen', 'whiten', 'focal', 'ek80', '100t', 'compress', 'refit', 'underexposure', 'watermark', 'rater', 'blemish', 'subscript', 'degas', 'diem', 'delineate', 'pimple', 'kooky', '999monthly', '2999yearly', '480p', 'eyebrow', 'lockscreeninc2016gmailcom', '360momo', 'crumpled', 'unlink', 'ala', 'fetched', 'recap', '4999year', 'asana', '2step', 'procrastinating', 'unboring', 'settings', 'assistive', '099month', '999year', '27001', '1gallery', 'missive', 'sharable', 'deduplication', 'aes256', 'urgency', 'fetching', 'soc2', 'sitter', 'dialer', 'orderless', 'tinder', 'month3', 'manger', 'nonofficial', 'noncontrolled', 'oauth2', '423', 'adapter', 'tolerate', 'oauth20', '145000', '4085983338', 'alight', 'helsinki', 'tallinn', 'growling', 'skimmed', 'sprinkler', 'guesswork', 'sunshade', 'runoff', '8004886156', 'mag', '6999', 'digest', '3gedge', 'captions', 'yelp', 'foursquare', '351', 'sailboat', 'yaw', 'heel', 'buoyage', 'seafarer', '150s', 'r22s', '787s', 'a380s', '6165', '407', 'symbolic', 'accumulative', 'shockingly', 'prosecute', 'seagoing', 'uphold', '69news', 'hiker', '2650', 'infantryman', 'fragmentary', 'm249', 'm240b', 'm18a1', 'claymore', 'bowline', 'clove', 'hitch', 'rappel', 'darby', 'whet', 'world66', 'ryder', 'mandate', 'probation', 'towing', 'roadway', 'environmentally', 'ulster', '15million', 'poi', '199month', '1099year', 'mob5', 'hotelscom', 'nonparticipating', 'cancelation', '1480000', 'spanish', 'unload', 'screened', 'appliance', 'profiter', 'acceptant', 'recherche', 'dun', 'bord', 'rumbo', 'tentative', 'cancelable', 'encuentra', 'ahora', 'rápido', 'visita', 'tollmate', 'email', 'zipcash', '14k', '18k', 'boho', 'swarovski', 'unprepared', 'monoxide', 'troposphere', '777score', 'crystallized', 'feedback777scoregmailcom', '777scorecom', 'astir', 'astride', 'mahatma', '32card', '3card', '15253545', 'premiership', 'pornography', 'nudity', '8500', '172', '1800800010', 'ling', '02guanyin', '03guanyin', '04namo', 'sheng', 'hao', '05da', '06xin', 'jing', 'sutra', '07qing', 'dharmakaya', '08guanyin', '09zou', 'che', '10lo', 'shi', '20161027', '20160912', '20160911', '20160909', '20160722', '20160712', '20160618', '20160604', '20160516', '20160502', '20160428', '20160320', '20150830', 'cctv1cctv15cctv', 'cctv5', '3up', '4pc', '90х', 'handball', 'dit', 'pari', 'fishery', '12019', 'nineteen', 'accrual', 'stateroom', '125000', 'copart', 'counterbid', 'laughable', 'pylon', 'chilly', 'transact', 'burrow', '590', 'challenging', 'interruptions', 'things', 'disbelief', '4004000517707', 'timber', 'phoneme', '120000', 'outhumor', '9gaggers', '36m', '40m', 'pizzas', 'cough', 'supportandroid9gagcom', 'p4', 'rootless', '654', '543', '432', '6432', '5321', 'extrasensory', 'psychotherapy', 'rubric', 'forex', 'plus500', 'cred24com', 'fam', 'transposition', 'ukulele', 'mandolin', 'removable', 'believer', 'skeptic', 'spurious', '28mb', 'referendum', 'fluctuate', '413', 'competence', 'graphicaudio', 'abbey', 'reluctant', 'climactic', 'supervise', 'metra', 'allot', 'untrimmed', 'grasstech', 'piling', 'passively', 'communist', 'proletariat', 'motherland', 'moneybag', 'types', 'adventuress', 'ancestry', 'advocacy', 'touring', 'supercharger', 'valorous', 'tourer', 'm6', 'x7', 'i3', 'i8', 'transferable', '683', '5ку', '1clancerru', '1с', 'beeline', 'tele2', '3510k', 'm4b', 'mp2', 's3m', '29band', 'normalization', 'v1', '339', 'добавление', 'cкопирования', 'поделиться', 'удобный', 'in4cactusgmailcom', 'expenditure', 'unwarp', 'infrequent', 'unavailable', 'topographic', 'ozf2', 'bosh', 'biri', 'millioner', '21спорт', 'terrace', 'rp5', 'prognosis', '1hour', 'lim', 'dastur', 'troika', 'alfa', 'replication', 'v41', 'v100', '1629', 'savin', '100gb', 'firk', 'aerobic', '2130', '936', '36inch', '2220', 'hipbone', 'snug', 'vitals', 'outpatient', 'untill', 'surefit', 'importation', 'needy', 'clothe', 'larry', 'atmos', '8013504550', 'predictability', 'ai10', '4mttsng', '63bet', 'arouse', 'gravitation', 'fowl', 'delhi', 'violette', 'raj', 'mew', 'tremendously', 'startling', 'storm8combubblemania', '8090es', '2there', '3fresh', '4simple', '5many', '6there', '7anytime', 'gluttonous', 'entreat', 'transliterator', '91995', 'reopen', 'potty', 'wokas', '396', 'cubes', 'sweetness', '3is', 'classis', 'classwork', 'mountaintop', 'applejack', 'pinkie', 'mudd', 'ell', 'coding', 'foo', 'congratulation', 'chiro', 'personalized', 'eddy', 'loopy', '255beongil', '463400', 'jr', 'navigable', 'untie', 'k5', 'woodpecker', 'nutritious', 'petted', 'apron', '010', 'amused', 'tot', '4year', 'youngster', '10yearolds', 'fuzzball', 'wag', 'squeaky', 'gymnast', 'glittery', 'leotard', 'ugh', 'platter', 'refrigerator', 'grandiose', 'showroom', 'bulldog', 'bran', 'chimney', '1rich', 'unrestrained', 'exterior', 'david', 'support4enjoycom', 'cabana', 'utc0', 'buffet', 'drab', 'rancho', 'match3paper', 'elevating', 'liven', 'evilness', 'braiding', 'styler', 'braided', 'mare', 'hairdresser', 'comb', 'lori', 'arbor', 'tipper', 'customise', 'cameraman', 'zobo', 'skipper', '20182020', 'irritability', 'kala', 'logs', 'peggle', 'bakehouse', 'cluck', 'plushy', 'indisputable', 'burst3', 'sparky', 'honeycomb', 'rancid', 'luscious', 'ade', '18821901', 'scrubby', 'dubby', 'dixie', 'confectionery', '950', 'gush', 'jewelblastgo7gamecom', 'lolly', 'hateful', 'facebookcomcandyblastmaniamatch3games102176654597265', 'facebookcomletsfungame2326106847708638', 'josh', 'milo', 'choosy', 'hotelier', 'florist', 'grandmotherly', 'tubular', 'textile', 'brulee', 'donna', 'farmhouse', 'avast', 'dang', 'm3p', '100ms', 'oceanwar01hotmailcom', 'wangli2690gmailcom', 'fencing', '1app', 'discernment', 'v183', 'basin', '09002100', '3vip', '412345', '53dbossbossboss', '40mb', 'wallaby', 'hasten', 'uncompromised', 'note1', 'note2', '30mb', '1150', 'rome', 'carp', 'patterned', 'toned', 'bobber', 'dragonkind', 'ff3supportbitbrosgamescom', 'willow', 'angelfish', 'lonesome', 'resurface', 'ecdysis', 'watchdog', 'creature2048', 'curio', 'froze', 'x2000', 'x36', 'hazelnut', 'stagecoach', 'shear', 'fallow', 'skillet', '1599', '16999', 'pitchfork', 'canny', 'trident', 'fryer', 'modernize', 'mending', 'upkeep', '23ghz', 'centralize', 'disinfect', 'km²', 'agronomy', 'agronomic', 'wifire', 'tequila', 'woodcutting', 'paleolithic', 'physician', 'recount', 'pulley', 'moo', 'ing', 'renovator', 'farmyard', 'curie', 'anno1800', 'lounging', 'lippy', 'cheeky', '2min', 'unannounced', 'cats', 'incredulous', 'thievery', '1337x', 'madam', 'dye', 'bop', 'whiff', 's6note', '4tab', 'fluffiness', 'tailed', 'he', 'stamper', 'bears', 'own', 'our', 'karts', 'down', 'emergent', 'youtubecomplaydatedigital1', 'singlehandedly', 'twelfth', 'weaver', 'tart', 'putt', 'mandragora', 'prospector', 'shoddy', 'blindness', 'caffeine', 'parfait', 'sigh', 'eatery', 'encroach', 'us', 'restaurateur', 'cystal', 'cookout', 'realtor', 'doorbell', 'postman', 'groaning', 'diagnose', '1555', 'wrangle', 'wink', 'feverishly', 'paris', 'yowie', 'colorless', 'stylist', 'dapper', 'bridesmaid', 'androidappsgames2wincom', 'ravishing', 'edgy', 'magnificence', 'games2win', 't20', 'fantasies', 'stories2019', 'sorority', 'rummage', 'trouser', 'wore', 'astound', '3in1', 'mascara', 'pirouette', 'mysteriousness', 'posh', 'seriousness', 'olfactory', 'paparazzi', 'dump', 'pout', '4999usd', 'gown', 'banquet', 'skirt', 'mani', 'cereal', 'needlework', 'v4', 'v610', 'oblong', 'backstitch', 'knot', 'floss', 'safekeeping', 'barbie', 'braid', 'pamper', 'koko', 'bitty', 'convection', 'bakeshop', 'playgroup', 'sanrio', '20152017', '1976', 'congratulatory', 'tonsil', 'ointment', 'blush', 'pluck', 'tweezer', 'bandbox', '2messy', 'housework', '3tidy', 'princesse', '4girls', 'soapy', '5fix', '6everything', '7such', '8new', '9clean', '10this', '11girls', 'girly', 'supercute', '20162020', 'jasmine', 'beading', 'uncertainty', 'hurrah', 'sweetie', 'divinely', 'tangy', 'buttery', 'yolk', 'spatula', 'slushy', 'directions', 'chock', 'brushfire', 'sip', 'scrumptiously', 'yuck', 'offended', 'tartan', 'galloping', 'bambino', 'foamy', 'nappy', 'softly', 'powdered', 'yoghurt', 'bedspread', 'ava', 'nightie', 'goldilocks', 'ladylike', 'strut', 'catwalk', 'tv', '3800', '3810', 'lastly', 'socialite', 'phi', 'aftercare', 'undergoing', '6042040', 'boardwalk', 'storm8studioscom', 'tendance', 'swaggy', 'garment', 'blossomed', 'patio', '154', 'stars', 'stepmother', '2star', 'fiance', 'denim', 'olio', 'cookery', 'kr3w', 'risque', 'bedding', 'businesswoman', 'tanning', '5075', 'pasting', 'concerto', 'outshine', 'abuzz', '3baby', 'beautification', '8world', 'withen', 'purposeful', 'sb3helpgmailcom', 'bbr2', 'matte', 'unrest', 'mummification', 'embalmer', 'supportfitness22com', 'treadmill', 'elliptical', '399month', '4x6', 'perforated', '40100', 'unstick', 'c25k', 'genderless', 'slaughterhouse', '7500000', 'sofia', 'cuff', 'acrylic', '20x30', '4x53', 'prints', 'glossy', 'turnaround', '8x11', 'stainless', '15oz', '20oz', '11oz', '18x18', '5x7', 'paperweight', 'tote', '009', '511include', 'menopause', 'menstrual', 'us199', 'calorific', 'dietitian', 'diaper', 'pampered', 'spellbound', 'facebookcombubblewitchsaga2', 'chiffon', 'sweeten', 'mournful', 'whoosh', '3eliminate', '4super', '1more', '2sweet', '3easy', '4for', '6play', 'vegetables', 'fruits', 'exhilaratingly', 'pitching', 'slacker', '1201', '9gil', '82216440759', 'poacher', '1920', 'polluting', 'gerbil', 'stemmed', 'facilitative', 'pixwords', 'unsew', 'creativeness', 'jess', 'levitate', 'stroking', '4challenge', 'tuner', 'c3', 'tonal', 'a440', 'us25', 'us150', 'us125', 'narrower', 'dictation', 'repertory', '0320', '0427', '1104', '1105', '1130', '1208', '0106', 'pediatrician', 'overexposure', 'stroboscopic', 'zo', 'dha', 'appassionata', 'adieu', 'c4cat', 'causal', 'mahogany', 'seventeen', 'day6', 'got7', 'bol4', 'fromis9', '2ne1', '1masters', '4enjoy', '5various', '6various', 'forgiveness', 'dot2dot', 'perceptivity', 'soybean', 'carambola', 'untended', 'steamboat', 'agriculturalist', 'giddy', 'twee', 'spew', 'granite', 'genome', 'lactose', 'predisposition', 'slc24a5', 'phenotype', 'exon', 'splicing', 'therein', 'hypnosis', 'entrainment', 'hypnotherapy', 'owe', 'pragmatic', 'butterbean1313', 'piffle', 'armorer', '2ch', 'whipper', 'slung', 'n4g', '180928', 'vol6', 'repercussion', 'therapeutic', '60hour', 'dorn', 'brazier', 'metaphysic', 'disarm', 'odor', 'dutiful', 'a3', 'citron', 'junta', 'edifying', 'tackled', 'vaporize', '130000000', 'their', 'grader', 'deliverance', 'inorganic', 'incubator', 'nomenclature', 'ternary', '21stcentury', 'calculus', '7inch', '10inch', '31000', 'comparator', '20022018', '19952018', 'bridges', 'perry', 'purry', 'thinker', 'puzzledom', '2248', '248', 'facebookcom248numberpuzzle', 'rubbery', 'curved', '14x14', 'troubler', 'matching3', 'sludge', 'ordeal', 'resultant', 'seasoning', 'marbling', 'gelatinous', 'connective', 'glistening', 'thou', 'rustling', 'p920', '7fon', '20k', 'cumin', 'lemony', 'tartar', 'dill', 'buttermilk', 'crusted', 'fillet', 'paprika', 'drumstick', 'thyme', 'macaroni', 'pecan', 'succotash', 'slaw', 'coleslaw', 'persimmon', 'polenta', 'buttered', 'okra', 'oat', 'porridge', 'cashew', 'syrup', 'dissection', 'j4u', 'synchrony', 'curd', 'jig', '522', 'figural', 'admirer', '2x3', '6x9', '12х8', '15х10', '100piece', 'slowdown', '4100', 'sombrero', 'tango', 'pieces25', '1536', 'trigon', 'gradual', 'campion', 'match4', 'confectionary', 'foundry', 'cartoonist', 'blacker', 'bougie', '299month', 'us20', 'wordtown1292histudiosupportcom', 'spyglass', 'esquire', 'totalizer', 'stitching', 'linky', 'teste', 'hinweis', 'delectably', 'mitt', 'mundanity', 'scrupulously', 'recklessly', 'dazzle', 'countries', '193', 'playfully', 'livre', 'forme', 'carrousel', 'ferme', 'papillon', 'chenille', 'poney', 'ecole', 'stylus', 'dysgraphia', 'vocation', 'states', 'imperceptible', 'primero', 'escribe', 'ayuda', 'tiara', 'promotes', 'supersmart', '21x21', 'fairer', 'alphabetically', 'gourmand', 'reheat', 'oyster', 'rainbowlike', 'shish', 'mussel', 'achingly', 'bulletin', 'dressup', 'jokermusicalsleeping', 'mamma', 'plating', 'portly', 'popteenies', 'poppin', 'clerk', '5stars', '3gedgewifi', 'disappointing', 'condiment', 'mayonnaise', 'garlic', 'olive', 'delicacy', 'soya', 'wasabi', 'soy', '2020then', 'maddening', 'kitchenette', 'foodstuff', 'satisfactory', 'coking', 'creat', 'stewardess', 'preflight', 'steeple', 'citrus', 'westward', 'forte', 'champignon', 'pretzel', '1look', '2lots', '3kids', '5wash', '6preparing', 'batata', '7fair', '8soda', '10wow', '11how', '12street', '1287740qqcom', 'occupancy', 'reassign', 'expend', 'volition', 'live2d', 'affluence', 'mackerel', 'sighted', 'plunderer', '8866223223', 'goon', 'activist', 'activism', 'cho', 'impassioned', 'norma', 'founding', 'resigned', 'sleeve', 'accomplice', '94105', 'trolldom', '3fps', '24fps', 'gestural', 'terrifyingly', 'dank', 'piss', 'loony', 'ceramic', 'nutrient', 'percussionist', '6x5', 'knotting', 'hydrated', 'nylon', 'distorted', 'clarification', 'vibrating', '2gradually', '3track', '5no', 'waistline', '7ms', '1873', 'engraving', '1878', 'gainer', 'c0', 'b8', 'soprano', 'baritone', 'tenor', 'syllabus', 'centerpiece', 'mantissa', 'pendulum', 'bodywork', '7minute', 'mina', 'linn', 'quarterly', 'choke', 'top10com', 'synastry', '17173', '3minutes', 'pulp', 'enchantingly', 'cannonade', 'gearset', 'resounding', 'pilfering', 'reactive', 'glwg2', 'blowy', 'improperly', 'undermine', 'irrationally', 'dynamo', 'feign', 'epitome', 'flak', 'filth', 'harmoniously', 'dream2', 'hearth', 'sizeable', 'rightly', '3d2d', 'flossclean', 'interdentally', 'hygienist', 'orthodontist', 'flossing', 'interdental', 'chums', 'rinsing', 'vamos', '1openended', '2opportunities', '3curriculum', 'combustion', 'hydrofoil', 'speedboat', 'hogfish', 'briny', 'rowdy', 'rambunctious', 'uneducated', 'impostors', 'doodlelike', 'openended', 'cramped', 'multicellular', '500m', 'downstairs', 'photosynthesis', '412', 'sneezing', 'aching', 'curiousness', 'afterschool', '4yearolds', 'complain', 'touchable', 'intractable', 'pullback', 'satin', 'kimono', 'strum', 'purring', '1305', 'auditorium', 'informal', 'español', 'immigration', 'perceptive', 'kinesthetic', '20032020', 'mathematic', 'dividing', 'inverted', 'gendarme', 'densely', 'unobtrusively', 'sher', '37yearold', 'lifeblood', 'splosh', 'scented', 'jubilation', 'fiscal', 'abode', 'griddle', 'prudence', 'mailman', 'supple', 'peddling', 'ce5', 'magnetometer', '110mb', 'defer', 'unmetered', 'polarity', 'ultraviolet', 'creatine', '150kg', 'jock', 'gravitational', '800000', 'gp3', 'gp4', 'gp5', 'cern', 'langle', 'telescope', 'dismembered', 'ed', 'welt', 'lass', 'dreamspell13', 'calendars', '260day', 'profoundly', '12312012', 'drunken', 'figurine', 'horrid', 'sympathetic', 'yarrow', 'hexagram', 'trigram', 'unprompted', 'parchment', 'cc1', 'chronology', 'voltaic', 'anode', 'cathode', 'equilibrium', 'filterable', 'unmoving', 'extracorporeal', 'supramarginal', 'gyrus', 'parietal', 'cerebellum', 'الن', 'حو', 'للط', 'لاب', 'الص', 'الر', 'ابع', 'الابتدائي', 'الث', 'انوي', 'متعة', 'حد', 'لمحب', 'وعش', 'اق', 'كل', 'الت', 'طبيق', 'سيحو', 'خالصة', 'الس', 'ابقة', 'بكل', 'سنوات', 'ملاحظات', 'مهم', 'مسابقة', 'تتكو', 'الد', 'رس', 'ؤال', 'لعد', 'ثوان', 'الش', 'اشة', 'لتتحق', 'راسي', 'خول', 'يضم', 'بشكل', 'كامل', 'الات', 'صال', 'الخف', 'والس', 'رعة', 'رب', 'إجابت', 'ين', 'يتم', 'ثانية', 'للمتسابق', 'عد', 'الفيديو', 'وبالض', 'غط', 'المسابقة', 'وتخط', 'ابق', 'أيض', 'تان', 'جد', 'اح', 'لمر', 'واحدة', 'والتضحيات', 'والطائرات', 'جن', 'شي', 'منيعا', 'كو', 'والدب', 'ابات', 'يتحد', 'اك', 'دم', 'والذهنية', 'الصحيحة', 'سهل', 'معاناة', 'الم', 'سايرة', 'الدينية', 'العلمية', 'والأدبية', 'الرياضية', 'يوميا', 'المجانية', 'مساعدة', 'ذلك', 'سؤالا', 'يسر', 'قد', 'التطبيق', 'الهواتف', 'الكرام', 'دروس', 'القاعدة', 'النورانية', 'صوتا', 'وصورة', 'وتم', 'برمجت', 'بحيث', 'يكون', 'الاستخدام', 'وأكثر', 'جاذبية', 'للطلاب', 'والطالبات', 'ار', 'ات', 'الأس', 'اس', 'لت', 'الل', 'الع', 'والقرآن', 'الكريم', 'الق', 'اء', 'المدير', 'المهندس', 'تم', 'رياضة', 'خصيص', 'صحتك', 'رشاقتك', 'اليوم', 'الجري', 'اليومية', 'الأسبوعية', 'اليومي', 'الاسبوعي', 'التحدي', 'خطواتك', 'المسافة', 'الوقت', 'فكرية', 'ذهنية', 'المتحدة', 'تحميل', '4sale', '19191969', 'التلاوة', 'تمي', 'البواريك', 'العربية', 'عمره', 'عريقة', 'بذاتها', 'المنشاوية', 'علم', 'سبب', 'الخاشع', 'ول', 'fireel4', 'inscription', 'prekindergarten', 'pterodactyl', 'perceptiveness', 'conducive', 'applause', 'oval', 'babygames23com', 'sparse', 'tambourine', 'barking', 'cups', 'flawlessly', 'associative', 'sociability', 'dilemma', 'laden', 'portuguese', 'prankish', 'wee', 'outbound', 'chalk', 'olds', '123456789', 'quasi', 'mosquito', 'usefully', '3x2', '8x12', 'distractive', 'psychiatry', 'divisibility', 'exponent', 'abacus', 'overlook', '0123456789٠١٢٣٤٥٦٧٨٩', '๐๑๒๓๔๕๖๗๘๙', '০১২৩৪৫৬৭৮৯', '൦൧൨൩൪൫൬൭൮൯', '௦௧௨௩௪௫௬௭௮௯', '०१२३४५६७८९٠١٢٣۴۵۶٧٨٩', '౦౧౨౩౪౫౬౭౮౯', 'beaker', 'impasse', 'satyr', 'psychotherapist', 'operations', 'quicksand', 'ccssmathcontentkoaa4', 'ccssmathcontentkoaa5', 'ccssmathcontent1oab3', 'commutative', 'ccssmathcontent1oac6', 'ccssmathcontent1oad7', 'ccssmathcontent1nbtc4', 'ccssmathcontent2oab2', 'ccssmathcontent2nbtb5', 'monotony', 'x²', 'logarithm', 'summation', '5daysweekendgmailcom', 'outperform', '180204', '12x', 'voluntarily', '40minute', 'markedly', 'interim', '18003712809', '635', 'k6', 'beadwork', 'drumming', 'denali', '10yearold', '84295a', 'trademark', 'treetop', 'pru295a100025', 'stamping', 'spiffy', 'kids', 'media', 'frogfish', '30all', 'camouflaging', 'kangaroo', 'flushing', 'drying', 'intonation', 'inflection', '3dimensional', '2dimensional', 'tilly', 'wig', 'garnish', 'easel', 'feelings', 'silverware', 'phonic', 'academically', 'autonomously', 'anytime', 'blazer', 'kanga', 'songs', 'bellwether', 'librarians', 'parents', 'socialemotional', 'relationships', 'puppetry', 'plainly', '22learn', 'sameness', 'tillywig', 'both', 'hush', 'speckled', 'alumnus', '4788year', '1497quarter', '6yearolds', '6month', '12month', 'miraculously', 'correspondent', '2х', '3х', 'abc', 'kindergartner', 'lexicon', 'motility', 'relisten', '4х', 'inquisitiveness', 'unconventionally', 'childish', '11000000', 'оформлении', 'audible', 'formative', 'disinterested', 'adapted', 'lettering', 'morpheme', 'semantic', 'majuscule', 'ampersand', 'apprend', 'aidant', 'inciter', 'clavier', 'atelier', 'minuscule', 'boule', 'toyland', 'doit', 'passe', 'croissante', 'syllabe', 'ce1', 'ce2', 'utile', 'apparatus', 'cocos2dx', 'ticktock', 'fizz', 'conceptualization', 'generalization', 'abstraction', 'portmanteau', 'grizzle', 'naughtiness', 'synaptic', 'pruning', 'infancy', 'машин', 'schooling', 'sensual', 'designation', 'polite', 'precept', 'games4kids', 'tactual', 'motoring', 'praising', '6c872fa8c5', 'inculcate', 'experiential', '8learn', 'honeybee', 'retell', 'coplay', 'mouthwash', 'gargle', 'teacup', 'rosette', 'elicit', 'modifiable', 'indescribable', 'blinded', 'secrecy', 'shapes', 'numbers', 'instruments', 'bruna', 'ladybird', 'tod', '3dbear', 'restyle', 'frizzy', 'stripy', 'scribble', 'washable', 'nourishing', 'neatness', '2bros', 'prolixity', 'combinate', 'trilingual', 'observant', 'relaxing', 'cognitively', '3cp', 'geoduck', 'clam', 'althea', 'defective', 'weeny', 'impose', 'repairman', 'boundlessly', 'unscrewing', 'detergent', 'paver', 'gondola', '5question', '3x4', '6x8', 'distributable', 'haulage', 'logistics', 'locomotion', 'fanaticism', 'teething', 'deformation', 'sago', 'residue', '2xxx', 'roundabout', 'motricity', 'doesn', 'shatterbrain', 'mozaik3d', 'canary', 'magpie', 'redirection', 'jed', 'tribesman', 'hummingbird', 'atoll', 'fiasco', 'bilo', 'ako', 'f35a', 'sa9', 'gaskin', 'unguided', 'bombardier', '747', 'a380', 'biplane', 'fw190', 'me262', 'ju88', 'he111', 'b29', 'il4', '1107', '569', 'fa18', 'mig29k', 'fulcrum', 'a6', 'intruder', 'av8b', 'harrier', 'f35b', 'f4e', 'f16', 'su47', 'obliged', 'navigational', 'atis', 'rudder', 'dumping', 'longitudinal', 'nl10', 'wmm2015', 'stevedoring', 'commonality', 'aeronautical', '9500', 'afterhours', 'barrio', 'intermittent', 'treading', 'promomadrid', 'tomás', 'trepidation', 'instantaneous', 'phraseology', 'radiotelephony', 'contrail', 'orf', 'ö3', 'fm4', 'ö2', '983', 'u1', '892', 'ö1', 'clubland', '886', '1066', 'oe1', '80er', 'spored', '926', '1055', '90er', '945', '1011', '1062', '942', 'b138', 'mannie', 'f18', 'cartography', 'instrumentation', 'c2a', 'a7', 'c130', 'e38', 'e39', 'e46', 'e81', 'e82', 'e87', 'e88', 'e89', 'e90', 'e91', 'e92', 'e93', 'e60', 'e61', 'e64', 'e65', 'e66', 'e67', 'e68', 'e71', 'f01', 'f02', 'f03', 'f04', 'e83', 'e85', 'e86', 'z8', 'e52', 'r50', 'r52', 'r53', 'r55', 'r56', 'e23', 'e24', 'e28', 'e30', 'e31', 'e32', 'e34', 'e36', 'telephony', '100k', 'jamz977', 'servicechilltrax181fm', 'eagle977', '4977', 'hitsjazz24one', 'news977', 'rockhpr1', 'country977', 'hits977', '141somafm', '1cbs', 'radionews181fm', 'fm1fm', 'replay1fm', 'chevy', 'vegas1fm', '2week', 'plotters', 'sonarchart', 'hin', '95fm', 'placard', '105fm', 'viva80', 'marginal', '904', 'beira', '948', 'nove3cinco', '888', '978', 'hiper', '922', '918', '991', '996', '928', '737ng', 'aloft', 'posterity', '20152020', 'responsively', '170190', 'd2', 'l3', 'prepar3d', '165000plus', 'ו2', 'mooring', 'interpolate', 'airliner', 'seismological', '1975', 'peculiarity', 'impacted', 'aerobus', 'particulate', 'ozone', 'nitrate', 'dioxide', 'alertness', 'd15', 'yearmonth90', 'days30', 'repartition', '30days', 'acclimatization', 'a330a340', 'b777b787', 'theodolite', 'dilation', 'diameter', 'astronomer', 'tracer', 'trimming', 'tripod', 'smartcoach', 'anecdotal', 'collin', '2999month', 'analyser', 'acoustical', 'timeliness', 'vair', 'sectional', 'runs', 'notams', 'adsb', 'uat1090', 'flite', 'obstacles', 'frequencies', 'landscapeportrait', 'uptrack', 'longpress', 'gps', 'apps4av', 'tort', 'negligence', 'perigee', 'apogee', 'rainer', 'perennial', 'charts', 'psychometric', 'neuropsychological', 'impairment', 'dementia', 'sclerosis', 'regulate', 'noticeably', '15000000', 'recollection', 'comprehensible', 'knudgeme', 'sprocket', 'outscore', 'challengers', 'logarithmic', 'binomial', 'theorem', 'isosceles', 'trapezoid', 'hyperbola', 'parabola', 'derivation', 'derivative', 'rational', 'interpolation', 'variance', '1black', '12red', '2black', '11red', '12black', '1red', '13red', '1855magoosh', 'withhold', 'defiantly', 'posit', 'neurological', 'comprehensively', 'depressive', 'untapped', 'blushing', '2back', '090', '075', 'f2', 'laine', 'psychonomic', '244', '10771096', '137149', '841', 'dsm5', 'sociocultural', 'breadth', 'biopsychology', 'reflexive', '29988', 'synonym', 'dissemination', '7001200', '3buttonwonder', 'multidirectional', 'latex', 'attractable', 'toeic', 'thort', 'rudimentary', '20082020', 'gb2494520', 'us9684426', 'ca2847602', 'hk1183135', 'confess', 'gre', 'ready4', 'supported¹', '¹pronunciation', 'ui', 'reputed', 'clerical', 'analogy', 'arithmetical', 'challenges', 'lumosity', '5999', 'prealgebra', 'civics', 'equality', 'conic', 'wilder', 'dullness', 'kevinsmithsoftware2017gmailcom', '6200', 'recognizer', 'spelt', 'aphasia', 'neurology', '3686', '24999', 'retrospective', 'undergraduate', 'digestive', 'endocrinology', 'renal', 'cardiovascular', '12m', 'unexploited', '760', 'wordbook', 'accountable', 'refusal', 'boomer', 'rejection', 'overanalyze', 'reproductive', 'ovary', 'testis', 'collate', 'spinal', 'endocrine', 'operant', 'psychodynamic', 'humanistic', 'prejudice', '156', 'posttraumatic', 'schizophrenia', '159', 'dissociative', '1510', '1511', 'plasticity', 'discrete', '94s', 'decompress', 'hydrogen', 'helium', 'rotate90', '0x000lvl09', '15x9', 'deduce', 'further', 'nonverbal', '2grid', '5grid', 'concurrently', 'psychotechnical', '4bit', 'quaternary', '2699year', '599yr', '699yr', '11yr', 'moss', 'metalware', 'coder1cv8gmailcom', 'tomography', '50x50', 'prospect', 'gestures', 'persuasive', 'lymphatic', 'integumentary', 'thorax', 'perineum', 'pathology', 'conceptual', 'narcissism', 'psychopathy', 'mediation', 'ça', 'demandant', 'abstractly', 'stagnate', 'unessential', 'quota', 'percentile', 'stave', 'smartness', 'cistern', 'simplification', 'introspective', 'trustapps11gmailcom', 'procrastination', 'tenemos', 'responder', 'unroll', '4500', 'aimed', 'hiragana', 'katakana', '6mb', 'wordcrackmix2helpetermaxcom', 'assumption', 'wordbrain2', '480x800', 'het', 'probeer', 'knop', 'speel', 'words', 'brainbusters', 'archaic', 'circling', 'nr1hit', '250000000', '170000', 'wordsmith', 'twirl', 'perfectionist', 'uncompleted', 'amoeba', 'unstuck', 'bighearted', 'serrated', 'combinational', 'hints', 'lovers', 'excellently', 'belch', 'cutlery', 'cocreate', 'soaking', 'hanger', 'reliever', '240x320', '320x480', 'correspondingly', 'unfilled', 'undone', 'tempered', 'distinguishing', 'gamut', 'griddler', 'relaxer', 'bookcase', '570', '1582', 'equilateral', 'regularity', 'naturalness', 'perpendicular', 'mathematician', 'hypotenuse', '2use', '655', 'perspicacity', '712', 'partitioning', 'mistranslation', 'tectonics', '1000st', '15puzzle', 'complicity', '267750', 'obscene', 'zhed', 'parser', '0492', '049049', '1000th', '0h', '0hh1com', 'n0', '0hn0com', 'equaling', 'kendoku', 'kenken', 'disagree', 'ludicrously', '00', '3712', '670', '708', '694', '1to50', 'subsection', 'sidewards', 'unprejudiced', '2easy', '3medium', '4hard', '5expert', '3900', 'wordshop1232histudiosupportcom', 'wer', 'takt', 'passen', 'ö3gehirntrainings', 'kabuki', 'acrostic', 'swipy', 'deceitful', 'mislead', 'hele', 'weet', '310000', 'resonator', 'oe', '355000', 'lexical', '7letter', 'thefreedictionarycom', 'replaceable', '379', 'thickness', '267', '008', 'chipolo', 'lade', 'coolen', 'fang', 'formable', 'sq7', 'db11', 'v8', 'g70', 'a45', 'rs3', 'statutory', 'uncrossed', '1657', 'busyness', 'echoic', 'ref', '900051', 'patriot', 'codirector', '1974', '178691', '270163', '2525', 'interfactional', 'roadless', 'dispersed', '48and', 'muir', 'm3u8', 'helppuzzle1studiocom', 'escrow', 'diacritical', 'mufti', 'sura', 'ayah', 'proofread', 'settler', '150mb', '12am', 'cee', 'censorship', 'fitter', 'basal', 'metabolism', 'ospd6', 'csw19', 'nwl18', 'conceptually', 'a2a3a4', 'substraction', 'knitting', 'crocheting', 'aggregation', '109000', '59000', 'workbook', '165000', '230000', '65000', 'acronym', 'ean13', 'ean8', '1324', 'warping', 'hotelhunter', 'gastronomic', 'courtyard', 'tryp', 'autograph', 'doubletree', 'ibis', 'principe', 'douce', 'weakly', 'combos1', '715', 'prana', 'cigarette', '478', 'condensed', 'blancmange', 'panner', 'enorm', 'alleviate', 'goulash', 'tapioca', 'plantain', 'gumbo', 'tenderloin', 'glazed', 'balsamic', 'enchilada', 'coriander', 'obstruct', 'poorly', 'aftertouch', '7488', '64x117', '200x135', '100x100', '179', '00024', '00120', '00720', '05040', '40320', 'diligently', 'enormously', 'hysterically', 'admitted', 'illogical', 'homo', 'embryo', 'trials', 'including', 'pranked', 'freakishly', 'lingo', 'clink', 'tossing', 'vent', 'instability', 'aggressiveness', 'knead', 'geneticist', 'sup', 'embarrassing', 'unordinary', 'congruence', 'hemisphere', 'metaphor', 'clairvoyance', 'decompose', 'inject', '2492', 'kickoff', '20000016', 'subservient', 'chairman', 'beholding', 'theorize', 'straightedge', '1letter', '3letter', 'schoolboy', 'herring', 'webster', 'testimony', 'reimbursable', 'serenely', '1440x1280', '960x800', '640x480', '480x320', 'compressed', 'birding', '1905', '1000linefacebooktwittergooglewhatsapp', 'support1gamezcom', 'savant', 'integrator', '8x', 'amplifier', 'thermostat', 'indecipherable', '1895', '1610', 'quizzy', 'players', 'answers', 'quizzing', 'questions', '4answers', '150k', 'triviacrack2helpetermaxcom', 'mammal', 'facebookcom94seconds', '94secondes', 'procreation', '4800', 'wagering', 'whomever', 'basque', 'cryptogram', '1to1', '5e', '20132014', '5sr', 'alternately', 'tabu', 'experimented', '3x34x45x56x67x78x89x910x10', '3x5', 'chipmunk', 'gravel', 'chirping', '1c', 'faulty', 'pearmain', 'raceway', 'magneta', 'mellon', 'squeak', 'retest', 'enthusiastically', 'springy', 'elasticity', '30sec', 'lexia', 'core5', 'ry6', 'corrective', 'automaticity', 'by', 'arty', '3marker', 'axon', 'phonological', 'bias', '912', 'glycine', 'lysine', 'valine', 'threonine', 'ornithine', 'taurine', 'cystine', 'cysteine', 'isoelectric', 'pi', 'phenylalanine', 'tryptophan', 'aspartic', 'glutamic', 'arginine', 'hydrophobic', 'leucine', 'isoleucine', 'tyrosine', 'biochemistry', 'molecular', 'biochemical', 'ré', 'molar', 'boyle', 'mariotte', 'mct2', 't1', 'glassware', 'molecule', 'redox', 'sulfuric', 'citric', 'hydrochloric', 'chloride', 'carbonate', 'potassium', 'permanganate', 'calcium', 'hydroxide', 'thymol', 'reactant', 'hno3', 'fecl2', 'kmno4', 'nitric', 'nitrogen', 'molarity', 'ionic', 'alkali', 'ka', 'electron', 'dipole', 'electrochemical', 'solubility', 'conductometric', 'titration', 'stoichiometric', 'reagent', 'isotope', 'thermodynamic', 'oxidation', 'covalent', 'valence', 'modulus', 'vaporization', 'aspirin', 'electrostatic', 'stoichiometry', 'psi', 'tabular', 'vibrational', 'neodymium', 'europium', 'alkene', 'hydrogenation', 'genotype', 'hybridize', 'hybridization', 'southwestern', 'blotting', '1980', 'electrophoresis', 'nitrocellulose', 'radioactivity', 'valency', 'h2so', 'h3po4h2co3', 'anaerobic', 'h2s', 'caoh2', 'mgoh2', 'aloh3', 'acidic', 'so3', 'cl2o', 'n2o5', 'na2o', 'alno33', 'oxide', '2o3', 'nonmetal', 'oh2', 'metalloid', '2o7', 'h2o', '2o', 'hydride', 'dissociation', 'admired', 'bloop', 'optimist', 'pessimist', 'probe', 'compellingly', 'flaw', 'bonsai', 'rigging', 'thalamus', 'tepid', 'indexing', 'vicissitude', 'glaring', 'breezily', '2x2x23x3x34x4x45x5x5', '4x45x56x67x7', 'knightlike', 'trod', '1080', 'uncompressed', 'transcontinental', 'postal', '31662', 'transnational', 'unpacked', '201415', 'incoterms', 'flags', 'juega', 'arrastra', 'bonito', 'quizit', 'rectify', '40card', 'excelente', 'realmente', 'dor', 'bienvenidoa', 'como', 'qué', 'cual', '601', '166', 'stratagem', 'wale', 'insensible', 'nonnative', '3fill', '5500000', 'bloating', 'unscored', '7k', 'unvoiced', 'plosive', 'schwa', 'hsk3', 'hsk4', 'hsk5', '1306', 'ʕʘ', 'ʘʔ', 'capitalization', 'oversea', 'conjugator', 'foreigner', '2022', 'cochief', 'pais', 'figaro', '9394', 'souper', 'fountainhead', 'soliciting', 'constricted', 'amir', 'credible', '360coworkers', 'kish', '615', '3333', '44233551', '44231404', '20questions', '46010', '46022spain', '3496', '398', 'smore', '4in1', 'rancher', 'owlet', 'untested', 'antonym', 'bichrome', 'internalize', '360training', 'shaw', 'teachable', 'wordlists', 'fink', 'galvanize', 'paving', 'bogus', 'reckoner', 'quant', 'equivalence', 'comprise', '5700', 'ameliorate', 'presently', 'methane', 'ch4', 'benzene', 'c6h6', 'c8h18', 'c20h12', 'c8h8', 'figurative', 'comprehensibility', 'articulation', 'intuitiveness', 'digit1', '50card', '500card', 'encapsulation', 'polymorphism', 'relational', 'bootstrap', 'badges', '3seconds', '45seconds', '5second', 'python3', 'sucking', 'programminghero1gmailcom', '333', 'sharifur101gmailcom', 'obliquely', 'wordspark922histudiosupportcom', 'outpouring', '4600', 'hesitating', 'easeful', 'antifatigue', 'scintillating', 'wordscapes', 'wordfeud', 'cookies', 'codycross', 'hq', 'crosswords', 'pictoword', 'crossy', 'wordbrain', 'colorfulpiano2911gmailcom', 'zig', 'zag', 'tripping', 'vibraphone', 'banjo', 'pizzicato', 'chandelier', 'plucked', 'dulcimer', 'sf2', '88key', 'rockabye', 'timbre', 'p105', 'f120', 'changzhi2009gmailcom', 'transpose', 'keynote', 'sax', 'drumbeat', 'drummer', 'cymbal', 'kharaj', 'sweetening', 'coupler', 'bagatelle', 'no7', 'mazurka', 'sociality', '88note', '64voice', 'vocalist', 'glissando', 'jagger', 'maroon', 'expressivity', 'pcmawm2', 'cc7', 'cc91', 'cc92', 'pc127', 'pc126', '12stringand', 'seventy', 'musicality', 'commonplace', 'fender', 'bassist', 'withers', 'superaccurate', 'drainer', 'rash', 'sooth', 'cakewalk', 'progressbar95', 'precautionary', 'matchless', 'reinvention', 'others', 'skateorama', 'pipa', 'calmly', 'seeded', 'hopscotch', '2tap', 'sensibility', 'unmistakable', 'bagpipe', 'melodica', 'metallophone', 'quack', 'heads', 'chirp', 'educationist', '184', '280k', 'emulation', 'phonetically', 'bf123', '234567', 'x15', 'undergrowth', 'baloo', 'moonstar88s', 'excision', 'drumpads24', 'afterglow', 'quartet', 'koto', '2048s', 'emphatically', 'mp1', '3g2', '3gp', 'hereby', '07042871522', 'wholeheartedly', 'conservatory', 'clapping', 'triplet', 'rhythmically', 'jot', 'exigent', 'm2u', 'blustering', 'toucharcadecom', 'exceedingly', 'louis', 'evasion', 'infuriatingly', 'concussive', 'christen', 'prod', 'stadia', 'herself', 'poser', 'blusher', 'semilong', 'distributor', 'leal', 'sal', 'ponte', 'secreto', 'sola', 'moaning', 'unconsciousness', 'classmate', 'merle', 'gravely', 'patronizing', 'indebted', 'magi', 'ensue', 'madoka', 'trysail', 'p20', 'qua', 'tab4', 'jacket', 'flirty', 'ancestrydna', 'dyeing', 'narcolepsy', 'shyness', '350mb', 'rzg1485r', 'boa', 'revue', 'wordlessly', 'optimistic', 'balder', 'defunct', 'nonexistent', 'chun', 'gad', 'wielder', '50hr', 'polygonal', 'pocky', 'fecund', '2rhythm', '500am', 'pst', '600am', 'queer', '1000am', '600pm', '2am', '2pm', 'uta', 'novellike', 'magenta', 'tengu', '100eyed', 'sightly', 'descript', 'ephemeral', 'ur', 'deco27', 'piercer', 'evergreen', 'paring', 'tina', 'moisture', 'unbox', 'curl', '1now', 'torta', '2open', 'coo', '3in', '4wow', '5now', '6do', '7bakers', '8decorate', '9you', '10princess', '11put', '12do', '13cook', 'perturbation', 'elfin', 'frolic', 'mitten', 'meander', 'obedient', 'anaconda', 'beanie', 'fantasia', 'slush', 'crippling', 'blah', 'hearrrrt', 'mildly', 'wondermatch', 'hatter', 'tangling', 'cuttlefish', 'lagoon', 'imperious', 'doggo', 'whoaaaaa', 'whirling', '18021821', 'beatable', 'xwing', 'equalization', 'tr808', 'boost3d', 'limiter', 'cha', 'flamenco', 'clave', 'beguine', 'sarod', 'devotional', 'baya', 'earphone', 'gunshot', 'fader', 'ddj200', 'rotary', 'affirmative', 'tachometer', 'backfire', 'diagnostics', 'obd2', 'elm', '60l', '1000cc', '47l', '13l', '100cc', '1800cc', '350z', '458', 'r8', '12c', 'cor', 'c7r', '488', '48l', 'v10', '20l', '4boxer', '35l', 'v6', '30l', 'flat12', '15l', 'v6t', '24l', 'flat4t', '450cc', '4stroke', '250cc', '2stroke', '58l', 'stockcar', '55l', '36l', 'flat6', '37l', '16l', 'inline4', 'rotor', '1200cc', '1050cc', '52l', '45l', '32l', '62l', 'caddy', '50l', '115l', 'rudiment', 'ululation', 'chalice', '441', 'straightness', 'widgets1x1', 'inclination', 'reverberation', 'novation', 'ddjwego3', 'ddjwego4', 'rasp', 'daw', '116th', 'sounds', 'packs', '1624', 'clairvoyant', 'elvish', 'divinatory', 'synths', '674', 'goa', 'ay8910', 'deadmau5', 'sander', '1fm', '1mix', 'tomorrowland503', 'trance1fm', 'technic', 'milch', 'schizoid', '1dancefm', '24fm', '24technonet', '8bitfm', 'settings1', 'cdps100', 'cdps150', 'cdps350', 'pxs1000', 'pxs3000', 'ap470', 'ap270', 'px870', 'px770', '3pedal', 'sp34', 'damper', 'sp3', 'ped', 's1', '604sh', 'sh03j', 'shv39', 'r2', 'shv42os80', 'f01j', 'd01j', 'sc04j', 'note9', 'sc01l', 'sc04f', 'sc04g', 'scv33', 'smg935fd', 'sc02j', 'scv36', 'sc03j', 'scv35', 'sc02k', 'scv39', 'g013d', 'blal09', 'mo01j', 'nexus5', 'nexus5x', 'nexus6', 'nexus7', 'nexus9', 'l01j', 'so02j', 'sov33', 'so04j', 'so01j', 'so03j', 'so01g', 'zenfone3', 'ze520kl', '352', '490', 'matra', 'riff', 'breastfeeding', 'periodical', 'torchlight', 'transcribe', 'electrum', 'oscillator', 'parametric', 'pentatonic', 'divider', 'resistive', 'resistor', 'transient', 'reactance', 'impedance', 'capacitor', 'regulator', 'lm317', 'diode', 'amplification', '555', 'inductor', '7segment', '74xx', 'ascii', 'decibel', 'connector', 'scart', 'din', 'de9', 'db25', '328', '2560', '8u2', '16u2', '32u2', 'tremolo', 'vibrato', 'deben', 'dispone', 'osc2', '800x480px', 'soundtouch', 'spotify', 'iheartradio', 'thumbprint', 'rd4', 'kirn', '24dboct', '4pole', 'cutoff', 'quantize', '303', '808', '606', 'cr78', 'kr55', 'rx11', 'rz1', 'dpm48', 'assignable', '160kbps', 'tae', 'telecommunication', 'illuminance', 'fixation', 'mm²', 'cm²', 'm²', 'radian', 'yas109', 'yas209', 'ats1090', 'ats2090', '5or', 'v40', 'ocwg2000', 'ocws4000', 'ocwt3000', 'ocwt200', 'ocws5000', '127track', '85key', '441khz', '128x', 'coil', '120v', 'nicotine', 'flavoring', 'stretcher', 'ucg102', 'stereographic', '16mm', 'super8', 'outage', 'sc995', 'x2square', 'x3cube', 'improper', 'deg', '۱۴۰۰', 'کنه', 'باشید', 'b7', 'c7', 'd7', 'e7', 'g7', 'sus4', 'sus2', '7sus4', 'ab1', '5191', '58732', '2640', 'hundredth', '916', 'koine', 'septuagint', 'disagreement', 'protestant', 'reformation', 'camera2', 'api2', 'lapse', '2vs1', 'rapping', 'cest', 'sortie', 'artiste', 'seconde', 'actu', 'rappification', 'rapport', 'wavering', '500100025002000xlimpc', '500100025002000xl', 'flam', '8th16th32nd', 'iterative', 'slicer', '50010002500mpc2000xl', 'wavmp3', 'technics', '1210', 'daft', 'us999', 'leasing', 'lease', 'outmost', 'chico', 'saunders', 'bolero', 'pilon', 'ewe', 'saa', 'nevel', '3axis', 'discourage', 'fingering', 'persistently', 'trombone', 'bassoon', 'existent', 'stringed', 'symphonic', 'c8', 'fretted', 'overtone', 'exportable', 'piccolo', 'euphonium', 'pacify', 'mixolydian', 'kookaburra', 'bb7', 'b6', 'bushi', '8note', 'fret', '4string', '6string', '7string', 'practicum', '452034', '5line', 'leger', 'appoggiatura', 'v403', 'capacitive', 'tf700', '1280', 'quintuplet', 'sextuplet', 'sixteenth', 'n132', 'n364', 'n17', 'septuplet', 'r164', 't74', '7over4', 'n12n1423', '60300', 'inadvertent', 'daffodil', 'yak', 'uncomplicated', '2019gold', 'trimonthly', 'distinctly', 'muff', 'frogling', 'endow', '7pad', 'pane', '5string', 'sang', 'jug', 'bowwow', 'mulberry', 'knickknack', 'paddywhack', 'kettle', '3step', 'spotty', 'grasshopper', 'belling', 'stork', 'wallow', '020', 'downside', '18months', 'esl', 'perceptual', '170mb', 'wormy', 'jiggle', 'alliteration', 'buenos', '7yearolds', 'screeching', '678', 'spicing', 'fingered', 'fand', '150mo', 'hd28', '5min', 'zealot', '2475', 'js1200', '12string', 'es339', 'es399', '230mo', 'bottleneck', 'twain', 'winehouse', 'pinguin', 'prog', 'taint', '1827', 'specter', '1840', '1893', 'mult', 'ale', '01122006', '632006', 'rata', 'seta', 'profunda', 'strings', '3string', 'intervallic', 'charango66cmwalaycho30cm', 'charangon75cm', 'ronroco80cmchillador', '428452', '2545', '4060', '4560', 'larghetto', '6066', 'adagio', '6676', 'adagietto', '7276', 'andante', '76108', 'andantino', 'moderato', '8385', '92112', '108120', 'allegretto', '112120', '116120', '120156', '156176', '172176', '168200', 'prestissimo', '1hz', '440hz', '420hz', '460hz', '432hz', 'mobiletabs4acousticcom', 'cheerfully', 'a4442', 'tonic', '999week', '1999month', 'modeler', 'growl', 'recto', 'jcm800', 'p5550', 'trivium', 'jtm45', 'ac30', 'fuzz', '1176', 'sustainer', 'extractor', 'mutter', 'omittermp3', 'ringtonemp3', 'tracksmp3', 'remover', 'omitter', 'transporter', 'protractor', 'ucaptain', 'largemouth', 'smallmouth', 'musky', 'walleye', 'marlin', 'sailfish', 'internally', 'seemless', '8khz', '48khz', 'kazoo', '456', 'scenary', 'tips', 'austere', 'coca', 'minimally', 'stores', 'liquor', 'inboxdollars', 'methinks', 'laterally', 'collecting', 'candymaker', 'lets', '13year', 'mirrorgame4fungmailcom', '2mb', 'vacancy', 'appealingly', 'westerly', '1when', '2by', '3when', 'makes', 'turkish', 'drawly', 'wrinkly', 'yucky', 'dishes', 'pix123', 'decompression', 'annoyance', 'lynn84870123gmailcom', 'coin100', 'wristband', 'pacer', 'zumba', '31mile', 'coaches', 'johnny', 'runners', 'engadget', 'calorielab', 'belga', '200b', '4digitpin', 'biometrically', '12word', 'frictionless', 'hydration', 'unpuzzle', 'joyously', 'unlicensed', '6144', 'гостей', '22400', '628', 'dari', 'flemish', 'creole', 'pooh', 'unstop', 'slowpoke', 'معلم', 'ta3alom', 'pharos', '3075', 'اذ', 'ون', 'اش', 'وا', 'snatching', '504', 'کاربردی', '504لغت', 'otter', 'semiaquatic', 'wordbit', 'المبدأ', 'هذا', 'يوتيوب', 'يومي', 'شهري', 'تلقائي', 'فصاعد', 'أشكال', 'أدوات', 'وتشغيله', 'لذلك', 'مؤقت', 'التلقائية', 'المثال', 'عامة', 'inbetween', 'lumberwhack', 'developers', 'ifanzine', 'noobsource', 'lowland', 'disarming', 'ecology', 'felling', 'pterosaur', 'eggs', 'sublimation', 'gilded', 'palate', 'untidy', 'sou', 'k3lly', 'disneyland', 'coy', 'faller', 'mural', 'murals', 'vibrantly', 'donnot', 'triumphantly', 'carga', 'ig11', 'pram', 'droop', 'oneonone', 'canelo', 'sloop', 'details', 'tickets', 'epcot', 'achievements', 'continues', 'stylebook', 'toppy', 'whatsapp', 'halloween', 'icon8', 'sentimental', 'kissy', 'poop', 'eviction', 'bub', 'brotherly', 'cony', '1024mb', 'assemblage', 'crone', 'crier', 'subsystem', 'twit', '100magic', 'occipital', 'lobe', 'linkable', '1776', 'acuity', 'resilient', 'rix', 't9', 'rd3', '303style', 'satura', 'vibrancy', 'tandem', '012', '019', '029', 'refocus', 'dialectical', '3350', 'einstein', 'ope', 'repurpose', 'incompletely', 'springer', 'neurologist', 'vascular', 'neoplastic', 'pediatric', '3192465299', '4900', 'sycamore', 'unfurl', 'stagnant', 'tenderly', 'whispered', 'seadog', '18371902', '1920х', '1874', '1868', '17811841', 'matches', 'lory', 'kiloton', 'idleness', 'panacea', 'unspell', 'coziness', 'carpenter', '25floor', 'illuminated', 'marrow', 'aversion', '60120', 'cork', 'wayback', 'costar', 'searcher', '370103', '52472', 'topology', '55333', 'pounder', 'wat', 'waar', 'quotation', 'janitorial', 'rediscovery', 'churn', 'nerver', 'petroleum', 'arboretum', 'croc', 'concealment', '9x16', 'impartial', 'audacity', 'tween', 'dogcatcher', 'support99gamesin', 'las', 'viaje', 'blanco', 'descárgalo', 'dedo', 'basta', 'mover', 'hola', 'arriba', 'completa', 'palabras', 'soporta', 'vengan', 'delf', 'dele', 'devoir', 'mimer', 'chanter', 'bater', 'procure', 'gusto', 'proverb', 'haz', '20ти', 'compression', '039', '349month', 'parole', 'thaw', 'springtime', 'tetralogy', 'picket', 'unclutter', 'phenom', 'boatman', 'environs', 'airbrush', 'eider', 'memorabilia', 'outrace', 'photos', 'photopass', 'maxpass', 'guests', 'dory', 'fondle', 'anyhow', 'blobby', 'afterlifetime', 'concurso', 'rajah', 'visto', 'straightup', 'wrangler', 'points', 'using', '923', 'deluge', 'righteously', 'oneiromancer', 'tormenting', 'dali', 'legato', 'belligerent', 'drifter', 'ps3ps4', '813', '5t', 'complaint', 'jcs2', 'subversive', 'entwine', 'barley', 'mistletoe', 'fugu', 'piled', '2048th', 'semi', 'ornamental', 'foliation', 'hardiness', 'floristry', 'choosable', 'deciduous', 'herbaceous', 'temperate', 'equate', 'llamacorp1', 'facebookcomgroups2459104907672095', 'slicker', '1great', '3option', '4piece', '5work', '6simple', '588', 'tactfully', 'jambalaya', 'sloppy', 'bulky', 'doable', 'hump', 'creamer', 'debauchery', 'inhabitant', 'uninterested', 'coronation', 'gallantly', 'deafening', 'hypocritical', 'brat', 'haystack', 'clouded', 'mysticism', '101k', 'wx06k', 'petal', 'seasonally', 'bling', 'd8', 'd10', 'd12', 'd100', '1d201d411', 'playfulness', 'recordable', 'sculptor', 'unfriendly', 'prima', 'interwoven', 'visualshower', 'impotence', 'powerless', 'batten', 'nautilus', 'outboard', 'dinghy', 'catamaran', 'unplugging', 'tablets', '475', 'imago', 'transformative', 'underair', 'lattice', '2finger', 'dotty', 'rules', '50x75', '65x100', '45x60', 'checkoff', 'instruct', 'bloc', 'midautumn', '81012', '100x65', '500st', 'avocation', 'imaginatively', 'diplomate', 'topsoil', 'twinfold', 'duplicity', 'duplication', 'conversations', 'facts', 'filch', 'breadwinner', 'externalize', 'dilute', 'suits', 'owned', '20xx', 'purplish', 'boards3x3', 'tiny3x3', 'standard4x4', 'big5x5', 'bigger6x6', 'big8x8', 'make7', '1119', '2025', '2549', '5099', '100199', 'whoa', 'burnie', '302', 'viciousness', 'propensity', 'incidentally', 'reportedly', 'indirectly', 'semitone', 'quieter', 'centrally', 'colonizer', 'constructively', 'destructively', 'solormax3', '4hidden', 'translucent', 'cytoplasm', 'membrane', 'mitochondrion', 'orrery', 'rhea', 'tentacle', '2398', '2997', '2997df', 'hyperspace', '2259', 'geezer', '565', 'eccentricity', 'apsis', 'capping', 'historian', 'quintin', 'clans', 'elongated', 'helpers5minlabcom', '3gh4g4g', 'equinox', 'recurve', 'spectrophotometer', 'repeatability', 'd50', 'd65', 'incandescent', '400700', '6x10', '10x16', '12x19', 'argon', 'indepth', '3192377162', 'hesi', 'retrain', 'photocopy', 'attentional', 'countable', 'uncountable', 'possessive', 'frase', '90th', 'normalize', 'inopportune', 'coldhearted', 'analogcamera2017gmailcom', 'salesperson', 'screwed', 'wayne', '411khz', 'netherlands', 'sawyer', 'k2', 'russian', '2hold', '3using', '4when', '5reach', '1beautiful', '2four', '3various', '435', 'a1начальный', 'a2начальный', 'b1средний', 'b2средний', 'c1продвинутый', 'выражения', 'tremor', 'twofold', 'darting', 'clot', 'infectiously', 'unquote', 'devildom', 'baal', 'dissembler', 'spate', 'contemporaneous', 'rima', 'autonomy', '814', 'lux', 'biff', 'interlock', 'secrets', 'harlock', 'unexplainable', 'uneventful', 'hotbed', 'redhead', 'suspicion', 'revengeful', 'malarkey', 'aviary', '12000000', 'neurosurgery', 'neurosurgical', 'ashen', 'unwelcome', 'whom', 'panicked', 'verdant', 'confinement', 'retake', 'crater', 'statuette', 'exude', 'banishment', 'merrymaker', 'miscalculation', 'tombstone', 'untraveled', 'banked', 'gnarly', '10player', 'livery', 'csr2', 'one1', 'db5', 'eb110', 'caliper', 'outdrive', 'tec', 'aerodynamics', 'bonnet', '30000000', 'facebookcomcarx2', 'macao', 'underglow', 'slantwise', 'sprawl', 'irrevocable', 'rainstorm', 'autobahn', 'tenacious', 'swiper', 'juke', 'backboard', 'telemetry', 'beater', 'unrequested', 'weep', 'grudge', '0503', 'upsetting', 'aerodynamic', 'telemetric', '43car', 'prix', 'multiplayer', 'autodrome', 'yas', '209', 'mustang', '704', '704games', 'oversized', '60hz', 'reversible', 'highstakes', 'smashable', '1100mph', 'driveway', 'intercity', 'wheeler', 'mudding', 'bombed', '11v11', 'gtr2', 'roughness', 'copilot', 'regiment', 'thundering', 'p504', 'ural', 'm51', 'xenon', '0100', 'sgx531', 'anisotropic', 'decayed', 'appservicensmg21com', 'gymkhana', 'articulated', 'amphibian', 'pso318', 'cyber931', '1v5', 'hearse', 'paralyze', 'sawfish', 'wheels', 'chicane', '10100', 'yay', 'scuff', 'ditto', 'mormo', 'errant', 'tack', '4legged', 'recluse', 'doubloon', 'pronto', 'butterscotch', 'shenanigans', 'punchy', 'injection', '1261', 'turborillahelpshiftcomabmx2', 'unchained', 'vertigo', 'ransom', 'gnar', 'marge', 'm1a2', 'victoriously', '4x4s', '1869', 'talon', 's22', 'clifflike', 'gt500', 'gt40', 'unloved', '300sl', 'uh1d', 'ach47', 'mi17', 'uh60l', 'aw159', 'ch53', 'ka50', 'ah56', 'mi28n', 'ah1z', 'mi24p', 's97', 'rah66', 'ah64d', 'mi35', 'ka52', 'mi26', 'ch47', 'v22', 'su25', 'portrayal', 'mk828384', 'cbu87', 'stinger', 'r60', 'r73', 'agm119', 'merrily', 'truckload', 'moonshine', 'backwoods', 'smokey', 'punt', 'smuggling', 'hydroplane', 'powerboat', 'ipega9023', '800adreno', '20172016', '2133', 'sledging', '2068', 'supports', 'tires', '11x122x2', 'f150', 'f250', 'dr4x4', 'bracket', 'carburetor', 'blower', 'mopar', 'overcook', '10000horsepower', 'headlight', 'balalaika', 'skidding', 'physics', 'tracks', 'proportionally', '20004000', 'closeness', 'pseudo', 'simpsons', '550mb', '1900mb', 'hummer', 'wanted', 'v8s', 'unfiltered', 'stint', 'infamy', 'annuity', 'skied', 'sr8', '8000000', 'exams', 'p2', 'p3', 'laker', 'collegiate', 'soundtrack', '8090', 'dismountable', 'cityfolk', 'r32', 'r35', 'acre', 'showmanship', 'piston', 'crankshaft', 'camshaft', 'flywheel', 'rx7', 'horsepower', 'amain', '5cup', 'nonwinged', 'midget', 'gen2', 'pre2010', 'flaky', 'indy500', '200mph', 'firestone', '1920x1080', '444', 'billet', 'speedx2', 'muffler', 'solmization', 'semitrailer', 'punctually', '320kbps', '48000', 'polyconic', 'transverse', 'geodetic', 'datum', 'wgs84nad83', 'northing', 'easting', 'invigorate', 'wir', 'ohrwürmern', 'augen', 'kabel', '01801', '10673', '10623', '73831', '482', 'odometer', 'roadbook', 'panorama', 'a5753', '06541', '680068', '680069', 'zephyr', 'furtherly', 'superfluid', 'quicktolearn', 'hypersonic', 'xperia', 'conditions', 'sylvan', 'fixture', 'caviar', 'thoroughbred', '3018', 'minister', 'gourami', 'crawfish', 'secretariat', 'g1', 'skier', 'migratory', '1ft', '3ft', 'eta', 'sog', 'catalina', 'waterway', 'ingleside', 'strait', 'shire', 'ornate', 'paypalmepratik07', 'srivastavapratik402gmailcom', 'planpremier', 'funds', '529', 'arranger', 'spontaneously', 'quantization', 'concurrent', '64bit', '832bit', '96khz', 'taxmama', 'randomized', 'performancetracking', 'fios', 'freedomtv', 'moto2', 'moto3', 'inwards', '1iota', 'zaraya1', 'broadway', '49ers', 'garth', 'hermitage', '76ers', 'marquee', 'tools', '800etrade1', '8003872331', 'clubbing', 'recruiter', 'cdjtour1', 'cdj2000nxs2', 'cdj2000nxs', 'cdj900nxs', 'xdj1000mk2', 'xdj1000', 'xdj700', 'xdjrx2', 'ver406', 'them¹', 'zelle', 'in³', '¹deposits', '²requires', 'enrollment', '³certain', '2855594', 'refraction', 'astronomical', 'what3words', '468', 'weighting', 'predominant', 'dosimeter', 'constipation', 'felon', 'xtremesoaring3d', 'ask21', 'dg808s', 'ls8', 'motte', 'variometer', 'winch', 'specular', 'a4e', 'f4b', 'dexterous', 'v3171', 'skewness', 'kurtosis', 'histogram', 'covariance', 'regression', 'separator', 'outliner', 'indented', 'aphelion', 'perihelion', 'elongation', 'solstice', '510min', 'reimburse', 'approver', 'autonomic', 'susceptible', 'symmetrically', 'topics', '5172', '4141', '373', 'khatib', 'gyroscopic', 'clench', 'hd', 'super2', '999aud', 'precinct', 'fm6', '1977', 'coupe', 'hellcat', '1971', 'mx5', 'wec', '6hour', 'ornament', 'invitational', 'producible', 'formel', 'blick', 'volleyer', 'puncher', 'baseliner', 'mick', 'grosser', 'slump', 'f1news', 'formel1de', 'f1kalender', 'formel1fanartikelshop', 'formel1tickets', 'formel1liveticker', 'mus', 'mehr', 'serviceformel1de', 'makeshift', 'q1', 'regatta', 'u7', 'u21', 'umpire', 'vendee', 'voile', 'quarterback', 'fm20', 'gridiron', '16game', '1build', '3create', '4play', '5the', '6unstoppable', 'humanly', 'overrule', 'retiring', '202021', '060', 'stiffness', 'motorcar', 'stately', '4χ4', 'jaman', 'tachograph', 'lorry', '10hour', 'fortnightly', 'traduction', 'banger', 'unliving', 'racehero', 'barnstorming', 'durable', '2wd4wd', '4link', 'damping', '3599', '3100', 'origination', 'repayable', '17607', '8107153542', '70hr', '60hr', '80hr', 'intrastate', 'icons8com', 'lm2', 'wetness', 'meteobot', '10⁰с', 'liter', 'abc7', '2hd', 'lakeland', 'yale', 'roads', 'refrigeration', 'reefer', 'goodyear', 'lube', 'mack', 'thermo', 'washout', 'fiduciary', 'ar66nghn', '201921095', '082019', '24hr', 'tv6', 'tariff', 'northwestern', '10ghz', 'طلبا', 'سوناتا', 'كامري', 'ددسن', 'كامارو', 'تشارجر', 'وطو', 'enlargement', 'dd2', 'muffled', 'stemming', 'dh2', '4engine', 'entente', 'bodhi', 'sadhu', 'catlike', 'gopro', 'holiness', 'swami', 'coward', 'cabriolet', 'sunlit', 'admiring', 'jb4', 'bootmod3', 'wheelspin', 'coefficient', 'uncorrected', 'j1349', '70020', '1585', 'n54', 'n55', 's55', 'resample', 'reciter', 'shaikh', '1366', 'imam', '1381h', '1388h', '1392h', '1395', '1397', '1399', '1401h', '1402h', 'พยากรณ', 'อากาศ', 'conjointly', 'constitution', '1516', 'earnestness', 'progeny', 'unaltered', '6236', '99464', '2424', 'bismillah', 'surah', 'kitkat44', 'steadfastness', 'fasting', '6chapter', 'corvette', 'stingray', '718', 's2000', 'apiv2', 'practicality', 'ut', 'wy', 'dismissal', '2693', 'tactful', 'paratrooper', 'astonish', 'wobbly', '35th', 'judo', 'rowing', 'industrialist', 'milling', 'uranium', 'playboy', 'employees', 'strategies', 'skywards', 'yoichi', '5ds', 'intrinsic', 'binder', 'teamaking', 'dropout', 'humdrum', 'brokenhearted', 'housemate', 'toushirou100', 'idolish7', 'ichu', 'honeyed', 'sugarapps', 'sugarrain', 'steadiness', 'dinhlong080394gmailcom', 'live2ds', 'cheerleader', 'purposefully', 'choreography', 'taegoo9597gmailcom', 'feature1', 'feature2', '956', '1700px', 'feature3', 'theta', 'principles', 'sizing', 'restful', 'clinically', 'adhesive', 'housekeeper', 'sadist', 'feminist', 'amorous', 'issei', 'egoistical', '9095', 'deepening', 'arabesque', 'yoi', 'sappy', 'homyvan', 'tabloid', 'skit', 'surfboard', 'spiteful', 'sleigh', 'urchin', 'chimpanzee', '150player', 'lakeside', '8890', 'madrigal', 'caster', '20vs20', '500mb', 'protest', 'whim', 'castellan', 'perished', 'emergence', 'stateless', 'mausoleum', 'fortunate', 'seclusive', 'coupling', 'immorality', 'scurvy', '1king', '2wedding', '4special', '5multigameplays', 'unfavorable', 'hydraulic', 'ignition', 'jettison', '548', 'srtm30', 'terrestrial', 'cockpits', 'airports', '37000', '172sp', 'cirrus', 'sf50', 'a320', 'b737800', 'b777200er', 'b747400', 'crj200', 'dc3', 'md80', 'f4', 'b58', 'c90b', 'pa18', 'p180', 's76', 'atmospherics', 'doria', 'd553', '753', 'recognizance', 'eh101', 'antisubmarine', '5312', '75mb', 's3b', 'a10d', 'f8', 'f35c', 't50', 'ka27', 'nh90a', 'ah53', 'b1b', 'mig21', 'j10', 'tu95', 'an225', 'gbu122728', 'cbu8797', 'airman', '282', 'shure', 'supermarine', '190s', 'b5n', 'immobilize', 'yak3', 'pe2', 'f4u', 'p47', 'fittingly', 'ilyushin2', '262', 'ki84', 'hawker', 'nakajimab5n', 'g4m', 'bobcat', 'kipper', '10km²', 'drivable', 'lb28', 'e55', 't590', 'refurbish', 'fs2016', '318', '319', 'g58', '8i', 'sac', 'vc25', '757', '200f', '200lr', '9x', '182', 'fu41', 'mk9', '195', 'taw', '60xl', 'turbofan', 'tingle', 'prefecture', '15480', 'aplenty', 'surcharge', '600min', 'abhorrent', '10f', 'obstinate', 'demihuman', 'catty', 'entrust', 'e18', 'coexistence', 'ignorant', 'unforeseeable', '2rpgq', '2017rpg', 'spiritus', 'reprieve', 'os44', 'wifibassa', '2052', '1330', 'nana', 'ame', 'shul', 'genocide', 'necromantic', 'reanimate', 'heresy', 'loyalist', '31st', 'mixable', 'insurrection', 'rampart', 'gremlin', 'freestanding', 'suburbia', 'accuse', 'rancidity', 'alterant', 'dissemble', 'summonable', 'pg12', '1free', '2only', '3countless', '4make', '5peak', 'twittertactical3k', 'emailkingliu7727gmailcom', 'collet', 'pudgy', 'brainpan', 'scribes', 'adverse', 'vulgar', 'overspend', '1vs1vs1', '9000000', 'girls', 'android40', 'amity', 'transcendence', 'tower3f', '644beongil', '0237092999', '2208743147', '2015gyenggiseongnam1372', 'reforge', 'abrupt', 'mobilesupportr2gamescom', 'shepherd', 'transhuman', 'oversight', 'vex', 'asphodel', 'emailglobalserviceen91actcom', 'mantis', 'jien', 'yuki', 'bunko', 'globalserviceen91actcom', 'meaningfully', 'drops', 'swifter', 'c2012', 'beingyoung2010gmailcom', 'hands', 'bile', 'cohort', 'proverbial', 'd3d100', 'disapproval', 'instigate', 'reroute', 'contaminate', 'swashbuckler', 'pyromancer', 'condense', 'inflated', 'hoplite', 'pathos', '338000', 'ascendant', 'consulship', 'cursus', 'senatorial', 'inheritable', '637000', 'greenwood', 'theurgy', 'idealist', 'insurgent', '1815', 'uneasy', 'illegitimate', 'elopement', 'aboveboard', 'sublet', '150000word', 'seamy', 'extort', 'deadline', 'conciliation', 'baboon', 'miscellany', 'meteorology', '24x7x365', 'cosmically', 'coalesce', 'nexus42', 'f10d422', 'gti9152', 'slidedb', 'engraved', 'disadvantageous', 'c20102012', 'revenant', 'hp', 'aftergame', 'overpowering', '2dadventure', '305', '50floor', 'earldom', '5ed', 'o8d', 'nisei', 'd20s', 'd10s', 'ultima', 'entangling', 'aspirant', '830', 'uniwar', '9unique', 'corer', '4e', 'inefficient', 'gibberish', 'clank', 'taunting', 'heartless', 'kismet', 'energies', 'willpower', 'throwaway', 'forgettable', 'senso', 'tentacled', 'explorative', 'ironclad', 'presumably', 'redden', 'inter', 'dismay', 'unabridged', 'origin8', 'toughness', 'shielding', 'reconciliation', '8310', 'proposition', 'postural', 'petun', 'sporadic', 'reformed', 'disdain', '20112015', 'stairway', '50story', 'malady', 'proclaiming', 'crisscross', 'dogma', 'wearer', 'shendoah', 'murk', '20032019', 'cougar', 'lill', 'ret', 'indiscriminately', '102g', 'c2011', 'c20102011', 'kreisia', 'notwithstanding', 'pervading', 'precipitated', 'personification', 'reassess', 'c20072011', 'skeptical', 'lapping', 'c20182019', '1286', 'nigh', '19gbwifiwi', '1530', 'bine', 'squeezing', 'loka', 'teth', 'sarna', 'jink', 'edea', 'esoterica', 'chancellor', 'ragged', 'whore', 'hothearted', 'c20092012', 'impostor', 'wilt', 'drudge', '30hour', 'argent', 'presidente', 'followers', 'u12', '6t', 'note8', 'xz2', 'polled', 'xeric', 'slink', 'crisper', 'kingmaker', 'heretical', 'crossbar', 'swordsmanship', 'preposterous', 'subclass', 'd20pfsrd', '2e', 'expressly', 'subrace', '100lv', 'careen', 'stackpole', 'laird', 'concatenate', 'agilely', 'hillman', 'sideway', 'pronounceable', 'surname', 'dd35', 'robradshaw95gmailcom', '1872', 'circumnavigate', 'valet', 'wholehearted', 'karmic', 'wen', 'kou', 'guna', 'kuan', 'concord', 'matey', 'unchallenged', 'logistical', 'capitalistic', 'outspeed', 'broadside', '200000word', '2217', 'deniable', 'afterburner', 'acolyte', 'heroin', 'hooter', 'diametrically', 'gplv2', 'ampm24h', '20102019', 'wildcat', 'neonate', 'golly', 'bounded', 'unbounded', '29state', '105106', 'bruiser', 'goldie', 'jenna', 'nth', 'potency', 'e10', 'hyperactive', 'photoreceptor', 'receptor', '460480nm', 'chamberlain', 'khalsa', 'reen', 'efficacy', 'pupillary', 'pacemaker', 'nocturnal', 'emery', 'maladaptation', 'quotefeed', 'approachability', 'chitose', 'riven', '386', 'tang', 'arrogance', 'kingdoms', 'whiskey', 'prohibition', 'soften', 'disloyalty', 'intimidate', 'crook', 'unscrupulous', 'contention', 'enforcer', 'thieving', 'jellied', 'hostility', 'withstood', 'whipping', 'freshman', 'abate', 'telekinesis', '4½', 'prodigal', 'coe3', 'agrarian', 'nonstrategic', 'سيدي', 'مملكتك', 'بنا', 'أرضك', 'وذهبك', 'طو', 'عالية', 'أصدقائك', 'جه', 'دفاعاتك', 'در', 'ودم', 'إل', 'منها', 'الأعداء', 'العسكري', 'قو', 'التجاري', 'حلفائك', 'الحد', 'اد', 'الثمينة', 'المواطنين', 'العملاقة', 'وكو', 'العرب', 'الجديدة', 'لحلفائك', 'وخطط', 'خطط', 'معادي', 'الوحدات', 'جيوشهم', 'وضعف', 'ميليشيا', 'السيوف', 'المد', 'رعين', 'الأسهم', 'النش', 'ابين', 'القن', 'اصين', 'الخي', 'الة', 'الخيل', 'الكبش', 'السهام', 'الحجارة', 'الرماة', 'الخوازيق', 'الملوك', 'حم', 'لها', '3kdgogamenet', 'qq928461873', '2mmorpg21152', 'boss250', '2jxworld2', '1message', 'mmoarpg', 'loke', '1pvp', '1gm', '2qq1161451139', '3sanguoxiaoqian', '4contactdoudouyoucn', '5linedoudouyougame', '6facebookdoudouyougame', 'ruse', 'وست', 'حلق', 'أول', 'حل', 'رسوم', 'شخصيات', 'سهلا', 'وسريعا', 'pvpمعارك', 'وحوش', 'دافع', 'عاليا', 'مئات', 'أمرا', 'ممتعا', 'اكتسب', 'محرك', 'combo', 'للمساعدة', 'yn', 'bloodied', 'yawning', 'xz1', 'booker', 'notes', 'bridged', 'reunification', 'infighting', 'tosh0', '145000word', 'steadfast', 'highness', 'highborn', 'minx', 'malign', 'unassuming', 'ensign', 'immolation', 'superextend', 'outclass', 'allotment', 'grower', 'tillage', 'subsoil', 'earthworm', 'compaction', 'sensitiveness', 'formulation', 'feedstuff', 'deuterium', 'supportnext2funcom', 'g4sb', '250mb', '8884', 'space365', 'kp4u', 'apod', 'roadster', 'mistic', 'reservoir', '0xuniverse', 'inhabitable', 'immensity', 'unmasked', 'pyromaniac', 'sophomore', '215000word', 'accreditation', 'unhuman', 'tenure', 'smooch', '260000', 'jerk', 'textbased129000', 'jest', '420000word', 'courtly', 'knave', 'quip', 'buffoon', 'mirth', 'mediate', 'upstage', 'limelight', 'internship', 'megalomaniacal', 'seduce', 'chronicon', 'stead', 'asunder', 'witan', 'beekeeper', 'tremulous', 'predilection', '218000word', 'stabilize', 'conclave', 'multiform', 'pacifist', 'reasoned', 'litigation', '109000word', 'convene', 'nascent', 'unruffled', 'rory', 'recalcitrant', 'corral', 'ritornello', 'flighty', 'unruffle', 'disapprovingly', 'aloof', '290000word', 'defect', 'unearthly', 'executioner', 'scraping', 'adur', '185000word', 'tabernacle', '124000word', 'tékumel', 'forthright', 'hedonistic', 'intriguer', 'swordcraft', '175000word', '1375', 'pauper', 'pilgrimage', 'noblewoman', 'bast', '167000word', 'roguish', '270000', 'moreys', 'capybara', 'disgrace', '550000word', 'rotting', 'negation', 'scrounger', 'guignol', 'jaded', 'debauched', 'demimonde', 'vendetta', '177000word', '300000word', 'steppe', 'ironfisted', 'resuscitation', 'electrocardiogram', 'electrophysiology', 'arrhythmia', 'variability', '12lead', 'concerts', 'goddard', '19051972', 'metaphysician', 'nee', 'metaphysics', 'lent', 'imaginal', 'fod', 'indeterminate', 'immunology', 'absorption', 'echeckin', 'sifting', 'tartlet', 'semolina', 'impressionism', 'duct', 'arborist', 'locksmith', 'staining', 'radon', 'untire', 'scraper', 'performant', 'statistically', 'แบ', 'คกราวด', 'กรวาลเต', 'มไปด', 'วยพล', 'งงานไร', 'ดจำก', 'เจ', 'าแห', 'งความม', 'ดล', 'กข', 'นมาต', 'อต', 'าน', 'ศว', 'นท', 'งเจ', 'ดท', 'เคยผน', 'กพล', 'งของเจ', 'ดได', 'หายไปจากโลกน', 'แล', 'แต', 'พล', 'งของอ', 'ดย', 'งคงอย', 'ในต', 'วทายาทของพวกเขา', 'เจอร', 'หล', 'งใหญ', 'อล', 'งการ', 'การออกแบบต', 'วละครท', 'ละเอ', 'ยด', 'เกราะและอาว', 'ธสวยงาม', 'เอฟเฟคสวยงามอ', 'ศจรรย', 'ภาพสก', 'ลสวยงามมาก', 'ไม', 'าจะใช', 'เวทย', 'หร', 'อโจมต', 'โร', 'าต', 'นตาต', 'นใจ', 'บสม', 'ครฮ', 'บร', 'อย', 'กล', 'บต', 'างๆ', 'งอ', 'นจา', 'กเวทย', 'มารร', 'าย', 'เกมท', 'ายแต', 'สน', 'กส', 'ดๆ', 'การต', 'อส', 'นเต', 'ใช', 'สก', 'ลฮ', 'างง', 'ายดายในคำเด', 'ยว', 'หอคอยผ', 'เล', 'อกและสร', 'างหอคอยท', 'แกร', 'งท', 'ดของค', 'ปกป', 'องพระราชา', 'เต', 'มพล', 'งโจมต', 'อรอในโหมด', 'เร', 'ยลไทม', 'กองท', 'สงครามก', 'ลด', 'คร', 'งประว', 'ศาสตร', 'มต', 'วมม', 'อก', 'บเพ', 'อนปราบมอนสเตอร', 'แข', 'งแกร', 'าให', 'ครอบครองจ', 'กรวาลน', 'งก', 'นและก', 'จกรรมมากมาย', 'าสนใจต', 'จะช', 'วยให', 'โชคชะตาของค', 'ณเป', 'นจร', 'องม', 'การเข', 'าถ', 'เพ', 'อสน', 'บสน', 'นการเข', 'าส', 'ระบบโดยใช', 'ญช', 'สำหร', 'บการว', 'เคราะห', 'และข', 'อม', 'ลผ', 'euphemism', '1casual', '2unique', '3flexible', '4flashy', '5resources', 'wrest', '360player', 'team360playercom', 'coveting', '606861217', 'authenticator', 'enrolment', 'northeast', 'dawnlight', 'interwar', 'rocketeer', 'vampiric', 'indexed', 'backboned', '052014', 'pathfinding', 'abnormally', 'sharply', 'gully', 'overcharge', 'egocentric', 'megalomaniac', 'upping', '13gb', 'c20032020', 'boldness', 'deem', '4961', 'characteristics', 'scrapping', 'through', 't505', 'interceptor', 'europe', 'backfiring', '821098863490', 'engross', 'manna', 'desertion', 'wrongly', 'annoyingly', 'fated', 'willful', 'levy', 'coolheaded', 'noel', 'expressionless', 'ambar', 'incurable', '75000', 'debatable', 'bourgeois', 'womanizer', 'sumptuous', 'ailing', 'talker', 'tuxedo', 'tyrannize', 'textbased30000', 'despotic', 'undetermined', 'brunette', 'insulin', 'traps', 'results', 'sable', 'rone', 'nix', 'fairylike', 'unresolved', 'mustnt', '1849', 'imagined', 'bachelor', 'dalton', '1667', 'druids', 'facebookcomstoriesloveandchoices100215298014572', 'hatchet', 'artifacts', 'y8', 'nonmember', 'anthem', 'counsel', 'lawful', 'gavel', 'cybernetics', 'v11', 'stepdad', 'them', 'thorny', 'apprehensive', '80year', '130000word', 'intimidation', 'vive', 'pueblo', 'vida', 'maduro', 'libre', 'primer', 'intenta', '120mb', '330000', '20yearold', 'dormitory', 'elapsed', 'hallucinatory', 'intently', 'uncramp', 'asp', 'unpaid', 'masahiko', '8228817494', 'bourbon', 'unete', 'walkers', 'fo76', 'xcom', 'exalt', 'condone', '2kgames', 'шагом', 'враг', 'ресурсов', 'но', 'игра', 'skyline100', '2060', 'sidesplitting', 'weddings', 'waterfront', 'inlet', 'flattery', 'fidalgo', 'admiralty', 'cornet', 'rosario', 'hanbury', 'toke', 'greenhead', 'slough', 'jetty', 'barlow', '340000', 'derange', 'inexplicably', 'characterize', 'steeplechase', 'equine', 'foal', 'vanner', 'scurry', 'canter', 'basset', 'terrier', 'spaniel', 'cocker', 'pinscher', 'homestead', 'rearise', 'akiyoshi', 'sanitation', 'unattractive', 'sime', 'cuttle', 'skewed', 'chateau', 'predynastic', 'chiefdom', '50003000', 'fancied', 'sheepshearing', 're', 'heatstroke', 'lioness', 'gazelle', 'hyena', 'feeder', 'scoutmaster', 'chee', '1604', '1611', '1526', 'prose', 'stylishly', 'schoolgirl', 'puggy', 'issuing', 'sorter', 'polluted', 'storekeeper', '1looka', '3flower', '4wowanimal', '5let', '7clean', '8the', '9choose', '10the', '11the', '12hatch', 'receptionist', 'plasticine', 'apricot', 'radiator', 'tramp', 'tigger', 'd8t', '430f2', '745c', '27002', '81k', 'l310', 'b45e', 't880', 'crumbly', 'unexperienced', '50hrs', 'preventative', 'wo', 'recklessness', '6x4', 'bridgebuilding', 'tradespeople', 'impassable', '6wd', 'd4d', 'nav1', '737747', '738', '767', '51000', 'forked', '1040', 'retractable', 'nozzle', 'reflectiveness', 'go4liftoff', 'ula', 'boiler', 'unconfirmed', 'a318319a320321', 'v3x', 'vainterface', 'a320321', 'f5e', 'f105d', 'f105g', 'f111a', '737800', '777300', '787', '787900', 'da62', 'l39csa', 'a10c', 'uh1h', 'trappist1', 'ringed', 'hubble', 'emu', 'borealis', 'laminar', 'livetrack24', 'openweather', 'xplane', '737', 'x737', '757767', 'summertime', 'critic', 'dazzlingly', 'paraphernalia', 'avian', 'consanguinity', 'geological', 'eon', 'squirming', 'lotion', 'contractually', 'deceiver', 'ruthlessness', 'mormon', 'scriptural', 'feis', 'sully', 'birder', 'aba', 'percevia', 'vocalization', 'subspecies', 'woodhouse', 'ridgeway', '8600', 'reverence', '3dcio', 'j3', '737700', 'dhc6', 'szd483', 'b777', 'r22', 'dash8', 'q400', 'c172', 's2b', 'b737500', 'f15e', 'c90', 'mb339', '1supports', '2supports', '384khz24bit', '3full', '4supports', '5supports', '6supports', '7supports', '8supports', '9supports', '10supports', '11supports', '12supports', 'fs2004fsxfsxseprepar3d', 'com1com2', 'nav1nav2', '1513', 'fsc172panel', 'fsc177panel', 'addictive', 'heartbreaking', 'imperator', 'crux', 'despotism', 'liberalism', 'radiogram', 'air1', 'nor140', '150160', 'eardrum', 'rupture', '39gb', 'codemasters', 'autosport', 'b7478f', 'freighter', 'b7478i', 'b757300', 'b7779x', 'ov100', 'mq9', 'rapine', 'glimmer', 'bloodstained', 'accessibly', 'stylistically', 'black2white', '2pro', '6800', 'b737747748777', 'b787', 'disband', 'skulking', 'theogonist', 'undertone', 'daemonic', 'muck', 'fb', 'messiness', '1800s', 'argo', 'steampower1830', '360s', 'underbody', 'fatherhood', 'unwieldy', 'boneless', 'cephalopodan', 'acceptably', 'sartorial', 'cockatoo', 'screech', 'rodent', 'thresher', 'taxonomy', '8178772400', 'e6b', 'e6bcx2cx3', 'wahoo', 'numerology', 'chakra', 'mineralogical', 'birthstone', 'v197', '5600', 'sunbird', 'taxon', '1889', '4054', 'endemic', 'finch', 'ucac5', 'stargazing', '5120x5120', '20480x20480', 'topological', '8950', 'libration', 'rxmentor', 'supplements', 'go365', 'mako', 'humpback', 'crucian', 'roach', 'rudd', 'tench', 'bream', '1231', 'banal', 'sounder', 'angling', 'fairground', 'trembling', 'deepwater', 'negro', 'albacore', 'skipjack', 'coho', 'bluegill', 'shoal', 'attractant', '1316', 'newness', 'tarpon', 'bluefish', 'muskellunge', 'paddlefish', 'sturgeon', 'trevally', 'foment', 'mistreatment', 'prosecution', 'spots', 'stocking', '641457292', 'animator', 'woozworld', 'cooee', 'hugging', 'masser', 'chancer', 'gemmer', 'skal', 'tid', '383', 'hent', 'uncensored', 'musculation', 'sissy', 'salle', 'progresser', 'formant', 'guider', 'coacher', 'entrainer', 'aller', '15min', 'gainage', 'alimentation', 'sain', 'omnivore', 'formule', 'mois', '9599', 'sauf', 'disturbingly', 'murdering', 'which', 'nicolas', 'w9', '6ter', 'pekin', 'reprise', 'support6playmobilem6webfr', 'tv4', '4funtv', 'tvn24', 'tvn24pl', 'history3', 'undertook', '9month', 'unborn', 'uke', '7star', '57s', 'supersocial', 'gregarious', 'apples', '861057897300', '09001800', '82226396000', '10001900', 'pssst', 'tumbleweed', 'busker', 'passer', 'croon', 'consciously', 'moderately', 'immeasurable', 'poach', '2015s', 'quail', 'liana', 'salvageable', '77point', 'terpene', 'mitral', 'fluoroscopy', 'aortic', 'trawl', 'fluoroscopic', 'tenant', 'tenancy', 'vagabond', 'germination', 'seedbed', 'dehydration', 'suffocate', 'watered', 'veterinary', 'misadventure', 'undaunted', 'gardenize', 'handout', 'procreate', 'extracurricular', 'truancy', '21000', 'unwatched', 'pay2win', 'monsoon', 'counterfeit', 'cleanly', '5160', 'level5', 'quizzical', 'parliament', 'redress', 'whopper', 'shells', 'bowmen', 'marauder', 'multilateral', 'dethrone', 'novelette', '1ls', 'substantive', 'rlv15', '20142016', 'sil', '9310', '8610', 's1914', 'wwⅱsuper', 'union16', 'phalanx', 'linchpin', '19399', '19411', '19475', '19518', 'powers19399', '19446', 'forces19405', '19454', 'powers19405', '194212', 'forces194012', '19433', 'powers19416', '19435', 'forces194110', 'battlefield19459', 'wwⅱ', 'dictatorship', 'presidential', 'allies', 'scattering', 't26', 'is1', 'rioting', 'asiaantarcticaalpha5epsilon11', 'ad1975', '2032', 'kb1', 'serried', '19391945', 'outpick', 'gti9100t', '342', 'kepler22b', '404', 'kneel', 'casualty', 'knights', 'customarily', 'pu', 'defencevip1', 'defencevip2', 'defencevip3', 'unexpectable', 'tumultuous', 'barbarism', 'feudalism', 'monarchy', 'imperialism', 'inexperienced', 'facebookcom8ballherogame', 'fifpro', 'masse', 'instinctive', 'evangelistic', '90seconds', 'commentator', 'uno', 'yell', 'cricketing', 'batsman', 'wicketkeeper', '30fps', 'touchline', 'shrewdness', 'atlético', 'signtrain', '201819', 'facebookcomfootballmaster2019', 'twittercomfmchain11', 'gala', 'physiotherapy', 'gauging', 'concede', 'reputable', 'tobe', 'bribery', 'sevilla', 'betis', '4to11', '3danimations', 'rapala', 'fisherfolk', 'clinch', 'rebeck', 'cleat', 'clew', 'buntline', 'bight', 'carrick', 'heaving', 'marlinespike', 'icicle', 'surrey', 'multifilament', 'intelligibility', 'knotted', 'kefuprgame5com', 'jiejidaren1', '10month', 'parcel', 'watchable', 'waterfowl', 'rdr2', 'tsb19', 'ineligible', 'transatlantic', '6h', '3turn', 'knotless', 'bunt', 'wading', 'sources', 'bathymetry', 'activecaptain', 'timeline', 'mathfish51tm', 'mathfish50tm', 'days', 'plait', 'crosser', 'yank', 'swivel', 'tippet', 'snell', 'constrictor', 'overhand', 'girth', 'halyard', 'handcuff', 'scaffold', 'shank', 'slipped', 'stevedore', 'strangle', 'transom', 'necktie', 'ascot', 'drape', 'pessimism', 'tay', 'whitetail', 'chlorophyll', 'h2h', 'rn19', 'halcyon', '48mb', '3pointer', 'nba2k', 'putback', 'customized', '21game', 'footwork', 'sideline', '2time', 'hurley', '27time', '3time', '5on5', '17time', 'parquet', 'swatter', 'physkick', 'team1team2', 'topps', 'unproven', 'sept', '1185', '10036', 'griezman', 'hairdo', 'lionel', 'postseason', 'licensee', '3inning', '40man', '1902', '10season', 'dugout', 'hitter', 'pennant', 'wheelhouse', '15step', 'pitcher', '1make', '2hit', '3let', '4let', 'dispersion', 'caddie', 'oriole', 'cagelike', 'v129', 'slickly', 'wistfully', 'hole19', '43000', 'helphole19golfcom', 'mappinghole19golfcom', 'partnershole19golfcom', 'golf18', '2024', 'congressional', '18hole', '9hole', 'fescue', '45game', 'slugging', '30kb', '6band', 'enhancer', 'exciter', '80320', '1624bit', 'caustic', 'arrowhead', 'swagger', 'pigskin', 'fu19', 'lambeau', 'reliant', '6time', 'sky360', 'ligas', '6500', 'sod', 'auburn', 'cedar', '66ers', 'midland', 'osprey', 'myrtle', 'rawhide', 'byplay', 'speckle', 'scorebook', 'intentional', 'era9', 'banzai', '993', 'basto', '924', 'vila', 'ria', 'antena1', '964', 'newsroom', 'allan', '707', '1signed', '2heroic', '3brotherhoodbest', 'capstone', 'fut', 'u17', 'u20', 'adrenalynxl', 'xl', '4on4', 'tiptoeing', 'cryptographic', 'motion2', 'cones', 'huddle', 'nfl100', 'tmuzz39', 'linestar', 'quickglance', 'fansense', 'linegen', '19999', '9751010', '9744450', '240fps', 'yardage', '401', '405', '605', '705', '1005', '6player', 'putter', '7ft', '9ft', 'atari', 'chipper', 'wedge', 'marbled', 'about', 'mscorecard', 'entree', 'foursome', 'demented', 'forehand', 'backhand', 'yielding', 'peloton', 'pelican', 'cubicle', 'b24', 'b25', '50cals', 'me109s', 'fw190s', 'bf110s', '1999yr', 'pro14', '4million', 'attacks', '4boss', '14150300100pvp', 'qq964609774', 'hale', 'finisher', 'relegation', 'footy', 'figurehead', 'tighten', '201617', 'cyberdunk2', '1on1s', 'services', '7aside', 'giro', 'strade', 'fie', 'sleet', '3020', 'have', '5men', 'backcourt', 'stade', 'krowd9', 'facebookcomkrowd9', 'feedbackkrowd9com', 'conduit', '512k1a', '90min', '1game', 'dribbler', 'worsen', 'linter', 'lunge', 'disregard', 'under19', 'under17', 'goalkeeping', '5aside', 'cr7', 'u18', 'hala', 'support90livetribunacom', 'descárgala', '201718', 'hotspur', '0000cet', 'sportive', 'monde', 'hove', 'ansu', 'explication', 'correcting', 'lucerne', 'indiscipline', 'preseason', 'opener', 'лига1', 'лиге1', 'u23', 'bela', 'mould', 'posturing', '201420152016', 'medalist', '2045', '15man', '512m', 'leapfrogging', 'superstars', 'trackable', 'shareable', 'washroom', '3pam', 'vulture', 'barehanded', 'ecologically', '264mb', 'episcopal', 'lectionary', 'precedence', 'psalm', 'psalter', 'liturgy', 'ministration', 'penitent', 'liturgical', 'g2crowd', 'hs25', 'hs300', '5hillstournament', 'telemark', '240m', 'squat', 'inrun', 'darter', 'dartboard', 'game420', '5100', 'vail', 'breck', 'keystone', 'whistler', 'cricketer', 'moore', 'lech', 'lacrosse', '194', 'moneywise', 'outset', 'वन', 'cuneiform', 'futhorc', 'ogham', 'semaphore', 'wax', 'weld', 'welder', 'pneumatic', 'ratty', 'aspen', 'purity', 'sinnet', 'unattached', 'drapery', 'flake', 'gnat', 'ligature', 'masthead', 'nonslip', 'noose', 'radium', 'rattail', 'sheepshank', 'shoelace', 'tensionless', '55different', 'k50', 'k250', 'extinguisher', 'hydrant', 'bobsleigh', 'luge', '3030', '3010', '44100', '8bitdo', 'gplv3licensed', 'pronged', 'stunts', 'drainage', 'isochronic', '7hz', '4hz', '45hz', '5hz', '6hz', '65hz', '1story', '1sstory', 'gp34567', '8string', 'prefix', 'suffix', 'staccato', 'disentanglement', 'intermodulation', 'macroscopic', '03x', '17x', 'fotoscore', 'minutely', '4000character', 'enharmonic', 'info', 'wrister', 'hn18', 'curling3d', '15x150', 'convincing', 'duster', 'mir', '4riders', 'killy', 'blanc', 'massif', 'morillon', 'merlette', 'chevalier', 'snowshoeing', 'campo', 'camelback', 'snowbird', 'telluride', 'whiteface', 'trek2there', '511s', 'tramway', 'inherently', 'crag', '6534', 'chronometer', 'scalextric', 'ninco', 'carrera', 'superslot', 'fastlane', 'analogic', '20202021', 'recur', '2100ths', 'lathe', 'bs84', 'spindle', 'shaft', 'b5', 'hardening', 'b9', 'l1', 'centering', 'l2', 'l4', 'cylindrical', 'flange', 'gage', 'canoeing', 'skiday', '0171', '99532', 'blurb', 'rower', 'paddler', 'curver', 'konstantin', 'transocean', 'palpability', 'ics1969', 'colregs72', '12point', '9point', 'cardiopulmonary', '5language', '208', '5286397', 'ideation', 'incisive', 'bettor', '12499week', '19999month', '4999month', 'sizable', 'wifi3g', 'daemon', '2947', 'sailtimer', 'api', 'revers', 'bsb3', '2x4x', 'tk102', 'tk1022', 'spt10', 'ii1', 'msc42198', 'msc40997', 'watertight', 'bulkhead', 'freeboard', 'appendix', 'ghetto', 'junt', 'toro', 'stoner', 'woodward', '4team', 'realignment', 'infraction', 'undergrad', 'inundate', 'beastmode', 'nonessential', 'astrophotography', 'uncock', 'mt500g', 'mt500gii', 'mt500gp', 'marquise', 'deforest', '2725', 'fastpitch', 'ghin', 'divisional', '1499month', 'segregate', 'segmentation', 'ingredients', 'comprehend', '3level', 'objectification', 'reversibility', 'semiannually', '12999', 'nflplay60challengeheartorg', 'handwrite', 'calligraphic', 'disapprove', 'unavailability', 'big3', 'netball', 'quicken', 'foobar2000', '32game', '15page', 'talk2uscrazylabscom', '1880', '1904', 'cote', 'pac12', 'unsportsmanlike', 'pir', 'popularly', '3point', 'barangay', 'magnolia', 'blackwater', '3sets', '5sets', '2day', 'five5', '60minute', '499mo', '14999', '65m', 'globular', 'recalculate', 'формула1', 'хоккею2020', 'футболу2020', 'видео', 'репортажи', 'u19', 'fondness', 'everblooming', 'horticultural', 'witchwood', '20142020', 'tropically', '5es', '33d20330', 'politely', 'subtlety', 'paranoia', 'woefully', 'misguided', 'missy', 'overseen', 'bawler', '6am', 'warding', '2page', 'sorrowful', '20162019', '1225', 'seep', 'atonement', '20132019', 'fungi', 'fungal', 'magistrate', 'honorary', 'cocaine', 'unemployed', 'politician', 'knows', 'tracheostomy', 'morgue', 'punky', 'communism', 'pathogen', 'contagion', '1350', '714', 'sagacious', 'abide', 'separatism', 'forceful', 'toying', 'balur', 'woe', 'pikeman', 'restraining', '18n', 'slavery', 'weaknesses', 'piñatas', 'walls', 'auctioneer', 'untrustworthy', 'monorail', 'amok', 'veto', 'swampland', 'واحتل', 'والفت', 'اكة', 'وج', 'هز', 'الجر', 'ارة', 'وجه', 'وطب', 'صن', 'المعركة', 'المشتركة', 'والحديد', 'الإنتقام', 'المجد', 'الـ60', 'المشتريات', 'العالمية', 'المراحل', 'الشرسة', 'العالم', 'إليها', 'الدائم', 'بأسك', 'بالكامل', 'الموارد', 'وتطويرها', 'العدو', 'العادية', 'الإصابة', 'لصالحك', 'مشاكل', 'اقتراحات', '2041', '1amazing', '3amazing', '4many', '5advanced', '6amazing', 'bhakti', 'gamesth786gmailcom', 'carelessly', 'stifle', 'intensively', 'bombastically', 'citytopia', 'trainstation2', '3312481739qqcom', 'grandness', 'shipyard', 'intension', 'unanswered', 'abort', 'fc2movgacom', 'lessor', 'boatbuilding', 'energetical', 'polemic', '1850s', '1850', 'displease', 'lobbyist', 'autodestruction', 'jan125', 'deprive', 'heteromorphic', 'gothic', 'slander', 'mlseecapps58infoseeccojp', 'episode94', 'unremitting', 'murasaki7murasaki', 'incorruptible', 'murasaki7', 'unfolds', 'purging', 'forgotton', 'eschatological', 'adroit', 'organically', 'troublemaker', 'whimsically', 'worthiest', 'archchief', '90a8bfadfb', 'ldc055g3landmine', 'bf1iiistealth', 'pyro', 'improviser', 'executor', '2580', 'trounce', 'knplayaso2gmailcom', 'rebuff', 'disintegrate', 'wizards', 'cannoneer', 'praya', 'unsatisfied', 'keg', '19411945', 'a6m2', 'centrifugal', '18611866', '1866', '19141918', 'redeploy', 'populace', 'sidewinder', 'btd6', 'copier', 'reshare', 'maniacally', 'privateer', 'swash', '96100', '485', '800mhz', '1024x600', 'taipan', 'onrushing', 'twilit', 'melancholic', 'fingertips', 'tinyverse', 'stronger', 'techy', 'battlesend', 'buildrebuild', 'collectrecruit', 'upgradeupgrade', 'pvpthrilling', 'overlive', 'generalize', 'rejoin', 'burbank', 'unaligned', 'shelling', 'amt', 'spoiling', 'impervious', 'bicentenary', '200th', '18401857', '18561858', '18591864', '18641873', '18651889', '18661883', '18831913', '19131938', '18371873', '18921916', '19161945', '19161930', '19321998', '18921915', '19161947', '19481963', '18731885', '18781921', '19211935', '19711978', '19791981', 'aorta', 'nicotinic', '826', 'credibility', 'stakeholder', 'pretest', '6107001000', '6170', '01games', 'email01games01gameshk', 'hamadryad', 'conscript', 'sluggishly', '2850', 'quintillion', '94100', 'faery', 'referrer', 'praetorian', 'semipro', 'denote', 'irrupt', 'sputter', 'knurl', 'throughput', 'x64gamesgmailcom', 'brightening', 'smelter', 'thermodynamics', 'electromagnetics', 'tubing', 'icycle', 'surrealist', 'rotorcraft', 'missions', 'antipersonnel', 'siegeww2supportimperialsupportorg', 'idealistic', '72000', 'compulsion', 'affliction', 'notably', '69000', '2120', 'v2342', 'subtype', 'gating', 'gyroplane', '1stever', 'bricking', '2tts', '387', '8am', '10am', '24197', '8887646669', '4232019', '402', 'leukemia', 'anticoagulant', 'transfusion', 'sickle', 'heparin', 'thrombocytopenia', '4ts', 'dosage', 'hemophilia', 'follicular', 'lymphoma', 'frailty', 'pulmonary', 'embolism', '4960', 'atv24', 'store24play', 'ironside', 'binary1001', 'senile', '31415926', 'neutron', 'herbivore', '17card', 'rawar2', 'feat8uring', '2075', 'minding', 'y8com', 'pepo', '758', 'ordain', 'v119', 'perfective', 'abolish', 'parliamentary', '5year', '1000guides', '8ths', '16ths', 'nonlicensed', 'america', 'pharmacology', 'gattai5', 'overpass', 'welk', 'unhaunt', '25t', 'squeal', 'team17', 'finer', 'wormsteam17', 'team17ltd', 'hillbilly', 'prolific', 'qq772492877', 'linexray1024studio', 'thermonuclear', 'thorium', '711u', 'g711a', 'g729a', 'g722', '5314', 'flota', 'circumfluous', 'fc0u61', '650900', '722', 'issuance', 'yok', 'adet', 'ordu', 'zaman', 'dj2', '100kilometer', '10turn', 'notifier', 'wrathful', 'dismal', 'beachhead', 'supporttap4funcom', 'saabjas39', 'vigorous', 'wifi3g4ggsm', 'antiblock', 'greenhorn', 'chipmunk2d', 'c20072015', 'sdl2', 'netguy204', 'truncated', 'octahedron', 'trapezium', 'annulus', 'frustum', 'pacification', 'choppy', 'dictatorially', 'redoubtable', '2084', 'fastpaced', '2g3g4g', 'feamber126com', 'assuring', 'war2', 'kfz166', 'is3', 'fletcher', 'mr2', 'mr1kossuth', 'mr3bartók', 'fm1', 'mr6', 'fm878', '1013', 'mr4', '1051', 'fm95', '887', '986', '889', '951', '19421944', 'cv41', '768', 'c47', 'searchlight', 'arado', 'unplug', '7km', 'edh', 'decrement', 'pestilence', 'implicit', 'meddle', 'h264h265mpeg2ac3mp2mp3', 'ruiner', 'track2', 'gatherer', 'permissionc2dmessage', '4hourcatchup', 'provoke', 'daai2', '7news', '7weather', 'lambert', 'sr5', 'sr4', 'alluringly', 'descendent', 'semblance', 'u23s', 'u18s', 'uncut', 'gutes', 'scribing', 'ram2g', '2v23v3', '3boss', 'respected', 'loved', 'planar', 'sizzle', 'intoxicating', 'thine', 'inspiringly', 'toolmaker', 'treasurer', 'bathhouse', '9x913x1319x19', 'resign', 'made2', '263', '7d', 'precivilization', '4000000', 'openable', 'calypso', 'saucy', 'drizzle', 'scooping', 'griller', 'apology', 'm80s', '90210', 'fandango', '2icon', '35002140', 'parenthood', 'epix', 'mmqq192761852', 'qq976515558', '2656650', 'jazzfm91', '965', 'q107', '680news', 'cbffm9', 'cbr1fm', 'nuclide', 'adulation', 'sext', '699month', '436', '3appapp', '201592017201727appso', 'food52', 'archbishop', 'papal', '741', '1272', 'humility', 'papacy', 'guesthouse', 'favoring', 'ornamentation', 'mozzetta', 'piscatory', 'pontiff', 'abortion', 'contraception', 'homosexuality', 'homosexual', 'summarily', 'couples1718', 'eucharist1920', 'eucharistic', 'sacrilege', 'views2122', 'dialogue232425267', 'satanic', 'mass272829', 'poking', 'c1318', 'tenderheart', 'showerly', 'scrolled', 'boohoo', 'elliptic', 'seismology', 'pirogue', 'quadrangle', 'veneer', 'jonathan', 'vernal', 'gracious', '4550', 'longbeard', 'konnect', 'stockonnect', 'agnostic', 'o2o', 'advertiser', 'visite', 'games4x', 'wormhole', '2841', 'tap4fun', 'seaboard', 've', 'verbatim', 'cathexis', 'discriminating', 'elucidate', 'ordinarily', 'hunts', 'differences', 'extras', 'pictures', 'solving', 'totalize', 'subitem', 'travail', 'essayer', 'logomania', '665', 'ضمە', 'فتحە', 'balls', 'doest', '10500', 'artichoke', 'tarragon', 'ginseng', 'nutmeg', 'buckwheat', 'brands', '327', 'elm327', 'mil', 'odb2', 'obdobd2', 'meetinghouse', 'sacrament', 'my1720', 'gaseous', '1025', 'r101', 'm2o', '903', 'taa', 'tele', 'parlamento', 'centrale', '998', '927', '988', '1012', 'radio24', '1004', 'rmc2', 'luce', '917', '1076', '961', '908', '1077', '6023', '893', '1039', '921', '876', '1007', 'novella', '80ricordi', 'r5', 'للتحدي', 'رايك', 'والجميلة', 'والأحاجي', 'إسلامية', 'وأمثال', 'مشهورة', 'المستويات', 'أهلا', 'بلة', 'معا', 'خيرا', '1اسئلة', '2اسئلة', '3اسئلة', '5اسئلة', '6اسئلة', '7اسئلة', '8اسئلة', '9اسئلة', '10اسئلة', '11اسئلة', '12اسئلة', '13اسئلة', '14اسئلة', '15اسئلة', '16اسئلة', '17اسئلة', '18اسئلة', '19اسئلة', 'لعبة', 'مهاراتك', '20192018', 'معد', 'لة', 'سابقا', 'وحتما', 'ايضا', 'الألوان', 'الجزر', 'آن', 'فضلا', '385', 'رغبة', 'الدماغ', 'حقا', 'العامة', 'لم', 'musk', 'منص', 'تقد', 'تزو', 'يهم', 'بقو', '6100', 'والعالمية', 'مجان', 'كليا', 'قديما', 'أشكالا', 'أيضا', 'dev419922gmailcom', 'اقتصادية', 'الأذواق', 'barring', 'أولا', 'ثالثا', 'رابعا', 'خامسا', 'حاليا', 'tagger', 'android70', 'oscillating', 'entrapment', 'wasla', 'المتعة', 'v25', 'dyke', 'predefine', 'bisor3a', 'sadr', 'حظي', 'واقعي', 'الشريك', 'فنجان', 'والترفيه', 'بعد', 'الفائدة', 'اليمين', '372', 'sire', 'benevolence', 'socialism', 'frowning', 'stinginess', 'abandonment', 'generosity', 'firmness', 'humiliation', 'contempt', 'foolishness', 'indiscretion', 'nacelle', 'modesty', 'winery', 'treason', 'defamation', 'presidency', 'rascal', 'asceticism', 'questioner', 'gloating', 'divorce', 'prostitution', 'delusion', 'pardon', 'alienation', 'obscenity', 'jurisprudence', 'ugliness', 'consort', 'aphid', 'semen', 'hypocrisy', 'gossiping', '111979', 'expediency', 'kerosene', 'limeade', '1secnote', 'amil', '7x10', 'ccssmathcontent3oaa4', 'ccssmathcontent3oab5', 'ccssmathcontent3oab6', 'ccssmathcontent3oac7', 'ccssmathcontent2oaa1', 'ccssmathcontent2oac3', 'ccssmathcontent2oac4', 'ccssmathcontent2nbta1', 'ccssmathcontent2nbta1a', 'ccssmathcontent2nbta1b', 'ccssmathcontent2nbta2', 'ccssmathcontent2nbta4', 'ccssmathcontent2nbtb6', 'ccssmathcontent2nbtb7', 'ccssmathcontent2nbtb8', '100900', 'pallet', 'nglabs108gmailcom', 'romper', '1divide', '2choose', 'fishbone', 'disorganization', 'chronologically', 'aiartificial', 'paradigm', 'affective', 'priming', 'stereotype', 'grating', 'lors', '10ème', 'regarder', 'dernier', 'convivial', 'paintbrush', '1create', '2advanced', '3publish', '4share', '5organize', '6take', 'slite', 'explainer', 'mp4s', 'u270f', 'whit', 'pen¹', 'bulleted', 'narratively', '6144x6144', 'touches', 'hazel', 'synch', 'samson', 'evangelism', 'discipleship', 'wudu', 'ablution', 'invalidate', 'dvr', 'versa', 'hr20', 'h21', 'h23', 'hr44', '014', 'dealership', 'k52', 'sufficiently', 'indistinguishable', '10module', 'precognition', 'maturity', 'inconspicuous', 'issuer', 'eternally', 'cocacola', 'freestyle', 'wu', 'cards1', 'wur', '906983', '906985', 'sizes', '366', 'unavoidably', 'stillness', 'topmost', 'cingulate', 'rewire', 'remission', '362', '560', 'fm4app', '600k', '1440', 'volunteers', 'touristic', 'fip', 'coupure', '7805j', 'tlge2', 'tedium', 'pseudonym', 'reckon', 'products', 'ganja', '5080', 'tiles', '8x8inch', '20122020', '6090120s', 'guessable', 'stabbing', '12yearold', 'hereditary', 'cackle', 'creaky', 'howl', 'wail', 'bumblefoot', 'kaki', 'bundy', 'sweetwater', 'immemorial', 'deterioration', 'misuse', '10second', 'glossing', 'reconnection', '5on4', 'mk11', 'reptile', 'insulting', 'outworld', '3realistic', '4leaderboards', 'underhanded', 'synchronously', 'zoomorph', 'hiller', '100doors', 'required200m', 'tyro', 'forces', 'zanarkand', 'crafting2d', 'dreamer', 'enemy2', 'fallenemy2', '1online', '2more', '3graphics', '4sound', '3five', '4friend', '5skin', '6hat', '7growth', '8slots', '9reward', '10reasonable', '140mph', 'technica', '54th', 'shameless', 'best10app', 'virulent', 'hag', 'reinstallation', 'catanwarp', 'catanwarp5', 'petersburg', 'squinting', 'abraxas', 'respin', 'deckhead', 'se1', '0lx', '06290437', 'tub', 'hb9', '5starrating', 'oz', 's17', 'ghostbusters', 'elvira', 'harvey', 'monroe', 'desi', '80k', 'bjha12gigscom', '9person', '45000000', '18003527900', '74169900', 'deals', '45minute', '1500035000', '7525', 'jackpots', 'spin2win', 'bimonthly', 'moonwalking', 'rebuy', '1½', 'wonderfulness', 'fuller', 'vpha12gigscom', 'peashooter', 'bloomer', 'guava', 'glaze', '120hz', 'formwork', 'hexes', 'digraph', '24k', 'superdancer2015gmailcom', 'serenade', 'nestful', 'valse', 'ballade', 'scherzo', 'pail', 'octet', 'discordant', 'plectrum', 'tetris', '19852020', 'n3twork', 'colorfully', 'palindrome', 'h1s', 'timothy', 'deplorable', 'gp', 'gp2', '4way', 'ultra4', 'you4', 'hairpin', 'respray', 'angled', 'horrifically', 'z2520z2560', 'voluminous', '10floor', 'washin', 'empathic', 'psychically', 'consortium', 'phylum', 'greasy', 'roc', 'unwashed', 'horrify', 'salomon', 'cider', 'cotta', 'finagle', 'b737', 'b747', 'a400m', 'md11', 'crj1000', 'uh1y', 'stabilizer', 'beet', 'forestry', 'sic', 'dangle', 'clamp', 'impala', 'wildebeest', 'campaigns3', '2020promises', 'concha', '28036', 'rectification', 'shots', '479', '3pointers', '2pointers', 'uncork', 'aye', 'rue', 'os', 'mese', '449', 'tutti', 'termine', 'مبدعا', 'contextually'])\n"
          ],
          "name": "stdout"
        }
      ]
    },
    {
      "cell_type": "markdown",
      "metadata": {
        "id": "unxEmTzoR2ZA",
        "colab_type": "text"
      },
      "source": [
        "Now count vector is applied to eliminate the most repeated words the result is passed to the TF-IDF transformer."
      ]
    },
    {
      "cell_type": "code",
      "metadata": {
        "id": "kBaXdvkkQxGj",
        "colab_type": "code",
        "outputId": "83dd28e1-b93a-4b73-eb27-a349f11e6ab6",
        "colab": {
          "base_uri": "https://localhost:8080/",
          "height": 34
        }
      },
      "source": [
        "#METHOD 2\n",
        "\n",
        "# creating a list of words that eliminates 75% of the most repeated words and keeps only the remaining\n",
        "cv=CountVectorizer(max_df=0.75,stop_words=stopword)\n",
        "word_count_vector=cv.fit_transform(data['Cleaned'])\n",
        "\n",
        "#applying Tf-Idf for the acquired words\n",
        "tfidf_transformer=TfidfTransformer(smooth_idf=True,use_idf=True)\n",
        "tfidf_transformer.fit(word_count_vector)"
      ],
      "execution_count": 61,
      "outputs": [
        {
          "output_type": "execute_result",
          "data": {
            "text/plain": [
              "TfidfTransformer(norm='l2', smooth_idf=True, sublinear_tf=False, use_idf=True)"
            ]
          },
          "metadata": {
            "tags": []
          },
          "execution_count": 61
        }
      ]
    },
    {
      "cell_type": "markdown",
      "metadata": {
        "id": "mgMNx497XufQ",
        "colab_type": "text"
      },
      "source": [
        "after transforming the obtained feature names were gathered."
      ]
    },
    {
      "cell_type": "code",
      "metadata": {
        "id": "5RrNxrX9XsFT",
        "colab_type": "code",
        "outputId": "8390193c-09b9-4e66-bc8e-ee5c1c4b3c98",
        "colab": {
          "base_uri": "https://localhost:8080/",
          "height": 34
        }
      },
      "source": [
        "feature_names=cv.get_feature_names()\n",
        "len(cv.vocabulary_.keys())"
      ],
      "execution_count": 62,
      "outputs": [
        {
          "output_type": "execute_result",
          "data": {
            "text/plain": [
              "26255"
            ]
          },
          "metadata": {
            "tags": []
          },
          "execution_count": 62
        }
      ]
    },
    {
      "cell_type": "markdown",
      "metadata": {
        "id": "68pF5lzuYpLY",
        "colab_type": "text"
      },
      "source": [
        "We are declaring a method to sort the words of the user given text and to give the  TF-IDF frequency score of top n words in the given text. This method will be called when a user provides his/her text and shows the top n words in his description that are most likely to be kept in his description based on the TF-IDF score."
      ]
    },
    {
      "cell_type": "code",
      "metadata": {
        "id": "asEhHZ0dbBNn",
        "colab_type": "code",
        "colab": {}
      },
      "source": [
        "# METHOD 3\n",
        "#take only the feature names and tf-idf score of top n items\n",
        "def extract_top_vector_keywords(feature_names, all_features, topn=10):\n",
        "  ten_features=all_features[:topn]\n",
        "  # to store the top features and their scores  \n",
        "  scores = []\n",
        "  features = []\n",
        "  for index, score in ten_features:\n",
        "    scores.append(round(score,3))\n",
        "    features.append(feature_names[index])\n",
        "\n",
        "  results= {}\n",
        "  for index in range(len(features)):\n",
        "      results[features[index]]=scores[index]\n",
        "    \n",
        "  return results"
      ],
      "execution_count": 0,
      "outputs": []
    },
    {
      "cell_type": "markdown",
      "metadata": {
        "id": "LmcoYg8DbNN3",
        "colab_type": "text"
      },
      "source": [
        "An other method is declared which states the most rare or unfrequent words available in the user given description with their TF-IDF score."
      ]
    },
    {
      "cell_type": "code",
      "metadata": {
        "id": "0-4q9pcUbEsk",
        "colab_type": "code",
        "colab": {}
      },
      "source": [
        "#METHOD 4\n",
        "def extract_rare_keywords(feature_names, all_features, topn=10):\n",
        "    all_features.reverse()\n",
        "    del all_features[0:5] # because these are the most frequent common keywords\n",
        "    ten_features = all_features[:topn]\n",
        "    # to store the rare features and their scores  \n",
        "    scores = []\n",
        "    features = []\n",
        "    for index, score in ten_features:\n",
        "        scores.append(round(score, 3))\n",
        "        features.append(feature_names[index])\n",
        "\n",
        "    results= {}\n",
        "    for index in range(len(features)):\n",
        "        results[features[index]]=scores[index]\n",
        "    \n",
        "    return results"
      ],
      "execution_count": 0,
      "outputs": []
    },
    {
      "cell_type": "markdown",
      "metadata": {
        "id": "KugjIaWJeXzO",
        "colab_type": "text"
      },
      "source": [
        "Here the methods 3 and 4 were called for a user given description."
      ]
    },
    {
      "cell_type": "code",
      "metadata": {
        "id": "E0ngfVqHb4QJ",
        "colab_type": "code",
        "colab": {}
      },
      "source": [
        "#uses method 3 and 4 \n",
        "def get_tf_idf_predictions(text):\n",
        "  tf_idf_vector=tfidf_transformer.transform(cv.transform([text]))\n",
        "  sorted_values=sort_function(tf_idf_vector.tocoo())\n",
        "  top_keywords=extract_top_vector_keywords(feature_names,sorted_values,12)\n",
        "  rare_keywords=extract_rare_keywords(feature_names,sorted_values,10)\n",
        "  return top_keywords,rare_keywords"
      ],
      "execution_count": 0,
      "outputs": []
    },
    {
      "cell_type": "markdown",
      "metadata": {
        "id": "bGS6iAqUcVXw",
        "colab_type": "text"
      },
      "source": [
        "Now we are considering the game description along with title of the game, is rating score and Genre ID. We are passing the features data to the coun vectorizer and then using the TF-IDF transformer to transform the data and get its feature values."
      ]
    },
    {
      "cell_type": "code",
      "metadata": {
        "id": "9Gtgoz9lcHRm",
        "colab_type": "code",
        "outputId": "0cba3caf-6834-4376-8509-d039121ae9a0",
        "colab": {
          "base_uri": "https://localhost:8080/",
          "height": 34
        }
      },
      "source": [
        "\n",
        "X=data['Cleaned']+str(data['Score'])+data['Titlle']+str(data['Genre ID'])\n",
        "\n",
        "cv2=CountVectorizer(max_df=0.75,stop_words=stopword)\n",
        "word_count_vector2=cv2.fit_transform(X)\n",
        "\n",
        "tfidf_transformer2=TfidfTransformer(smooth_idf=True,use_idf=True)\n",
        "tfidf_transformer2.fit(word_count_vector2)\n",
        "all_features=cv2.get_feature_names()\n",
        "len(cv2.vocabulary_.keys())"
      ],
      "execution_count": 66,
      "outputs": [
        {
          "output_type": "execute_result",
          "data": {
            "text/plain": [
              "39834"
            ]
          },
          "metadata": {
            "tags": []
          },
          "execution_count": 66
        }
      ]
    },
    {
      "cell_type": "markdown",
      "metadata": {
        "id": "l3zGYM9-c5ga",
        "colab_type": "text"
      },
      "source": [
        "Below we are calling the methods that are used to extract top n words and its tf-idf score along with rare words and their tf-idf score for a user  given text considering the genre Id, title, score and description of the dataset."
      ]
    },
    {
      "cell_type": "code",
      "metadata": {
        "id": "y_U4CgJ6cLER",
        "colab_type": "code",
        "colab": {}
      },
      "source": [
        "#uses method 3 and 4 for the transformed text with respect to genre, score, title, description\n",
        "def get_genre_based_predictions(text):\n",
        "  vectors=tfidf_transformer2.transform(cv2.transform([text]))\n",
        "  sorted_values=sort_function(vectors.tocoo())\n",
        "  top_keywords=extract_top_vector_keywords(all_features,sorted_values,15)\n",
        "  rare_keywords=extract_rare_keywords(all_features,sorted_values,10)\n",
        "  return top_keywords,rare_keywords"
      ],
      "execution_count": 0,
      "outputs": []
    },
    {
      "cell_type": "code",
      "metadata": {
        "id": "D-EeUClgjUUN",
        "colab_type": "code",
        "colab": {}
      },
      "source": [
        "def print_function(x):\n",
        "  for k in x:\n",
        "    value=x[k]\n",
        "    print(k +\": \",round(value*100,4))"
      ],
      "execution_count": 0,
      "outputs": []
    },
    {
      "cell_type": "markdown",
      "metadata": {
        "id": "S4jwmmYDjV1z",
        "colab_type": "text"
      },
      "source": [
        "The above method is used to obtaine a rounded percentage value of the tf-idf score for each word."
      ]
    },
    {
      "cell_type": "markdown",
      "metadata": {
        "id": "x5xJK5VlfQAG",
        "colab_type": "text"
      },
      "source": [
        "**MODEL IMPLEMENTATION**\n",
        "\n",
        "Now for the K-Means clustering model we are using Mini Batch K-Means to attain the clusters. "
      ]
    },
    {
      "cell_type": "code",
      "metadata": {
        "id": "_yaEHcwzfhRY",
        "colab_type": "code",
        "colab": {}
      },
      "source": [
        "def find_optimal_clusters(data, max_k):\n",
        "    iters = range(2, max_k+1, 2)\n",
        "    \n",
        "    sse = []\n",
        "    for k in iters:\n",
        "        sse.append(MiniBatchKMeans(n_clusters=k, init_size=1024, batch_size=2048, random_state=20).fit(data).inertia_)\n",
        "        # sse.append(MiniBatchKMeans(n_clusters=k, random_state=20).fit(data).inertia_)\n",
        "        print('Fit {} clusters'.format(k))\n",
        "        \n",
        "    f, ax = plt.subplots(1, 1)\n",
        "    ax.plot(iters, sse, marker='o')\n",
        "    ax.set_xlabel('Cluster Centers')\n",
        "    ax.set_xticks(iters)\n",
        "    ax.set_xticklabels(iters)\n",
        "    ax.set_ylabel('SSE')\n",
        "    ax.set_title('SSE by Cluster Center Plot (Elbow Method)')"
      ],
      "execution_count": 0,
      "outputs": []
    },
    {
      "cell_type": "markdown",
      "metadata": {
        "id": "WBnQz-AlgT5x",
        "colab_type": "text"
      },
      "source": [
        "The above defined method is called by feeding the model with TF-IDF vectorized data, but not the transformed data, The transformed data is only used to get the most important and rare words of the user given description with tf-idf score. \n",
        "Here for the model to form cluster only vectorized data (tf_count) is passed."
      ]
    },
    {
      "cell_type": "code",
      "metadata": {
        "id": "ColHQBrugS2p",
        "colab_type": "code",
        "outputId": "4e601d14-3629-4ce5-9f25-acf73dedb288",
        "colab": {
          "base_uri": "https://localhost:8080/",
          "height": 635
        }
      },
      "source": [
        "find_optimal_clusters(tf_counts, 40) # based on only game description that is cleaned"
      ],
      "execution_count": 70,
      "outputs": [
        {
          "output_type": "stream",
          "text": [
            "Fit 2 clusters\n",
            "Fit 4 clusters\n",
            "Fit 6 clusters\n",
            "Fit 8 clusters\n",
            "Fit 10 clusters\n",
            "Fit 12 clusters\n",
            "Fit 14 clusters\n",
            "Fit 16 clusters\n",
            "Fit 18 clusters\n",
            "Fit 20 clusters\n",
            "Fit 22 clusters\n",
            "Fit 24 clusters\n",
            "Fit 26 clusters\n",
            "Fit 28 clusters\n",
            "Fit 30 clusters\n",
            "Fit 32 clusters\n",
            "Fit 34 clusters\n",
            "Fit 36 clusters\n",
            "Fit 38 clusters\n",
            "Fit 40 clusters\n"
          ],
          "name": "stdout"
        },
        {
          "output_type": "display_data",
          "data": {
            "image/png": "[encoded data removed]",
            "text/plain": [
              "<Figure size 432x288 with 1 Axes>"
            ]
          },
          "metadata": {
            "tags": [],
            "needs_background": "light"
          }
        }
      ]
    },
    {
      "cell_type": "code",
      "metadata": {
        "id": "cgMnlYFfhFDC",
        "colab_type": "code",
        "outputId": "e62229be-1b42-496e-d251-01fac2040de7",
        "colab": {
          "base_uri": "https://localhost:8080/",
          "height": 102
        }
      },
      "source": [
        "#following are used for keywords prediction through CLUSTERING done based on only game descriptions\n",
        "\n",
        "true_k = 16\n",
        "k_model = KMeans(n_clusters=true_k, init='k-means++', max_iter=100, n_init=1)\n",
        "%time k_model.fit(tf_counts)"
      ],
      "execution_count": 71,
      "outputs": [
        {
          "output_type": "stream",
          "text": [
            "CPU times: user 43.5 s, sys: 3.93 s, total: 47.4 s\n",
            "Wall time: 42.7 s\n"
          ],
          "name": "stdout"
        },
        {
          "output_type": "execute_result",
          "data": {
            "text/plain": [
              "KMeans(algorithm='auto', copy_x=True, init='k-means++', max_iter=100,\n",
              "       n_clusters=16, n_init=1, n_jobs=None, precompute_distances='auto',\n",
              "       random_state=None, tol=0.0001, verbose=0)"
            ]
          },
          "metadata": {
            "tags": []
          },
          "execution_count": 71
        }
      ]
    },
    {
      "cell_type": "code",
      "metadata": {
        "id": "F1l4v3GdhHz-",
        "colab_type": "code",
        "colab": {}
      },
      "source": [
        "order_centroids = k_model.cluster_centers_.argsort()[:, ::-1]\n",
        "terms = tfidf_vect.get_feature_names()"
      ],
      "execution_count": 0,
      "outputs": []
    },
    {
      "cell_type": "code",
      "metadata": {
        "id": "owP8-ORbhM75",
        "colab_type": "code",
        "colab": {}
      },
      "source": [
        "def display_top_keywords(true_k,words_count):\n",
        "  for i in range(true_k):\n",
        "    print(\"\\nCluster %d: \" % i),\n",
        "    for indexword in order_centroids[i, :words_count]:\n",
        "      print(\"%s\" % terms[indexword])"
      ],
      "execution_count": 0,
      "outputs": []
    },
    {
      "cell_type": "markdown",
      "metadata": {
        "id": "1zT3Vy9chswI",
        "colab_type": "text"
      },
      "source": [
        "Above we defining a method that can be callable to display the top n keywords of the predicted cluster based on user description.\n",
        "\n",
        "And below is the method to get the cluster keywords generated."
      ]
    },
    {
      "cell_type": "code",
      "metadata": {
        "id": "JveHHzDthPvm",
        "colab_type": "code",
        "colab": {}
      },
      "source": [
        "def display_cluster_keywords(cluster_number,words_count):\n",
        "  cluster_keywords=[]\n",
        "  for indexword in order_centroids[cluster_number, :words_count]:\n",
        "    cluster_keywords.append(terms[indexword])\n",
        "    # print(\"%s\" % terms[indexword])\n",
        "  return cluster_keywords"
      ],
      "execution_count": 0,
      "outputs": []
    },
    {
      "cell_type": "markdown",
      "metadata": {
        "id": "osbxGRVniIEo",
        "colab_type": "text"
      },
      "source": [
        "The rare or most unlikely words that are not to be added to the description are extracted below."
      ]
    },
    {
      "cell_type": "code",
      "metadata": {
        "id": "JqO9dG_xhSKr",
        "colab_type": "code",
        "colab": {}
      },
      "source": [
        "def display_cluster_rare_words(cluster_number,words_count):\n",
        "  cluster_keywords=[]\n",
        "  rare_words_centroids=order_centroids[::-1] # reverse the array\n",
        "  for indexword in rare_words_centroids[cluster_number, :words_count]:\n",
        "    cluster_keywords.append(terms[indexword])\n",
        "    # print(\"%s\" % terms[indexword])\n",
        "  return cluster_keywords"
      ],
      "execution_count": 0,
      "outputs": []
    },
    {
      "cell_type": "markdown",
      "metadata": {
        "id": "d9x3vBFMiX3_",
        "colab_type": "text"
      },
      "source": [
        "Base on the trained data the model will be predicting a cluster in which the example user description falls into. The predicted clusteris gathered along with the cluster words and rare words that are defined in above method. "
      ]
    },
    {
      "cell_type": "code",
      "metadata": {
        "id": "DG-RTC9zhUm5",
        "colab_type": "code",
        "colab": {}
      },
      "source": [
        "# METHOD 6\n",
        "def get_cluster_predictions(text):\n",
        "  test_X = tfidf_vect.transform([text])\n",
        "  predicted = k_model.predict(test_X)\n",
        "  cluster_topwords=display_cluster_keywords(int(predicted),20)\n",
        "  cluster_rarewords=display_cluster_rare_words(int(predicted),10)\n",
        "  test_tokens=re.split('\\W+',text)\n",
        "  suggest_words=[i for i in test_tokens + cluster_topwords if i not in test_tokens ] ## list1 - list2\n",
        "  must_words=[i for i in cluster_topwords if i not in suggest_words]\n",
        "  return predicted, must_words,suggest_words,cluster_rarewords"
      ],
      "execution_count": 0,
      "outputs": []
    },
    {
      "cell_type": "markdown",
      "metadata": {
        "id": "Mpsq6409jJ-t",
        "colab_type": "text"
      },
      "source": [
        "Below we are providing an example game description to texst the model."
      ]
    },
    {
      "cell_type": "code",
      "metadata": {
        "id": "ucB9WhsEhbdM",
        "colab_type": "code",
        "colab": {}
      },
      "source": [
        "#give the description that has to be predicted\n",
        "test_description='Escape to the world of farming, friends and fun! Go on farm adventures to collect rare goods and craft new recipes. Raise animals and grow your farm with friends. Join a farm Co-Op to trade and share or play on your own in Anonymous Mode. You can play FarmVille anytime, anywhere… even when not connected to the internet. Best of all, the world’s most popular farming game is free to play'"
      ],
      "execution_count": 0,
      "outputs": []
    },
    {
      "cell_type": "markdown",
      "metadata": {
        "id": "PnaHDCX-kBSC",
        "colab_type": "text"
      },
      "source": [
        "For the given example description, the model geerated cluster in which the description falls into, the keywords of that cluster, the words that need to be added to the description apart from the existing ones and finally the words that shouldnt be added to description were printed out over here using the method get cluster prediction defined above as method 6."
      ]
    },
    {
      "cell_type": "code",
      "metadata": {
        "id": "RJb8WLjdhdWB",
        "colab_type": "code",
        "outputId": "d2fc522d-0db0-479d-cb12-95b7eb606d75",
        "colab": {
          "base_uri": "https://localhost:8080/",
          "height": 85
        }
      },
      "source": [
        "x,y,z,w=get_cluster_predictions(test_description)\n",
        "print(x)\n",
        "print(y)\n",
        "print(z)\n",
        "print(w)"
      ],
      "execution_count": 78,
      "outputs": [
        {
          "output_type": "stream",
          "text": [
            "[13]\n",
            "['game', 'play', 'new', 'world', 'free']\n",
            "['get', 'battle', 'time', 'use', 'best', 'different', 'make', 'one', 'mode', 'unique', 'like', 'team', 'find', 'build', 'experience']\n",
            "['word', 'game', 'search', 'brain', 'crossword', 'puzzle', 'play', 'find', 'vocabulary', 'fun']\n"
          ],
          "name": "stdout"
        }
      ]
    },
    {
      "cell_type": "markdown",
      "metadata": {
        "id": "CMlYOhpFk4T9",
        "colab_type": "text"
      },
      "source": [
        "All the results generated were clearly defined by declaring a method that calls all the methods defined above and printed  for a breif understanding."
      ]
    },
    {
      "cell_type": "code",
      "metadata": {
        "id": "7FhOtZqBhitT",
        "colab_type": "code",
        "colab": {}
      },
      "source": [
        "def all_suggestions(text):\n",
        "  a,b,c,d=get_cluster_predictions(text)\n",
        "  e,f=get_tf_idf_predictions(text)\n",
        "  g,h=get_genre_based_predictions(text)\n",
        "  print(\"Predicted Cluster : \",a)\n",
        "  print(\"\\nWords that are must to be kept in description : \",b)\n",
        "  print(\"\\nWords to be Added (Suggestion from Clustering model) :\",c)\n",
        "  print(\"\\nWords not to be Added (Suggestion from Clustering model) :\",d)\n",
        "  print(\"\\nTF-IDF score determinations from trained Game Descriptions\")\n",
        "  #KEYWORDS that are likely to be expected from this given type of game\n",
        "  print(\"Keywords in the given description that are more likely interested to keep: \\n\")\n",
        "  print_function(e)\n",
        "  #KEYWORDS that are likely to be expected from this given type of game\n",
        "  print(\"\\nKeywords in the given description that are not very likely interested to keep: \\n\")\n",
        "  print_function(f)\n",
        "\n",
        "  print(\"\\nTF-IDF score determinations from trained Game Descriptions+Genre+Title+Score/Rating\")\n",
        "  print(\"Keywords in the given description that are more likely interested to keep based on the Genre and Score Ratings: \\n\")\n",
        "  print_function(g)\n",
        "  print(\"\\nKeywords in the given description that are not very likely interested to keep based on the Genre and Score Ratings:\")\n",
        "  print_function(h)\n"
      ],
      "execution_count": 0,
      "outputs": []
    },
    {
      "cell_type": "markdown",
      "metadata": {
        "id": "bvRlacPQlX-Z",
        "colab_type": "text"
      },
      "source": [
        "The all suggestion method is applied to the exaample description that is given above and the outputs were printed."
      ]
    },
    {
      "cell_type": "code",
      "metadata": {
        "id": "-QGl46uchn7L",
        "colab_type": "code",
        "outputId": "624ac91b-791a-4c43-efc0-6251e7f009cb",
        "colab": {
          "base_uri": "https://localhost:8080/",
          "height": 1000
        }
      },
      "source": [
        "all_suggestions(test_description)"
      ],
      "execution_count": 80,
      "outputs": [
        {
          "output_type": "stream",
          "text": [
            "Predicted Cluster :  [13]\n",
            "\n",
            "Words that are must to be kept in description :  ['game', 'play', 'new', 'world', 'free']\n",
            "\n",
            "Words to be Added (Suggestion from Clustering model) : ['get', 'battle', 'time', 'use', 'best', 'different', 'make', 'one', 'mode', 'unique', 'like', 'team', 'find', 'build', 'experience']\n",
            "\n",
            "Words not to be Added (Suggestion from Clustering model) : ['word', 'game', 'search', 'brain', 'crossword', 'puzzle', 'play', 'find', 'vocabulary', 'fun']\n",
            "\n",
            "TF-IDF score determinations from trained Game Descriptions\n",
            "Keywords in the given description that are more likely interested to keep: \n",
            "\n",
            "friends:  46.6\n",
            "farm:  40.7\n",
            "farming:  32.5\n",
            "anytime:  26.2\n",
            "animals:  26.2\n",
            "co:  25.0\n",
            "adventures:  22.4\n",
            "anonymous:  19.9\n",
            "raise:  13.9\n",
            "play:  13.9\n",
            "connected:  13.8\n",
            "trade:  13.3\n",
            "\n",
            "Keywords in the given description that are not very likely interested to keep: \n",
            "\n",
            "even:  7.5\n",
            "mode:  7.7\n",
            "collect:  7.7\n",
            "go:  7.9\n",
            "join:  8.1\n",
            "share:  9.1\n",
            "popular:  10.1\n",
            "anywhere:  10.2\n",
            "world:  11.2\n",
            "grow:  11.4\n",
            "\n",
            "TF-IDF score determinations from trained Game Descriptions+Genre+Title+Score/Rating\n",
            "Keywords in the given description that are more likely interested to keep based on the Genre and Score Ratings: \n",
            "\n",
            "farm:  38.6\n",
            "friends:  36.6\n",
            "farming:  30.7\n",
            "op:  26.6\n",
            "internet:  24.8\n",
            "anytime:  24.8\n",
            "recipes:  23.7\n",
            "co:  23.3\n",
            "animals:  21.2\n",
            "adventures:  19.6\n",
            "anonymous:  18.8\n",
            "raise:  13.2\n",
            "play:  13.1\n",
            "connected:  13.1\n",
            "trade:  12.6\n",
            "\n",
            "Keywords in the given description that are not very likely interested to keep based on the Genre and Score Ratings:\n",
            "even:  7.1\n",
            "collect:  7.3\n",
            "mode:  7.3\n",
            "go:  7.5\n",
            "join:  7.7\n",
            "share:  8.7\n",
            "popular:  9.6\n",
            "anywhere:  9.7\n",
            "world:  10.7\n",
            "grow:  10.8\n"
          ],
          "name": "stdout"
        }
      ]
    },
    {
      "cell_type": "code",
      "metadata": {
        "id": "A59FGOdXWlhl",
        "colab_type": "code",
        "colab": {}
      },
      "source": [
        "#import pickle\n",
        "#pickle.dump(k_model, open('/content/game/suggestion.pk1', 'wb'))"
      ],
      "execution_count": 0,
      "outputs": []
    },
    {
      "cell_type": "code",
      "metadata": {
        "id": "QTFwKZGNZBSC",
        "colab_type": "code",
        "colab": {}
      },
      "source": [
        ""
      ],
      "execution_count": 0,
      "outputs": []
    }
  ]
}